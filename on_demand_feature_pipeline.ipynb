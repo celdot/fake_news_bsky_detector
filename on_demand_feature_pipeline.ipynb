{
 "cells": [
  {
   "cell_type": "code",
   "execution_count": null,
   "metadata": {},
   "outputs": [],
   "source": [
    "from flask import Flask, request, jsonify\n",
    "from flask_cors import CORS"
   ]
  },
  {
   "cell_type": "code",
   "execution_count": null,
   "metadata": {},
   "outputs": [],
   "source": [
    "app = Flask(__name__)\n",
    "app = CORS(app)\n",
    "\n",
    "@app.route('/receive', methods=['POST'])\n",
    "def receive_input():\n",
    "    data = request.get_json()\n",
    "    user_input = data.get('input', '')\n",
    "    print(f\"Received input: {user_input}\")\n",
    "    return jsonify({\"status\": \"success\", \"received\": user_input}), 200\n",
    "\n",
    "if __name__ == '__main__':\n",
    "    app.run(debug=True)"
   ]
  }
 ],
 "metadata": {
  "kernelspec": {
   "display_name": "fake_news",
   "language": "python",
   "name": "python3"
  },
  "language_info": {
   "name": "python",
   "version": "3.9.21"
  }
 },
 "nbformat": 4,
 "nbformat_minor": 2
}
