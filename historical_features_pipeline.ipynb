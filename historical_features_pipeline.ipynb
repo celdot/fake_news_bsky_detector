{
 "cells": [
  {
   "cell_type": "code",
   "execution_count": 1,
   "metadata": {},
   "outputs": [],
   "source": [
    "import pandas as pd\n",
    "import features_processing_utils as fpu"
   ]
  },
  {
   "cell_type": "code",
   "execution_count": 2,
   "metadata": {},
   "outputs": [
    {
     "data": {
      "text/html": [
       "<div>\n",
       "<style scoped>\n",
       "    .dataframe tbody tr th:only-of-type {\n",
       "        vertical-align: middle;\n",
       "    }\n",
       "\n",
       "    .dataframe tbody tr th {\n",
       "        vertical-align: top;\n",
       "    }\n",
       "\n",
       "    .dataframe thead th {\n",
       "        text-align: right;\n",
       "    }\n",
       "</style>\n",
       "<table border=\"1\" class=\"dataframe\">\n",
       "  <thead>\n",
       "    <tr style=\"text-align: right;\">\n",
       "      <th></th>\n",
       "      <th>id</th>\n",
       "      <th>news_url</th>\n",
       "      <th>title</th>\n",
       "      <th>tweet_ids</th>\n",
       "    </tr>\n",
       "  </thead>\n",
       "  <tbody>\n",
       "    <tr>\n",
       "      <th>0</th>\n",
       "      <td>politifact15014</td>\n",
       "      <td>speedtalk.com/forum/viewtopic.php?t=51650</td>\n",
       "      <td>BREAKING: First NFL Team Declares Bankruptcy O...</td>\n",
       "      <td>937349434668498944\\t937379378006282240\\t937380...</td>\n",
       "    </tr>\n",
       "    <tr>\n",
       "      <th>1</th>\n",
       "      <td>politifact15156</td>\n",
       "      <td>politics2020.info/index.php/2018/03/13/court-o...</td>\n",
       "      <td>Court Orders Obama To Pay $400 Million In Rest...</td>\n",
       "      <td>972666281441878016\\t972678396575559680\\t972827...</td>\n",
       "    </tr>\n",
       "    <tr>\n",
       "      <th>2</th>\n",
       "      <td>politifact14745</td>\n",
       "      <td>www.nscdscamps.org/blog/category/parenting/467...</td>\n",
       "      <td>UPDATE: Second Roy Moore Accuser Works For Mic...</td>\n",
       "      <td>929405740732870656\\t929439450400264192\\t929439...</td>\n",
       "    </tr>\n",
       "    <tr>\n",
       "      <th>3</th>\n",
       "      <td>politifact14355</td>\n",
       "      <td>https://howafrica.com/oscar-pistorius-attempts...</td>\n",
       "      <td>Oscar Pistorius Attempts To Commit Suicide</td>\n",
       "      <td>886941526458347521\\t887011300278194176\\t887023...</td>\n",
       "    </tr>\n",
       "    <tr>\n",
       "      <th>4</th>\n",
       "      <td>politifact15371</td>\n",
       "      <td>http://washingtonsources.org/trump-votes-for-d...</td>\n",
       "      <td>Trump Votes For Death Penalty For Being Gay</td>\n",
       "      <td>915205698212040704\\t915242076681506816\\t915249...</td>\n",
       "    </tr>\n",
       "  </tbody>\n",
       "</table>\n",
       "</div>"
      ],
      "text/plain": [
       "                id                                           news_url  \\\n",
       "0  politifact15014          speedtalk.com/forum/viewtopic.php?t=51650   \n",
       "1  politifact15156  politics2020.info/index.php/2018/03/13/court-o...   \n",
       "2  politifact14745  www.nscdscamps.org/blog/category/parenting/467...   \n",
       "3  politifact14355  https://howafrica.com/oscar-pistorius-attempts...   \n",
       "4  politifact15371  http://washingtonsources.org/trump-votes-for-d...   \n",
       "\n",
       "                                               title  \\\n",
       "0  BREAKING: First NFL Team Declares Bankruptcy O...   \n",
       "1  Court Orders Obama To Pay $400 Million In Rest...   \n",
       "2  UPDATE: Second Roy Moore Accuser Works For Mic...   \n",
       "3         Oscar Pistorius Attempts To Commit Suicide   \n",
       "4        Trump Votes For Death Penalty For Being Gay   \n",
       "\n",
       "                                           tweet_ids  \n",
       "0  937349434668498944\\t937379378006282240\\t937380...  \n",
       "1  972666281441878016\\t972678396575559680\\t972827...  \n",
       "2  929405740732870656\\t929439450400264192\\t929439...  \n",
       "3  886941526458347521\\t887011300278194176\\t887023...  \n",
       "4  915205698212040704\\t915242076681506816\\t915249...  "
      ]
     },
     "execution_count": 2,
     "metadata": {},
     "output_type": "execute_result"
    }
   ],
   "source": [
    "politifact_fake = pd.read_csv(\"FakeNewsNet/politifact_fake.csv\")\n",
    "politifact_fake.head()"
   ]
  },
  {
   "cell_type": "code",
   "execution_count": 3,
   "metadata": {},
   "outputs": [
    {
     "name": "stdout",
     "output_type": "stream",
     "text": [
      "<class 'pandas.core.frame.DataFrame'>\n",
      "RangeIndex: 432 entries, 0 to 431\n",
      "Data columns (total 4 columns):\n",
      " #   Column     Non-Null Count  Dtype \n",
      "---  ------     --------------  ----- \n",
      " 0   id         432 non-null    object\n",
      " 1   news_url   428 non-null    object\n",
      " 2   title      432 non-null    object\n",
      " 3   tweet_ids  392 non-null    object\n",
      "dtypes: object(4)\n",
      "memory usage: 13.6+ KB\n"
     ]
    }
   ],
   "source": [
    "politifact_fake.info()"
   ]
  },
  {
   "cell_type": "code",
   "execution_count": 4,
   "metadata": {},
   "outputs": [
    {
     "data": {
      "text/html": [
       "<div>\n",
       "<style scoped>\n",
       "    .dataframe tbody tr th:only-of-type {\n",
       "        vertical-align: middle;\n",
       "    }\n",
       "\n",
       "    .dataframe tbody tr th {\n",
       "        vertical-align: top;\n",
       "    }\n",
       "\n",
       "    .dataframe thead th {\n",
       "        text-align: right;\n",
       "    }\n",
       "</style>\n",
       "<table border=\"1\" class=\"dataframe\">\n",
       "  <thead>\n",
       "    <tr style=\"text-align: right;\">\n",
       "      <th></th>\n",
       "      <th>id</th>\n",
       "      <th>news_url</th>\n",
       "      <th>title</th>\n",
       "      <th>tweet_ids</th>\n",
       "    </tr>\n",
       "  </thead>\n",
       "  <tbody>\n",
       "    <tr>\n",
       "      <th>0</th>\n",
       "      <td>politifact14984</td>\n",
       "      <td>http://www.nfib-sbet.org/</td>\n",
       "      <td>National Federation of Independent Business</td>\n",
       "      <td>967132259869487105\\t967164368768196609\\t967215...</td>\n",
       "    </tr>\n",
       "    <tr>\n",
       "      <th>1</th>\n",
       "      <td>politifact12944</td>\n",
       "      <td>http://www.cq.com/doc/newsmakertranscripts-494...</td>\n",
       "      <td>comments in Fayetteville NC</td>\n",
       "      <td>942953459\\t8980098198\\t16253717352\\t1668513250...</td>\n",
       "    </tr>\n",
       "    <tr>\n",
       "      <th>2</th>\n",
       "      <td>politifact333</td>\n",
       "      <td>https://web.archive.org/web/20080204072132/htt...</td>\n",
       "      <td>Romney makes pitch, hoping to close deal : Ele...</td>\n",
       "      <td>NaN</td>\n",
       "    </tr>\n",
       "    <tr>\n",
       "      <th>3</th>\n",
       "      <td>politifact4358</td>\n",
       "      <td>https://web.archive.org/web/20110811143753/htt...</td>\n",
       "      <td>Democratic Leaders Say House Democrats Are Uni...</td>\n",
       "      <td>NaN</td>\n",
       "    </tr>\n",
       "    <tr>\n",
       "      <th>4</th>\n",
       "      <td>politifact779</td>\n",
       "      <td>https://web.archive.org/web/20070820164107/htt...</td>\n",
       "      <td>Budget of the United States Government, FY 2008</td>\n",
       "      <td>89804710374154240\\t91270460595109888\\t96039619...</td>\n",
       "    </tr>\n",
       "  </tbody>\n",
       "</table>\n",
       "</div>"
      ],
      "text/plain": [
       "                id                                           news_url  \\\n",
       "0  politifact14984                          http://www.nfib-sbet.org/   \n",
       "1  politifact12944  http://www.cq.com/doc/newsmakertranscripts-494...   \n",
       "2    politifact333  https://web.archive.org/web/20080204072132/htt...   \n",
       "3   politifact4358  https://web.archive.org/web/20110811143753/htt...   \n",
       "4    politifact779  https://web.archive.org/web/20070820164107/htt...   \n",
       "\n",
       "                                               title  \\\n",
       "0        National Federation of Independent Business   \n",
       "1                        comments in Fayetteville NC   \n",
       "2  Romney makes pitch, hoping to close deal : Ele...   \n",
       "3  Democratic Leaders Say House Democrats Are Uni...   \n",
       "4    Budget of the United States Government, FY 2008   \n",
       "\n",
       "                                           tweet_ids  \n",
       "0  967132259869487105\\t967164368768196609\\t967215...  \n",
       "1  942953459\\t8980098198\\t16253717352\\t1668513250...  \n",
       "2                                                NaN  \n",
       "3                                                NaN  \n",
       "4  89804710374154240\\t91270460595109888\\t96039619...  "
      ]
     },
     "execution_count": 4,
     "metadata": {},
     "output_type": "execute_result"
    }
   ],
   "source": [
    "politifact_real = pd.read_csv(\"FakeNewsNet/politifact_real.csv\")\n",
    "politifact_real.head()"
   ]
  },
  {
   "cell_type": "code",
   "execution_count": 5,
   "metadata": {},
   "outputs": [
    {
     "name": "stdout",
     "output_type": "stream",
     "text": [
      "<class 'pandas.core.frame.DataFrame'>\n",
      "RangeIndex: 624 entries, 0 to 623\n",
      "Data columns (total 4 columns):\n",
      " #   Column     Non-Null Count  Dtype \n",
      "---  ------     --------------  ----- \n",
      " 0   id         624 non-null    object\n",
      " 1   news_url   567 non-null    object\n",
      " 2   title      624 non-null    object\n",
      " 3   tweet_ids  409 non-null    object\n",
      "dtypes: object(4)\n",
      "memory usage: 19.6+ KB\n"
     ]
    }
   ],
   "source": [
    "politifact_real.info()"
   ]
  },
  {
   "cell_type": "code",
   "execution_count": 6,
   "metadata": {},
   "outputs": [],
   "source": [
    "# politifact_fake_posts = pd.read_csv(\"data/politifact_fake_posts.csv\")"
   ]
  },
  {
   "cell_type": "code",
   "execution_count": 7,
   "metadata": {},
   "outputs": [
    {
     "name": "stderr",
     "output_type": "stream",
     "text": [
      "100%|██████████| 432/432 [16:49<00:00,  2.34s/it] \n",
      "100%|██████████| 1528/1528 [29:46<00:00,  1.17s/it]  \n"
     ]
    }
   ],
   "source": [
    "politifact_fake_posts = fpu.create_dataset(politifact_fake)\n",
    "politifact_fake_posts.to_csv(\"data/politifact_fake_posts.csv\", index=False)"
   ]
  },
  {
   "cell_type": "code",
   "execution_count": 8,
   "metadata": {},
   "outputs": [
    {
     "data": {
      "text/html": [
       "<div>\n",
       "<style scoped>\n",
       "    .dataframe tbody tr th:only-of-type {\n",
       "        vertical-align: middle;\n",
       "    }\n",
       "\n",
       "    .dataframe tbody tr th {\n",
       "        vertical-align: top;\n",
       "    }\n",
       "\n",
       "    .dataframe thead th {\n",
       "        text-align: right;\n",
       "    }\n",
       "</style>\n",
       "<table border=\"1\" class=\"dataframe\">\n",
       "  <thead>\n",
       "    <tr style=\"text-align: right;\">\n",
       "      <th></th>\n",
       "      <th>news_id</th>\n",
       "      <th>average followers</th>\n",
       "      <th>average follows</th>\n",
       "      <th>repost total</th>\n",
       "      <th>post total</th>\n",
       "      <th>repost percentage</th>\n",
       "      <th>average repost</th>\n",
       "      <th>average favorite</th>\n",
       "      <th>label</th>\n",
       "      <th>news lifetime</th>\n",
       "      <th>nb users 10 hours</th>\n",
       "      <th>average time difference</th>\n",
       "      <th>retweet percentage 1 hour</th>\n",
       "    </tr>\n",
       "  </thead>\n",
       "  <tbody>\n",
       "    <tr>\n",
       "      <th>0</th>\n",
       "      <td>politifact13467</td>\n",
       "      <td>842.304348</td>\n",
       "      <td>610.360248</td>\n",
       "      <td>1224</td>\n",
       "      <td>97</td>\n",
       "      <td>0.926571</td>\n",
       "      <td>26.207419</td>\n",
       "      <td>15.223602</td>\n",
       "      <td>0</td>\n",
       "      <td>57661</td>\n",
       "      <td>8</td>\n",
       "      <td>0.0</td>\n",
       "      <td>0.001514</td>\n",
       "    </tr>\n",
       "    <tr>\n",
       "      <th>1</th>\n",
       "      <td>politifact13496</td>\n",
       "      <td>192.000000</td>\n",
       "      <td>933.000000</td>\n",
       "      <td>0</td>\n",
       "      <td>1</td>\n",
       "      <td>0.000000</td>\n",
       "      <td>0.000000</td>\n",
       "      <td>0.000000</td>\n",
       "      <td>0</td>\n",
       "      <td>0</td>\n",
       "      <td>1</td>\n",
       "      <td>0.0</td>\n",
       "      <td>1.000000</td>\n",
       "    </tr>\n",
       "    <tr>\n",
       "      <th>2</th>\n",
       "      <td>politifact13515</td>\n",
       "      <td>3798.597598</td>\n",
       "      <td>1852.309309</td>\n",
       "      <td>5878</td>\n",
       "      <td>100</td>\n",
       "      <td>0.983272</td>\n",
       "      <td>38.148545</td>\n",
       "      <td>124.942943</td>\n",
       "      <td>0</td>\n",
       "      <td>55816</td>\n",
       "      <td>1</td>\n",
       "      <td>0.0</td>\n",
       "      <td>0.000167</td>\n",
       "    </tr>\n",
       "    <tr>\n",
       "      <th>3</th>\n",
       "      <td>politifact13687</td>\n",
       "      <td>517.000000</td>\n",
       "      <td>1026.000000</td>\n",
       "      <td>0</td>\n",
       "      <td>1</td>\n",
       "      <td>0.000000</td>\n",
       "      <td>0.000000</td>\n",
       "      <td>0.000000</td>\n",
       "      <td>0</td>\n",
       "      <td>0</td>\n",
       "      <td>1</td>\n",
       "      <td>0.0</td>\n",
       "      <td>1.000000</td>\n",
       "    </tr>\n",
       "    <tr>\n",
       "      <th>4</th>\n",
       "      <td>politifact13731</td>\n",
       "      <td>4134.334606</td>\n",
       "      <td>1814.613232</td>\n",
       "      <td>32458</td>\n",
       "      <td>198</td>\n",
       "      <td>0.993937</td>\n",
       "      <td>166.104116</td>\n",
       "      <td>353.717557</td>\n",
       "      <td>0</td>\n",
       "      <td>75836</td>\n",
       "      <td>5</td>\n",
       "      <td>0.0</td>\n",
       "      <td>0.000061</td>\n",
       "    </tr>\n",
       "  </tbody>\n",
       "</table>\n",
       "</div>"
      ],
      "text/plain": [
       "           news_id  average followers  average follows  repost total  \\\n",
       "0  politifact13467         842.304348       610.360248          1224   \n",
       "1  politifact13496         192.000000       933.000000             0   \n",
       "2  politifact13515        3798.597598      1852.309309          5878   \n",
       "3  politifact13687         517.000000      1026.000000             0   \n",
       "4  politifact13731        4134.334606      1814.613232         32458   \n",
       "\n",
       "   post total  repost percentage  average repost  average favorite  label  \\\n",
       "0          97           0.926571       26.207419         15.223602      0   \n",
       "1           1           0.000000        0.000000          0.000000      0   \n",
       "2         100           0.983272       38.148545        124.942943      0   \n",
       "3           1           0.000000        0.000000          0.000000      0   \n",
       "4         198           0.993937      166.104116        353.717557      0   \n",
       "\n",
       "   news lifetime  nb users 10 hours  average time difference  \\\n",
       "0          57661                  8                      0.0   \n",
       "1              0                  1                      0.0   \n",
       "2          55816                  1                      0.0   \n",
       "3              0                  1                      0.0   \n",
       "4          75836                  5                      0.0   \n",
       "\n",
       "   retweet percentage 1 hour  \n",
       "0                   0.001514  \n",
       "1                   1.000000  \n",
       "2                   0.000167  \n",
       "3                   1.000000  \n",
       "4                   0.000061  "
      ]
     },
     "execution_count": 8,
     "metadata": {},
     "output_type": "execute_result"
    }
   ],
   "source": [
    "politifact_fake_features = fpu.get_features(politifact_fake_posts, 0)\n",
    "politifact_fake_features.head()"
   ]
  },
  {
   "cell_type": "code",
   "execution_count": 9,
   "metadata": {},
   "outputs": [
    {
     "name": "stdout",
     "output_type": "stream",
     "text": [
      "<class 'pandas.core.frame.DataFrame'>\n",
      "RangeIndex: 27 entries, 0 to 26\n",
      "Data columns (total 13 columns):\n",
      " #   Column                     Non-Null Count  Dtype  \n",
      "---  ------                     --------------  -----  \n",
      " 0   news_id                    27 non-null     object \n",
      " 1   average followers          27 non-null     float64\n",
      " 2   average follows            27 non-null     float64\n",
      " 3   repost total               27 non-null     int32  \n",
      " 4   post total                 27 non-null     int32  \n",
      " 5   repost percentage          27 non-null     float64\n",
      " 6   average repost             27 non-null     float64\n",
      " 7   average favorite           27 non-null     float64\n",
      " 8   label                      27 non-null     int64  \n",
      " 9   news lifetime              27 non-null     int32  \n",
      " 10  nb users 10 hours          27 non-null     int32  \n",
      " 11  average time difference    27 non-null     float64\n",
      " 12  retweet percentage 1 hour  27 non-null     float64\n",
      "dtypes: float64(7), int32(4), int64(1), object(1)\n",
      "memory usage: 2.4+ KB\n"
     ]
    }
   ],
   "source": [
    "politifact_fake_features.info()"
   ]
  },
  {
   "cell_type": "code",
   "execution_count": 10,
   "metadata": {},
   "outputs": [],
   "source": [
    "politifact_real_posts = pd.read_csv(\"data/politifact_real_posts.csv\")"
   ]
  },
  {
   "cell_type": "code",
   "execution_count": 11,
   "metadata": {},
   "outputs": [],
   "source": [
    "# politifact_real_posts = fpu.create_dataset(politifact_real)\n",
    "politifact_real_posts.to_csv(\"data/politifact_real_posts.csv\", index=False)"
   ]
  },
  {
   "cell_type": "code",
   "execution_count": 12,
   "metadata": {},
   "outputs": [
    {
     "data": {
      "text/html": [
       "<div>\n",
       "<style scoped>\n",
       "    .dataframe tbody tr th:only-of-type {\n",
       "        vertical-align: middle;\n",
       "    }\n",
       "\n",
       "    .dataframe tbody tr th {\n",
       "        vertical-align: top;\n",
       "    }\n",
       "\n",
       "    .dataframe thead th {\n",
       "        text-align: right;\n",
       "    }\n",
       "</style>\n",
       "<table border=\"1\" class=\"dataframe\">\n",
       "  <thead>\n",
       "    <tr style=\"text-align: right;\">\n",
       "      <th></th>\n",
       "      <th>news_id</th>\n",
       "      <th>average followers</th>\n",
       "      <th>average follows</th>\n",
       "      <th>repost total</th>\n",
       "      <th>post total</th>\n",
       "      <th>repost percentage</th>\n",
       "      <th>average repost</th>\n",
       "      <th>average favorite</th>\n",
       "      <th>label</th>\n",
       "      <th>news lifetime</th>\n",
       "      <th>nb users 10 hours</th>\n",
       "      <th>average time difference</th>\n",
       "      <th>retweet percentage 1 hour</th>\n",
       "    </tr>\n",
       "  </thead>\n",
       "  <tbody>\n",
       "    <tr>\n",
       "      <th>0</th>\n",
       "      <td>politifact10209</td>\n",
       "      <td>1841.333333</td>\n",
       "      <td>923.055556</td>\n",
       "      <td>180</td>\n",
       "      <td>6</td>\n",
       "      <td>0.967742</td>\n",
       "      <td>9.483871</td>\n",
       "      <td>45.611111</td>\n",
       "      <td>1</td>\n",
       "      <td>69365</td>\n",
       "      <td>1</td>\n",
       "      <td>0.0</td>\n",
       "      <td>0.005376</td>\n",
       "    </tr>\n",
       "    <tr>\n",
       "      <th>1</th>\n",
       "      <td>politifact104</td>\n",
       "      <td>52415.000000</td>\n",
       "      <td>318.100000</td>\n",
       "      <td>1381</td>\n",
       "      <td>9</td>\n",
       "      <td>0.993525</td>\n",
       "      <td>9.939568</td>\n",
       "      <td>1129.050000</td>\n",
       "      <td>1</td>\n",
       "      <td>61664</td>\n",
       "      <td>1</td>\n",
       "      <td>0.0</td>\n",
       "      <td>0.000719</td>\n",
       "    </tr>\n",
       "    <tr>\n",
       "      <th>2</th>\n",
       "      <td>politifact10408</td>\n",
       "      <td>597.714286</td>\n",
       "      <td>496.714286</td>\n",
       "      <td>28</td>\n",
       "      <td>20</td>\n",
       "      <td>0.583333</td>\n",
       "      <td>3.166667</td>\n",
       "      <td>4.071429</td>\n",
       "      <td>1</td>\n",
       "      <td>76303</td>\n",
       "      <td>1</td>\n",
       "      <td>0.0</td>\n",
       "      <td>0.041667</td>\n",
       "    </tr>\n",
       "    <tr>\n",
       "      <th>3</th>\n",
       "      <td>politifact1052</td>\n",
       "      <td>3777.000000</td>\n",
       "      <td>403.000000</td>\n",
       "      <td>0</td>\n",
       "      <td>1</td>\n",
       "      <td>0.000000</td>\n",
       "      <td>0.000000</td>\n",
       "      <td>4.000000</td>\n",
       "      <td>1</td>\n",
       "      <td>0</td>\n",
       "      <td>1</td>\n",
       "      <td>0.0</td>\n",
       "      <td>1.000000</td>\n",
       "    </tr>\n",
       "    <tr>\n",
       "      <th>4</th>\n",
       "      <td>politifact1053</td>\n",
       "      <td>1024.380952</td>\n",
       "      <td>793.619048</td>\n",
       "      <td>167</td>\n",
       "      <td>10</td>\n",
       "      <td>0.943503</td>\n",
       "      <td>9.333333</td>\n",
       "      <td>27.047619</td>\n",
       "      <td>1</td>\n",
       "      <td>23574</td>\n",
       "      <td>3</td>\n",
       "      <td>0.0</td>\n",
       "      <td>0.005650</td>\n",
       "    </tr>\n",
       "  </tbody>\n",
       "</table>\n",
       "</div>"
      ],
      "text/plain": [
       "           news_id  average followers  average follows  repost total  \\\n",
       "0  politifact10209        1841.333333       923.055556           180   \n",
       "1    politifact104       52415.000000       318.100000          1381   \n",
       "2  politifact10408         597.714286       496.714286            28   \n",
       "3   politifact1052        3777.000000       403.000000             0   \n",
       "4   politifact1053        1024.380952       793.619048           167   \n",
       "\n",
       "   post total  repost percentage  average repost  average favorite  label  \\\n",
       "0           6           0.967742        9.483871         45.611111      1   \n",
       "1           9           0.993525        9.939568       1129.050000      1   \n",
       "2          20           0.583333        3.166667          4.071429      1   \n",
       "3           1           0.000000        0.000000          4.000000      1   \n",
       "4          10           0.943503        9.333333         27.047619      1   \n",
       "\n",
       "   news lifetime  nb users 10 hours  average time difference  \\\n",
       "0          69365                  1                      0.0   \n",
       "1          61664                  1                      0.0   \n",
       "2          76303                  1                      0.0   \n",
       "3              0                  1                      0.0   \n",
       "4          23574                  3                      0.0   \n",
       "\n",
       "   retweet percentage 1 hour  \n",
       "0                   0.005376  \n",
       "1                   0.000719  \n",
       "2                   0.041667  \n",
       "3                   1.000000  \n",
       "4                   0.005650  "
      ]
     },
     "execution_count": 12,
     "metadata": {},
     "output_type": "execute_result"
    }
   ],
   "source": [
    "politifact_real_features = fpu.get_features(politifact_real_posts, 1)\n",
    "politifact_real_features.head()"
   ]
  },
  {
   "cell_type": "code",
   "execution_count": 13,
   "metadata": {},
   "outputs": [
    {
     "name": "stdout",
     "output_type": "stream",
     "text": [
      "<class 'pandas.core.frame.DataFrame'>\n",
      "RangeIndex: 132 entries, 0 to 131\n",
      "Data columns (total 13 columns):\n",
      " #   Column                     Non-Null Count  Dtype  \n",
      "---  ------                     --------------  -----  \n",
      " 0   news_id                    132 non-null    object \n",
      " 1   average followers          132 non-null    float64\n",
      " 2   average follows            132 non-null    float64\n",
      " 3   repost total               132 non-null    int32  \n",
      " 4   post total                 132 non-null    int32  \n",
      " 5   repost percentage          132 non-null    float64\n",
      " 6   average repost             132 non-null    float64\n",
      " 7   average favorite           132 non-null    float64\n",
      " 8   label                      132 non-null    int64  \n",
      " 9   news lifetime              132 non-null    int32  \n",
      " 10  nb users 10 hours          132 non-null    int32  \n",
      " 11  average time difference    132 non-null    float64\n",
      " 12  retweet percentage 1 hour  132 non-null    float64\n",
      "dtypes: float64(7), int32(4), int64(1), object(1)\n",
      "memory usage: 11.5+ KB\n"
     ]
    }
   ],
   "source": [
    "politifact_real_features.info()"
   ]
  },
  {
   "cell_type": "code",
   "execution_count": 14,
   "metadata": {},
   "outputs": [
    {
     "name": "stdout",
     "output_type": "stream",
     "text": [
      "<class 'pandas.core.frame.DataFrame'>\n",
      "Index: 159 entries, 0 to 131\n",
      "Data columns (total 13 columns):\n",
      " #   Column                     Non-Null Count  Dtype  \n",
      "---  ------                     --------------  -----  \n",
      " 0   news_id                    159 non-null    object \n",
      " 1   average followers          159 non-null    float64\n",
      " 2   average follows            159 non-null    float64\n",
      " 3   repost total               159 non-null    int32  \n",
      " 4   post total                 159 non-null    int32  \n",
      " 5   repost percentage          159 non-null    float64\n",
      " 6   average repost             159 non-null    float64\n",
      " 7   average favorite           159 non-null    float64\n",
      " 8   label                      159 non-null    int64  \n",
      " 9   news lifetime              159 non-null    int32  \n",
      " 10  nb users 10 hours          159 non-null    int32  \n",
      " 11  average time difference    159 non-null    float64\n",
      " 12  retweet percentage 1 hour  159 non-null    float64\n",
      "dtypes: float64(7), int32(4), int64(1), object(1)\n",
      "memory usage: 14.9+ KB\n"
     ]
    }
   ],
   "source": [
    "politifact_features = pd.concat([politifact_fake_features, politifact_real_features])\n",
    "politifact_features.info()"
   ]
  },
  {
   "cell_type": "code",
   "execution_count": 15,
   "metadata": {},
   "outputs": [],
   "source": [
    "politifact_features.to_csv(\"data/politifact_features.csv\", index=False)"
   ]
  },
  {
   "cell_type": "code",
   "execution_count": 17,
   "metadata": {},
   "outputs": [],
   "source": [
    "gossipcop_fake = pd.read_csv(\"FakeNewsNet/gossipcop_fake.csv\")"
   ]
  },
  {
   "cell_type": "code",
   "execution_count": 18,
   "metadata": {},
   "outputs": [
    {
     "name": "stdout",
     "output_type": "stream",
     "text": [
      "<class 'pandas.core.frame.DataFrame'>\n",
      "RangeIndex: 5323 entries, 0 to 5322\n",
      "Data columns (total 4 columns):\n",
      " #   Column     Non-Null Count  Dtype \n",
      "---  ------     --------------  ----- \n",
      " 0   id         5323 non-null   object\n",
      " 1   news_url   5067 non-null   object\n",
      " 2   title      5323 non-null   object\n",
      " 3   tweet_ids  5135 non-null   object\n",
      "dtypes: object(4)\n",
      "memory usage: 166.5+ KB\n"
     ]
    }
   ],
   "source": [
    "gossipcop_fake.info()"
   ]
  },
  {
   "cell_type": "code",
   "execution_count": 21,
   "metadata": {},
   "outputs": [
    {
     "name": "stderr",
     "output_type": "stream",
     "text": [
      "100%|██████████| 1000/1000 [56:53<00:00,  3.41s/it] \n",
      "  0%|          | 0/6083 [00:00<?, ?it/s]\n"
     ]
    },
    {
     "ename": "KeyError",
     "evalue": "'repostedBy'",
     "output_type": "error",
     "traceback": [
      "\u001b[1;31m---------------------------------------------------------------------------\u001b[0m",
      "\u001b[1;31mKeyError\u001b[0m                                  Traceback (most recent call last)",
      "Cell \u001b[1;32mIn[21], line 1\u001b[0m\n\u001b[1;32m----> 1\u001b[0m gossipcop_fake_posts \u001b[38;5;241m=\u001b[39m \u001b[43mfpu\u001b[49m\u001b[38;5;241;43m.\u001b[39;49m\u001b[43mcreate_dataset\u001b[49m\u001b[43m(\u001b[49m\u001b[43mgossipcop_fake\u001b[49m\u001b[43m[\u001b[49m\u001b[43m:\u001b[49m\u001b[38;5;241;43m1000\u001b[39;49m\u001b[43m]\u001b[49m\u001b[43m)\u001b[49m\n\u001b[0;32m      2\u001b[0m gossipcop_fake_posts\u001b[38;5;241m.\u001b[39mto_csv(\u001b[38;5;124m\"\u001b[39m\u001b[38;5;124mdata/gossipcop_fake_posts_1.csv\u001b[39m\u001b[38;5;124m\"\u001b[39m, index\u001b[38;5;241m=\u001b[39m\u001b[38;5;28;01mFalse\u001b[39;00m)\n\u001b[0;32m      3\u001b[0m gossipcop_fake_features \u001b[38;5;241m=\u001b[39m fpu\u001b[38;5;241m.\u001b[39mget_features(gossipcop_fake_posts, \u001b[38;5;241m0\u001b[39m)\n",
      "File \u001b[1;32mc:\\Users\\celin_e3kjw6h\\OneDrive\\Bureau\\KTH\\ID2223 Scalable Machine Learning and Deep Learning\\project\\fake_news_bsky_detector\\features_processing_utils.py:99\u001b[0m, in \u001b[0;36mcreate_dataset\u001b[1;34m(news, limit)\u001b[0m\n\u001b[0;32m     97\u001b[0m \u001b[38;5;28;01mdef\u001b[39;00m \u001b[38;5;21mcreate_dataset\u001b[39m(news, limit\u001b[38;5;241m=\u001b[39m\u001b[38;5;241m100\u001b[39m):\n\u001b[0;32m     98\u001b[0m     posts_dataset \u001b[38;5;241m=\u001b[39m add_posts(news, limit)\n\u001b[1;32m---> 99\u001b[0m     reposts_dataset \u001b[38;5;241m=\u001b[39m \u001b[43madd_reposts\u001b[49m\u001b[43m(\u001b[49m\u001b[43mposts_dataset\u001b[49m\u001b[43m,\u001b[49m\u001b[43m \u001b[49m\u001b[43mlimit\u001b[49m\u001b[43m)\u001b[49m\n\u001b[0;32m    101\u001b[0m     \u001b[38;5;28;01mreturn\u001b[39;00m pd\u001b[38;5;241m.\u001b[39mconcat([posts_dataset, reposts_dataset])\n",
      "File \u001b[1;32mc:\\Users\\celin_e3kjw6h\\OneDrive\\Bureau\\KTH\\ID2223 Scalable Machine Learning and Deep Learning\\project\\fake_news_bsky_detector\\features_processing_utils.py:80\u001b[0m, in \u001b[0;36madd_reposts\u001b[1;34m(posts_dataset, limit)\u001b[0m\n\u001b[0;32m     78\u001b[0m \u001b[38;5;28;01mfor\u001b[39;00m query \u001b[38;5;129;01min\u001b[39;00m tqdm(posts_dataset[\u001b[38;5;124m\"\u001b[39m\u001b[38;5;124mpost_uri\u001b[39m\u001b[38;5;124m\"\u001b[39m]):\n\u001b[0;32m     79\u001b[0m     reposts \u001b[38;5;241m=\u001b[39m get_reposts(query, limit)\n\u001b[1;32m---> 80\u001b[0m     \u001b[38;5;28;01mfor\u001b[39;00m user \u001b[38;5;129;01min\u001b[39;00m \u001b[43mreposts\u001b[49m\u001b[43m[\u001b[49m\u001b[38;5;124;43m\"\u001b[39;49m\u001b[38;5;124;43mrepostedBy\u001b[39;49m\u001b[38;5;124;43m\"\u001b[39;49m\u001b[43m]\u001b[49m:\n\u001b[0;32m     81\u001b[0m         profile \u001b[38;5;241m=\u001b[39m get_profile(user[\u001b[38;5;124m\"\u001b[39m\u001b[38;5;124mhandle\u001b[39m\u001b[38;5;124m\"\u001b[39m])\n\u001b[0;32m     83\u001b[0m         dataset[\u001b[38;5;124m\"\u001b[39m\u001b[38;5;124mpost_uri\u001b[39m\u001b[38;5;124m\"\u001b[39m]\u001b[38;5;241m.\u001b[39mappend(posts_dataset[posts_dataset[\u001b[38;5;124m\"\u001b[39m\u001b[38;5;124mpost_uri\u001b[39m\u001b[38;5;124m\"\u001b[39m] \u001b[38;5;241m==\u001b[39m query][\u001b[38;5;124m\"\u001b[39m\u001b[38;5;124mpost_uri\u001b[39m\u001b[38;5;124m\"\u001b[39m]\u001b[38;5;241m.\u001b[39mvalues[\u001b[38;5;241m0\u001b[39m])\n",
      "\u001b[1;31mKeyError\u001b[0m: 'repostedBy'"
     ]
    }
   ],
   "source": [
    "gossipcop_fake_posts = fpu.create_dataset(gossipcop_fake[:1000])\n",
    "gossipcop_fake_posts.to_csv(\"data/gossipcop_fake_posts_1.csv\", index=False)\n",
    "gossipcop_fake_features = fpu.get_features(gossipcop_fake_posts, 0)\n",
    "gossipcop_fake_features.to_csv(\"data/gossipcop_fake_features_1.csv\", index=False)\n",
    "gossipcop_fake_features.head()"
   ]
  },
  {
   "cell_type": "code",
   "execution_count": null,
   "metadata": {},
   "outputs": [],
   "source": [
    "gossipcop_fake_features.info()"
   ]
  },
  {
   "cell_type": "code",
   "execution_count": 22,
   "metadata": {},
   "outputs": [
    {
     "name": "stderr",
     "output_type": "stream",
     "text": [
      " 15%|█▌        | 151/1000 [06:19<35:32,  2.51s/it]  \n"
     ]
    },
    {
     "ename": "KeyError",
     "evalue": "'posts'",
     "output_type": "error",
     "traceback": [
      "\u001b[1;31m---------------------------------------------------------------------------\u001b[0m",
      "\u001b[1;31mKeyError\u001b[0m                                  Traceback (most recent call last)",
      "Cell \u001b[1;32mIn[22], line 1\u001b[0m\n\u001b[1;32m----> 1\u001b[0m gossipcop_fake_posts \u001b[38;5;241m=\u001b[39m \u001b[43mfpu\u001b[49m\u001b[38;5;241;43m.\u001b[39;49m\u001b[43mcreate_dataset\u001b[49m\u001b[43m(\u001b[49m\u001b[43mgossipcop_fake\u001b[49m\u001b[43m[\u001b[49m\u001b[38;5;241;43m1000\u001b[39;49m\u001b[43m:\u001b[49m\u001b[38;5;241;43m2000\u001b[39;49m\u001b[43m]\u001b[49m\u001b[43m)\u001b[49m\n\u001b[0;32m      2\u001b[0m gossipcop_fake_posts\u001b[38;5;241m.\u001b[39mto_csv(\u001b[38;5;124m\"\u001b[39m\u001b[38;5;124mdata/gossipcop_fake_posts_2.csv\u001b[39m\u001b[38;5;124m\"\u001b[39m, index\u001b[38;5;241m=\u001b[39m\u001b[38;5;28;01mFalse\u001b[39;00m)\n\u001b[0;32m      3\u001b[0m gossipcop_fake_features \u001b[38;5;241m=\u001b[39m fpu\u001b[38;5;241m.\u001b[39mget_features(gossipcop_fake_posts, \u001b[38;5;241m0\u001b[39m)\n",
      "File \u001b[1;32mc:\\Users\\celin_e3kjw6h\\OneDrive\\Bureau\\KTH\\ID2223 Scalable Machine Learning and Deep Learning\\project\\fake_news_bsky_detector\\features_processing_utils.py:98\u001b[0m, in \u001b[0;36mcreate_dataset\u001b[1;34m(news, limit)\u001b[0m\n\u001b[0;32m     97\u001b[0m \u001b[38;5;28;01mdef\u001b[39;00m \u001b[38;5;21mcreate_dataset\u001b[39m(news, limit\u001b[38;5;241m=\u001b[39m\u001b[38;5;241m100\u001b[39m):\n\u001b[1;32m---> 98\u001b[0m     posts_dataset \u001b[38;5;241m=\u001b[39m \u001b[43madd_posts\u001b[49m\u001b[43m(\u001b[49m\u001b[43mnews\u001b[49m\u001b[43m,\u001b[49m\u001b[43m \u001b[49m\u001b[43mlimit\u001b[49m\u001b[43m)\u001b[49m\n\u001b[0;32m     99\u001b[0m     reposts_dataset \u001b[38;5;241m=\u001b[39m add_reposts(posts_dataset, limit)\n\u001b[0;32m    101\u001b[0m     \u001b[38;5;28;01mreturn\u001b[39;00m pd\u001b[38;5;241m.\u001b[39mconcat([posts_dataset, reposts_dataset])\n",
      "File \u001b[1;32mc:\\Users\\celin_e3kjw6h\\OneDrive\\Bureau\\KTH\\ID2223 Scalable Machine Learning and Deep Learning\\project\\fake_news_bsky_detector\\features_processing_utils.py:47\u001b[0m, in \u001b[0;36madd_posts\u001b[1;34m(news, limit)\u001b[0m\n\u001b[0;32m     45\u001b[0m \u001b[38;5;28;01mfor\u001b[39;00m query \u001b[38;5;129;01min\u001b[39;00m tqdm(news[\u001b[38;5;124m\"\u001b[39m\u001b[38;5;124mtitle\u001b[39m\u001b[38;5;124m\"\u001b[39m]):\n\u001b[0;32m     46\u001b[0m     posts \u001b[38;5;241m=\u001b[39m search_posts(query, limit)\n\u001b[1;32m---> 47\u001b[0m     \u001b[38;5;28;01mfor\u001b[39;00m post \u001b[38;5;129;01min\u001b[39;00m \u001b[43mposts\u001b[49m\u001b[43m[\u001b[49m\u001b[38;5;124;43m\"\u001b[39;49m\u001b[38;5;124;43mposts\u001b[39;49m\u001b[38;5;124;43m\"\u001b[39;49m\u001b[43m]\u001b[49m:\n\u001b[0;32m     48\u001b[0m         profile \u001b[38;5;241m=\u001b[39m get_profile(post[\u001b[38;5;124m\"\u001b[39m\u001b[38;5;124mauthor\u001b[39m\u001b[38;5;124m\"\u001b[39m][\u001b[38;5;124m\"\u001b[39m\u001b[38;5;124mhandle\u001b[39m\u001b[38;5;124m\"\u001b[39m])\n\u001b[0;32m     49\u001b[0m         dataset[\u001b[38;5;124m\"\u001b[39m\u001b[38;5;124mpost_uri\u001b[39m\u001b[38;5;124m\"\u001b[39m]\u001b[38;5;241m.\u001b[39mappend(post[\u001b[38;5;124m\"\u001b[39m\u001b[38;5;124muri\u001b[39m\u001b[38;5;124m\"\u001b[39m])\n",
      "\u001b[1;31mKeyError\u001b[0m: 'posts'"
     ]
    }
   ],
   "source": [
    "gossipcop_fake_posts = fpu.create_dataset(gossipcop_fake[1000:2000])\n",
    "gossipcop_fake_posts.to_csv(\"data/gossipcop_fake_posts_2.csv\", index=False)\n",
    "gossipcop_fake_features = fpu.get_features(gossipcop_fake_posts, 0)\n",
    "gossipcop_fake_features.to_csv(\"data/gossipcop_fake_features_2.csv\", index=False)\n",
    "gossipcop_fake_features.info()"
   ]
  },
  {
   "cell_type": "code",
   "execution_count": null,
   "metadata": {},
   "outputs": [],
   "source": [
    "gossipcop_fake_posts = fpu.create_dataset(gossipcop_fake[2000:3000])\n",
    "gossipcop_fake_posts.to_csv(\"data/gossipcop_fake_posts_3.csv\", index=False)\n",
    "gossipcop_fake_features = fpu.get_features(gossipcop_fake_posts, 0)\n",
    "gossipcop_fake_features.to_csv(\"data/gossipcop_fake_features_3.csv\", index=False)\n",
    "gossipcop_fake_features.info()"
   ]
  },
  {
   "cell_type": "code",
   "execution_count": null,
   "metadata": {},
   "outputs": [],
   "source": [
    "gossipcop_fake_posts = fpu.create_dataset(gossipcop_fake[3000:4000])\n",
    "gossipcop_fake_posts.to_csv(\"data/gossipcop_fake_posts_4.csv\", index=False)\n",
    "gossipcop_fake_features = fpu.get_features(gossipcop_fake_posts, 0)\n",
    "gossipcop_fake_features.to_csv(\"data/gossipcop_fake_features_4.csv\", index=False)\n",
    "gossipcop_fake_features.info()"
   ]
  },
  {
   "cell_type": "code",
   "execution_count": null,
   "metadata": {},
   "outputs": [],
   "source": [
    "gossipcop_fake_posts = fpu.create_dataset(gossipcop_fake[4000:])\n",
    "gossipcop_fake_posts.to_csv(\"data/gossipcop_fake_posts_5.csv\", index=False)\n",
    "gossipcop_fake_features = fpu.get_features(gossipcop_fake_posts, 0)\n",
    "gossipcop_fake_features.to_csv(\"data/gossipcop_fake_features_5.csv\", index=False)\n",
    "gossipcop_fake_features.info()"
   ]
  }
 ],
 "metadata": {
  "kernelspec": {
   "display_name": "fake_news",
   "language": "python",
   "name": "python3"
  },
  "language_info": {
   "codemirror_mode": {
    "name": "ipython",
    "version": 3
   },
   "file_extension": ".py",
   "mimetype": "text/x-python",
   "name": "python",
   "nbconvert_exporter": "python",
   "pygments_lexer": "ipython3",
   "version": "3.9.21"
  }
 },
 "nbformat": 4,
 "nbformat_minor": 2
}
