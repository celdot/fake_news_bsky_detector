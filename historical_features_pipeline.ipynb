{
 "cells": [
  {
   "cell_type": "code",
   "execution_count": 8,
   "metadata": {},
   "outputs": [],
   "source": [
    "with open('data/bsky_credentials.txt', 'r') as file:\n",
    "    username = file.readline().strip()\n",
    "    password = file.readline().strip()"
   ]
  },
  {
   "cell_type": "code",
   "execution_count": 9,
   "metadata": {},
   "outputs": [
    {
     "data": {
      "text/plain": [
       "CreateRecordResponse(uri='at://did:plc:fxdc45r3szpgjldaivyz4p5e/app.bsky.feed.post/3le56gefr2b22', cid='bafyreicvhcocttl675m5xvs7phrcgr33vfacqsr43m4drxiyg37csidfri')"
      ]
     },
     "execution_count": 9,
     "metadata": {},
     "output_type": "execute_result"
    }
   ],
   "source": [
    "from atproto import Client\n",
    "\n",
    "client = Client()\n",
    "client.login(username, password)\n",
    "client.send_post(text='Hello World!')"
   ]
  }
 ],
 "metadata": {
  "kernelspec": {
   "display_name": "fake_news",
   "language": "python",
   "name": "python3"
  },
  "language_info": {
   "codemirror_mode": {
    "name": "ipython",
    "version": 3
   },
   "file_extension": ".py",
   "mimetype": "text/x-python",
   "name": "python",
   "nbconvert_exporter": "python",
   "pygments_lexer": "ipython3",
   "version": "3.9.21"
  }
 },
 "nbformat": 4,
 "nbformat_minor": 2
}
