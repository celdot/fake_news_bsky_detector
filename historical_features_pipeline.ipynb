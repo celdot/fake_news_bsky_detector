{
 "cells": [
  {
   "cell_type": "code",
   "execution_count": 1,
   "metadata": {},
   "outputs": [
    {
     "name": "stderr",
     "output_type": "stream",
     "text": [
      "c:\\Users\\celin_e3kjw6h\\miniconda3\\envs\\fake_news\\lib\\site-packages\\tqdm\\auto.py:21: TqdmWarning: IProgress not found. Please update jupyter and ipywidgets. See https://ipywidgets.readthedocs.io/en/stable/user_install.html\n",
      "  from .autonotebook import tqdm as notebook_tqdm\n"
     ]
    }
   ],
   "source": [
    "import pandas as pd\n",
    "import features_processing_utils as fpu\n",
    "import hopsworks\n",
    "import numpy as np"
   ]
  },
  {
   "cell_type": "markdown",
   "metadata": {},
   "source": [
    "### Log into Hopsworks"
   ]
  },
  {
   "cell_type": "code",
   "execution_count": 4,
   "metadata": {},
   "outputs": [
    {
     "name": "stdout",
     "output_type": "stream",
     "text": [
      "2025-01-09 21:35:29,181 INFO: Initializing external client\n",
      "2025-01-09 21:35:29,182 INFO: Base URL: https://c.app.hopsworks.ai:443\n",
      "2025-01-09 21:35:31,176 INFO: Python Engine initialized.\n",
      "\n",
      "Logged in to project, explore it here https://c.app.hopsworks.ai:443/p/1149079\n"
     ]
    }
   ],
   "source": [
    "project = hopsworks.login()\n",
    "# util.purge_project(proj)"
   ]
  },
  {
   "cell_type": "code",
   "execution_count": 5,
   "metadata": {},
   "outputs": [],
   "source": [
    "fs = project.get_feature_store()"
   ]
  },
  {
   "cell_type": "markdown",
   "metadata": {},
   "source": [
    "### Scraping posts and computing features from the FakeNEwsNet dataset"
   ]
  },
  {
   "cell_type": "markdown",
   "metadata": {},
   "source": [
    "We are doing it incrementally because of the long computation time. We add the new features to the dataset and save it in the Hopsworks feature store each time. "
   ]
  },
  {
   "cell_type": "code",
   "execution_count": 4,
   "metadata": {},
   "outputs": [],
   "source": [
    "gossipcop_fake = pd.read_csv(\"FakeNewsNet/gossipcop_fake.csv\")"
   ]
  },
  {
   "cell_type": "markdown",
   "metadata": {},
   "source": [
    "Didn't run it for 2800 to 3000 index"
   ]
  },
  {
   "cell_type": "code",
   "execution_count": 5,
   "metadata": {},
   "outputs": [],
   "source": [
    "# gossipcop_new_features = fpu.complete_processing(gossipcop_fake, 1, \"gossipcop_news_posts.csv\", \"gossipcop_news_features.csv\", 3300, 3500)"
   ]
  },
  {
   "cell_type": "code",
   "execution_count": 6,
   "metadata": {},
   "outputs": [],
   "source": [
    "# gossipcop_new_features.info()"
   ]
  },
  {
   "cell_type": "code",
   "execution_count": 7,
   "metadata": {},
   "outputs": [],
   "source": [
    "gossipcop_real = pd.read_csv(\"FakeNewsNet/gossipcop_real.csv\")"
   ]
  },
  {
   "cell_type": "code",
   "execution_count": 8,
   "metadata": {},
   "outputs": [
    {
     "name": "stderr",
     "output_type": "stream",
     "text": [
      "100%|██████████| 50/50 [01:06<00:00,  1.34s/it]\n",
      "100%|██████████| 112/112 [00:59<00:00,  1.90it/s]\n"
     ]
    }
   ],
   "source": [
    "gossipcop_new_features = fpu.complete_processing(gossipcop_real, 0, \"gossipcop_new_posts.csv\", \"gossipcop_new_features.csv\", 2200, 2250)"
   ]
  },
  {
   "cell_type": "code",
   "execution_count": 9,
   "metadata": {},
   "outputs": [
    {
     "name": "stdout",
     "output_type": "stream",
     "text": [
      "<class 'pandas.core.frame.DataFrame'>\n",
      "RangeIndex: 3 entries, 0 to 2\n",
      "Data columns (total 13 columns):\n",
      " #   Column                     Non-Null Count  Dtype  \n",
      "---  ------                     --------------  -----  \n",
      " 0   news_id                    3 non-null      object \n",
      " 1   average followers          3 non-null      float64\n",
      " 2   average follows            3 non-null      float64\n",
      " 3   repost total               3 non-null      int64  \n",
      " 4   post total                 3 non-null      int64  \n",
      " 5   repost percentage          3 non-null      float64\n",
      " 6   average repost             3 non-null      float64\n",
      " 7   average favorite           3 non-null      float64\n",
      " 8   news lifetime              3 non-null      float64\n",
      " 9   nb users 10 hours          3 non-null      int64  \n",
      " 10  average time difference    0 non-null      float64\n",
      " 11  retweet percentage 1 hour  3 non-null      float64\n",
      " 12  label                      3 non-null      int64  \n",
      "dtypes: float64(8), int64(4), object(1)\n",
      "memory usage: 440.0+ bytes\n"
     ]
    }
   ],
   "source": [
    "gossipcop_new_features.info()"
   ]
  },
  {
   "cell_type": "code",
   "execution_count": 15,
   "metadata": {},
   "outputs": [
    {
     "name": "stdout",
     "output_type": "stream",
     "text": [
      "<class 'pandas.core.frame.DataFrame'>\n",
      "RangeIndex: 403 entries, 0 to 402\n",
      "Data columns (total 13 columns):\n",
      " #   Column                     Non-Null Count  Dtype  \n",
      "---  ------                     --------------  -----  \n",
      " 0   news_id                    403 non-null    object \n",
      " 1   average_followers          403 non-null    float64\n",
      " 2   average_follows            403 non-null    float64\n",
      " 3   repost_total               403 non-null    int64  \n",
      " 4   post_total                 403 non-null    int64  \n",
      " 5   repost_percentage          403 non-null    float64\n",
      " 6   label                      403 non-null    int64  \n",
      " 7   average_repost             403 non-null    float64\n",
      " 8   average_favorite           403 non-null    float64\n",
      " 9   news_lifetime              403 non-null    float64\n",
      " 10  nb_users_10_hours          403 non-null    int64  \n",
      " 11  average_time_difference    403 non-null    float64\n",
      " 12  retweet_percentage_1_hour  403 non-null    float64\n",
      "dtypes: float64(8), int64(4), object(1)\n",
      "memory usage: 41.1+ KB\n"
     ]
    }
   ],
   "source": [
    "gossipcop_features = pd.read_csv(\"data/gossipcop_features.csv\")\n",
    "gossipcop_features.info()"
   ]
  },
  {
   "cell_type": "code",
   "execution_count": 16,
   "metadata": {},
   "outputs": [],
   "source": [
    "# change names of columns to add underscore\n",
    "gossipcop_features.columns = gossipcop_features.columns.str.replace(' ', '_')\n",
    "gossipcop_new_features.columns = gossipcop_new_features.columns.str.replace(' ', '_')"
   ]
  },
  {
   "cell_type": "code",
   "execution_count": 17,
   "metadata": {},
   "outputs": [],
   "source": [
    "gossipcop_features = pd.concat([gossipcop_features, gossipcop_new_features], ignore_index=True)"
   ]
  },
  {
   "cell_type": "code",
   "execution_count": 18,
   "metadata": {},
   "outputs": [
    {
     "name": "stdout",
     "output_type": "stream",
     "text": [
      "<class 'pandas.core.frame.DataFrame'>\n",
      "RangeIndex: 406 entries, 0 to 405\n",
      "Data columns (total 13 columns):\n",
      " #   Column                     Non-Null Count  Dtype  \n",
      "---  ------                     --------------  -----  \n",
      " 0   news_id                    406 non-null    object \n",
      " 1   average_followers          406 non-null    float64\n",
      " 2   average_follows            406 non-null    float64\n",
      " 3   repost_total               406 non-null    int64  \n",
      " 4   post_total                 406 non-null    int64  \n",
      " 5   repost_percentage          406 non-null    float64\n",
      " 6   label                      406 non-null    int64  \n",
      " 7   average_repost             406 non-null    float64\n",
      " 8   average_favorite           406 non-null    float64\n",
      " 9   news_lifetime              406 non-null    float64\n",
      " 10  nb_users_10_hours          406 non-null    int64  \n",
      " 11  average_time_difference    403 non-null    float64\n",
      " 12  retweet_percentage_1_hour  406 non-null    float64\n",
      "dtypes: float64(8), int64(4), object(1)\n",
      "memory usage: 41.4+ KB\n"
     ]
    }
   ],
   "source": [
    "gossipcop_features.info()"
   ]
  },
  {
   "cell_type": "markdown",
   "metadata": {},
   "source": [
    "The features are also saved in a CSV file for easier access, manipulation and visualization when developping. The CSV files are never used in the actual model training or inference and are not pushed on GitHub."
   ]
  },
  {
   "cell_type": "code",
   "execution_count": 19,
   "metadata": {},
   "outputs": [],
   "source": [
    "gossipcop_features.to_csv(\"data/gossipcop_features.csv\", index=False)"
   ]
  },
  {
   "cell_type": "markdown",
   "metadata": {},
   "source": [
    "### Getting historical data from feature group"
   ]
  },
  {
   "cell_type": "code",
   "execution_count": 20,
   "metadata": {},
   "outputs": [],
   "source": [
    "news_propagation_fg = fs.get_feature_group(\n",
    "    name=\"news_propagation\",\n",
    "    version=1,\n",
    ")"
   ]
  },
  {
   "cell_type": "code",
   "execution_count": 21,
   "metadata": {},
   "outputs": [
    {
     "name": "stdout",
     "output_type": "stream",
     "text": [
      "Finished: Reading data from Hopsworks, using Hopsworks Feature Query Service (0.80s) \n"
     ]
    }
   ],
   "source": [
    "historical_features = news_propagation_fg.select_all().read()"
   ]
  },
  {
   "cell_type": "markdown",
   "metadata": {},
   "source": [
    "Add in the new features to the feature store"
   ]
  },
  {
   "cell_type": "code",
   "execution_count": 22,
   "metadata": {},
   "outputs": [],
   "source": [
    "historical_features = pd.concat([historical_features, gossipcop_new_features])"
   ]
  },
  {
   "cell_type": "code",
   "execution_count": 23,
   "metadata": {},
   "outputs": [],
   "source": [
    "historical_features[\"news_lifetime\"] = historical_features[\"news_lifetime\"].astype(np.int64)"
   ]
  },
  {
   "cell_type": "code",
   "execution_count": 24,
   "metadata": {},
   "outputs": [
    {
     "name": "stdout",
     "output_type": "stream",
     "text": [
      "<class 'pandas.core.frame.DataFrame'>\n",
      "Index: 565 entries, 0 to 2\n",
      "Data columns (total 13 columns):\n",
      " #   Column                     Non-Null Count  Dtype  \n",
      "---  ------                     --------------  -----  \n",
      " 0   news_id                    565 non-null    object \n",
      " 1   average_followers          565 non-null    float64\n",
      " 2   average_follows            565 non-null    float64\n",
      " 3   repost_total               565 non-null    int64  \n",
      " 4   post_total                 565 non-null    int64  \n",
      " 5   repost_percentage          565 non-null    float64\n",
      " 6   average_repost             565 non-null    float64\n",
      " 7   average_favorite           565 non-null    float64\n",
      " 8   label                      565 non-null    int64  \n",
      " 9   news_lifetime              565 non-null    int64  \n",
      " 10  nb_users_10_hours          565 non-null    int64  \n",
      " 11  average_time_difference    562 non-null    float64\n",
      " 12  retweet_percentage_1_hour  565 non-null    float64\n",
      "dtypes: float64(7), int64(5), object(1)\n",
      "memory usage: 61.8+ KB\n"
     ]
    }
   ],
   "source": [
    "historical_features.info()"
   ]
  },
  {
   "cell_type": "code",
   "execution_count": 25,
   "metadata": {},
   "outputs": [
    {
     "data": {
      "text/plain": [
       "label\n",
       "0    280\n",
       "1    285\n",
       "dtype: int64"
      ]
     },
     "execution_count": 25,
     "metadata": {},
     "output_type": "execute_result"
    }
   ],
   "source": [
    "historical_features.groupby(\"label\").size()"
   ]
  },
  {
   "cell_type": "code",
   "execution_count": 26,
   "metadata": {},
   "outputs": [
    {
     "data": {
      "text/plain": [
       "Index(['news_id', 'average_followers', 'average_follows', 'repost_total',\n",
       "       'post_total', 'repost_percentage', 'average_repost', 'average_favorite',\n",
       "       'label', 'news_lifetime', 'nb_users_10_hours',\n",
       "       'average_time_difference', 'retweet_percentage_1_hour'],\n",
       "      dtype='object')"
      ]
     },
     "execution_count": 26,
     "metadata": {},
     "output_type": "execute_result"
    }
   ],
   "source": [
    "historical_features.columns"
   ]
  },
  {
   "cell_type": "code",
   "execution_count": 27,
   "metadata": {},
   "outputs": [],
   "source": [
    "historical_features.to_csv(\"data/historical_features.csv\", index=False)"
   ]
  },
  {
   "cell_type": "markdown",
   "metadata": {},
   "source": [
    "### Save all the data into a Feature Store via Hopsworks"
   ]
  },
  {
   "cell_type": "markdown",
   "metadata": {},
   "source": [
    "Insert dataframe into Feature Group, ```expectation_suite``` should contain data validation rules => we need to come up withd data validation rules"
   ]
  },
  {
   "cell_type": "code",
   "execution_count": 7,
   "metadata": {},
   "outputs": [],
   "source": [
    "news_propagation_fg = fs.get_or_create_feature_group(\n",
    "    name='news_propagation',\n",
    "    description='Propagation characteristics of news in Bsky',\n",
    "    version=1,\n",
    "    primary_key=['news_id'],\n",
    "    online_enabled=True,\n",
    ")"
   ]
  },
  {
   "cell_type": "code",
   "execution_count": 8,
   "metadata": {},
   "outputs": [
    {
     "name": "stderr",
     "output_type": "stream",
     "text": [
      "Uploading Dataframe: 100.00% |██████████| Rows 565/565 | Elapsed Time: 00:01 | Remaining Time: 00:00\n"
     ]
    },
    {
     "name": "stdout",
     "output_type": "stream",
     "text": [
      "Launching job: news_propagation_1_offline_fg_materialization\n",
      "Job started successfully, you can follow the progress at \n",
      "https://c.app.hopsworks.ai:443/p/1149079/jobs/named/news_propagation_1_offline_fg_materialization/executions\n",
      "2025-01-09 21:35:58,495 INFO: Waiting for execution to finish. Current state: SUBMITTED. Final status: UNDEFINED\n",
      "2025-01-09 21:36:01,697 INFO: Waiting for execution to finish. Current state: RUNNING. Final status: UNDEFINED\n",
      "2025-01-09 21:39:17,398 INFO: Waiting for execution to finish. Current state: SUCCEEDING. Final status: UNDEFINED\n",
      "2025-01-09 21:39:20,611 INFO: Waiting for execution to finish. Current state: AGGREGATING_LOGS. Final status: SUCCEEDED\n",
      "2025-01-09 21:39:20,773 INFO: Waiting for log aggregation to finish.\n",
      "2025-01-09 21:39:29,392 INFO: Execution finished successfully.\n"
     ]
    },
    {
     "data": {
      "text/plain": [
       "(Job('news_propagation_1_offline_fg_materialization', 'SPARK'), None)"
      ]
     },
     "execution_count": 8,
     "metadata": {},
     "output_type": "execute_result"
    }
   ],
   "source": [
    "news_propagation_fg.insert(historical_features, write_options={\"wait_for_job\": True})"
   ]
  },
  {
   "cell_type": "markdown",
   "metadata": {},
   "source": [
    "Add a description for each feature in the feature group."
   ]
  },
  {
   "cell_type": "code",
   "execution_count": 9,
   "metadata": {},
   "outputs": [
    {
     "data": {
      "text/plain": [
       "<hsfs.feature_group.FeatureGroup at 0x1d927ae2280>"
      ]
     },
     "execution_count": 9,
     "metadata": {},
     "output_type": "execute_result"
    }
   ],
   "source": [
    "news_propagation_fg.update_feature_description(\"news_id\", \"The id of the news\")\n",
    "news_propagation_fg.update_feature_description(\"average_followers\", \"The average number of followers of the users who posted or reposted the news\")\n",
    "news_propagation_fg.update_feature_description(\"average_follows\", \"The average number of follows of the users who posted or reposted the news\")\n",
    "news_propagation_fg.update_feature_description(\"repost_total\", \"The total number of reposts of the news\")\n",
    "news_propagation_fg.update_feature_description(\"post_total\", \"The total number of posts of the news\")\n",
    "news_propagation_fg.update_feature_description(\"repost_percentage\", \"The percentage of reposts of the news out of the total number of posts and reposts\")\n",
    "news_propagation_fg.update_feature_description(\"average_repost\", \"The average number of reposts of the news\")\n",
    "news_propagation_fg.update_feature_description(\"average_favorite\", \"The average number of likes of the news\")\n",
    "news_propagation_fg.update_feature_description(\"label\", \"The label of the news : if it is fake or real\")\n",
    "news_propagation_fg.update_feature_description(\"news_lifetime\", \"The lifetime of the news, which is the time difference between the first and the last post (or repost) of the news\")\n",
    "news_propagation_fg.update_feature_description(\"nb_users_10_hours\", \"The number of users who posted (or reposted) the news in the first 10 hours\")\n",
    "news_propagation_fg.update_feature_description(\"average_time_difference\", \"The average time difference between a post and its reposts of the news\")\n",
    "news_propagation_fg.update_feature_description(\"retweet_percentage_1_hour\", \"The percentage of retweets of the news in the first hour\")\n"
   ]
  }
 ],
 "metadata": {
  "kernelspec": {
   "display_name": "fake_news",
   "language": "python",
   "name": "python3"
  },
  "language_info": {
   "codemirror_mode": {
    "name": "ipython",
    "version": 3
   },
   "file_extension": ".py",
   "mimetype": "text/x-python",
   "name": "python",
   "nbconvert_exporter": "python",
   "pygments_lexer": "ipython3",
   "version": "3.9.21"
  }
 },
 "nbformat": 4,
 "nbformat_minor": 2
}
