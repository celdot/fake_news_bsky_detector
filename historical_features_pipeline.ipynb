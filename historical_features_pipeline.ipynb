{
 "cells": [
  {
   "cell_type": "code",
   "execution_count": 66,
   "metadata": {},
   "outputs": [],
   "source": [
    "from atproto import Client\n",
    "import requests\n",
    "import pandas as pd\n",
    "\n",
    "from tqdm import tqdm"
   ]
  },
  {
   "cell_type": "code",
   "execution_count": 2,
   "metadata": {},
   "outputs": [],
   "source": [
    "with open('data/bsky_credentials.txt', 'r') as file:\n",
    "    username = file.readline().strip()\n",
    "    password = file.readline().strip()"
   ]
  },
  {
   "cell_type": "code",
   "execution_count": null,
   "metadata": {},
   "outputs": [
    {
     "name": "stderr",
     "output_type": "stream",
     "text": [
      "C:\\Users\\celin_e3kjw6h\\AppData\\Local\\Temp\\ipykernel_11772\\3146495994.py:4: RuntimeWarning: coroutine 'AsyncClient.login' was never awaited\n",
      "  client.login(username, password)\n",
      "RuntimeWarning: Enable tracemalloc to get the object allocation traceback\n"
     ]
    },
    {
     "data": {
      "text/plain": [
       "<coroutine object AsyncClient.send_post at 0x000001BAC54BC0C0>"
      ]
     },
     "execution_count": 10,
     "metadata": {},
     "output_type": "execute_result"
    }
   ],
   "source": [
    "# client = Client()\n",
    "# client.login(username, password)\n",
    "# client.send_post(text='Hello World!')"
   ]
  },
  {
   "cell_type": "code",
   "execution_count": 31,
   "metadata": {},
   "outputs": [],
   "source": [
    "def get_profile(username):\n",
    "    response = requests.get(\"https://public.api.bsky.app/xrpc/app.bsky.actor.getProfile?actor=\" + username)\n",
    "    data = response.json()\n",
    "    return data"
   ]
  },
  {
   "cell_type": "markdown",
   "metadata": {},
   "source": [
    "Average number of followers\n",
    "\n",
    "Average number of followings\n",
    "\n",
    "Number of reposts\n",
    "\n",
    "Number of tweets\n",
    "\n",
    "Same but in 1 hour\n",
    "\n",
    "Average Time Diffrence : time between a tweet and its repost\n",
    "\n",
    "Time of first tweet\n",
    "\n",
    "Time of last tweet\n",
    "\n",
    "Number of favourites\n",
    "\n",
    "Number of uniuqe users in 10 hours"
   ]
  },
  {
   "cell_type": "code",
   "execution_count": 32,
   "metadata": {},
   "outputs": [],
   "source": [
    "profile = get_profile(\"mjfree.bsky.social\")"
   ]
  },
  {
   "cell_type": "code",
   "execution_count": 7,
   "metadata": {},
   "outputs": [
    {
     "data": {
      "text/plain": [
       "269904"
      ]
     },
     "execution_count": 7,
     "metadata": {},
     "output_type": "execute_result"
    }
   ],
   "source": [
    "profile['followersCount']"
   ]
  },
  {
   "cell_type": "code",
   "execution_count": 9,
   "metadata": {},
   "outputs": [
    {
     "data": {
      "text/plain": [
       "1963"
      ]
     },
     "execution_count": 9,
     "metadata": {},
     "output_type": "execute_result"
    }
   ],
   "source": [
    "profile['followsCount']"
   ]
  },
  {
   "cell_type": "code",
   "execution_count": 16,
   "metadata": {},
   "outputs": [],
   "source": [
    "uri = \"at://did:plc:gkgmduxh722ocstroyi75gbg/app.bsky.feed.post/3ldlwv5syfs2x\""
   ]
  },
  {
   "cell_type": "code",
   "execution_count": 25,
   "metadata": {},
   "outputs": [],
   "source": [
    "def get_post(uri):\n",
    "    response = requests.get(\"https://public.api.bsky.app/xrpc/app.bsky.feed.getPosts?uris=\" + uri)\n",
    "    data = response.json()\n",
    "    return data"
   ]
  },
  {
   "cell_type": "code",
   "execution_count": 26,
   "metadata": {},
   "outputs": [
    {
     "data": {
      "text/plain": [
       "{'posts': [{'uri': 'at://did:plc:gkgmduxh722ocstroyi75gbg/app.bsky.feed.post/3ldlwv5syfs2x',\n",
       "   'cid': 'bafyreiedjlhls65u5aettlig424ut6udjfnbsx4veztjs55dnptngqtmca',\n",
       "   'author': {'did': 'did:plc:gkgmduxh722ocstroyi75gbg',\n",
       "    'handle': 'mjfree.bsky.social',\n",
       "    'displayName': 'Morgan J Freeman',\n",
       "    'avatar': 'https://cdn.bsky.app/img/avatar/plain/did:plc:gkgmduxh722ocstroyi75gbg/bafkreifwct23l4uc5htaf3dclknrfg3mo4l3lqno4wl7ce5c5byzgl5v4m@jpeg',\n",
       "    'labels': [],\n",
       "    'createdAt': '2024-11-09T03:00:34.077Z'},\n",
       "   'record': {'$type': 'app.bsky.feed.post',\n",
       "    'createdAt': '2024-12-18T18:02:07.256Z',\n",
       "    'embed': {'$type': 'app.bsky.embed.images',\n",
       "     'images': [{'alt': '',\n",
       "       'aspectRatio': {'height': 1333, 'width': 2000},\n",
       "       'image': {'$type': 'blob',\n",
       "        'ref': {'$link': 'bafkreie3hwfecqq5oqp5mqwezv3cz4hwdtyk7tkvdnf2nhmoo4vqlsndvu'},\n",
       "        'mimeType': 'image/jpeg',\n",
       "        'size': 489216}},\n",
       "      {'alt': '',\n",
       "       'aspectRatio': {'height': 720, 'width': 1080},\n",
       "       'image': {'$type': 'blob',\n",
       "        'ref': {'$link': 'bafkreidxwvraep7zdp5eoz3snuvd2og2gn4n66ovrhses43hxcmg3uyju4'},\n",
       "        'mimeType': 'image/jpeg',\n",
       "        'size': 395376}}]},\n",
       "    'langs': ['en'],\n",
       "    'text': 'We need WAY more AOC and WAY less MTG 💯'},\n",
       "   'embed': {'$type': 'app.bsky.embed.images#view',\n",
       "    'images': [{'thumb': 'https://cdn.bsky.app/img/feed_thumbnail/plain/did:plc:gkgmduxh722ocstroyi75gbg/bafkreie3hwfecqq5oqp5mqwezv3cz4hwdtyk7tkvdnf2nhmoo4vqlsndvu@jpeg',\n",
       "      'fullsize': 'https://cdn.bsky.app/img/feed_fullsize/plain/did:plc:gkgmduxh722ocstroyi75gbg/bafkreie3hwfecqq5oqp5mqwezv3cz4hwdtyk7tkvdnf2nhmoo4vqlsndvu@jpeg',\n",
       "      'alt': '',\n",
       "      'aspectRatio': {'height': 1333, 'width': 2000}},\n",
       "     {'thumb': 'https://cdn.bsky.app/img/feed_thumbnail/plain/did:plc:gkgmduxh722ocstroyi75gbg/bafkreidxwvraep7zdp5eoz3snuvd2og2gn4n66ovrhses43hxcmg3uyju4@jpeg',\n",
       "      'fullsize': 'https://cdn.bsky.app/img/feed_fullsize/plain/did:plc:gkgmduxh722ocstroyi75gbg/bafkreidxwvraep7zdp5eoz3snuvd2og2gn4n66ovrhses43hxcmg3uyju4@jpeg',\n",
       "      'alt': '',\n",
       "      'aspectRatio': {'height': 720, 'width': 1080}}]},\n",
       "   'replyCount': 839,\n",
       "   'repostCount': 3859,\n",
       "   'likeCount': 28631,\n",
       "   'quoteCount': 205,\n",
       "   'indexedAt': '2024-12-18T18:02:08.854Z',\n",
       "   'labels': []}]}"
      ]
     },
     "execution_count": 26,
     "metadata": {},
     "output_type": "execute_result"
    }
   ],
   "source": [
    "post = get_post(uri)\n",
    "post"
   ]
  },
  {
   "cell_type": "code",
   "execution_count": 19,
   "metadata": {},
   "outputs": [],
   "source": [
    "def get_reposts(uri):\n",
    "    response = requests.get(\"https://public.api.bsky.app/xrpc/app.bsky.feed.getRepostedBy?uri=\" + uri)\n",
    "    data = response.json()\n",
    "    return data"
   ]
  },
  {
   "cell_type": "code",
   "execution_count": 20,
   "metadata": {},
   "outputs": [
    {
     "data": {
      "text/plain": [
       "{'repostedBy': [{'did': 'did:plc:zzywyb7wz52olua7un3zhebk',\n",
       "   'handle': 'winbooth.bsky.social',\n",
       "   'displayName': '',\n",
       "   'avatar': 'https://cdn.bsky.app/img/avatar/plain/did:plc:zzywyb7wz52olua7un3zhebk/bafkreidfc4g7utco7eqvhio36j27gw753l3fmruiumwjqjvabxuqavwmzq@jpeg',\n",
       "   'labels': [],\n",
       "   'createdAt': '2024-11-20T02:24:10.771Z',\n",
       "   'indexedAt': '2024-11-20T02:24:10.771Z'},\n",
       "  {'did': 'did:plc:zzy3vzqx4l3tinwzcklruusk',\n",
       "   'handle': 'miashinell.bsky.social',\n",
       "   'displayName': '',\n",
       "   'avatar': 'https://cdn.bsky.app/img/avatar/plain/did:plc:zzy3vzqx4l3tinwzcklruusk/bafkreibxfxjw6p5f6l25vxw4e2pqztipbntdm6itsg6pmepjog6pjfgbz4@jpeg',\n",
       "   'labels': [],\n",
       "   'createdAt': '2024-12-15T10:00:02.343Z',\n",
       "   'description': \"I'm new here for hookup and fun . Let meet and see where it's goes. Drop me how to reach you in person.\",\n",
       "   'indexedAt': '2024-12-15T10:00:02.343Z'},\n",
       "  {'did': 'did:plc:zzep24moiski4ykmfc5e7kwo',\n",
       "   'handle': 'alien2660.bsky.social',\n",
       "   'displayName': '',\n",
       "   'avatar': 'https://cdn.bsky.app/img/avatar/plain/did:plc:zzep24moiski4ykmfc5e7kwo/bafkreie2spt7ygbiqcc7lbalyphtyccqoblur5bcflciut465ibgwbg6ee@jpeg',\n",
       "   'labels': [],\n",
       "   'createdAt': '2024-11-20T10:19:59.169Z',\n",
       "   'description': 'The onIy things that matter are the arts, the environment, & being kind.',\n",
       "   'indexedAt': '2024-11-22T03:58:44.953Z'},\n",
       "  {'did': 'did:plc:zz6eopvmuwapo5yhfkqw4ua4',\n",
       "   'handle': 'cnedra.bsky.social',\n",
       "   'displayName': 'Whovian in a Fez',\n",
       "   'avatar': 'https://cdn.bsky.app/img/avatar/plain/did:plc:zz6eopvmuwapo5yhfkqw4ua4/bafkreifzjaciz35mqtweqfbq7xg6g5b2wgvoz2ckggmgrfz2brax32xn3i@jpeg',\n",
       "   'labels': [],\n",
       "   'createdAt': '2024-11-16T04:01:53.178Z',\n",
       "   'description': 'I wish I had a TARDIS about now.',\n",
       "   'indexedAt': '2024-11-22T02:07:02.253Z'},\n",
       "  {'did': 'did:plc:zz3isoiwoaw2qxtqmaeuptta',\n",
       "   'handle': 'macgg.bsky.social',\n",
       "   'displayName': '',\n",
       "   'avatar': 'https://cdn.bsky.app/img/avatar/plain/did:plc:zz3isoiwoaw2qxtqmaeuptta/bafkreicx6oant4am5ce3cevm7jqpab3uw3xrdnmw7wkde22spd4jpx26fu@jpeg',\n",
       "   'labels': [],\n",
       "   'createdAt': '2024-11-25T22:02:35.745Z',\n",
       "   'description': ' Trump is an adjudicated rapist.',\n",
       "   'indexedAt': '2024-12-17T11:34:07.143Z'},\n",
       "  {'did': 'did:plc:zyma4agmd6ybhsg3iluts4l6',\n",
       "   'handle': 'nurable.bsky.social',\n",
       "   'displayName': 'Nurable',\n",
       "   'avatar': 'https://cdn.bsky.app/img/avatar/plain/did:plc:zyma4agmd6ybhsg3iluts4l6/bafkreifjjvuwjny6tzwou63adqbbpddomjqi4bxbgw4ousg2u3pjboukbi@jpeg',\n",
       "   'labels': [],\n",
       "   'createdAt': '2024-11-11T07:14:11.878Z',\n",
       "   'indexedAt': '2024-12-09T07:15:31.294Z'},\n",
       "  {'did': 'did:plc:zylxcts2j2lflenkldgb2zvd',\n",
       "   'handle': 'kweed008.bsky.social',\n",
       "   'displayName': '',\n",
       "   'avatar': 'https://cdn.bsky.app/img/avatar/plain/did:plc:zylxcts2j2lflenkldgb2zvd/bafkreiel6z4mayv6uftaiykqvtcmjy3hx5ztaan46o5lbp6j3uxgmrmlim@jpeg',\n",
       "   'labels': [],\n",
       "   'createdAt': '2024-11-18T19:03:51.645Z',\n",
       "   'indexedAt': '2024-11-18T19:03:51.645Z'},\n",
       "  {'did': 'did:plc:zyj4kaqysjbqpz5ybnjyrh7i',\n",
       "   'handle': 'drkiddo.bsky.social',\n",
       "   'displayName': 'Dr Kiddo',\n",
       "   'avatar': 'https://cdn.bsky.app/img/avatar/plain/did:plc:zyj4kaqysjbqpz5ybnjyrh7i/bafkreid752l47z434prlxoidmxdsopxfqncucz2bfrmvzs2wpwsnvffahy@jpeg',\n",
       "   'associated': {'chat': {'allowIncoming': 'following'}},\n",
       "   'labels': [],\n",
       "   'createdAt': '2023-11-21T21:02:19.138Z',\n",
       "   'description': 'Area woman',\n",
       "   'indexedAt': '2024-12-23T12:59:20.943Z'},\n",
       "  {'did': 'did:plc:zy2zwvbjkjdroqtaauv37a2i',\n",
       "   'handle': 'adamrlamping.bsky.social',\n",
       "   'displayName': 'Adam “R for Romeo” Lamping 🇨🇦',\n",
       "   'avatar': 'https://cdn.bsky.app/img/avatar/plain/did:plc:zy2zwvbjkjdroqtaauv37a2i/bafkreielv6ofd2yud2fy3xv2jrwayx7lpn3dm4qy7wjfh6o2wljfudjdym@jpeg',\n",
       "   'associated': {'chat': {'allowIncoming': 'following'}},\n",
       "   'labels': [{'src': 'did:plc:zy2zwvbjkjdroqtaauv37a2i',\n",
       "     'uri': 'at://did:plc:zy2zwvbjkjdroqtaauv37a2i/app.bsky.actor.profile/self',\n",
       "     'cid': 'bafyreihm2but2fgccgyf6e5nme4yttmiiqtnym4bhklpqnnewm5qg2pp4y',\n",
       "     'val': '!no-unauthenticated',\n",
       "     'cts': '1970-01-01T00:00:00.000Z'}],\n",
       "   'createdAt': '2023-07-04T18:24:26.672Z',\n",
       "   'description': \"British Expat now living just outside Vancouver, BC. I like Star Wars (former Rebelscum.com), The Cure, Liverpool FC & software development (co-founder of https://www.geekgiftregistry.com/); other than that, I'm a bit dull... He/Him. #LFC #LiverpoolFC\",\n",
       "   'indexedAt': '2024-11-09T17:27:18.887Z'},\n",
       "  {'did': 'did:plc:zxdutuorkr7gewqjm3il37pp',\n",
       "   'handle': 'flaquita2024.bsky.social',\n",
       "   'displayName': '',\n",
       "   'avatar': 'https://cdn.bsky.app/img/avatar/plain/did:plc:zxdutuorkr7gewqjm3il37pp/bafkreied5zkmfyjuflkigkum4x6h5tfusig7jslh6vnk64v3plrb5k2ei4@jpeg',\n",
       "   'labels': [],\n",
       "   'createdAt': '2024-11-29T15:29:38.745Z',\n",
       "   'indexedAt': '2024-11-29T15:29:38.745Z'},\n",
       "  {'did': 'did:plc:zwmhbatb3fasfcf2lyk6pmta',\n",
       "   'handle': 'raerubyraek.bsky.social',\n",
       "   'displayName': 'RaeRubyRaeK',\n",
       "   'avatar': 'https://cdn.bsky.app/img/avatar/plain/did:plc:zwmhbatb3fasfcf2lyk6pmta/bafkreigxmc33zwfsjvxq3ocyzddwdirs5ttpp27sqczhrkifiw7wvspa5q@jpeg',\n",
       "   'labels': [],\n",
       "   'createdAt': '2024-11-15T02:57:07.334Z',\n",
       "   'description': 'Tactile Therapist. Pansexual/mixed heritage Jew. ❤️F1❤️armed forces/999 services. Sapiosexual REMAINER❤️🇪🇺\\nIG/TikTok RubyRubyRae 🏳️\\u200d🌈✡️🇲🇺🇮🇪',\n",
       "   'indexedAt': '2024-11-16T14:22:03.978Z'},\n",
       "  {'did': 'did:plc:zvj7jacvudkeg7ao3hiwmblk',\n",
       "   'handle': 'bearsie17.bsky.social',\n",
       "   'displayName': 'Bear',\n",
       "   'avatar': 'https://cdn.bsky.app/img/avatar/plain/did:plc:zvj7jacvudkeg7ao3hiwmblk/bafkreiakn2apclobtqkpdihyiljxjqupf4tzpxemsttxvflluoubamefzi@jpeg',\n",
       "   'labels': [{'src': 'did:plc:zvj7jacvudkeg7ao3hiwmblk',\n",
       "     'uri': 'at://did:plc:zvj7jacvudkeg7ao3hiwmblk/app.bsky.actor.profile/self',\n",
       "     'cid': 'bafyreid7mruk6wuatboda7q5ceoj3vuzhxl7k6cppsafz5odmksmgjbt2q',\n",
       "     'val': '!no-unauthenticated',\n",
       "     'cts': '2024-12-15T07:43:40.698Z'}],\n",
       "   'createdAt': '2024-12-15T07:43:41.243Z',\n",
       "   'description': 'Supporter of EU, which needs a few tweaks for sure. Love, Coffee, Running, Flying, Clay Pigeon shooting, Politics, Maths, science. I am here to communicate, discuss and listen, not fight or shout. RePosts are not an endorsement.  ',\n",
       "   'indexedAt': '2024-12-16T12:41:19.544Z'},\n",
       "  {'did': 'did:plc:zuw5xtr7x644dbtjzmz63a5b',\n",
       "   'handle': 'ladylaw59.bsky.social',\n",
       "   'displayName': 'Lady Law',\n",
       "   'avatar': 'https://cdn.bsky.app/img/avatar/plain/did:plc:zuw5xtr7x644dbtjzmz63a5b/bafkreifhkxisxw6dyrl6kwb5baa5g7qkwuj6vsrsa7oiqitupuvuies6wy@jpeg',\n",
       "   'associated': {'chat': {'allowIncoming': 'all'}},\n",
       "   'labels': [],\n",
       "   'createdAt': '2024-10-11T00:07:20.906Z',\n",
       "   'description': 'Mother, sister, friend, and lover of God and Democracy.💙 Army veteran, former Philly police officer, and current disabled deputy sheriff(IOD). No 🚫DMs, please, without an invite.',\n",
       "   'indexedAt': '2024-11-23T17:13:31.945Z'},\n",
       "  {'did': 'did:plc:zuby4j4xdpv2oe5a3gubnda7',\n",
       "   'handle': 'annechrist.bsky.social',\n",
       "   'displayName': 'Anne',\n",
       "   'avatar': 'https://cdn.bsky.app/img/avatar/plain/did:plc:zuby4j4xdpv2oe5a3gubnda7/bafkreifpeti2r45zsfvfw2clvnl2mt5onb5fahmrazk6iyizcbvnq7flym@jpeg',\n",
       "   'labels': [],\n",
       "   'createdAt': '2024-11-15T15:22:44.923Z',\n",
       "   'description': 'Retired nurse. Married to the same man, 3 children, 5 grandchildren and 2 great- grandchildren. Born curious about the world of books, and never had a dull day. Know the common denominator of the narcissist and Trump has been dangerous from day one.',\n",
       "   'indexedAt': '2024-11-15T18:59:37.528Z'},\n",
       "  {'did': 'did:plc:ztnlab2wzo4ko6v5zxnjpz3n',\n",
       "   'handle': 'vicosauras.bsky.social',\n",
       "   'displayName': '',\n",
       "   'avatar': 'https://cdn.bsky.app/img/avatar/plain/did:plc:ztnlab2wzo4ko6v5zxnjpz3n/bafkreihjedggmjr4gbubroactg2rokqhals5ijdcyw7qm3sp2w7o253u7u@jpeg',\n",
       "   'labels': [],\n",
       "   'createdAt': '2024-10-20T20:12:47.513Z',\n",
       "   'indexedAt': '2024-10-20T20:12:47.513Z'},\n",
       "  {'did': 'did:plc:ztgs4jslykyglbxr6ot2wtmw',\n",
       "   'handle': 'mjkaeder.bsky.social',\n",
       "   'displayName': 'MJKaeder',\n",
       "   'avatar': 'https://cdn.bsky.app/img/avatar/plain/did:plc:ztgs4jslykyglbxr6ot2wtmw/bafkreiapwd3zipqra43nqejzkafprt5uvfiggvyjgybfqwtmsdcicnl6hm@jpeg',\n",
       "   'labels': [],\n",
       "   'createdAt': '2024-11-27T05:23:38.144Z',\n",
       "   'description': 'A Progressive, Democratic, Atheist. Because I hate going backwards. Wasian Scorpio, gamer, comic con volunteer, DJ, actor, mechanic, brand ambassador, and single father. Food industry, wear house, retail. A man of a lot of traits and talents.',\n",
       "   'indexedAt': '2024-12-15T12:26:05.542Z'},\n",
       "  {'did': 'did:plc:ztahwmw4ko7oikrb46ttomog',\n",
       "   'handle': 'toadwally.bsky.social',\n",
       "   'displayName': '',\n",
       "   'avatar': 'https://cdn.bsky.app/img/avatar/plain/did:plc:ztahwmw4ko7oikrb46ttomog/bafkreig7trhftt5iilykm6pxmfye2qyizfmqkqndrkrwxhhkvcrbzoeple@jpeg',\n",
       "   'labels': [],\n",
       "   'createdAt': '2024-11-20T02:23:34.171Z',\n",
       "   'indexedAt': '2024-11-20T02:23:34.171Z'},\n",
       "  {'did': 'did:plc:zt6yhh323u6lzthd2n7mot3z',\n",
       "   'handle': 'sadie-sdaughter.bsky.social',\n",
       "   'displayName': 'A life built with Grit, Grace & Gratitude!',\n",
       "   'avatar': 'https://cdn.bsky.app/img/avatar/plain/did:plc:zt6yhh323u6lzthd2n7mot3z/bafkreianpu7gndiaqe2v2iuk6uxerjspd35b72chdg6z76pniliqqh6xci@jpeg',\n",
       "   'labels': [],\n",
       "   'createdAt': '2024-11-17T10:55:19.032Z',\n",
       "   'description': 'Democracy lover! Words and kindness matter. Proud Mom of a Commercial Pilot. Grateful mom, wife and business consultant.',\n",
       "   'indexedAt': '2024-12-24T16:03:52.742Z'},\n",
       "  {'did': 'did:plc:zssh7elt7w6w5ao7zlveov2x',\n",
       "   'handle': 'modelaney.bsky.social',\n",
       "   'displayName': 'Maureen',\n",
       "   'avatar': 'https://cdn.bsky.app/img/avatar/plain/did:plc:zssh7elt7w6w5ao7zlveov2x/bafkreibhcyuzhaladnfp46ysqlaf6jv5ny2e2sl7sy7unsxp3onysvsppq@jpeg',\n",
       "   'labels': [],\n",
       "   'createdAt': '2023-11-02T22:27:52.436Z',\n",
       "   'description': 'Made it to the beach. 35 years of Federal service:  National Park Service, Peace Corps, EPA. \\nDelaware',\n",
       "   'indexedAt': '2024-12-15T17:13:19.244Z'},\n",
       "  {'did': 'did:plc:zsh55mvaddnemgxjah5en3oo',\n",
       "   'handle': 'melmarrickville.bsky.social',\n",
       "   'displayName': '',\n",
       "   'avatar': 'https://cdn.bsky.app/img/avatar/plain/did:plc:zsh55mvaddnemgxjah5en3oo/bafkreiafjdyiptmlo2qjaldjo64cexy53rj3irxfjlctgaojiwfso7dfja@jpeg',\n",
       "   'labels': [],\n",
       "   'createdAt': '2024-09-21T20:28:30.408Z',\n",
       "   'indexedAt': '2024-11-16T12:55:32.793Z'},\n",
       "  {'did': 'did:plc:zs6kruoayvfi7eflefzmlby7',\n",
       "   'handle': 'dhessex007.bsky.social',\n",
       "   'displayName': '     DH Essex - disrupt systems daily🔧🔧🔧             ⛄⛄⛄🎁🎁🎁',\n",
       "   'avatar': 'https://cdn.bsky.app/img/avatar/plain/did:plc:zs6kruoayvfi7eflefzmlby7/bafkreihhidrhdc7h332f5tnerizckoivstjtwjvb3e6omhht3yngghd3wu@jpeg',\n",
       "   'labels': [{'src': 'did:plc:zs6kruoayvfi7eflefzmlby7',\n",
       "     'uri': 'at://did:plc:zs6kruoayvfi7eflefzmlby7/app.bsky.actor.profile/self',\n",
       "     'cid': 'bafyreiex5xqbnrts5qtecybrfynbushjl6bdb4dgcwvhgl5x2iirv5reci',\n",
       "     'val': '!no-unauthenticated',\n",
       "     'cts': '2024-11-16T21:39:46.103Z'}],\n",
       "   'createdAt': '2024-11-16T21:39:46.842Z',\n",
       "   'description': \"Lifelong DemActivist 6th gen Kansas native for expansion of human possibility & freedom.Ancestors: Swedish, Swiss,Scottish, Irish & English. Came to KS in 1870's,\\nSadly displacing Native American😢\\nRadical Agent of Change\\nwww.linkedin.com/in/davidhwilkinson\",\n",
       "   'indexedAt': '2024-12-24T21:17:00.143Z'},\n",
       "  {'did': 'did:plc:zs22hhbfvqzobd2ocuxxmkit',\n",
       "   'handle': 'blue-geegee.bsky.social',\n",
       "   'displayName': '',\n",
       "   'avatar': 'https://cdn.bsky.app/img/avatar/plain/did:plc:zs22hhbfvqzobd2ocuxxmkit/bafkreiddlbb3tcezi3mhntf7qfvu42mofuei7takon4vxt3v45nmp5ezeq@jpeg',\n",
       "   'labels': [],\n",
       "   'createdAt': '2024-11-16T02:39:50.879Z',\n",
       "   'indexedAt': '2024-11-16T02:39:50.879Z'},\n",
       "  {'did': 'did:plc:zrpluosuru6nl6qxmfemaeat',\n",
       "   'handle': 'blissb33.bsky.social',\n",
       "   'displayName': 'BlissBee🦋',\n",
       "   'avatar': 'https://cdn.bsky.app/img/avatar/plain/did:plc:zrpluosuru6nl6qxmfemaeat/bafkreidlqotgodjz3t35k3kuzj7oswrn2qt4h62iyzakb3u4spmpag6kka@jpeg',\n",
       "   'labels': [],\n",
       "   'createdAt': '2024-11-15T20:29:38.437Z',\n",
       "   'description': \"💙💕💙\\nFrom IG- I wasn't on 'that other site'\\nHarrisWalz stan| ☪️☮️🕉⚛️🕎☯️✝️\\nEquality 🧡💛💚💙💜\\U0001fa77  🖤🤍🤎 \\nA 3 dimensional person- content will vary- art, politics, nature, memes, animals, and ideas I'm entertaining\\n⚠️ Aries ⚠️ \\n🚫💰 ND\\nTrump ppl are on timeout.\",\n",
       "   'indexedAt': '2024-12-23T03:34:10.243Z'},\n",
       "  {'did': 'did:plc:zrotaghyrqau3c24eugkgpo6',\n",
       "   'handle': 'mialis.bsky.social',\n",
       "   'displayName': 'Lisalways',\n",
       "   'avatar': 'https://cdn.bsky.app/img/avatar/plain/did:plc:zrotaghyrqau3c24eugkgpo6/bafkreig5zg3ryiv5uja544znpkdoz52njrfryulsvgkk6owceggq375mzi@jpeg',\n",
       "   'associated': {'chat': {'allowIncoming': 'none'}},\n",
       "   'labels': [{'src': 'did:plc:zrotaghyrqau3c24eugkgpo6',\n",
       "     'uri': 'at://did:plc:zrotaghyrqau3c24eugkgpo6/app.bsky.actor.profile/self',\n",
       "     'cid': 'bafyreihcvcecoisrsu4xqrrv34dyz3gh6tgi2pfyddbvqnfhbqkbec7day',\n",
       "     'val': '!no-unauthenticated',\n",
       "     'cts': '2024-10-13T05:00:50.320Z'}],\n",
       "   'createdAt': '2024-10-13T05:00:51.308Z',\n",
       "   'description': \"Left Xtwit for sanity. Blue dot 🔵 in a red county. Here for positive interaction w/Like minds.🚫 No DM's 🚫 -I block spam/porn accounts & accounts with no posts. #Teamjustice #Justicematters & together we are stronger.   Let's get it done together 👍💙\",\n",
       "   'indexedAt': '2024-12-17T06:51:25.243Z'},\n",
       "  {'did': 'did:plc:zro7bhgenpxutmxwm3nbtbj5',\n",
       "   'handle': 'ethanwhitetv.bsky.social',\n",
       "   'displayName': 'Eth',\n",
       "   'avatar': 'https://cdn.bsky.app/img/avatar/plain/did:plc:zro7bhgenpxutmxwm3nbtbj5/bafkreidpctwli7pnclqy2lnqeicmsvrvumftk3u22kl3qcqk34accg6o6u@jpeg',\n",
       "   'labels': [],\n",
       "   'createdAt': '2024-11-08T12:18:55.082Z',\n",
       "   'description': '24 | My random thoughts ™️ | linktr.ee/EthanWhiteTv',\n",
       "   'indexedAt': '2024-12-22T20:34:39.542Z'},\n",
       "  {'did': 'did:plc:zrlrbndfjdonfp2rxb7nn6hs',\n",
       "   'handle': 'btktrader.bsky.social',\n",
       "   'displayName': '',\n",
       "   'avatar': 'https://cdn.bsky.app/img/avatar/plain/did:plc:zrlrbndfjdonfp2rxb7nn6hs/bafkreigmg5kiztkslcyu3jdz5q346mcfql7wt73rpgrn7uvrekweoe35uu@jpeg',\n",
       "   'labels': [],\n",
       "   'createdAt': '2024-11-15T01:43:21.056Z',\n",
       "   'description': 'Retired Microbiologist, DayTrader, animal lover. Lives in Tucson.',\n",
       "   'indexedAt': '2024-11-15T01:59:51.538Z'},\n",
       "  {'did': 'did:plc:zrim5vkms466f223q3urjdqo',\n",
       "   'handle': 'raquelkelekes.bsky.social',\n",
       "   'displayName': 'Raquel Kearney Elekes',\n",
       "   'avatar': 'https://cdn.bsky.app/img/avatar/plain/did:plc:zrim5vkms466f223q3urjdqo/bafkreiaiwpy3azcnyjauzjteper6qbwqp7zq3holjnyhetomqmrbjqz6ga@jpeg',\n",
       "   'labels': [],\n",
       "   'createdAt': '2024-11-18T02:15:05.111Z',\n",
       "   'description': 'I am a wife and a mother of 4. I am a photographer, a Director, a Producer, and a Podcaster. I don’t influence people, I learn from them. Most important I love to laugh and enjoy life!',\n",
       "   'indexedAt': '2024-12-17T19:32:40.642Z'},\n",
       "  {'did': 'did:plc:zr6h47owbpdp3ma552nxfij4',\n",
       "   'handle': 'demwriter.bsky.social',\n",
       "   'displayName': 'demwriter',\n",
       "   'avatar': 'https://cdn.bsky.app/img/avatar/plain/did:plc:zr6h47owbpdp3ma552nxfij4/bafkreibt3vbqlgqdmedv2ds7r2x45cmrj74gujm23enxv5kajl6kcdmalq@jpeg',\n",
       "   'labels': [],\n",
       "   'createdAt': '2024-11-11T22:36:02.012Z',\n",
       "   'description': \"I'm a retired SPED teacher, Democrat, mom to 2 rescue dogs (one will be 20 in Jan.). I write as demwriter on Substack, political and anti-Trump and everything he stands for. Trying to find similar people to build a ninja resistance.\",\n",
       "   'indexedAt': '2024-11-12T05:18:47.910Z'},\n",
       "  {'did': 'did:plc:zr5kpvyfmdzhfflys6rgwtvf',\n",
       "   'handle': 'robertwatson1967.bsky.social',\n",
       "   'displayName': 'Robert Watson',\n",
       "   'avatar': 'https://cdn.bsky.app/img/avatar/plain/did:plc:zr5kpvyfmdzhfflys6rgwtvf/bafkreibcqglx4tp2uwckyyofqjkcdz5dcyarx2r4wqq7ebxmuq7tzl3iwu@jpeg',\n",
       "   'labels': [],\n",
       "   'createdAt': '2024-11-12T17:50:43.615Z',\n",
       "   'description': 'I am an instrumentalist with autism who writes original music. I play guitar, bass and keyboards. Music is how I breathe. Music is me. Cosmic energy. Peace. \\nP.S. No DMs unless you want to ask me about my music. Thank you.',\n",
       "   'indexedAt': '2024-11-23T17:58:07.945Z'},\n",
       "  {'did': 'did:plc:zr47chr2cgoyksf2kby75rep',\n",
       "   'handle': 'gazer77.bsky.social',\n",
       "   'displayName': 'John',\n",
       "   'avatar': 'https://cdn.bsky.app/img/avatar/plain/did:plc:zr47chr2cgoyksf2kby75rep/bafkreig7egu26yprgbjoi6ghvqq6urhdbs3nkduyvusjagmf7kgoisjpjy@jpeg',\n",
       "   'labels': [],\n",
       "   'createdAt': '2024-11-14T03:05:06.776Z',\n",
       "   'indexedAt': '2024-12-18T08:09:43.642Z'},\n",
       "  {'did': 'did:plc:zqwjm22etpdig3jdtya3dbn2',\n",
       "   'handle': 'daneinla.bsky.social',\n",
       "   'displayName': 'DanskMand',\n",
       "   'avatar': 'https://cdn.bsky.app/img/avatar/plain/did:plc:zqwjm22etpdig3jdtya3dbn2/bafkreiao4pf73qn7z5x5k535qy5dikkq2jy2z6uhs7uaq2wg5nx3lhcuyi@jpeg',\n",
       "   'labels': [],\n",
       "   'createdAt': '2024-11-17T18:31:15.237Z',\n",
       "   'description': 'A MAGA despising Dane living in Los Angeles and thrives on sarcasm!\\n\\nProud “Radical Left Lunatic”!\\n\\nOpinions are my own - although some may be borrowed! The same goes for any profanity that I may unknowingly use!',\n",
       "   'indexedAt': '2024-12-24T19:09:51.344Z'},\n",
       "  {'did': 'did:plc:zq5xl4l5f4eepy3eq6nxgfvq',\n",
       "   'handle': 'lebogg.bsky.social',\n",
       "   'displayName': '',\n",
       "   'avatar': 'https://cdn.bsky.app/img/avatar/plain/did:plc:zq5xl4l5f4eepy3eq6nxgfvq/bafkreibbdydnmiuvmd2bboltjgz33ettrk4f6jsliku6cvv2nu42noo6du@jpeg',\n",
       "   'labels': [],\n",
       "   'createdAt': '2024-11-11T21:31:19.506Z',\n",
       "   'indexedAt': '2024-11-11T21:31:19.506Z'},\n",
       "  {'did': 'did:plc:zq4y36m255l4tbsvef4yblsk',\n",
       "   'handle': 'twinsfan81.bsky.social',\n",
       "   'displayName': 'Twinsfan81 💙🇺🇸🦅🦋',\n",
       "   'avatar': 'https://cdn.bsky.app/img/avatar/plain/did:plc:zq4y36m255l4tbsvef4yblsk/bafkreibgqzysotlnqgkkifotnn7725uav5d7s432yyzdzidd37j6cne4zm@jpeg',\n",
       "   'associated': {'chat': {'allowIncoming': 'none'}},\n",
       "   'labels': [{'src': 'did:plc:zq4y36m255l4tbsvef4yblsk',\n",
       "     'uri': 'at://did:plc:zq4y36m255l4tbsvef4yblsk/app.bsky.actor.profile/self',\n",
       "     'cid': 'bafyreidhbfehxyjouust2phdamae6pfvu6cbr3d3h64nnfxzm6ucv27vjm',\n",
       "     'val': '!no-unauthenticated',\n",
       "     'cts': '2024-11-15T03:27:44.275Z'}],\n",
       "   'createdAt': '2024-11-15T03:27:45.239Z',\n",
       "   'description': 'I’m still in shock and terrified for us all.  We have to work together and stand strong.  We are the resistance.',\n",
       "   'indexedAt': '2024-12-05T22:25:39.642Z'},\n",
       "  {'did': 'did:plc:zpvsydkqtflkqwy23pvz4knk',\n",
       "   'handle': 'therese58.bsky.social',\n",
       "   'displayName': 'Jane',\n",
       "   'avatar': 'https://cdn.bsky.app/img/avatar/plain/did:plc:zpvsydkqtflkqwy23pvz4knk/bafkreie6lepxxarel3etljg63rnodm2rv5bsenxoawvsuocfsmrfah2eny@jpeg',\n",
       "   'labels': [],\n",
       "   'createdAt': '2024-11-13T10:28:36.387Z',\n",
       "   'description': \"Bloom where you're planted. ✝️🧑🏻\\u200d🦳👨🏻\\u200d🦳👩🏽\\u200d🦱👨🏽🧶🎶🍪💙🌈ally\",\n",
       "   'indexedAt': '2024-12-15T21:51:01.443Z'},\n",
       "  {'did': 'did:plc:zpvqjengmqieign4mzhrfdn2',\n",
       "   'handle': 'polcopernicus.bsky.social',\n",
       "   'displayName': 'Felix',\n",
       "   'avatar': 'https://cdn.bsky.app/img/avatar/plain/did:plc:zpvqjengmqieign4mzhrfdn2/bafkreiexo5zdjzpxksb73tqi4i7lhzzellegfapy3q3cisq7ch2r7c27xy@jpeg',\n",
       "   'labels': [],\n",
       "   'createdAt': '2024-11-12T19:45:44.317Z',\n",
       "   'indexedAt': '2024-11-12T20:02:43.404Z'},\n",
       "  {'did': 'did:plc:zpsre5yzuoxeecifnk6avagk',\n",
       "   'handle': 'juice2024.bsky.social',\n",
       "   'displayName': 'Lucy',\n",
       "   'avatar': 'https://cdn.bsky.app/img/avatar/plain/did:plc:zpsre5yzuoxeecifnk6avagk/bafkreieohochjnn3qer4sbxacirnxolojt5enaxs6h6j3rnixjvtnz5a64@jpeg',\n",
       "   'labels': [],\n",
       "   'createdAt': '2024-11-10T14:12:22.580Z',\n",
       "   'description': 'Proud,Tattooed Democratic woman! \\nTree hugger, HDRider, Animal Lover! Humor (Lost my only child (adult child) to Covid! AK Amputee\\n#Resist #resistance\\nBronx, NY & now AZ!\\n🚫MAGA LISTS🚫\\n\\n\\n\\n \\n\\n\\n\\n\\n\\n\\n\\nSettings/moderation/moderation lists\\n\\n🚫MAGA LIST🚫\\n\\n\\n\\n\\n\\nSe\\n.',\n",
       "   'indexedAt': '2024-12-19T23:33:25.744Z'},\n",
       "  {'did': 'did:plc:zpqfnuu6wilwjjj5d7idme5j',\n",
       "   'handle': 'cessie172.bsky.social',\n",
       "   'displayName': 'cessie172.bsky.social',\n",
       "   'avatar': 'https://cdn.bsky.app/img/avatar/plain/did:plc:zpqfnuu6wilwjjj5d7idme5j/bafkreifcbzwps4veako5ahm5qvyy6et32bw35hi7eborkit7yarvhf4fru@jpeg',\n",
       "   'associated': {'chat': {'allowIncoming': 'none'}},\n",
       "   'labels': [{'src': 'did:plc:zpqfnuu6wilwjjj5d7idme5j',\n",
       "     'uri': 'at://did:plc:zpqfnuu6wilwjjj5d7idme5j/app.bsky.actor.profile/self',\n",
       "     'cid': 'bafyreiczded254iiqfegibznxwjzuiexlig72f6kvlbmxxugt4dpbe6uki',\n",
       "     'val': '!no-unauthenticated',\n",
       "     'cts': '1970-01-01T00:00:00.000Z'}],\n",
       "   'createdAt': '2024-01-31T04:20:38.944Z',\n",
       "   'description': 'Cats.  Books.  Tea.  and yarn!\\n\\n#NationalizeCDNHealthcare #WorldCentralKitchen #DanielleSmithIsUnfitToLead #UCPCorruption #UCPIsKillingAlbertans #WomenAgainstPoiLIEvre #TrumpIsStillACunt',\n",
       "   'indexedAt': '2024-11-15T16:15:38.629Z'},\n",
       "  {'did': 'did:plc:zpppnp2bijpclykq47pa2sit',\n",
       "   'handle': 'democ4ev.bsky.social',\n",
       "   'displayName': 'DCoop',\n",
       "   'avatar': 'https://cdn.bsky.app/img/avatar/plain/did:plc:zpppnp2bijpclykq47pa2sit/bafkreidvm6ln2i3cktmb72f3ucamfnkwbscxuz5eldkvdyu5l3cfyd4hbm@jpeg',\n",
       "   'labels': [],\n",
       "   'createdAt': '2024-11-14T20:49:48.427Z',\n",
       "   'description': '76f disabled Democrat suffering in our healthcare system. Support climate change! Support Democracy!\\nNO DM.',\n",
       "   'indexedAt': '2024-12-15T16:56:08.043Z'},\n",
       "  {'did': 'did:plc:zpkysfc6cbgvcvj2h3dfmgxz',\n",
       "   'handle': 'scorpioblues.bsky.social',\n",
       "   'displayName': '',\n",
       "   'avatar': 'https://cdn.bsky.app/img/avatar/plain/did:plc:zpkysfc6cbgvcvj2h3dfmgxz/bafkreigs7kdbmsuurntk634u4vjlvflcjarl3eu45uey7whztaruvrz2ei@jpeg',\n",
       "   'labels': [],\n",
       "   'createdAt': '2024-11-18T01:32:19.297Z',\n",
       "   'indexedAt': '2024-11-18T01:32:19.297Z'},\n",
       "  {'did': 'did:plc:zpj5ioboummlu2yzbvvzftb7',\n",
       "   'handle': 'cwnidog.bsky.social',\n",
       "   'displayName': 'Cwnidog',\n",
       "   'avatar': 'https://cdn.bsky.app/img/avatar/plain/did:plc:zpj5ioboummlu2yzbvvzftb7/bafkreieuidtotw433g4f5yme232dlnnvzplcys6qv7xldgmnfknx737gma@jpeg',\n",
       "   'associated': {'chat': {'allowIncoming': 'none'}},\n",
       "   'labels': [{'src': 'did:plc:zpj5ioboummlu2yzbvvzftb7',\n",
       "     'uri': 'at://did:plc:zpj5ioboummlu2yzbvvzftb7/app.bsky.actor.profile/self',\n",
       "     'cid': 'bafyreifmbr3vaevcexlulrt77souqlhe52jz5hvhirvlgjjralzqlo6bqe',\n",
       "     'val': '!no-unauthenticated',\n",
       "     'cts': '1970-01-01T00:00:00.000Z'}],\n",
       "   'createdAt': '2023-07-24T19:57:36.798Z',\n",
       "   'description': 'Retired SW Engineer and USAF veteran. Unabashedly left-wing and unashamedly atheist. BTW - that’s Milo in my avatar and the water is Stickney Brook in W Dummerston, VT.\\n\\nMAGA🚫 Bitcoin🚫 DMs🚫 Asking for donations🚫 Investment schemes🚫 saving my soul🚫',\n",
       "   'indexedAt': '2024-12-17T13:55:20.241Z'},\n",
       "  {'did': 'did:plc:zphgr3auyj3xuymrfisifhwy',\n",
       "   'handle': 'motherearth19309.bsky.social',\n",
       "   'displayName': 'Mother Earth',\n",
       "   'avatar': 'https://cdn.bsky.app/img/avatar/plain/did:plc:zphgr3auyj3xuymrfisifhwy/bafkreia5zc5q5utgqxgzut6ufuyubfccadstks6n5wnep6ufkrfkiuw5ka@jpeg',\n",
       "   'associated': {'chat': {'allowIncoming': 'none'}},\n",
       "   'labels': [],\n",
       "   'createdAt': '2024-12-19T01:42:25.544Z',\n",
       "   'description': \"Political Activist - Marked SAFE from TRUMP.  Woman, daughter, mother, sister, grandmother, friend to animals and the underserved.  Apologies, I don't accept DMs. #notmypresident #nevertrump #resist #potus #vp #scotus \",\n",
       "   'indexedAt': '2024-12-23T21:53:51.943Z'},\n",
       "  {'did': 'did:plc:zp33lnhi5jsvzwjdkcjdscyu',\n",
       "   'handle': 'weathergeek68.bsky.social',\n",
       "   'displayName': 'WeatherGeek68',\n",
       "   'avatar': 'https://cdn.bsky.app/img/avatar/plain/did:plc:zp33lnhi5jsvzwjdkcjdscyu/bafkreib57jddyzpdouhcfcjrjullcjzvqwguudzlvqc7kkfmqyics7uadq@jpeg',\n",
       "   'labels': [],\n",
       "   'createdAt': '2024-11-24T04:52:53.247Z',\n",
       "   'description': 'Do what is just, and what is right, not what is popular. We have boundless opportunities to make a difference, some paths just take longer than others. Unless we’re already friends, I do not do DMs.',\n",
       "   'indexedAt': '2024-12-05T22:34:03.245Z'},\n",
       "  {'did': 'did:plc:zoynomjvsp63evpovz6nswxf',\n",
       "   'handle': 'tflumeri.bsky.social',\n",
       "   'displayName': 'I’m A Wonderer',\n",
       "   'avatar': 'https://cdn.bsky.app/img/avatar/plain/did:plc:zoynomjvsp63evpovz6nswxf/bafkreigumcr6djhcwxh7hluqf3qrnajk5ekeh3on3jvi7qj7ttudna7q3m@jpeg',\n",
       "   'associated': {'chat': {'allowIncoming': 'none'}},\n",
       "   'labels': [],\n",
       "   'createdAt': '2024-11-18T15:52:45.745Z',\n",
       "   'description': 'Wife, Mom, Musician, K9 Handler and Cat Mom! 💙💙\\nDon’t blame me, I voted for her 💙 #equality #Dem #BlueResisters\\nNo DM’s 🚫 you will be blocked! I don’t need a date or a companion!!!',\n",
       "   'indexedAt': '2024-12-22T20:44:40.542Z'},\n",
       "  {'did': 'did:plc:zouk4fngj35ijiskk54wppet',\n",
       "   'handle': 'jules2017.bsky.social',\n",
       "   'displayName': '',\n",
       "   'avatar': 'https://cdn.bsky.app/img/avatar/plain/did:plc:zouk4fngj35ijiskk54wppet/bafkreig62rmtgoorkkur4rrpdj2zp7x4wpphckihqlga33jedd6upzdoxe@jpeg',\n",
       "   'labels': [],\n",
       "   'createdAt': '2024-11-23T23:22:43.547Z',\n",
       "   'indexedAt': '2024-11-23T23:22:43.547Z'},\n",
       "  {'did': 'did:plc:zolkpvcfkr5oafzp6ap77uw6',\n",
       "   'handle': 'ggvotesblue.bsky.social',\n",
       "   'displayName': 'Linda',\n",
       "   'avatar': 'https://cdn.bsky.app/img/avatar/plain/did:plc:zolkpvcfkr5oafzp6ap77uw6/bafkreigdh2juccxlx3ufkrq3jatjg4u2aremmc4rxcaylb4mpzpih6ywnm@jpeg',\n",
       "   'associated': {'chat': {'allowIncoming': 'none'}},\n",
       "   'labels': [],\n",
       "   'createdAt': '2024-11-13T05:35:10.980Z',\n",
       "   'description': \"Scared. Sad. Tired. Angry. \\nBuffoons will soon be running my country. How the hell am I supposed to deal with that?\\nSolid Blue Democrat. Blue Crew 💙 #Resist Support Ukraine 🇺🇦\\nDon't like liberals? Bite me.\\n🚫magats, go-fund-mes, crypto\",\n",
       "   'indexedAt': '2024-12-16T03:37:07.844Z'},\n",
       "  {'did': 'did:plc:zochjvzynslsc2knre5zor4f',\n",
       "   'handle': 'methedane.bsky.social',\n",
       "   'displayName': 'J.P',\n",
       "   'avatar': 'https://cdn.bsky.app/img/avatar/plain/did:plc:zochjvzynslsc2knre5zor4f/bafkreihzqsrsmpnlth7kcqpcb4gtch472hh7uu5m2zrc6nnqyx2igeqcti@jpeg',\n",
       "   'associated': {'chat': {'allowIncoming': 'none'}},\n",
       "   'labels': [],\n",
       "   'createdAt': '2024-02-08T14:43:17.355Z',\n",
       "   'description': 'Danish, Antifascist, AntiTrump,  Introvert, She/her, Married, Catmom, Twitterrefugee. No DMs please.',\n",
       "   'indexedAt': '2024-11-18T02:57:29.933Z'},\n",
       "  {'did': 'did:plc:zo5yystas5bp3naxrcgstpdp',\n",
       "   'handle': 'connie2448.bsky.social',\n",
       "   'displayName': 'Connie2448.bsky.social',\n",
       "   'avatar': 'https://cdn.bsky.app/img/avatar/plain/did:plc:zo5yystas5bp3naxrcgstpdp/bafkreiaxl26s42hcx7c6cyjylgzsfmubsd4ojif2cqyuhfpblrrukyjehm@jpeg',\n",
       "   'labels': [],\n",
       "   'createdAt': '2024-11-20T22:58:48.673Z',\n",
       "   'description': \"Marine Veteran's widow, mom of 2, gma of 6, ggrma of 2. Proud dem, 🚫magats 🚫DMs💙☮️🏳️\\u200d🌈🇺🇦🇺🇸\",\n",
       "   'indexedAt': '2024-12-12T00:10:33.443Z'},\n",
       "  {'did': 'did:plc:zo5dfkza65pyvlxxzjn2e3p3',\n",
       "   'handle': 'allane625.bsky.social',\n",
       "   'displayName': 'Al Lane',\n",
       "   'avatar': 'https://cdn.bsky.app/img/avatar/plain/did:plc:zo5dfkza65pyvlxxzjn2e3p3/bafkreicl5qzsovgbkgba2qlbqxr675fyp4elkvzracjmbxymr2d2l5cygi@jpeg',\n",
       "   'labels': [],\n",
       "   'createdAt': '2024-11-15T22:31:24.542Z',\n",
       "   'description': 'Desperado on a quixotic journey, USMC vet. Life member The Third Marine Div Assn. Unite Blue Crew, Resist the Rich! ',\n",
       "   'indexedAt': '2024-12-20T19:08:53.943Z'},\n",
       "  {'did': 'did:plc:zo3ylevljbv22gsbtrxdps24',\n",
       "   'handle': 'sherryll.bsky.social',\n",
       "   'displayName': 'SherryRN @pissedoffnurse',\n",
       "   'avatar': 'https://cdn.bsky.app/img/avatar/plain/did:plc:zo3ylevljbv22gsbtrxdps24/bafkreibp4qiv2bteiafss7ll4pvdyabit56uzgfo4kgtvdtfcaan3coy3a@jpeg',\n",
       "   'labels': [],\n",
       "   'createdAt': '2023-10-11T19:06:53.916Z',\n",
       "   'description': \"I'm a former RN, now disabled, and a widow, losing my husband in 2022 to covid. NO DM's. I will not answer if I don't know you.\",\n",
       "   'indexedAt': '2024-12-09T12:53:12.495Z'}],\n",
       " 'cursor': 'did:plc:zo3ylevljbv22gsbtrxdps24',\n",
       " 'uri': 'at://did:plc:gkgmduxh722ocstroyi75gbg/app.bsky.feed.post/3ldlwv5syfs2x'}"
      ]
     },
     "execution_count": 20,
     "metadata": {},
     "output_type": "execute_result"
    }
   ],
   "source": [
    "reposts = get_reposts(uri)\n",
    "reposts"
   ]
  },
  {
   "cell_type": "code",
   "execution_count": 38,
   "metadata": {},
   "outputs": [],
   "source": [
    "def search_posts(query, limit=100):\n",
    "    response = requests.get(\"https://public.api.bsky.app/xrpc/app.bsky.feed.searchPosts?q=\" + query + \"&limit=\" + str(limit))\n",
    "    data = response.json()\n",
    "    return data"
   ]
  },
  {
   "cell_type": "code",
   "execution_count": 43,
   "metadata": {},
   "outputs": [],
   "source": [
    "query = \"macron trump\""
   ]
  },
  {
   "cell_type": "code",
   "execution_count": 44,
   "metadata": {},
   "outputs": [
    {
     "data": {
      "text/plain": [
       "{'posts': [{'uri': 'at://did:plc:mr2ugr2pnno4g4i7fli2hdyl/app.bsky.feed.post/3le5hgrkza22k',\n",
       "   'cid': 'bafyreias7emfo3a2rper6qh4lbxlivrlhawwaqxyekbuohhbgd3pcb4gpe',\n",
       "   'author': {'did': 'did:plc:mr2ugr2pnno4g4i7fli2hdyl',\n",
       "    'handle': 'woody68.bsky.social',\n",
       "    'displayName': 'Woody68',\n",
       "    'avatar': 'https://cdn.bsky.app/img/avatar/plain/did:plc:mr2ugr2pnno4g4i7fli2hdyl/bafkreid4xmg6piigx3yiprnkafepa7aiwxlgh6v5l3b6nbskwcggotjqy4@jpeg',\n",
       "    'associated': {'chat': {'allowIncoming': 'following'}},\n",
       "    'labels': [],\n",
       "    'createdAt': '2023-12-01T14:00:56.250Z'},\n",
       "   'record': {'$type': 'app.bsky.feed.post',\n",
       "    'createdAt': '2024-12-25T17:13:33.816Z',\n",
       "    'langs': ['en'],\n",
       "    'text': 'I urge Biden, Macron, Starmer, Støre, Fredriksen and more of the western democracies to give Ukraine possibility of drowning Russia with missiles, aircrafts and everything else they need, until Trump enters WH.'},\n",
       "   'replyCount': 0,\n",
       "   'repostCount': 0,\n",
       "   'likeCount': 0,\n",
       "   'quoteCount': 0,\n",
       "   'indexedAt': '2024-12-25T17:13:33.852Z',\n",
       "   'labels': []},\n",
       "  {'uri': 'at://did:plc:55grsgix6dubcsi3pfkpp25k/app.bsky.feed.post/3le5h2a2um22c',\n",
       "   'cid': 'bafyreictedbfinqehmmxn3dmuuorfssgrfu7syzjxbbvke6wyawfxoe4eu',\n",
       "   'author': {'did': 'did:plc:55grsgix6dubcsi3pfkpp25k',\n",
       "    'handle': 'macaronalarose.bsky.social',\n",
       "    'displayName': 'Pat M-F',\n",
       "    'avatar': 'https://cdn.bsky.app/img/avatar/plain/did:plc:55grsgix6dubcsi3pfkpp25k/bafkreieoxeey4fj6xlbygoz6d77lncyfrgnwt4ybtfwyucxtq6eron67nq@jpeg',\n",
       "    'associated': {'chat': {'allowIncoming': 'all'}},\n",
       "    'labels': [{'src': 'did:plc:55grsgix6dubcsi3pfkpp25k',\n",
       "      'uri': 'at://did:plc:55grsgix6dubcsi3pfkpp25k/app.bsky.actor.profile/self',\n",
       "      'cid': 'bafyreiajmjggvhv7k4ts2d7nfr3dfq5ny7iibjn3wspqnivlebgppe3sti',\n",
       "      'val': '!no-unauthenticated',\n",
       "      'cts': '2024-12-14T15:55:22.586Z'}],\n",
       "    'createdAt': '2024-12-14T15:55:23.444Z'},\n",
       "   'record': {'$type': 'app.bsky.feed.post',\n",
       "    'createdAt': '2024-12-25T17:06:32.807Z',\n",
       "    'langs': ['fr'],\n",
       "    'text': \"Je crains que ce qui se passe aux US Trump + Musk+ un gouvernement de milliardaires soit un très mauvais présage pour la France . Les ultra riches au pouvoir c'est bien la mission Macron\\nQuel peuple va pouvoir s'opposer à ce futur quand des partis comme le RN prennent une ampleur exponentielle ?\"},\n",
       "   'replyCount': 0,\n",
       "   'repostCount': 1,\n",
       "   'likeCount': 1,\n",
       "   'quoteCount': 0,\n",
       "   'indexedAt': '2024-12-25T17:06:33.849Z',\n",
       "   'labels': []},\n",
       "  {'uri': 'at://did:plc:4ojlefh5f5nprx44yjtemmcx/app.bsky.feed.post/3le5cxmbrxs2m',\n",
       "   'cid': 'bafyreibtygle6iz7ku66bwmoslxvao3retqlfdzo4bwragepqd5fbtazdq',\n",
       "   'author': {'did': 'did:plc:4ojlefh5f5nprx44yjtemmcx',\n",
       "    'handle': 'steveb-62.bsky.social',\n",
       "    'displayName': '',\n",
       "    'avatar': 'https://cdn.bsky.app/img/avatar/plain/did:plc:4ojlefh5f5nprx44yjtemmcx/bafkreidq6vovtwao6ksnyhqcbb4myta2rctthtlfvtrlm6xgfbupdskgyq@jpeg',\n",
       "    'labels': [],\n",
       "    'createdAt': '2024-11-18T07:23:22.246Z'},\n",
       "   'record': {'$type': 'app.bsky.feed.post',\n",
       "    'createdAt': '2024-12-25T15:53:29.988Z',\n",
       "    'langs': ['en'],\n",
       "    'reply': {'parent': {'cid': 'bafyreifu6rm5muhjzdkwqy6yvj6rtcx7uh4mdpws3znumcaopujasmfevm',\n",
       "      'uri': 'at://did:plc:vrv5fqo2w2al57fy5xtbq47w/app.bsky.feed.post/3le5bcjeoes2t'},\n",
       "     'root': {'cid': 'bafyreiejwudczcvih6c2la7mnvrlmqbizk5yx3ekz35xekqzzrqqb6pnsy',\n",
       "      'uri': 'at://did:plc:keg3c3lhpxiihjho4e7auzaq/app.bsky.feed.post/3le5axpfjz22g'}},\n",
       "    'text': \"Because republics are so more successful, do you really want a Trump or Macron leading the country? If we did have a republic you'd end up with President Blair.\"},\n",
       "   'replyCount': 1,\n",
       "   'repostCount': 0,\n",
       "   'likeCount': 0,\n",
       "   'quoteCount': 0,\n",
       "   'indexedAt': '2024-12-25T15:53:31.147Z',\n",
       "   'labels': []},\n",
       "  {'uri': 'at://did:plc:th3zzcnpmaqx4ilgenl6rag5/app.bsky.feed.post/3le4ulkg4jc2x',\n",
       "   'cid': 'bafyreigafyinim5ee2mbpm36zq3n7j7h5prebfyc23lni3knkppdlpysxm',\n",
       "   'author': {'did': 'did:plc:th3zzcnpmaqx4ilgenl6rag5',\n",
       "    'handle': 'republik.ch',\n",
       "    'displayName': 'Republik Magazin',\n",
       "    'avatar': 'https://cdn.bsky.app/img/avatar/plain/did:plc:th3zzcnpmaqx4ilgenl6rag5/bafkreiacgvtwdwr7yy7wc3nsthdcjle6xpoajep6ddw2zlx5yhxbjw7o4y@jpeg',\n",
       "    'labels': [],\n",
       "    'createdAt': '2023-10-03T09:56:43.660Z'},\n",
       "   'record': {'$type': 'app.bsky.feed.post',\n",
       "    'createdAt': '2024-12-25T11:36:12.993Z',\n",
       "    'embed': {'$type': 'app.bsky.embed.external',\n",
       "     'external': {'description': '41 Fragen, von Politik bis Popkultur, Welt\\xadbewegendes und wenig Beachtetes.',\n",
       "      'thumb': {'$type': 'blob',\n",
       "       'ref': {'$link': 'bafkreicqweloxutj7reahngkwmdgeevblw4xq4mhwotfknkokwry22reoa'},\n",
       "       'mimeType': 'image/jpeg',\n",
       "       'size': 218225},\n",
       "      'title': 'Bieten Sie künstlicher Intelligenz die Stirn und retten Sie die Familienfeier',\n",
       "      'uri': 'https://www.republik.ch/2024/12/25/die-letzte-grosse-herausforderung-des-jahres?utm_medium=social&utm_source=bluesky&utm_campaign=cm&utm_content=jahresendquiz24'}},\n",
       "    'langs': ['de'],\n",
       "    'text': '«Es war ein Fest der Liebe.» – Wer hat’s gesagt?\\n\\na) Trump über eine Wahlkampfveranstaltung\\nb) Macron über die Olympischen Spiele in Paris\\nc) Nemo über den ESC in Malmö\\nd) Christian Lindner über die letzten Tage der Ampelregierung\\n\\nDas Quiz der Republik zum Jahresende: 41 Fragen rund um die Welt.'},\n",
       "   'embed': {'$type': 'app.bsky.embed.external#view',\n",
       "    'external': {'uri': 'https://www.republik.ch/2024/12/25/die-letzte-grosse-herausforderung-des-jahres?utm_medium=social&utm_source=bluesky&utm_campaign=cm&utm_content=jahresendquiz24',\n",
       "     'title': 'Bieten Sie künstlicher Intelligenz die Stirn und retten Sie die Familienfeier',\n",
       "     'description': '41 Fragen, von Politik bis Popkultur, Welt\\xadbewegendes und wenig Beachtetes.',\n",
       "     'thumb': 'https://cdn.bsky.app/img/feed_thumbnail/plain/did:plc:th3zzcnpmaqx4ilgenl6rag5/bafkreicqweloxutj7reahngkwmdgeevblw4xq4mhwotfknkokwry22reoa@jpeg'}},\n",
       "   'replyCount': 1,\n",
       "   'repostCount': 3,\n",
       "   'likeCount': 5,\n",
       "   'quoteCount': 0,\n",
       "   'indexedAt': '2024-12-25T11:36:15.651Z',\n",
       "   'labels': []},\n",
       "  {'uri': 'at://did:plc:4bdgy4poo22dcohecdynzgf2/app.bsky.feed.post/3le4u7yj6c227',\n",
       "   'cid': 'bafyreieewsgxjfqlljgdaehu23boz7zfb6ebxnrdcuabmsbayinproaesu',\n",
       "   'author': {'did': 'did:plc:4bdgy4poo22dcohecdynzgf2',\n",
       "    'handle': 'skitridog2024.bsky.social',\n",
       "    'displayName': 'Me, Him, Dude, dont care... know who what i am... ',\n",
       "    'avatar': 'https://cdn.bsky.app/img/avatar/plain/did:plc:4bdgy4poo22dcohecdynzgf2/bafkreiakdjsluys2zpikzumhvpgb2eh6r47osqxbk4sj27mouy2li5couq@jpeg',\n",
       "    'labels': [],\n",
       "    'createdAt': '2024-11-14T16:48:27.225Z'},\n",
       "   'record': {'$type': 'app.bsky.feed.post',\n",
       "    'createdAt': '2024-12-25T11:29:45.120Z',\n",
       "    'embed': {'$type': 'app.bsky.embed.record',\n",
       "     'record': {'cid': 'bafyreiggmeo2ta7tqdrpi5yv3q4p24ernwhi6n5xfo5vfzy5avh4hjkdry',\n",
       "      'uri': 'at://did:plc:g4kx4imrw24s6tjf2p2x7o25/app.bsky.feed.post/3le32opm2l22x'}},\n",
       "    'langs': ['en'],\n",
       "    'text': 'Just back from SOUTH FRANCE..they effing hate TRUMP..  love the French..and all very hospitable in my stay...  leave it there... and Macron not their..favorite...but take over TRUMP... smart population.. no DUMB MAGA FUQS i guess.'},\n",
       "   'embed': {'$type': 'app.bsky.embed.record#view',\n",
       "    'record': {'$type': 'app.bsky.embed.record#viewRecord',\n",
       "     'uri': 'at://did:plc:g4kx4imrw24s6tjf2p2x7o25/app.bsky.feed.post/3le32opm2l22x',\n",
       "     'cid': 'bafyreiggmeo2ta7tqdrpi5yv3q4p24ernwhi6n5xfo5vfzy5avh4hjkdry',\n",
       "     'author': {'did': 'did:plc:g4kx4imrw24s6tjf2p2x7o25',\n",
       "      'handle': 'kamalladreams.bsky.social',\n",
       "      'displayName': 'KamallaDreams',\n",
       "      'avatar': 'https://cdn.bsky.app/img/avatar/plain/did:plc:g4kx4imrw24s6tjf2p2x7o25/bafkreicv576fhf3ccgwvyxi5qx5hhb7yjiwtfc7oacx4ikeszdj4rkkw2i@jpeg',\n",
       "      'labels': [],\n",
       "      'createdAt': '2024-11-13T18:52:12.177Z'},\n",
       "     'value': {'$type': 'app.bsky.feed.post',\n",
       "      'createdAt': '2024-12-24T18:20:02.063Z',\n",
       "      'embed': {'$type': 'app.bsky.embed.images',\n",
       "       'images': [{'alt': '',\n",
       "         'aspectRatio': {'height': 844, 'width': 1200},\n",
       "         'image': {'$type': 'blob',\n",
       "          'ref': {'$link': 'bafkreihe7xpu4n73fo2ca663w4eievk4onfsdvk63v3nfmovigda4pvgwi'},\n",
       "          'mimeType': 'image/jpeg',\n",
       "          'size': 457589}}]},\n",
       "      'langs': ['en'],\n",
       "      'text': 'Hey France! Demand the land sold in the Louisiana Purchase back. If Trump can demand the Panama Canal back, you can demand this land back. Just say the US ripped you off the same way Trump says Panama is ripping the US off. Think of it!'},\n",
       "     'labels': [],\n",
       "     'likeCount': 584,\n",
       "     'replyCount': 75,\n",
       "     'repostCount': 146,\n",
       "     'quoteCount': 20,\n",
       "     'indexedAt': '2024-12-24T18:20:05.256Z',\n",
       "     'embeds': [{'$type': 'app.bsky.embed.images#view',\n",
       "       'images': [{'thumb': 'https://cdn.bsky.app/img/feed_thumbnail/plain/did:plc:g4kx4imrw24s6tjf2p2x7o25/bafkreihe7xpu4n73fo2ca663w4eievk4onfsdvk63v3nfmovigda4pvgwi@jpeg',\n",
       "         'fullsize': 'https://cdn.bsky.app/img/feed_fullsize/plain/did:plc:g4kx4imrw24s6tjf2p2x7o25/bafkreihe7xpu4n73fo2ca663w4eievk4onfsdvk63v3nfmovigda4pvgwi@jpeg',\n",
       "         'alt': '',\n",
       "         'aspectRatio': {'height': 844, 'width': 1200}}]}]}},\n",
       "   'replyCount': 0,\n",
       "   'repostCount': 0,\n",
       "   'likeCount': 0,\n",
       "   'quoteCount': 0,\n",
       "   'indexedAt': '2024-12-25T11:29:46.549Z',\n",
       "   'labels': []},\n",
       "  {'uri': 'at://did:plc:2yjuvpst23gn2fawzeqc2gtg/app.bsky.feed.post/3le3csifq5c2z',\n",
       "   'cid': 'bafyreichbugzk5ckpuz3b7nc6oy6d4ymacdapzw3vazc657duqvhhjuqva',\n",
       "   'author': {'did': 'did:plc:2yjuvpst23gn2fawzeqc2gtg',\n",
       "    'handle': 'paddy-le-rouge.bsky.social',\n",
       "    'displayName': 'Patrick L Castéra',\n",
       "    'avatar': 'https://cdn.bsky.app/img/avatar/plain/did:plc:2yjuvpst23gn2fawzeqc2gtg/bafkreihvkpd7wslg6x57mmxv66lofwn3dxvftojsg4wlrd4ri2rypm2jsy@jpeg',\n",
       "    'associated': {'chat': {'allowIncoming': 'following'}},\n",
       "    'labels': [],\n",
       "    'createdAt': '2023-11-28T19:11:38.523Z'},\n",
       "   'record': {'$type': 'app.bsky.feed.post',\n",
       "    'createdAt': '2024-12-24T20:45:18.672Z',\n",
       "    'langs': ['fr'],\n",
       "    'reply': {'parent': {'cid': 'bafyreih7flemz7xhhlnzv22gtgb7emqs27qifql7cx2s22bsgljqtfxlcy',\n",
       "      'uri': 'at://did:plc:qqxqxgdu5z3he2piqfbfaku4/app.bsky.feed.post/3le365uopah2n'},\n",
       "     'root': {'cid': 'bafyreih7flemz7xhhlnzv22gtgb7emqs27qifql7cx2s22bsgljqtfxlcy',\n",
       "      'uri': 'at://did:plc:qqxqxgdu5z3he2piqfbfaku4/app.bsky.feed.post/3le365uopah2n'}},\n",
       "    'text': \"La séparation des pouvoirs est un autre principe de la démocratie que Trump ignore. Les américains semblent l'ignorer aussi. \\nVoilà pourquoi la destruction de l'école est une priorité de Macron.\"},\n",
       "   'replyCount': 0,\n",
       "   'repostCount': 0,\n",
       "   'likeCount': 0,\n",
       "   'quoteCount': 0,\n",
       "   'indexedAt': '2024-12-24T20:45:19.749Z',\n",
       "   'labels': []},\n",
       "  {'uri': 'at://did:plc:fcaai74y5oqbwjmm2gwtjx4m/app.bsky.feed.post/3le335wq6v22q',\n",
       "   'cid': 'bafyreib373jbf5rivah42mlhnkpfcdnmuytlq6n6xdhoyitvyjnd5ro2ie',\n",
       "   'author': {'did': 'did:plc:fcaai74y5oqbwjmm2gwtjx4m',\n",
       "    'handle': 'christinesimon.bsky.social',\n",
       "    'displayName': 'Christine Simon',\n",
       "    'avatar': 'https://cdn.bsky.app/img/avatar/plain/did:plc:fcaai74y5oqbwjmm2gwtjx4m/bafkreicdb5bs5yn2y5335abpzkf4t63le5wb6kibb7dwiygu2xjbmjpwqe@jpeg',\n",
       "    'labels': [],\n",
       "    'createdAt': '2023-09-20T13:06:48.170Z'},\n",
       "   'record': {'$type': 'app.bsky.feed.post',\n",
       "    'createdAt': '2024-12-24T18:28:32.861Z',\n",
       "    'langs': ['fr'],\n",
       "    'text': 'J’hésite encore pour L’Antéchrist de l’année : Macron ou Trump ?'},\n",
       "   'replyCount': 0,\n",
       "   'repostCount': 0,\n",
       "   'likeCount': 0,\n",
       "   'quoteCount': 0,\n",
       "   'indexedAt': '2024-12-24T18:28:33.455Z',\n",
       "   'labels': []},\n",
       "  {'uri': 'at://did:plc:nyqxgigsqcrsjxpnh2otf34b/app.bsky.feed.post/3le2nqkfjd22v',\n",
       "   'cid': 'bafyreibpl6yzfx54eg3ikynkjrmlpw5fyds534d77thgrxmoj354mhgw2e',\n",
       "   'author': {'did': 'did:plc:nyqxgigsqcrsjxpnh2otf34b',\n",
       "    'handle': 'carzedda.bsky.social',\n",
       "    'displayName': 'Carzedd.a',\n",
       "    'avatar': 'https://cdn.bsky.app/img/avatar/plain/did:plc:nyqxgigsqcrsjxpnh2otf34b/bafkreia54il2bxoeyidgkejytj6ye2vsamt2ppypd7vihpjggodepw77d4@jpeg',\n",
       "    'labels': [],\n",
       "    'createdAt': '2024-12-08T15:26:29.845Z'},\n",
       "   'record': {'$type': 'app.bsky.feed.post',\n",
       "    'createdAt': '2024-12-24T14:28:25.057Z',\n",
       "    'embed': {'$type': 'app.bsky.embed.images',\n",
       "     'images': [{'alt': '',\n",
       "       'aspectRatio': {'height': 770, 'width': 525},\n",
       "       'image': {'$type': 'blob',\n",
       "        'ref': {'$link': 'bafkreid3dml5dlrj6rr4fkbhv4netncvbncosvtxvutd7yjrzex3lee5yq'},\n",
       "        'mimeType': 'image/jpeg',\n",
       "        'size': 128008}}]},\n",
       "    'facets': [{'features': [{'$type': 'app.bsky.richtext.facet#tag',\n",
       "        'tag': 'trump'}],\n",
       "      'index': {'byteEnd': 14, 'byteStart': 8}},\n",
       "     {'features': [{'$type': 'app.bsky.richtext.facet#tag', 'tag': 'Macron'}],\n",
       "      'index': {'byteEnd': 25, 'byteStart': 18}},\n",
       "     {'features': [{'$type': 'app.bsky.richtext.facet#tag',\n",
       "        'tag': 'dictature'}],\n",
       "      'index': {'byteEnd': 210, 'byteStart': 200}}],\n",
       "    'langs': ['fr'],\n",
       "    'text': \"En fait #trump et #Macron placent tous les deux leurs proches aux postes de l'Etat.\\n\\nLa prise de pouvoir, même par voix diplomatique, et le souhait de le maintenir est un signe d'autoritatisme et de #dictature.\\n\\nLe pouvoir entre amis, bourgeois et repris de justice aux mépris des besoins sociaux\"},\n",
       "   'embed': {'$type': 'app.bsky.embed.images#view',\n",
       "    'images': [{'thumb': 'https://cdn.bsky.app/img/feed_thumbnail/plain/did:plc:nyqxgigsqcrsjxpnh2otf34b/bafkreid3dml5dlrj6rr4fkbhv4netncvbncosvtxvutd7yjrzex3lee5yq@jpeg',\n",
       "      'fullsize': 'https://cdn.bsky.app/img/feed_fullsize/plain/did:plc:nyqxgigsqcrsjxpnh2otf34b/bafkreid3dml5dlrj6rr4fkbhv4netncvbncosvtxvutd7yjrzex3lee5yq@jpeg',\n",
       "      'alt': '',\n",
       "      'aspectRatio': {'height': 770, 'width': 525}}]},\n",
       "   'replyCount': 0,\n",
       "   'repostCount': 0,\n",
       "   'likeCount': 0,\n",
       "   'quoteCount': 0,\n",
       "   'indexedAt': '2024-12-24T14:28:27.848Z',\n",
       "   'labels': []},\n",
       "  {'uri': 'at://did:plc:llvhq4xlq2jrnq366e5aoodi/app.bsky.feed.post/3le2m3kdsjs2b',\n",
       "   'cid': 'bafyreibtbnatuhngg4ej45tsudocwccvxr2irob62dftqxi3kvfpl7u24y',\n",
       "   'author': {'did': 'did:plc:llvhq4xlq2jrnq366e5aoodi',\n",
       "    'handle': 'anneelliot.bsky.social',\n",
       "    'displayName': 'Ellen Moody',\n",
       "    'avatar': 'https://cdn.bsky.app/img/avatar/plain/did:plc:llvhq4xlq2jrnq366e5aoodi/bafkreibqpmmmd7ny67w634v6qxtviuzz3secgagwb46p4c6vsn4gj3bqt4@jpeg',\n",
       "    'labels': [],\n",
       "    'createdAt': '2023-11-20T11:48:14.810Z'},\n",
       "   'record': {'$type': 'app.bsky.feed.post',\n",
       "    'createdAt': '2024-12-24T13:58:46.635Z',\n",
       "    'langs': ['en'],\n",
       "    'text': 'So Trump wants to buy Greenland once again, now take back Panama Canal; why should Putin not demand Alaska back, Macron, Louisiana ..?'},\n",
       "   'replyCount': 0,\n",
       "   'repostCount': 0,\n",
       "   'likeCount': 0,\n",
       "   'quoteCount': 0,\n",
       "   'indexedAt': '2024-12-24T13:58:47.950Z',\n",
       "   'labels': []},\n",
       "  {'uri': 'at://did:plc:4pokbbxm2rlicrqazc5s346z/app.bsky.feed.post/3le2ldnk3e22o',\n",
       "   'cid': 'bafyreiftarza23v5f3aphaxk6lqoeubt4tcjrdgr6ppocs6w5zyweormuu',\n",
       "   'author': {'did': 'did:plc:4pokbbxm2rlicrqazc5s346z',\n",
       "    'handle': 'mortimorestef.bsky.social',\n",
       "    'displayName': '',\n",
       "    'avatar': 'https://cdn.bsky.app/img/avatar/plain/did:plc:4pokbbxm2rlicrqazc5s346z/bafkreih3zmh5ebna3hjadmwrdp4xc2t2i2vbcwy5skpf7z3mq7rvnqkasu@jpeg',\n",
       "    'labels': [],\n",
       "    'createdAt': '2024-11-19T20:59:10.465Z'},\n",
       "   'record': {'$type': 'app.bsky.feed.post',\n",
       "    'createdAt': '2024-12-24T13:45:24.680Z',\n",
       "    'embed': {'$type': 'app.bsky.embed.external',\n",
       "     'external': {'description': \"ALT: a close up of a man 's face in the dark with a red light in the background\",\n",
       "      'thumb': {'$type': 'blob',\n",
       "       'ref': {'$link': 'bafkreiaplvklexducvwqb2pdfvg2efrq64ckqs6qusfntgzpodzdwghbum'},\n",
       "       'mimeType': 'image/jpeg',\n",
       "       'size': 407778},\n",
       "      'title': \"a close up of a man 's face in the dark with a red light in the background\",\n",
       "      'uri': 'https://media.tenor.com/9wlIgHDqmecAAAAC/keanu-reeves.gif?hh=437&ww=498'}},\n",
       "    'langs': ['fr'],\n",
       "    'text': \"Pour Noël j'ai fait ma liste, Retailleau, Macron, Valls, Bayrou, Musk, Trump, Milei, Le Pen Family, Zemmour, Poutine, Netanyahu, Xi Jinping, Bolloré, Pascal Prout, Fachouna, Mordanlezizi, Daralamain pour le dessert. Joyeux Noël baba yaga !\"},\n",
       "   'embed': {'$type': 'app.bsky.embed.external#view',\n",
       "    'external': {'uri': 'https://media.tenor.com/9wlIgHDqmecAAAAC/keanu-reeves.gif?hh=437&ww=498',\n",
       "     'title': \"a close up of a man 's face in the dark with a red light in the background\",\n",
       "     'description': \"ALT: a close up of a man 's face in the dark with a red light in the background\",\n",
       "     'thumb': 'https://cdn.bsky.app/img/feed_thumbnail/plain/did:plc:4pokbbxm2rlicrqazc5s346z/bafkreiaplvklexducvwqb2pdfvg2efrq64ckqs6qusfntgzpodzdwghbum@jpeg'}},\n",
       "   'replyCount': 0,\n",
       "   'repostCount': 0,\n",
       "   'likeCount': 1,\n",
       "   'quoteCount': 0,\n",
       "   'indexedAt': '2024-12-24T13:45:26.753Z',\n",
       "   'labels': []},\n",
       "  {'uri': 'at://did:plc:hphp3z3xpy3k22pl3x4zvx4l/app.bsky.feed.post/3le2cgnc7jc2f',\n",
       "   'cid': 'bafyreianwyi5jtyiciscm4aak6ii6yx4aji5mpq7es73j7iisn6l6gurrm',\n",
       "   'author': {'did': 'did:plc:hphp3z3xpy3k22pl3x4zvx4l',\n",
       "    'handle': 'leecaluan.bsky.social',\n",
       "    'displayName': 'Lee caluan 🏴\\U000e0067\\U000e0062\\U000e0077\\U000e006c\\U000e0073\\U000e007f',\n",
       "    'avatar': 'https://cdn.bsky.app/img/avatar/plain/did:plc:hphp3z3xpy3k22pl3x4zvx4l/bafkreib2qdd6d3zm255hrpwuvpaesf7kuvgfzauautzpk73dwhrocpsdhy@jpeg',\n",
       "    'associated': {'chat': {'allowIncoming': 'following'}},\n",
       "    'labels': [],\n",
       "    'createdAt': '2023-12-02T12:06:40.916Z'},\n",
       "   'record': {'$type': 'app.bsky.feed.post',\n",
       "    'createdAt': '2024-12-24T11:06:01.409Z',\n",
       "    'langs': ['en'],\n",
       "    'reply': {'parent': {'cid': 'bafyreifn2nllngj5kxbvbrni3sm2q6do3arwndkompd6vepog5xk7hma6e',\n",
       "      'uri': 'at://did:plc:fmovbuzjd3qqkjoeux77riap/app.bsky.feed.post/3le2cc6b7nk22'},\n",
       "     'root': {'cid': 'bafyreifn2nllngj5kxbvbrni3sm2q6do3arwndkompd6vepog5xk7hma6e',\n",
       "      'uri': 'at://did:plc:fmovbuzjd3qqkjoeux77riap/app.bsky.feed.post/3le2cc6b7nk22'}},\n",
       "    'text': 'How many seats did NPF win? \\nFuk if you’re an expert no wonder we have idiots like macron, trump, starmer in charge.'},\n",
       "   'replyCount': 1,\n",
       "   'repostCount': 0,\n",
       "   'likeCount': 0,\n",
       "   'quoteCount': 0,\n",
       "   'indexedAt': '2024-12-24T11:06:02.346Z',\n",
       "   'labels': []},\n",
       "  {'uri': 'at://did:plc:lpmybuww7ntlup4f5y5banrw/app.bsky.feed.post/3le2cclnet224',\n",
       "   'cid': 'bafyreih23blpnjmull5vfzun6245mlnmqyxitmzdwf5mddck4eejqofz4u',\n",
       "   'author': {'did': 'did:plc:lpmybuww7ntlup4f5y5banrw',\n",
       "    'handle': 'wontonhunter.bsky.social',\n",
       "    'displayName': 'I like wontons in my ramen',\n",
       "    'avatar': 'https://cdn.bsky.app/img/avatar/plain/did:plc:lpmybuww7ntlup4f5y5banrw/bafkreibvt4e3xcb25ywqfpqc5qwdgwh67ce3vqn6t37pzuardf4wzclqsy@jpeg',\n",
       "    'labels': [],\n",
       "    'createdAt': '2024-12-05T14:18:23.341Z'},\n",
       "   'record': {'$type': 'app.bsky.feed.post',\n",
       "    'createdAt': '2024-12-24T11:03:45.461Z',\n",
       "    'langs': ['en'],\n",
       "    'reply': {'parent': {'cid': 'bafyreia7awjh42q5jpearnllwwmw7ssthpuxqru2tk6urmlq6veyzjvemq',\n",
       "      'uri': 'at://did:plc:yazbevg3wkzp5llnzb44tqgh/app.bsky.feed.post/3ldzmwncz4k2z'},\n",
       "     'root': {'cid': 'bafyreia7awjh42q5jpearnllwwmw7ssthpuxqru2tk6urmlq6veyzjvemq',\n",
       "      'uri': 'at://did:plc:yazbevg3wkzp5llnzb44tqgh/app.bsky.feed.post/3ldzmwncz4k2z'}},\n",
       "    'text': 'I honestly can’t comprehend how weak european leaders are. Its so insane. We have threats from Trump, Russia, China a middle East in a massive mess and rogue states within the EU. Macron is literally the only voice of reason on the continent and he will lose his partys next election'},\n",
       "   'replyCount': 0,\n",
       "   'repostCount': 0,\n",
       "   'likeCount': 2,\n",
       "   'quoteCount': 0,\n",
       "   'indexedAt': '2024-12-24T11:03:45.945Z',\n",
       "   'labels': []},\n",
       "  {'uri': 'at://did:plc:tgbdoepokz2veolr7442m7lr/app.bsky.feed.post/3ldzy5l2zd222',\n",
       "   'cid': 'bafyreifdzu6tmunyzm634mocr2p334xjtez7aleaqxhzn2gnuq7zuoxqzu',\n",
       "   'author': {'did': 'did:plc:tgbdoepokz2veolr7442m7lr',\n",
       "    'handle': 'svart-vinter.bsky.social',\n",
       "    'displayName': 'Call me Jon Snow ^_^',\n",
       "    'avatar': 'https://cdn.bsky.app/img/avatar/plain/did:plc:tgbdoepokz2veolr7442m7lr/bafkreih44l4bgvmwdyaj4wj44cfgylahejlqdhu3vrgg6ueanghrt7iise@jpeg',\n",
       "    'labels': [{'src': 'did:plc:tgbdoepokz2veolr7442m7lr',\n",
       "      'uri': 'at://did:plc:tgbdoepokz2veolr7442m7lr/app.bsky.actor.profile/self',\n",
       "      'cid': 'bafyreih6e35gyuoizetvwishkvo7d7et4wpvuxxinjm2k36ixloe4dcpse',\n",
       "      'val': '!no-unauthenticated',\n",
       "      'cts': '2024-08-30T17:12:13.520Z'}],\n",
       "    'createdAt': '2024-08-30T17:12:11.734Z'},\n",
       "   'record': {'$type': 'app.bsky.feed.post',\n",
       "    'createdAt': '2024-12-24T08:01:59.669Z',\n",
       "    'facets': [{'features': [{'$type': 'app.bsky.richtext.facet#tag',\n",
       "        'tag': 'Macron'}],\n",
       "      'index': {'byteEnd': 29, 'byteStart': 22}},\n",
       "     {'features': [{'$type': 'app.bsky.richtext.facet#tag', 'tag': 'Finance'}],\n",
       "      'index': {'byteEnd': 59, 'byteStart': 51}},\n",
       "     {'features': [{'$type': 'app.bsky.richtext.facet#tag', 'tag': 'France'}],\n",
       "      'index': {'byteEnd': 85, 'byteStart': 78}},\n",
       "     {'features': [{'$type': 'app.bsky.richtext.facet#tag', 'tag': 'Trump'}],\n",
       "      'index': {'byteEnd': 202, 'byteStart': 196}},\n",
       "     {'features': [{'$type': 'app.bsky.richtext.facet#tag', 'tag': 'USA🤢'}],\n",
       "      'index': {'byteEnd': 215, 'byteStart': 207}}],\n",
       "    'langs': ['fr'],\n",
       "    'reply': {'parent': {'cid': 'bafyreidhev6flh7fjyjaidjco4oezxl33k3j7d4kidl6o5fgrhrtkw3yg4',\n",
       "      'uri': 'at://did:plc:tgbdoepokz2veolr7442m7lr/app.bsky.feed.post/3ldzxxjv6xk22'},\n",
       "     'root': {'cid': 'bafyreidhev6flh7fjyjaidjco4oezxl33k3j7d4kidl6o5fgrhrtkw3yg4',\n",
       "      'uri': 'at://did:plc:tgbdoepokz2veolr7442m7lr/app.bsky.feed.post/3ldzxxjv6xk22'}},\n",
       "    'text': 'C\\'est un peu comme si #Macron, voulant rassurer la #Finance sur le sort de la #France ( ou est-ce son égo boursouflé qui le pousse à vouloir être  le 1°?), avait cherché à faire \"pire\" que #Trump aux #USA🤢.   Un petit côté  serrage de mains...😉🤡'},\n",
       "   'replyCount': 0,\n",
       "   'repostCount': 0,\n",
       "   'likeCount': 0,\n",
       "   'quoteCount': 0,\n",
       "   'indexedAt': '2024-12-24T08:01:59.649Z',\n",
       "   'labels': []},\n",
       "  {'uri': 'at://did:plc:puocdk7p4ysuewz2jsgd2clq/app.bsky.feed.post/3ldzfvnpiq22u',\n",
       "   'cid': 'bafyreifpx5xqe3z423cwgcuhtsgdqwj35zbybxk63g3mypylohttczne54',\n",
       "   'author': {'did': 'did:plc:puocdk7p4ysuewz2jsgd2clq',\n",
       "    'handle': 'hilzoy.bsky.social',\n",
       "    'displayName': 'hilzoy',\n",
       "    'avatar': 'https://cdn.bsky.app/img/avatar/plain/did:plc:puocdk7p4ysuewz2jsgd2clq/bafkreifytziiqym2nhzxrf6tibbubtpn3gmc5zawpo6plwophyrnoz6gnu@jpeg',\n",
       "    'associated': {'chat': {'allowIncoming': 'following'}},\n",
       "    'labels': [],\n",
       "    'createdAt': '2023-08-19T03:58:29.179Z'},\n",
       "   'record': {'$type': 'app.bsky.feed.post',\n",
       "    'createdAt': '2024-12-24T02:35:26.649Z',\n",
       "    'langs': ['en'],\n",
       "    'reply': {'parent': {'cid': 'bafyreib7p6hzhqbjot2pmlcosik74jatjckgbfp6nscmc67pmvooetitme',\n",
       "      'uri': 'at://did:plc:puocdk7p4ysuewz2jsgd2clq/app.bsky.feed.post/3ldzfqkpkl22u'},\n",
       "     'root': {'cid': 'bafyreib7p6hzhqbjot2pmlcosik74jatjckgbfp6nscmc67pmvooetitme',\n",
       "      'uri': 'at://did:plc:puocdk7p4ysuewz2jsgd2clq/app.bsky.feed.post/3ldzfqkpkl22u'}},\n",
       "    'text': 'I mean: people used to buy and sell other human beings without asking their consent. I hope CNN will not cover some future Trump idea about buying Emanuel Macron or Volodymyr Zelensky by talking about how we used to do that before, so why not now?'},\n",
       "   'replyCount': 2,\n",
       "   'repostCount': 0,\n",
       "   'likeCount': 20,\n",
       "   'quoteCount': 0,\n",
       "   'indexedAt': '2024-12-24T02:35:28.555Z',\n",
       "   'labels': []},\n",
       "  {'uri': 'at://did:plc:x347uzras5fqclcngxjraz4o/app.bsky.feed.post/3ldzf3qykbs2v',\n",
       "   'cid': 'bafyreiaufmh4rpx5vvp6l75atszdqqrt6bxckx7dueyhfun2nukevfchk4',\n",
       "   'author': {'did': 'did:plc:x347uzras5fqclcngxjraz4o',\n",
       "    'handle': 'donstermd.bsky.social',\n",
       "    'displayName': 'Don Williamson',\n",
       "    'avatar': 'https://cdn.bsky.app/img/avatar/plain/did:plc:x347uzras5fqclcngxjraz4o/bafkreie6bupt7vazlhvtnw2sunjqeuzb2dyakqegyi73msqw25gowksc2y@jpeg',\n",
       "    'labels': [],\n",
       "    'createdAt': '2024-11-21T05:03:27.570Z'},\n",
       "   'record': {'$type': 'app.bsky.feed.post',\n",
       "    'createdAt': '2024-12-24T02:20:57.675Z',\n",
       "    'langs': ['en'],\n",
       "    'reply': {'parent': {'cid': 'bafyreieockdgviurifybxnwom77fndxik2c3yc27q62knewenkj3axlj6e',\n",
       "      'uri': 'at://did:plc:gkgmduxh722ocstroyi75gbg/app.bsky.feed.post/3ldze335xmk25'},\n",
       "     'root': {'cid': 'bafyreieockdgviurifybxnwom77fndxik2c3yc27q62knewenkj3axlj6e',\n",
       "      'uri': 'at://did:plc:gkgmduxh722ocstroyi75gbg/app.bsky.feed.post/3ldze335xmk25'}},\n",
       "    'text': 'Trudeau, Macron, and Johnson were caught on camera mocking Trump at a NATO reception in 2019. Trump is so thin-skinned that this enraged him to his dark core. He will do everything he can, given his malignant pettiness, to try to make Trudeau look small. To Trump power and appearance is everything.'},\n",
       "   'replyCount': 0,\n",
       "   'repostCount': 0,\n",
       "   'likeCount': 6,\n",
       "   'quoteCount': 0,\n",
       "   'indexedAt': '2024-12-24T02:20:58.152Z',\n",
       "   'labels': []},\n",
       "  {'uri': 'at://did:plc:cmar6afkz26xau4bf43jyuey/app.bsky.feed.post/3ldz2i7ii2d24',\n",
       "   'cid': 'bafyreifxvex77mkpejskjcenglk44kdzi6ljooroga52ouolhpolljyhmu',\n",
       "   'author': {'did': 'did:plc:cmar6afkz26xau4bf43jyuey',\n",
       "    'handle': 'republicanbart.bsky.social',\n",
       "    'displayName': 'Bartholomew Smith 🇺🇸',\n",
       "    'avatar': 'https://cdn.bsky.app/img/avatar/plain/did:plc:cmar6afkz26xau4bf43jyuey/bafkreian2ygl2klrpat5env663w4d57xfzwjqkvffwqn7yzwjhwcf7vcuq@jpeg',\n",
       "    'labels': [],\n",
       "    'createdAt': '2024-11-01T20:52:53.483Z'},\n",
       "   'record': {'$type': 'app.bsky.feed.post',\n",
       "    'createdAt': '2024-12-23T23:11:03+00:00',\n",
       "    'embed': {'$type': 'app.bsky.embed.images',\n",
       "     'images': [{'alt': 'Toilet Brush Emmanuel Macron Brosse WC Brosse de toilette France President Trump Funny Gag Gift',\n",
       "       'image': {'$type': 'blob',\n",
       "        'ref': {'$link': 'bafkreidkpewbuxanjfxghtv4xjpzvbuzchttbd77tiezabqhmghadbwthm'},\n",
       "        'mimeType': 'image/jpeg',\n",
       "        'size': 331443}}]},\n",
       "    'facets': [{'features': [{'$type': 'app.bsky.richtext.facet#link',\n",
       "        'uri': 'https://s.click.aliexpress.com/e/_oFXvFNz'}],\n",
       "      'index': {'byteEnd': 142, 'byteStart': 101}}],\n",
       "    'langs': ['en'],\n",
       "    'text': 'Toilet Brush Emmanuel Macron Brosse WC Brosse de toilette France President Trump Funny Gag Gift\\n🔗 https://s.click.aliexpress.com/e/_oFXvFNz'},\n",
       "   'embed': {'$type': 'app.bsky.embed.images#view',\n",
       "    'images': [{'thumb': 'https://cdn.bsky.app/img/feed_thumbnail/plain/did:plc:cmar6afkz26xau4bf43jyuey/bafkreidkpewbuxanjfxghtv4xjpzvbuzchttbd77tiezabqhmghadbwthm@jpeg',\n",
       "      'fullsize': 'https://cdn.bsky.app/img/feed_fullsize/plain/did:plc:cmar6afkz26xau4bf43jyuey/bafkreidkpewbuxanjfxghtv4xjpzvbuzchttbd77tiezabqhmghadbwthm@jpeg',\n",
       "      'alt': 'Toilet Brush Emmanuel Macron Brosse WC Brosse de toilette France President Trump Funny Gag Gift'}]},\n",
       "   'replyCount': 0,\n",
       "   'repostCount': 2,\n",
       "   'likeCount': 3,\n",
       "   'quoteCount': 0,\n",
       "   'indexedAt': '2024-12-23T23:11:04.954Z',\n",
       "   'labels': []},\n",
       "  {'uri': 'at://did:plc:mnbgwe7pcg7jyfxbx5x5oftf/app.bsky.feed.post/3ldyx5iq3322h',\n",
       "   'cid': 'bafyreifzr5u44zrgkh53qvnpzdmjhfyukwybl5zoz5u7gymztgliducl7m',\n",
       "   'author': {'did': 'did:plc:mnbgwe7pcg7jyfxbx5x5oftf',\n",
       "    'handle': 'tortisincebolla.bsky.social',\n",
       "    'displayName': 'Tortisincebolla',\n",
       "    'avatar': 'https://cdn.bsky.app/img/avatar/plain/did:plc:mnbgwe7pcg7jyfxbx5x5oftf/bafkreid7vvqeu4la65kunqkky6aodrncv4pvdxfsqqvz7psns3dqjtnbum@jpeg',\n",
       "    'labels': [],\n",
       "    'createdAt': '2024-11-12T10:38:14.703Z'},\n",
       "   'record': {'$type': 'app.bsky.feed.post',\n",
       "    'createdAt': '2024-12-23T22:11:23.733Z',\n",
       "    'langs': ['es'],\n",
       "    'reply': {'parent': {'cid': 'bafyreiafgedzv6s3fdocaladbyelbm4lx7zku6hzm2p4nlcqy46n4h45qq',\n",
       "      'uri': 'at://did:plc:u6mkbcgviwlbhuwqirmhcgu3/app.bsky.feed.post/3ldy4wjo2d425'},\n",
       "     'root': {'cid': 'bafyreiafgedzv6s3fdocaladbyelbm4lx7zku6hzm2p4nlcqy46n4h45qq',\n",
       "      'uri': 'at://did:plc:u6mkbcgviwlbhuwqirmhcgu3/app.bsky.feed.post/3ldy4wjo2d425'}},\n",
       "    'text': 'Llamará a Trump, Macron, el Papa y Jesucristo.'},\n",
       "   'replyCount': 0,\n",
       "   'repostCount': 0,\n",
       "   'likeCount': 0,\n",
       "   'quoteCount': 0,\n",
       "   'indexedAt': '2024-12-23T22:11:24.049Z',\n",
       "   'labels': []},\n",
       "  {'uri': 'at://did:plc:yaybvwnmx6s235fwclgilkow/app.bsky.feed.post/3ldyudpv2422w',\n",
       "   'cid': 'bafyreifh5f5fqra3uyewp6nuvbhgawtzfgjqmtilsu4uzo44c5ew6uck6e',\n",
       "   'author': {'did': 'did:plc:yaybvwnmx6s235fwclgilkow',\n",
       "    'handle': 'joanfrancesblanc.bsky.social',\n",
       "    'displayName': 'Joan Francés Blanc',\n",
       "    'avatar': 'https://cdn.bsky.app/img/avatar/plain/did:plc:yaybvwnmx6s235fwclgilkow/bafkreid2wb6vx3rznw6uutwfanb45kqipoz7vzx4fh3ndm6jnqrg5ifoti@jpeg',\n",
       "    'associated': {'chat': {'allowIncoming': 'following'}},\n",
       "    'labels': [{'src': 'did:plc:yaybvwnmx6s235fwclgilkow',\n",
       "      'uri': 'at://did:plc:yaybvwnmx6s235fwclgilkow/app.bsky.actor.profile/self',\n",
       "      'cid': 'bafyreigkf6lu6wvotkebt4efuyggdp2vhoe6kk6dgn2c7huiv2er5cby4a',\n",
       "      'val': '!no-unauthenticated',\n",
       "      'cts': '1970-01-01T00:00:00.000Z'}],\n",
       "    'createdAt': '2023-11-14T19:02:23.806Z'},\n",
       "   'record': {'$type': 'app.bsky.feed.post',\n",
       "    'createdAt': '2024-12-23T21:21:11.337Z',\n",
       "    'langs': ['oc'],\n",
       "    'text': 'I just read about the new government in France, and I think the whole of France owes an apology to the American people for mocking the election of the convicted felon and traitor Trump and his future secretaries. President Macron is tending to the worst, and I see no limit.'},\n",
       "   'replyCount': 0,\n",
       "   'repostCount': 0,\n",
       "   'likeCount': 0,\n",
       "   'quoteCount': 0,\n",
       "   'indexedAt': '2024-12-23T21:21:11.548Z',\n",
       "   'labels': []},\n",
       "  {'uri': 'at://did:plc:ifeda2auw5iicswhcdtgelai/app.bsky.feed.post/3ldyt6pvwyv23',\n",
       "   'cid': 'bafyreiadnnpdyjzvjqk7wbok75woycwlztmfpc5fed2yt5aj653unos63q',\n",
       "   'author': {'did': 'did:plc:ifeda2auw5iicswhcdtgelai',\n",
       "    'handle': 'trendingworld.bsky.social',\n",
       "    'displayName': 'Trending Topics - World',\n",
       "    'avatar': 'https://cdn.bsky.app/img/avatar/plain/did:plc:ifeda2auw5iicswhcdtgelai/bafkreicv6mzvcgqj64hq6j5cdehfhlrnzaw7bgdzaykrqhckthtgfifqna@jpeg',\n",
       "    'associated': {'chat': {'allowIncoming': 'all'}},\n",
       "    'labels': [],\n",
       "    'createdAt': '2024-09-25T20:47:55.507Z'},\n",
       "   'record': {'$type': 'app.bsky.feed.post',\n",
       "    'createdAt': '2024-12-23T21:00:29Z',\n",
       "    'facets': [],\n",
       "    'langs': ['pt'],\n",
       "    'text': 'Top trending in the last 15 minutes 🧭:\\n\\n1. Christmas\\n2. Valls\\n3. Justice\\n4. Trump\\n5. Darmanin\\n6. La justice\\n7. Bayrou\\n8. Gauche\\n9. Macron\\n10. à la JUSTICE\\n'},\n",
       "   'replyCount': 0,\n",
       "   'repostCount': 0,\n",
       "   'likeCount': 0,\n",
       "   'quoteCount': 0,\n",
       "   'indexedAt': '2024-12-23T21:00:30.235Z',\n",
       "   'labels': []},\n",
       "  {'uri': 'at://did:plc:mcb6n67plnrlx4lg35natk2b/app.bsky.feed.post/3ldyo74jpvv22',\n",
       "   'cid': 'bafyreichqena7g4jsr4rtm4cyotcyd2ttfwe6jwereumtozrd3prawivl4',\n",
       "   'author': {'did': 'did:plc:mcb6n67plnrlx4lg35natk2b',\n",
       "    'handle': 'nowbreezing.ntw.app',\n",
       "    'displayName': '☁️Now🤖Breezing💨 [UNOFFICIAL]',\n",
       "    'avatar': 'https://cdn.bsky.app/img/avatar/plain/did:plc:mcb6n67plnrlx4lg35natk2b/bafkreiaagvzfzc5rcx6dhdcquu7kaq5lcjhdmubvpmlest4kwxhjf6336m@jpeg',\n",
       "    'associated': {'chat': {'allowIncoming': 'none'}},\n",
       "    'labels': [],\n",
       "    'createdAt': '2023-05-23T20:37:36.553Z'},\n",
       "   'record': {'$type': 'app.bsky.feed.post',\n",
       "    'createdAt': '2024-12-23T19:31:14.895274+00:00',\n",
       "    'embed': {'$type': 'app.bsky.embed.images',\n",
       "     'images': [{'$type': 'app.bsky.embed.images#image',\n",
       "       'alt': \"Word Cloud; its top words (sorted by weighted frequency, descending):  valls, gaza, ukraine, festivus, gouvernement, gaetz, darmanin, underage, greenland, panama, statutory, grievances, 1,283, www.cnn.com/2024/12/22/b, matt, 17-year-old, joyeux, gaetz's, bayrou, starbucks, robbie, retailleau, prostitution, ministre, merry, manuel, jul, festivities, feiertage, borne, b*witched, メリークリスマス, hughes, fiestas, eve, ethics.house.gov/wp-content/u, ethics, souhaite, rangers, marge, l'intérieur, inocente, illicit, commuted, baisse, ag, $400, weihnachten, soirée, signings, siglo, reputable, recuse, rapey, predators, pire, pedophilia, orgies, nommé, nommer, ministres, mangione, macron, inmates, holidays, hanukkah, greenberg, feud, expands, devils, d'urgence, cyberattack, civilized, cawthorn, bude, новый, www.lgbtqnation.com/2024/12/dona, wrapping, visites, urgences, uppesittarkväll, trafficking, sérieux, standpoint, smear, simeone, schöner, sac, remakes, reliance, registry, regalos, rape, putain, punta, président, pluto, piling, pedophiles, oppressive, offender, noël, noel, médicaux, montchalin, monochrome, misconduct, ministère, milhares, merrick, luigi, l'extrême, kerst, jurisdiction, johnson's, honte, honda, gvt, gqp, geschenke, garland, ganske, dredd, données, dirtbag, dex, decomytree.com/home?hashedi, committee's, coloured, censure, censor, carts, bows, boeken, bock, bloc, blij, bertrand, benieuwd, barr, ať, antlers, anti-trans, annex, alexis, 23rd, 12/23/2024, равно, zug, zin, zeitgeist, xmas, www.newsweek.com/donald-trump, www.cnn.com/2024/12/23/p, willen, vuelvo, vouloir, vijf, vautrin, unwrap, underlying, tyvm, terminé, taliban, surdoses, substantial, stuffer, storylines, soweit, sobreviver, sights, setzt, sculpture, satt, santé, réussi, récentes, rift, richmond, retour, republik, repas, reindeer, regression, recourse, raz, raskin, rants, ransomware, rabbits, période, puisque, provocation, prostitute, prevail, presents, perverts, pervert, perv, pels\",\n",
       "       'image': {'$type': 'blob',\n",
       "        'ref': {'$link': 'bafkreifd3qwo3prwxybt2few6qxvtyomqefyg55ykrlklosnmceml3wol4'},\n",
       "        'mimeType': 'image/jpeg',\n",
       "        'size': 367889}},\n",
       "      {'$type': 'app.bsky.embed.images#image',\n",
       "       'alt': 'Hashtag Cloud; its hashtagged words/phrases (sorted by weighted frequency, descending):  photography, totp, christmas, gh, findom, presidentmusk, nature, nyr, njdevils, trump, mattgaetz, bluecrew, originalcharacter, monochromemonday, gouvernementbayrou, wildlife, trans, news, maga, mentalhealth, horny, feet, cock, traditionalart, poetry, paypig, holidays, comics, catsofbluesky, vtuberen, usa, thearchers, happyholidays, hadeb, gouvernement, fyp, festivus, daddy, vtubers, tgirl, starwars, sex, reading, photo, milf, love, lgbtq, finsub, dragonage, doodle, dogsofbluesky, digitalpainting, dick, collabfcbot, christmas2024, 20daybookchallenge, クリスマス, xmas, merrychristmas, luigimangione, humor, helpsky, elonmusk, dccomics, cdnpoli, canada, bg3, bayrou, artsky, anthro, android, anal, whalesub, warhammer, vr, vore, transformers, tadc, sunset, stream, spotify, sonicmovie3, sonic, snow, sizesky, sciart, palestine, nyc, nowwatching, nikon, nhl, minor, minecraft, memes, magdeburg, m2, lgbt, jayvik, indiegamedev, goth, gop, goonette, gayart, gaetz, furryoc, furryfandom, freepalestine, freeluigi, fpl, ffxivnsfw, fetish, fansly, donaldtrump, christmasmusic, booty, bigdick, architecture, adult, adoptdontshop, adoptable, adopt, worldnews, wnba, weihnachten, vptrump, vinylcommunity, veilguardspoilers, uspol, urban, transporn, therookie, texas, sonicthehedgehog3, soles, shark, shadowthehedgehog, seinfeld, salatvefilmu, rva, romancelandia, robot, rdr2, presidentelonmusk, politique, pino, panama, pa, oregon, nudeart, nordnordmord, mst3k, micro, megaboost, media, manuelvalls, male, jazzsky, italy, indieauthor, holiday, historicalfiction, hiphop, happiness, gposersnsfw, godot, giantess, fucktrump, fucking, fireemblem, findomme, femsky, diehard, decor, dc, dartswm, cosplayer, comicart, colorado, coffee, chile, breakingnews, boy, bottom, blerd, blackandwhitephotography, bird, biden, beta, believeinfilm, bara, baldursgate3, artists, animegirl, 561, 35mm, 295, 11, 明日方舟, 台v, ハンドメイド',\n",
       "       'image': {'$type': 'blob',\n",
       "        'ref': {'$link': 'bafkreigcim7qxleavoo3eansqnhbdbydli6fykm5jjqzplll7qrrrylf64'},\n",
       "        'mimeType': 'image/jpeg',\n",
       "        'size': 481903}},\n",
       "      {'$type': 'app.bsky.embed.images#image',\n",
       "       'alt': 'Emoji Cloud; its emojis (sorted by weighted frequency, descending):  🧑\\u200d🎄, 🎅🏻, ☃️, 🎅, 🎄, 💅🏽, 👌🏾, 🎅🏽, ⛄, \\U0001faf0🏾, 🧬, \\U0001f9cc, 🥓, 🤷🏻, 🤶🏻, 🚌, 🙋🏼\\u200d♀️, 🗨️, 🔭, 👠, 🎢, 🎁, 🍲, 🍟, 🍉, 🇻🇪, ☑️, ⌚, \\U0001faf6🏼, \\U0001faf5🏾, \\U0001fad9, 🪲, 🧻, 🧱, 🧑🏼\\u200d🎄, 🧑🏻\\u200d🎄, 🧑\\u200d🎤, 🧑\\u200d🍳, 🧍\\u200d♂️, 🧍, 🧃, 🦕, 🥾, 🥯, 🥭, 🥤, 🥔, 🥈, 🥃, 🥂, 🤸🏾\\u200d♀️, 🤷🏼\\u200d♂️, 🤷🏼\\u200d♀️, 🤷🏼, 🤷\\u200d♂️, 🤷\\u200d♀️, 🤶🏽, 🤶🏼, 🤶, 🤮, 🤪, 🤦🏽, 🤦🏼\\u200d♂️, 🤦🏼\\u200d♀️, 🤦\\u200d♀️, 🤢, 🤞🏾, 🤞🏽, 🤝🏾, 🤖, 🤌🏽, 🛁, 🚶, 🚜, 🚛, 🚔, 🚑, 🙌🏾, 😉, 🗡, 🕸️, 🕯, 🕕, 🔬, 🔑, 🔍, 🔌, 📽️, 📽, 📧, 📎, 💵, 💪🏼, 💪🏻, 💅🏻, 👩, 👣, 👟, 👐, 👍🏾, 👊🏼, 🐞, 🐆, 🏢, 🏒, 🏁, 🎟, 🎙, 🎇, 🎅🏿, 🍿, 🍻, 🍹, 🍈, 🌲, 🌘, 🌌, 🌋, 🇺🇲, 🇵🇹, 🇵🇸, 🇵🇱, 🇵🇦, 🇲🇽, 🇱🇹, 🇰🇷, 🇨🇵, 🆕, ❄️, ✝️, ⚙️, ⚗️, ⚖️, ⚒, ♻️, ♦️, ☝🏽, ◀️, ↘, ↗, ↔️, ™',\n",
       "       'image': {'$type': 'blob',\n",
       "        'ref': {'$link': 'bafkreibasdjrssu5zz7dv6iyszr34ggl5wzm744hqlxo3fxh6eebgrjv74'},\n",
       "        'mimeType': 'image/jpeg',\n",
       "        'size': 532190}},\n",
       "      {'$type': 'app.bsky.embed.images#image',\n",
       "       'alt': 'NickWrightData.01 [QR code from the Signal app] Contact the Developer with any concerns (link in alt text: https://signal.me/#eu/XNbymWWcjJZxBHdeJWvTbXK86ViP1DYALo68NJYWDR8JQYuZwu5G0ojsYMG9_Qyf )',\n",
       "       'image': {'$type': 'blob',\n",
       "        'ref': {'$link': 'bafkreigt2hnlo2phvckchmz6kzqt6le74js7y7ajoppxn7hvlvudautwhm'},\n",
       "        'mimeType': 'image/png',\n",
       "        'size': 63734}}]},\n",
       "    'facets': [{'$type': 'app.bsky.richtext.facet',\n",
       "      'features': [{'$type': 'app.bsky.richtext.facet#link',\n",
       "        'uri': 'http://bsky.app/search?q=valls'}],\n",
       "      'index': {'$type': 'app.bsky.richtext.facet#byteSlice',\n",
       "       'byteEnd': 81,\n",
       "       'byteStart': 76}},\n",
       "     {'$type': 'app.bsky.richtext.facet',\n",
       "      'features': [{'$type': 'app.bsky.richtext.facet#link',\n",
       "        'uri': 'http://bsky.app/search?q=gaza'}],\n",
       "      'index': {'$type': 'app.bsky.richtext.facet#byteSlice',\n",
       "       'byteEnd': 103,\n",
       "       'byteStart': 99}},\n",
       "     {'$type': 'app.bsky.richtext.facet',\n",
       "      'features': [{'$type': 'app.bsky.richtext.facet#link',\n",
       "        'uri': 'http://bsky.app/search?q=ukraine'}],\n",
       "      'index': {'$type': 'app.bsky.richtext.facet#byteSlice',\n",
       "       'byteEnd': 128,\n",
       "       'byteStart': 121}},\n",
       "     {'$type': 'app.bsky.richtext.facet',\n",
       "      'features': [{'$type': 'app.bsky.richtext.facet#link',\n",
       "        'uri': 'http://bsky.app/search?q=festivus'}],\n",
       "      'index': {'$type': 'app.bsky.richtext.facet#byteSlice',\n",
       "       'byteEnd': 154,\n",
       "       'byteStart': 146}},\n",
       "     {'$type': 'app.bsky.richtext.facet',\n",
       "      'features': [{'$type': 'app.bsky.richtext.facet#link',\n",
       "        'uri': 'http://bsky.app/search?q=gouvernement'}],\n",
       "      'index': {'$type': 'app.bsky.richtext.facet#byteSlice',\n",
       "       'byteEnd': 184,\n",
       "       'byteStart': 172}},\n",
       "     {'$type': 'app.bsky.richtext.facet',\n",
       "      'features': [{'$type': 'app.bsky.richtext.facet#link',\n",
       "        'uri': 'http://bsky.app/search?q=gaetz'}],\n",
       "      'index': {'$type': 'app.bsky.richtext.facet#byteSlice',\n",
       "       'byteEnd': 207,\n",
       "       'byteStart': 202}},\n",
       "     {'$type': 'app.bsky.richtext.facet',\n",
       "      'features': [{'$type': 'app.bsky.richtext.facet#link',\n",
       "        'uri': 'http://bsky.app/search?q=darmanin'}],\n",
       "      'index': {'$type': 'app.bsky.richtext.facet#byteSlice',\n",
       "       'byteEnd': 233,\n",
       "       'byteStart': 225}},\n",
       "     {'$type': 'app.bsky.richtext.facet',\n",
       "      'features': [{'$type': 'app.bsky.richtext.facet#link',\n",
       "        'uri': 'http://bsky.app/search?q=underage'}],\n",
       "      'index': {'$type': 'app.bsky.richtext.facet#byteSlice',\n",
       "       'byteEnd': 259,\n",
       "       'byteStart': 251}},\n",
       "     {'$type': 'app.bsky.richtext.facet',\n",
       "      'features': [{'$type': 'app.bsky.richtext.facet#link',\n",
       "        'uri': 'http://bsky.app/search?q=greenland'}],\n",
       "      'index': {'$type': 'app.bsky.richtext.facet#byteSlice',\n",
       "       'byteEnd': 286,\n",
       "       'byteStart': 277}},\n",
       "     {'$type': 'app.bsky.richtext.facet',\n",
       "      'features': [{'$type': 'app.bsky.richtext.facet#link',\n",
       "        'uri': 'http://bsky.app/search?q=panama'}],\n",
       "      'index': {'$type': 'app.bsky.richtext.facet#byteSlice',\n",
       "       'byteEnd': 310,\n",
       "       'byteStart': 304}}],\n",
       "    'text': \"\\nBluesky's Top 10 Trending Words from the Past 10 Minutes:\\n️⚠️💨5 - valls\\n️⚠️💨4 - gaza\\n️⚠️💨3 - ukraine\\n️⚠️💨2 - festivus\\n️⚠️💨2 - gouvernement\\n️⚠️💨2 - gaetz\\n️⚠️💨2 - darmanin\\n️⚠️💨1 - underage\\n️⚠️💨1 - greenland\\n️⚠️💨1 - panama\\n(tap/click to see all posts on Bluesky featuring that word!)\\n\\n#йобанарусня 🇺🇦\"},\n",
       "   'embed': {'$type': 'app.bsky.embed.images#view',\n",
       "    'images': [{'thumb': 'https://cdn.bsky.app/img/feed_thumbnail/plain/did:plc:mcb6n67plnrlx4lg35natk2b/bafkreifd3qwo3prwxybt2few6qxvtyomqefyg55ykrlklosnmceml3wol4@jpeg',\n",
       "      'fullsize': 'https://cdn.bsky.app/img/feed_fullsize/plain/did:plc:mcb6n67plnrlx4lg35natk2b/bafkreifd3qwo3prwxybt2few6qxvtyomqefyg55ykrlklosnmceml3wol4@jpeg',\n",
       "      'alt': \"Word Cloud; its top words (sorted by weighted frequency, descending):  valls, gaza, ukraine, festivus, gouvernement, gaetz, darmanin, underage, greenland, panama, statutory, grievances, 1,283, www.cnn.com/2024/12/22/b, matt, 17-year-old, joyeux, gaetz's, bayrou, starbucks, robbie, retailleau, prostitution, ministre, merry, manuel, jul, festivities, feiertage, borne, b*witched, メリークリスマス, hughes, fiestas, eve, ethics.house.gov/wp-content/u, ethics, souhaite, rangers, marge, l'intérieur, inocente, illicit, commuted, baisse, ag, $400, weihnachten, soirée, signings, siglo, reputable, recuse, rapey, predators, pire, pedophilia, orgies, nommé, nommer, ministres, mangione, macron, inmates, holidays, hanukkah, greenberg, feud, expands, devils, d'urgence, cyberattack, civilized, cawthorn, bude, новый, www.lgbtqnation.com/2024/12/dona, wrapping, visites, urgences, uppesittarkväll, trafficking, sérieux, standpoint, smear, simeone, schöner, sac, remakes, reliance, registry, regalos, rape, putain, punta, président, pluto, piling, pedophiles, oppressive, offender, noël, noel, médicaux, montchalin, monochrome, misconduct, ministère, milhares, merrick, luigi, l'extrême, kerst, jurisdiction, johnson's, honte, honda, gvt, gqp, geschenke, garland, ganske, dredd, données, dirtbag, dex, decomytree.com/home?hashedi, committee's, coloured, censure, censor, carts, bows, boeken, bock, bloc, blij, bertrand, benieuwd, barr, ať, antlers, anti-trans, annex, alexis, 23rd, 12/23/2024, равно, zug, zin, zeitgeist, xmas, www.newsweek.com/donald-trump, www.cnn.com/2024/12/23/p, willen, vuelvo, vouloir, vijf, vautrin, unwrap, underlying, tyvm, terminé, taliban, surdoses, substantial, stuffer, storylines, soweit, sobreviver, sights, setzt, sculpture, satt, santé, réussi, récentes, rift, richmond, retour, republik, repas, reindeer, regression, recourse, raz, raskin, rants, ransomware, rabbits, période, puisque, provocation, prostitute, prevail, presents, perverts, pervert, perv, pels\"},\n",
       "     {'thumb': 'https://cdn.bsky.app/img/feed_thumbnail/plain/did:plc:mcb6n67plnrlx4lg35natk2b/bafkreigcim7qxleavoo3eansqnhbdbydli6fykm5jjqzplll7qrrrylf64@jpeg',\n",
       "      'fullsize': 'https://cdn.bsky.app/img/feed_fullsize/plain/did:plc:mcb6n67plnrlx4lg35natk2b/bafkreigcim7qxleavoo3eansqnhbdbydli6fykm5jjqzplll7qrrrylf64@jpeg',\n",
       "      'alt': 'Hashtag Cloud; its hashtagged words/phrases (sorted by weighted frequency, descending):  photography, totp, christmas, gh, findom, presidentmusk, nature, nyr, njdevils, trump, mattgaetz, bluecrew, originalcharacter, monochromemonday, gouvernementbayrou, wildlife, trans, news, maga, mentalhealth, horny, feet, cock, traditionalart, poetry, paypig, holidays, comics, catsofbluesky, vtuberen, usa, thearchers, happyholidays, hadeb, gouvernement, fyp, festivus, daddy, vtubers, tgirl, starwars, sex, reading, photo, milf, love, lgbtq, finsub, dragonage, doodle, dogsofbluesky, digitalpainting, dick, collabfcbot, christmas2024, 20daybookchallenge, クリスマス, xmas, merrychristmas, luigimangione, humor, helpsky, elonmusk, dccomics, cdnpoli, canada, bg3, bayrou, artsky, anthro, android, anal, whalesub, warhammer, vr, vore, transformers, tadc, sunset, stream, spotify, sonicmovie3, sonic, snow, sizesky, sciart, palestine, nyc, nowwatching, nikon, nhl, minor, minecraft, memes, magdeburg, m2, lgbt, jayvik, indiegamedev, goth, gop, goonette, gayart, gaetz, furryoc, furryfandom, freepalestine, freeluigi, fpl, ffxivnsfw, fetish, fansly, donaldtrump, christmasmusic, booty, bigdick, architecture, adult, adoptdontshop, adoptable, adopt, worldnews, wnba, weihnachten, vptrump, vinylcommunity, veilguardspoilers, uspol, urban, transporn, therookie, texas, sonicthehedgehog3, soles, shark, shadowthehedgehog, seinfeld, salatvefilmu, rva, romancelandia, robot, rdr2, presidentelonmusk, politique, pino, panama, pa, oregon, nudeart, nordnordmord, mst3k, micro, megaboost, media, manuelvalls, male, jazzsky, italy, indieauthor, holiday, historicalfiction, hiphop, happiness, gposersnsfw, godot, giantess, fucktrump, fucking, fireemblem, findomme, femsky, diehard, decor, dc, dartswm, cosplayer, comicart, colorado, coffee, chile, breakingnews, boy, bottom, blerd, blackandwhitephotography, bird, biden, beta, believeinfilm, bara, baldursgate3, artists, animegirl, 561, 35mm, 295, 11, 明日方舟, 台v, ハンドメイド'},\n",
       "     {'thumb': 'https://cdn.bsky.app/img/feed_thumbnail/plain/did:plc:mcb6n67plnrlx4lg35natk2b/bafkreibasdjrssu5zz7dv6iyszr34ggl5wzm744hqlxo3fxh6eebgrjv74@jpeg',\n",
       "      'fullsize': 'https://cdn.bsky.app/img/feed_fullsize/plain/did:plc:mcb6n67plnrlx4lg35natk2b/bafkreibasdjrssu5zz7dv6iyszr34ggl5wzm744hqlxo3fxh6eebgrjv74@jpeg',\n",
       "      'alt': 'Emoji Cloud; its emojis (sorted by weighted frequency, descending):  🧑\\u200d🎄, 🎅🏻, ☃️, 🎅, 🎄, 💅🏽, 👌🏾, 🎅🏽, ⛄, \\U0001faf0🏾, 🧬, \\U0001f9cc, 🥓, 🤷🏻, 🤶🏻, 🚌, 🙋🏼\\u200d♀️, 🗨️, 🔭, 👠, 🎢, 🎁, 🍲, 🍟, 🍉, 🇻🇪, ☑️, ⌚, \\U0001faf6🏼, \\U0001faf5🏾, \\U0001fad9, 🪲, 🧻, 🧱, 🧑🏼\\u200d🎄, 🧑🏻\\u200d🎄, 🧑\\u200d🎤, 🧑\\u200d🍳, 🧍\\u200d♂️, 🧍, 🧃, 🦕, 🥾, 🥯, 🥭, 🥤, 🥔, 🥈, 🥃, 🥂, 🤸🏾\\u200d♀️, 🤷🏼\\u200d♂️, 🤷🏼\\u200d♀️, 🤷🏼, 🤷\\u200d♂️, 🤷\\u200d♀️, 🤶🏽, 🤶🏼, 🤶, 🤮, 🤪, 🤦🏽, 🤦🏼\\u200d♂️, 🤦🏼\\u200d♀️, 🤦\\u200d♀️, 🤢, 🤞🏾, 🤞🏽, 🤝🏾, 🤖, 🤌🏽, 🛁, 🚶, 🚜, 🚛, 🚔, 🚑, 🙌🏾, 😉, 🗡, 🕸️, 🕯, 🕕, 🔬, 🔑, 🔍, 🔌, 📽️, 📽, 📧, 📎, 💵, 💪🏼, 💪🏻, 💅🏻, 👩, 👣, 👟, 👐, 👍🏾, 👊🏼, 🐞, 🐆, 🏢, 🏒, 🏁, 🎟, 🎙, 🎇, 🎅🏿, 🍿, 🍻, 🍹, 🍈, 🌲, 🌘, 🌌, 🌋, 🇺🇲, 🇵🇹, 🇵🇸, 🇵🇱, 🇵🇦, 🇲🇽, 🇱🇹, 🇰🇷, 🇨🇵, 🆕, ❄️, ✝️, ⚙️, ⚗️, ⚖️, ⚒, ♻️, ♦️, ☝🏽, ◀️, ↘, ↗, ↔️, ™'},\n",
       "     {'thumb': 'https://cdn.bsky.app/img/feed_thumbnail/plain/did:plc:mcb6n67plnrlx4lg35natk2b/bafkreigt2hnlo2phvckchmz6kzqt6le74js7y7ajoppxn7hvlvudautwhm@jpeg',\n",
       "      'fullsize': 'https://cdn.bsky.app/img/feed_fullsize/plain/did:plc:mcb6n67plnrlx4lg35natk2b/bafkreigt2hnlo2phvckchmz6kzqt6le74js7y7ajoppxn7hvlvudautwhm@jpeg',\n",
       "      'alt': 'NickWrightData.01 [QR code from the Signal app] Contact the Developer with any concerns (link in alt text: https://signal.me/#eu/XNbymWWcjJZxBHdeJWvTbXK86ViP1DYALo68NJYWDR8JQYuZwu5G0ojsYMG9_Qyf )'}]},\n",
       "   'replyCount': 0,\n",
       "   'repostCount': 0,\n",
       "   'likeCount': 0,\n",
       "   'quoteCount': 0,\n",
       "   'indexedAt': '2024-12-23T19:31:15.148Z',\n",
       "   'labels': []},\n",
       "  {'uri': 'at://did:plc:itvovcixe3hbplpsqnhdea46/app.bsky.feed.post/3ldyo636wpc2o',\n",
       "   'cid': 'bafyreicz4ovcgpc777w4xndsy4v3lultgpcuv5ygwjmkfb4i4ccjg5kika',\n",
       "   'author': {'did': 'did:plc:itvovcixe3hbplpsqnhdea46',\n",
       "    'handle': 'nathlfi.bsky.social',\n",
       "    'displayName': 'Nathalie Coullet Girard 🇵🇸 🇳🇨 🇱🇧🇨🇵 🐢🍉',\n",
       "    'avatar': 'https://cdn.bsky.app/img/avatar/plain/did:plc:itvovcixe3hbplpsqnhdea46/bafkreidunxgjldfuigp7hcqdv3go6p37kbnuye2kddqis6vgy7aov4jaqi@jpeg',\n",
       "    'labels': [],\n",
       "    'createdAt': '2024-12-06T14:32:35.947Z'},\n",
       "   'record': {'$type': 'app.bsky.feed.post',\n",
       "    'createdAt': '2024-12-23T19:30:39.416Z',\n",
       "    'embed': {'$type': 'app.bsky.embed.record',\n",
       "     'record': {'cid': 'bafyreidinw7ul5riossvw5jm3e6vniz3omjkmbkzxegu4nljqyq74uxk2q',\n",
       "      'uri': 'at://did:plc:gptr52yzj46rme47tskbu6rs/app.bsky.feed.post/3ldyjn2svlk2f'}},\n",
       "    'langs': ['fr'],\n",
       "    'text': \"Là, je n'ai plus d'humour. Plus aucune aptitude à la résilience.\\nGaza, Mayotte, Kanaky, Ukraine, Van der layen, Trump et Musk, Macron, Bayrou et son putain de gvt de merde, les fachos partout. \\nPlus d'humour, des larmes, la rage. \\nJe vais vomir tout mon repas de Noël. \\nC'est quand la révolte ?\"},\n",
       "   'embed': {'$type': 'app.bsky.embed.record#view',\n",
       "    'record': {'$type': 'app.bsky.embed.record#viewRecord',\n",
       "     'uri': 'at://did:plc:gptr52yzj46rme47tskbu6rs/app.bsky.feed.post/3ldyjn2svlk2f',\n",
       "     'cid': 'bafyreidinw7ul5riossvw5jm3e6vniz3omjkmbkzxegu4nljqyq74uxk2q',\n",
       "     'author': {'did': 'did:plc:gptr52yzj46rme47tskbu6rs',\n",
       "      'handle': 'marcelaiphan.bsky.social',\n",
       "      'displayName': 'Marcel',\n",
       "      'avatar': 'https://cdn.bsky.app/img/avatar/plain/did:plc:gptr52yzj46rme47tskbu6rs/bafkreicxljj4c4muzhl5l46lcz54ilj2m3blhahbujzozo6be2iflvgzbi@jpeg',\n",
       "      'labels': [],\n",
       "      'createdAt': '2024-11-26T15:26:52.646Z'},\n",
       "     'value': {'$type': 'app.bsky.feed.post',\n",
       "      'createdAt': '2024-12-23T18:09:33.631Z',\n",
       "      'embed': {'$type': 'app.bsky.embed.video',\n",
       "       'aspectRatio': {'height': 828, 'width': 1496},\n",
       "       'video': {'$type': 'blob',\n",
       "        'ref': {'$link': 'bafkreihhsoyqxm43xhiw57qykluftjgiu2ph5j7zqo45sep5bherm4wtim'},\n",
       "        'mimeType': 'video/mp4',\n",
       "        'size': 2350264}},\n",
       "      'langs': ['fr'],\n",
       "      'text': 'CENSUREZ-MOI CETTE MERDE 🔥'},\n",
       "     'labels': [],\n",
       "     'likeCount': 329,\n",
       "     'replyCount': 9,\n",
       "     'repostCount': 58,\n",
       "     'quoteCount': 6,\n",
       "     'indexedAt': '2024-12-23T18:09:35.053Z',\n",
       "     'embeds': [{'$type': 'app.bsky.embed.video#view',\n",
       "       'cid': 'bafkreihhsoyqxm43xhiw57qykluftjgiu2ph5j7zqo45sep5bherm4wtim',\n",
       "       'playlist': 'https://video.bsky.app/watch/did%3Aplc%3Agptr52yzj46rme47tskbu6rs/bafkreihhsoyqxm43xhiw57qykluftjgiu2ph5j7zqo45sep5bherm4wtim/playlist.m3u8',\n",
       "       'thumbnail': 'https://video.bsky.app/watch/did%3Aplc%3Agptr52yzj46rme47tskbu6rs/bafkreihhsoyqxm43xhiw57qykluftjgiu2ph5j7zqo45sep5bherm4wtim/thumbnail.jpg',\n",
       "       'aspectRatio': {'height': 828, 'width': 1496}}]}},\n",
       "   'replyCount': 0,\n",
       "   'repostCount': 0,\n",
       "   'likeCount': 0,\n",
       "   'quoteCount': 0,\n",
       "   'indexedAt': '2024-12-23T19:30:40.054Z',\n",
       "   'labels': []},\n",
       "  {'uri': 'at://did:plc:beuudiebigqdvsy22gc4j6p5/app.bsky.feed.post/3ldynswn6fk2b',\n",
       "   'cid': 'bafyreidceiggx44fvpujzg7ktgcshgjx5cinyq4k4777dcin7wbgng5liu',\n",
       "   'author': {'did': 'did:plc:beuudiebigqdvsy22gc4j6p5',\n",
       "    'handle': 'donjuandvro.bsky.social',\n",
       "    'displayName': 'Dr Oliv',\n",
       "    'avatar': 'https://cdn.bsky.app/img/avatar/plain/did:plc:beuudiebigqdvsy22gc4j6p5/bafkreibvzsphjashrtzhtjhtz6ja7ib4fpvqtoay3zf6t5gqeljypx3iru@jpeg',\n",
       "    'associated': {'chat': {'allowIncoming': 'following'}},\n",
       "    'labels': [],\n",
       "    'createdAt': '2023-10-10T06:46:26.200Z'},\n",
       "   'record': {'$type': 'app.bsky.feed.post',\n",
       "    'createdAt': '2024-12-23T19:24:25.542Z',\n",
       "    'langs': ['fr'],\n",
       "    'reply': {'parent': {'cid': 'bafyreiezwyutxycde5lz7sbor5am7udtgmr4zz5uw7kf7ucxwxnlmilatm',\n",
       "      'uri': 'at://did:plc:beuudiebigqdvsy22gc4j6p5/app.bsky.feed.post/3ldymtf7bbc2b'},\n",
       "     'root': {'cid': 'bafyreia5setcgpjwng7epplc5nybennjwho3glgla26233w3egqs7jnwja',\n",
       "      'uri': 'at://did:plc:xmbc73qsrkcsvumajngqaihu/app.bsky.feed.post/3ldyln2fo422g'}},\n",
       "    'text': \"j'ai vu que tu likais slip jaune, ça reste une super idée, bon on a raté notre dame, macron munsk, le ps de droite , sarko, trump\"},\n",
       "   'replyCount': 1,\n",
       "   'repostCount': 0,\n",
       "   'likeCount': 1,\n",
       "   'quoteCount': 0,\n",
       "   'indexedAt': '2024-12-23T19:24:26.047Z',\n",
       "   'labels': []},\n",
       "  {'uri': 'at://did:plc:mcb6n67plnrlx4lg35natk2b/app.bsky.feed.post/3ldylxikldn2a',\n",
       "   'cid': 'bafyreiduya2yxsc73jl2yjpivvbdug3vlkth6mh3gy4rl7xhg62osk4n3i',\n",
       "   'author': {'did': 'did:plc:mcb6n67plnrlx4lg35natk2b',\n",
       "    'handle': 'nowbreezing.ntw.app',\n",
       "    'displayName': '☁️Now🤖Breezing💨 [UNOFFICIAL]',\n",
       "    'avatar': 'https://cdn.bsky.app/img/avatar/plain/did:plc:mcb6n67plnrlx4lg35natk2b/bafkreiaagvzfzc5rcx6dhdcquu7kaq5lcjhdmubvpmlest4kwxhjf6336m@jpeg',\n",
       "    'associated': {'chat': {'allowIncoming': 'none'}},\n",
       "    'labels': [],\n",
       "    'createdAt': '2023-05-23T20:37:36.553Z'},\n",
       "   'record': {'$type': 'app.bsky.feed.post',\n",
       "    'createdAt': '2024-12-23T18:51:11.559955+00:00',\n",
       "    'embed': {'$type': 'app.bsky.embed.images',\n",
       "     'images': [{'$type': 'app.bsky.embed.images#image',\n",
       "       'alt': \"Word Cloud; its top words (sorted by weighted frequency, descending):  valls, festivus, borne, darmanin, gouvernement, gaza, statutory, gaetz, ukraine, retailleau, ministre, censure, underage, grievances, greenland, manuel, bayrou, putain, gueule, ministère, ministres, matt, bergé, prostitution, mêmes, gaetz's, 17-year-old, 1,283, świąt, république, panama, merrick, garland, 2024-12-23, weasel, non-lotr, nommé, merry, illicit, bordel, violated, retour, rebsamen, pire, periodistas, nouveau, navideño, l'intérieur, hanukkah, ewww, eve, ethics, ecstasy, dividends, blancos, ag, semaines, repas, raciste, publique, perp, pedophilia, outre-mer, macron, l'éducation, général, fiestas, feats, ethics.house.gov/wp-content/u, elisabeth, d'année, blague, aurore, 12/23/2024, τώρα, życzę, utsa, spiked, sneakers, slimy, rire, rapists, perverts, pedos, pedophiles, montchalin, monochrome, lure, last-minute, jul, in-laws, holidays, gauche, fetterman, egy, délégué, deuxième, commandos, buehler, barnier, attorney, אז, όχι, święta, énorme, écouter, xvi, x.x, www.washingtonpost.com/politics/202, www.nature.com/articles/s41, wesołych, weihnachten, weary, voté, visibly, vieux, vaut, täter, tying, transaction, trafficking, supérieur, suppress, strada, santa's, réveillon, résultat, rojo, rape, provocation, prosecute, predators, pjs, perdre, nrosa01.github.io/pmd-quiz-onl, moses, misconduct, mischievous, milieu, merde, mayotte, mangione's, mangione, législatives, l'esr, l'annonce, juin, investigator, instructed, greenberg, gooning, gatez, fêtes, françois, français, foutage, fonction, findings, finalement, feline, feather, fallait, erinnern, enzo, drugs, donné, deployment, denmark, demander, deberían, dati, culturally, crocodile, counterpoint, commutes, commuted, committee, chercher, charitable, carrick, brute, amélie, alimentos, adjudicated, adaptations, @support.bsky.team, @gmail.com, 3-5, 23rd, 1963, クリスマスイブ, zusammenhang, www.nytimes.com/live/2024/12, www.nytimes.com/2024/12/23/o, www.newsweek.com/donald-trump, wszystkim, wrapping, wildest, wiener, whistleblower\",\n",
       "       'image': {'$type': 'blob',\n",
       "        'ref': {'$link': 'bafkreifc2md557pujco5ohoytfgqh4tcx7exzwq3h3dkbvjsadp3smttjm'},\n",
       "        'mimeType': 'image/jpeg',\n",
       "        'size': 490057}},\n",
       "      {'$type': 'app.bsky.embed.images#image',\n",
       "       'alt': 'Hashtag Cloud; its hashtagged words/phrases (sorted by weighted frequency, descending):  christmas, gay, twitch, ocart, filmsky, bayrou, gaming, gouvernementbayrou, trump, presidentmusk, originalcharacter, monochromemonday, magdeburg, bitcoin, artadventcalendar, youtube, writing, happyholidays, freepalestine, valls, usa, nintendo, mattgaetz, love, festivus, science, painting, gouvernement, food, boldandbeautiful, xmas, traditionalart, podcast, njdevils, mutualaid, mlp, merrychristmas, marvel, macron, holidays, games, creaturecommandos, bdsm, whatif, weihnachten, therookie, santa, running, otd, nwsl, nintendoswitch, mtg, mayotte, m2, luigi, lego, helpsky, gaetz, fursuit, funny, elonmusk, digital, commissions, collabfcbot, chenford, buildinpublic, boldcbs, bbw, writerslife, webcomic, vtuberuprising, twitchstreamer, thesims4, tech, strongertogether, streaming, splatoon, solidarityseason, russia, ransomware, quake, nyr, natal, mylittlepony, monday, live, lingerie, leafsforever, israel, infinitynikki, indiegames, holiday, hiking, haiku, gopackgo, goonette, girl, genshin, fursona, freeluigi, fpl, foodie, finalfantasy, fashion, family, entertainment, book, author, artmoots, anal, amwriting, america, 原神, ynwa, whalesub, weekzforzoom, weak, warcraft, violence, vicepresidenttrump, vegan, twinpeaks, tv, turkey, trigun, thrive, thatskygame, tease, teamlocked, splatoon3, seo, seahawks, saas, rva, review, republican, quotes, quote, quebec, photographer, pet, pencil, pawg, pathofexile2, nofpö, nodemunder5k, mythology, monster, micropoetry, mha, magicthegathering, m3, lufc, loveanddeepspace, livestream, limerick, latex, iykyk, ipad, iot, investing, inspiration, indie, humour, holidayseason, happynewyear, happyfestivus, guitar, godot, giftideas, gazagfm, gaysky, fun, friends, florida, fascism, fanfic, españa, dom, dcu, cuckold, coffee, cocktribute, christmastree, christmas2024, cashcow, canon, breakingnews, boudoir, bostonlegal, birdphotography, beer, afd, acrylic, 7syllablesentence, 561, 295, 10, ガンダム, ガン',\n",
       "       'image': {'$type': 'blob',\n",
       "        'ref': {'$link': 'bafkreihtk5g7wvkfgflzhhjyypodjkmbvcpeato4putt7cotarwanlxagq'},\n",
       "        'mimeType': 'image/jpeg',\n",
       "        'size': 395610}},\n",
       "      {'$type': 'app.bsky.embed.images#image',\n",
       "       'alt': 'Emoji Cloud; its emojis (sorted by weighted frequency, descending):  🧑\\u200d🎄, 🤶, 🎅🏻, 🎅, 🎄, 🍍, 🎁, 🍹, ☝🏽, 🩸, 🧑\\u200d🎤, 🦜, 🤷🏻, 🤦🏽\\u200d♂️, 🙏🏿, 😶, 🕎, 💶, 🐳, 🏒, 🎅🏽, 🍲, 🍤, 🌋, 🅿️, ❄️, ⛄, ⚜️, ☃️, ⌚, 7️⃣, \\U0001faf6🏿, \\U0001faf5🏾, \\U0001faf4🏾, \\U0001fae4, \\U0001fae2, \\U0001face, \\U0001fabf, 🪡, 🪅, 🧬, 🧑\\u200d🍳, 🧍🏻, 🧍\\u200d♀️, 🧁, 🧀, 🦶, 🦙, 🦕, 🦎, 🦄, 🥮, 🥩, 🥤, 🥈, 🥂, 🤷🏿\\u200d♀️, 🤷🏻\\u200d♂️, 🤷\\u200d♀️, 🤲🏻, 🤯, 🤪, 🤨, 🤦🏾\\u200d♂️, 🤦\\u200d♀️, 🤥, 🤢, 🤙, 🤘🏼, 🤑, 🛸, 🛷, 🛡️, 🛠️, 🚘, 🙋🏻, 😿, 😾, 😜, 😕, 😐, 🖕🏽, 🕺🏼, 🕹️, 🕠, 🕔, 🔽, 🔲, 🔜, 🔔, 🔐, 📹, 📰, 📢, 📞, 📉, 📀, 💸, 💱, 💪🏾, 💪🏽, 💝, 💅🏻, 💃🏻, 👿, 👮\\u200d♂️, 👩\\u200d🍳, 👨\\u200d🍳, 👥, 👍🏿, 👉🏽, 👈🏽, 👇🏽, 👃, 🐲, 🐦\\u200d⬛, 🐠, 🏞️, 🏔️, 🏃\\u200d♂️, 🏁, 🎯, 🎞️, 🎞, 🎙️, 🎇, 🍿, 🍾, 🍻, 🍪, 🍥, 🍖, 🍕, 🍉, 🍈, 🍇, 🌲, 🌮, 🌚, 🌑, 🇸🇪, 🇷🇴, 🇵🇸, 🇵🇱, 🇳🇴, 🇰🇵, 🇮🇹, 🇫🇮, 🇪🇸, 🇨🇭, 🆙, ⬆, ⬅️, ❣️, ✝️, ✔, ⛽, ⚔️, ♣️, ♟️, ♀️, ☠, ↘️, 4️⃣',\n",
       "       'image': {'$type': 'blob',\n",
       "        'ref': {'$link': 'bafkreie5m6dkpubhhxnvudf5ll2ubkiy2kd6apq3haq6baqfrjdmtwmeiq'},\n",
       "        'mimeType': 'image/jpeg',\n",
       "        'size': 597762}},\n",
       "      {'$type': 'app.bsky.embed.images#image',\n",
       "       'alt': 'NickWrightData.01 [QR code from the Signal app] Contact the Developer with any concerns (link in alt text: https://signal.me/#eu/XNbymWWcjJZxBHdeJWvTbXK86ViP1DYALo68NJYWDR8JQYuZwu5G0ojsYMG9_Qyf )',\n",
       "       'image': {'$type': 'blob',\n",
       "        'ref': {'$link': 'bafkreigt2hnlo2phvckchmz6kzqt6le74js7y7ajoppxn7hvlvudautwhm'},\n",
       "        'mimeType': 'image/png',\n",
       "        'size': 63734}}]},\n",
       "    'facets': [{'$type': 'app.bsky.richtext.facet',\n",
       "      'features': [{'$type': 'app.bsky.richtext.facet#link',\n",
       "        'uri': 'http://bsky.app/search?q=valls'}],\n",
       "      'index': {'$type': 'app.bsky.richtext.facet#byteSlice',\n",
       "       'byteEnd': 82,\n",
       "       'byteStart': 77}},\n",
       "     {'$type': 'app.bsky.richtext.facet',\n",
       "      'features': [{'$type': 'app.bsky.richtext.facet#link',\n",
       "        'uri': 'http://bsky.app/search?q=festivus'}],\n",
       "      'index': {'$type': 'app.bsky.richtext.facet#byteSlice',\n",
       "       'byteEnd': 108,\n",
       "       'byteStart': 100}},\n",
       "     {'$type': 'app.bsky.richtext.facet',\n",
       "      'features': [{'$type': 'app.bsky.richtext.facet#link',\n",
       "        'uri': 'http://bsky.app/search?q=borne'}],\n",
       "      'index': {'$type': 'app.bsky.richtext.facet#byteSlice',\n",
       "       'byteEnd': 131,\n",
       "       'byteStart': 126}},\n",
       "     {'$type': 'app.bsky.richtext.facet',\n",
       "      'features': [{'$type': 'app.bsky.richtext.facet#link',\n",
       "        'uri': 'http://bsky.app/search?q=darmanin'}],\n",
       "      'index': {'$type': 'app.bsky.richtext.facet#byteSlice',\n",
       "       'byteEnd': 157,\n",
       "       'byteStart': 149}},\n",
       "     {'$type': 'app.bsky.richtext.facet',\n",
       "      'features': [{'$type': 'app.bsky.richtext.facet#link',\n",
       "        'uri': 'http://bsky.app/search?q=gouvernement'}],\n",
       "      'index': {'$type': 'app.bsky.richtext.facet#byteSlice',\n",
       "       'byteEnd': 187,\n",
       "       'byteStart': 175}},\n",
       "     {'$type': 'app.bsky.richtext.facet',\n",
       "      'features': [{'$type': 'app.bsky.richtext.facet#link',\n",
       "        'uri': 'http://bsky.app/search?q=gaza'}],\n",
       "      'index': {'$type': 'app.bsky.richtext.facet#byteSlice',\n",
       "       'byteEnd': 209,\n",
       "       'byteStart': 205}},\n",
       "     {'$type': 'app.bsky.richtext.facet',\n",
       "      'features': [{'$type': 'app.bsky.richtext.facet#link',\n",
       "        'uri': 'http://bsky.app/search?q=statutory'}],\n",
       "      'index': {'$type': 'app.bsky.richtext.facet#byteSlice',\n",
       "       'byteEnd': 236,\n",
       "       'byteStart': 227}},\n",
       "     {'$type': 'app.bsky.richtext.facet',\n",
       "      'features': [{'$type': 'app.bsky.richtext.facet#link',\n",
       "        'uri': 'http://bsky.app/search?q=gaetz'}],\n",
       "      'index': {'$type': 'app.bsky.richtext.facet#byteSlice',\n",
       "       'byteEnd': 259,\n",
       "       'byteStart': 254}},\n",
       "     {'$type': 'app.bsky.richtext.facet',\n",
       "      'features': [{'$type': 'app.bsky.richtext.facet#link',\n",
       "        'uri': 'http://bsky.app/search?q=ukraine'}],\n",
       "      'index': {'$type': 'app.bsky.richtext.facet#byteSlice',\n",
       "       'byteEnd': 284,\n",
       "       'byteStart': 277}},\n",
       "     {'$type': 'app.bsky.richtext.facet',\n",
       "      'features': [{'$type': 'app.bsky.richtext.facet#link',\n",
       "        'uri': 'http://bsky.app/search?q=retailleau'}],\n",
       "      'index': {'$type': 'app.bsky.richtext.facet#byteSlice',\n",
       "       'byteEnd': 312,\n",
       "       'byteStart': 302}}],\n",
       "    'text': \"\\nBluesky's Top 10 Trending Words from the Past 10 Minutes:\\n️⚠️💨11 - valls\\n️⚠️💨4 - festivus\\n️⚠️💨4 - borne\\n️⚠️💨4 - darmanin\\n️⚠️💨4 - gouvernement\\n️⚠️💨3 - gaza\\n️⚠️💨3 - statutory\\n️⚠️💨3 - gaetz\\n️⚠️💨2 - ukraine\\n️⚠️💨2 - retailleau\\n(tap/click to see all posts on Bluesky featuring that word!)\\n\\n#FreePalestine\"},\n",
       "   'embed': {'$type': 'app.bsky.embed.images#view',\n",
       "    'images': [{'thumb': 'https://cdn.bsky.app/img/feed_thumbnail/plain/did:plc:mcb6n67plnrlx4lg35natk2b/bafkreifc2md557pujco5ohoytfgqh4tcx7exzwq3h3dkbvjsadp3smttjm@jpeg',\n",
       "      'fullsize': 'https://cdn.bsky.app/img/feed_fullsize/plain/did:plc:mcb6n67plnrlx4lg35natk2b/bafkreifc2md557pujco5ohoytfgqh4tcx7exzwq3h3dkbvjsadp3smttjm@jpeg',\n",
       "      'alt': \"Word Cloud; its top words (sorted by weighted frequency, descending):  valls, festivus, borne, darmanin, gouvernement, gaza, statutory, gaetz, ukraine, retailleau, ministre, censure, underage, grievances, greenland, manuel, bayrou, putain, gueule, ministère, ministres, matt, bergé, prostitution, mêmes, gaetz's, 17-year-old, 1,283, świąt, république, panama, merrick, garland, 2024-12-23, weasel, non-lotr, nommé, merry, illicit, bordel, violated, retour, rebsamen, pire, periodistas, nouveau, navideño, l'intérieur, hanukkah, ewww, eve, ethics, ecstasy, dividends, blancos, ag, semaines, repas, raciste, publique, perp, pedophilia, outre-mer, macron, l'éducation, général, fiestas, feats, ethics.house.gov/wp-content/u, elisabeth, d'année, blague, aurore, 12/23/2024, τώρα, życzę, utsa, spiked, sneakers, slimy, rire, rapists, perverts, pedos, pedophiles, montchalin, monochrome, lure, last-minute, jul, in-laws, holidays, gauche, fetterman, egy, délégué, deuxième, commandos, buehler, barnier, attorney, אז, όχι, święta, énorme, écouter, xvi, x.x, www.washingtonpost.com/politics/202, www.nature.com/articles/s41, wesołych, weihnachten, weary, voté, visibly, vieux, vaut, täter, tying, transaction, trafficking, supérieur, suppress, strada, santa's, réveillon, résultat, rojo, rape, provocation, prosecute, predators, pjs, perdre, nrosa01.github.io/pmd-quiz-onl, moses, misconduct, mischievous, milieu, merde, mayotte, mangione's, mangione, législatives, l'esr, l'annonce, juin, investigator, instructed, greenberg, gooning, gatez, fêtes, françois, français, foutage, fonction, findings, finalement, feline, feather, fallait, erinnern, enzo, drugs, donné, deployment, denmark, demander, deberían, dati, culturally, crocodile, counterpoint, commutes, commuted, committee, chercher, charitable, carrick, brute, amélie, alimentos, adjudicated, adaptations, @support.bsky.team, @gmail.com, 3-5, 23rd, 1963, クリスマスイブ, zusammenhang, www.nytimes.com/live/2024/12, www.nytimes.com/2024/12/23/o, www.newsweek.com/donald-trump, wszystkim, wrapping, wildest, wiener, whistleblower\"},\n",
       "     {'thumb': 'https://cdn.bsky.app/img/feed_thumbnail/plain/did:plc:mcb6n67plnrlx4lg35natk2b/bafkreihtk5g7wvkfgflzhhjyypodjkmbvcpeato4putt7cotarwanlxagq@jpeg',\n",
       "      'fullsize': 'https://cdn.bsky.app/img/feed_fullsize/plain/did:plc:mcb6n67plnrlx4lg35natk2b/bafkreihtk5g7wvkfgflzhhjyypodjkmbvcpeato4putt7cotarwanlxagq@jpeg',\n",
       "      'alt': 'Hashtag Cloud; its hashtagged words/phrases (sorted by weighted frequency, descending):  christmas, gay, twitch, ocart, filmsky, bayrou, gaming, gouvernementbayrou, trump, presidentmusk, originalcharacter, monochromemonday, magdeburg, bitcoin, artadventcalendar, youtube, writing, happyholidays, freepalestine, valls, usa, nintendo, mattgaetz, love, festivus, science, painting, gouvernement, food, boldandbeautiful, xmas, traditionalart, podcast, njdevils, mutualaid, mlp, merrychristmas, marvel, macron, holidays, games, creaturecommandos, bdsm, whatif, weihnachten, therookie, santa, running, otd, nwsl, nintendoswitch, mtg, mayotte, m2, luigi, lego, helpsky, gaetz, fursuit, funny, elonmusk, digital, commissions, collabfcbot, chenford, buildinpublic, boldcbs, bbw, writerslife, webcomic, vtuberuprising, twitchstreamer, thesims4, tech, strongertogether, streaming, splatoon, solidarityseason, russia, ransomware, quake, nyr, natal, mylittlepony, monday, live, lingerie, leafsforever, israel, infinitynikki, indiegames, holiday, hiking, haiku, gopackgo, goonette, girl, genshin, fursona, freeluigi, fpl, foodie, finalfantasy, fashion, family, entertainment, book, author, artmoots, anal, amwriting, america, 原神, ynwa, whalesub, weekzforzoom, weak, warcraft, violence, vicepresidenttrump, vegan, twinpeaks, tv, turkey, trigun, thrive, thatskygame, tease, teamlocked, splatoon3, seo, seahawks, saas, rva, review, republican, quotes, quote, quebec, photographer, pet, pencil, pawg, pathofexile2, nofpö, nodemunder5k, mythology, monster, micropoetry, mha, magicthegathering, m3, lufc, loveanddeepspace, livestream, limerick, latex, iykyk, ipad, iot, investing, inspiration, indie, humour, holidayseason, happynewyear, happyfestivus, guitar, godot, giftideas, gazagfm, gaysky, fun, friends, florida, fascism, fanfic, españa, dom, dcu, cuckold, coffee, cocktribute, christmastree, christmas2024, cashcow, canon, breakingnews, boudoir, bostonlegal, birdphotography, beer, afd, acrylic, 7syllablesentence, 561, 295, 10, ガンダム, ガン'},\n",
       "     {'thumb': 'https://cdn.bsky.app/img/feed_thumbnail/plain/did:plc:mcb6n67plnrlx4lg35natk2b/bafkreie5m6dkpubhhxnvudf5ll2ubkiy2kd6apq3haq6baqfrjdmtwmeiq@jpeg',\n",
       "      'fullsize': 'https://cdn.bsky.app/img/feed_fullsize/plain/did:plc:mcb6n67plnrlx4lg35natk2b/bafkreie5m6dkpubhhxnvudf5ll2ubkiy2kd6apq3haq6baqfrjdmtwmeiq@jpeg',\n",
       "      'alt': 'Emoji Cloud; its emojis (sorted by weighted frequency, descending):  🧑\\u200d🎄, 🤶, 🎅🏻, 🎅, 🎄, 🍍, 🎁, 🍹, ☝🏽, 🩸, 🧑\\u200d🎤, 🦜, 🤷🏻, 🤦🏽\\u200d♂️, 🙏🏿, 😶, 🕎, 💶, 🐳, 🏒, 🎅🏽, 🍲, 🍤, 🌋, 🅿️, ❄️, ⛄, ⚜️, ☃️, ⌚, 7️⃣, \\U0001faf6🏿, \\U0001faf5🏾, \\U0001faf4🏾, \\U0001fae4, \\U0001fae2, \\U0001face, \\U0001fabf, 🪡, 🪅, 🧬, 🧑\\u200d🍳, 🧍🏻, 🧍\\u200d♀️, 🧁, 🧀, 🦶, 🦙, 🦕, 🦎, 🦄, 🥮, 🥩, 🥤, 🥈, 🥂, 🤷🏿\\u200d♀️, 🤷🏻\\u200d♂️, 🤷\\u200d♀️, 🤲🏻, 🤯, 🤪, 🤨, 🤦🏾\\u200d♂️, 🤦\\u200d♀️, 🤥, 🤢, 🤙, 🤘🏼, 🤑, 🛸, 🛷, 🛡️, 🛠️, 🚘, 🙋🏻, 😿, 😾, 😜, 😕, 😐, 🖕🏽, 🕺🏼, 🕹️, 🕠, 🕔, 🔽, 🔲, 🔜, 🔔, 🔐, 📹, 📰, 📢, 📞, 📉, 📀, 💸, 💱, 💪🏾, 💪🏽, 💝, 💅🏻, 💃🏻, 👿, 👮\\u200d♂️, 👩\\u200d🍳, 👨\\u200d🍳, 👥, 👍🏿, 👉🏽, 👈🏽, 👇🏽, 👃, 🐲, 🐦\\u200d⬛, 🐠, 🏞️, 🏔️, 🏃\\u200d♂️, 🏁, 🎯, 🎞️, 🎞, 🎙️, 🎇, 🍿, 🍾, 🍻, 🍪, 🍥, 🍖, 🍕, 🍉, 🍈, 🍇, 🌲, 🌮, 🌚, 🌑, 🇸🇪, 🇷🇴, 🇵🇸, 🇵🇱, 🇳🇴, 🇰🇵, 🇮🇹, 🇫🇮, 🇪🇸, 🇨🇭, 🆙, ⬆, ⬅️, ❣️, ✝️, ✔, ⛽, ⚔️, ♣️, ♟️, ♀️, ☠, ↘️, 4️⃣'},\n",
       "     {'thumb': 'https://cdn.bsky.app/img/feed_thumbnail/plain/did:plc:mcb6n67plnrlx4lg35natk2b/bafkreigt2hnlo2phvckchmz6kzqt6le74js7y7ajoppxn7hvlvudautwhm@jpeg',\n",
       "      'fullsize': 'https://cdn.bsky.app/img/feed_fullsize/plain/did:plc:mcb6n67plnrlx4lg35natk2b/bafkreigt2hnlo2phvckchmz6kzqt6le74js7y7ajoppxn7hvlvudautwhm@jpeg',\n",
       "      'alt': 'NickWrightData.01 [QR code from the Signal app] Contact the Developer with any concerns (link in alt text: https://signal.me/#eu/XNbymWWcjJZxBHdeJWvTbXK86ViP1DYALo68NJYWDR8JQYuZwu5G0ojsYMG9_Qyf )'}]},\n",
       "   'replyCount': 0,\n",
       "   'repostCount': 0,\n",
       "   'likeCount': 1,\n",
       "   'quoteCount': 0,\n",
       "   'indexedAt': '2024-12-23T18:51:11.755Z',\n",
       "   'labels': []},\n",
       "  {'uri': 'at://did:plc:iytaukwz4qivg3ldw3b65bjb/app.bsky.feed.post/3ldyluafkpc2x',\n",
       "   'cid': 'bafyreif7tc73qwq55mtcxkeadx2ob4butyx5st2ifsn42lw2sp6lr2dxrm',\n",
       "   'author': {'did': 'did:plc:iytaukwz4qivg3ldw3b65bjb',\n",
       "    'handle': 'hypathia.bsky.social',\n",
       "    'displayName': 'Hypathie',\n",
       "    'avatar': 'https://cdn.bsky.app/img/avatar/plain/did:plc:iytaukwz4qivg3ldw3b65bjb/bafkreihs6leyrdkecu7z5gh3fn6g5pujjcjl2f4hes5zbhualbytst7vhe@jpeg',\n",
       "    'labels': [],\n",
       "    'createdAt': '2023-09-30T10:54:29.757Z'},\n",
       "   'record': {'$type': 'app.bsky.feed.post',\n",
       "    'createdAt': '2024-12-23T18:49:21.850Z',\n",
       "    'langs': ['fr'],\n",
       "    'reply': {'parent': {'cid': 'bafyreibuiqttu7ndos3h3uwhkygijan3yfawqhqg3uw2nfrgc6t2cvljw4',\n",
       "      'uri': 'at://did:plc:6aadvxjarph55pshqyfu5zap/app.bsky.feed.post/3ldyl64ncks2v'},\n",
       "     'root': {'cid': 'bafyreicnhtbcuxqeeigzjbfy7l2jz37eekkwli5cpsk6tk3jsjeualhzey',\n",
       "      'uri': 'at://did:plc:6aadvxjarph55pshqyfu5zap/app.bsky.feed.post/3ldykdbk5rc2v'}},\n",
       "    'text': \"Ce qui est excessif... Macron n'est pas Poutine, pas plus que Netanyahou, ni Trump. Les constitutions ne sont pas les mêmes, les trois politiques cités ont des opinions publiques qui manifestent dans la rue, une presse libre. Même l'Argentine descend ds la rue sans qu'on tape sur les manifestants.\"},\n",
       "   'replyCount': 1,\n",
       "   'repostCount': 0,\n",
       "   'likeCount': 0,\n",
       "   'quoteCount': 0,\n",
       "   'indexedAt': '2024-12-23T18:49:21.755Z',\n",
       "   'labels': []},\n",
       "  {'uri': 'at://did:plc:lssoskdoo5oooyyyapsrdwu7/app.bsky.feed.post/3ldylsjp5z222',\n",
       "   'cid': 'bafyreid3edpqqoysevt247bdqsgrbaqsnqy2kn3tev4hmhme7cet3zlafm',\n",
       "   'author': {'did': 'did:plc:lssoskdoo5oooyyyapsrdwu7',\n",
       "    'handle': 'deviantnewt.bsky.social',\n",
       "    'displayName': 'Deviant Newt',\n",
       "    'avatar': 'https://cdn.bsky.app/img/avatar/plain/did:plc:lssoskdoo5oooyyyapsrdwu7/bafkreighafaix24uwrf3xtryawk3tl2wkojdbc5qn237u4zuot6fhrudxu@jpeg',\n",
       "    'associated': {'chat': {'allowIncoming': 'all'}},\n",
       "    'labels': [],\n",
       "    'createdAt': '2023-08-13T06:08:59.631Z'},\n",
       "   'record': {'$type': 'app.bsky.feed.post',\n",
       "    'createdAt': '2024-12-23T18:48:24.491Z',\n",
       "    'langs': ['fr'],\n",
       "    'text': 'I hate AI, I hate the US government, I hate Trump, I hate Musk, I hate the French government, I hate Macron, I hate Le Pen, I hate Putin, I hate White People, I hate Israel and I just want to be fucking happy without my happiness being made possible by destruction. FUCK.'},\n",
       "   'replyCount': 0,\n",
       "   'repostCount': 5,\n",
       "   'likeCount': 13,\n",
       "   'quoteCount': 0,\n",
       "   'indexedAt': '2024-12-23T18:48:25.153Z',\n",
       "   'labels': []},\n",
       "  {'uri': 'at://did:plc:mcb6n67plnrlx4lg35natk2b/app.bsky.feed.post/3ldylf7vlu222',\n",
       "   'cid': 'bafyreigidey5w5ifixfeq2p6p7fnen4mlpermkvqsywk4euoefkgzsp5du',\n",
       "   'author': {'did': 'did:plc:mcb6n67plnrlx4lg35natk2b',\n",
       "    'handle': 'nowbreezing.ntw.app',\n",
       "    'displayName': '☁️Now🤖Breezing💨 [UNOFFICIAL]',\n",
       "    'avatar': 'https://cdn.bsky.app/img/avatar/plain/did:plc:mcb6n67plnrlx4lg35natk2b/bafkreiaagvzfzc5rcx6dhdcquu7kaq5lcjhdmubvpmlest4kwxhjf6336m@jpeg',\n",
       "    'associated': {'chat': {'allowIncoming': 'none'}},\n",
       "    'labels': [],\n",
       "    'createdAt': '2023-05-23T20:37:36.553Z'},\n",
       "   'record': {'$type': 'app.bsky.feed.post',\n",
       "    'createdAt': '2024-12-23T18:40:58.494707+00:00',\n",
       "    'embed': {'$type': 'app.bsky.embed.images',\n",
       "     'images': [{'$type': 'app.bsky.embed.images#image',\n",
       "       'alt': \"Word Cloud; its top words (sorted by weighted frequency, descending):  valls, darmanin, gouvernement, festivus, ukraine, borne, gaetz, statutory, gaza, underage, ministre, greenland, censure, bayrou, retailleau, ministres, panama, ministère, manuel, gueule, blague, prostitution, merrick, matt, pire, l'intérieur, grievances, ethics.house.gov/wp-content/u, outre-mer, nommé, rire, nouveau, garland, gaetz's, caixinha, eve, ethics, bergé, nommer, merry, illicit, extraterrestre, censurer, cadeau, rebsamen, raciste, pleads, periodistas, noël, non-lotr, merde, mayotte, joyeux, holidays, hanukkah, complètement, commuted, bertrand, aurore, έχω, véspera, veulent, putain, provocation, novia, montre, mammoth, macron, lombard, l'extrême, kathy, jul, joulua, inocente, inmates, hyvää, garde, françois, franchement, fera, elisabeth, déçu, dislocated, deuil, commandos, ceia, cawthorn, bras, baldoni, attorney, ag, 17-year-old, 1.30, versatile, unveiled, treinador, trafficking, sid, santa's, rudy, renovada, rapists, rape, privileges, pollo, obstruction, mêmes, merchant, marge, l'éducation, l'outre-mer, gérald, gvt, geschenke, gauche, gars, fout, fiestas, farting, droite, deputado, dati, culpable, cramer, bordel, blij, blackmail, belarus, bande, alerta, acl, 12/23/2024, クリスマスイブ, élections, électeurs, www.cnn.com/2024/12/23/p, wrapping, weihnachten, vraiment, voulu, visage, técnico, transitioned, thugs, takeaways, sympa, speedrun, snowstorm, sexuelles, sentencing, s'y, regalos, racisme, qu'on, qu'ils, qu'est-ce, période, prêt, presents, politique, planetary, pimp, panamá, oublier, orgies, numéro, nfp, monetary, milieu, merger, marjorie, macronie, législatives, lutar, leão, kerst, jester, investigar, invade, impermissible, huomenna, happiest, grievance, gouvernements, getaway, garland's, frohe, foutage, feather, epstein, elk, dumbasses, dost, doj, disqualified, dirait, destinations, depravity, deplorable, deimos\",\n",
       "       'image': {'$type': 'blob',\n",
       "        'ref': {'$link': 'bafkreiawnneti6cdg2ft2iqcj4moqowglvrrneilct5nuq2ypzv4772fdi'},\n",
       "        'mimeType': 'image/jpeg',\n",
       "        'size': 443721}},\n",
       "      {'$type': 'app.bsky.embed.images#image',\n",
       "       'alt': 'Hashtag Cloud; its hashtagged words/phrases (sorted by weighted frequency, descending):  christmas, gouvernementbayrou, gay, filmsky, artist, twitch, bayrou, gamedev, movies, birds, artadventcalendar, wip, trump, tarot, zodiac, nsfwsky, horoscope, gouvernement, gaming, asrtrology, news, monochromemonday, happyholidays, presidentmusk, indiedev, bluecrew, sexy, christmas2024, boldandbeautiful, witchsky, resist, mattgaetz, hentai, gaetz, festivus, artwork, xmas, valls, sonicthehedgehog, santa, magdeburg, macron, jayvik, history, helpsky, haiku, dogs, vrchat, usa, transgender, russia, retrogaming, painting, mutualaid, merrychristmas, love, lgbtq, humanatm, france, football, dccomics, cute, collabfcbot, vr, unrivaled, twitchstreamer, streaming, startrek, spicysky, science, pets, palestine, naked, nafo, moviesky, live, girl, gayart, doctorwho, creaturecommandos, comedy, canada, alphabetchallenge, abdl, yule, wwe, woman, weihnachten, vintage, tv, texans, strongertogether, stream, space, sonic3, sonic, selflove, rule34, resistance, portrait, photographer, peace, nyr, njdevils, nhl, musicapervecchi, monday, mentalhealth, marvel, luigi, linux, lingerie, life, latex, israel, holidays, holiday, gop, goonette, godot, genocide, gaysex, fursona, fpl, fortnite, fineart, fetish, education, disney, cinema, censure, cdnpoli, cartoon, borne, blonde, biden, beautiful, bbcnews, batman, author, artshare, ad, 20daybookchallenge, クリスマス, yiff, worldofwarcraft, wnba, weekzforzoom, water, war, vtubersupportbeam, vinylrecords, twst, twitchaffiliate, thrive, technews, tattoo, tarotsky, switch, sustainability, stablediffusion, sportsbetting, sinn, simp, signalboost, seinfeld, rubber, republicans, r18, punk, outdoors, nowspinning, nipples, newyork, natal, muscular, murderdrones, movie, mangione, magamorons, lgbtqia, kindle, jokes, jockstrap, iot, inspiration, hugecock, hiking, helpfolkslive2024, gratitude, gift, giantess, germany, generativeai, genealogy, gaytwink, gaykink, gayfetish, fucking, free',\n",
       "       'image': {'$type': 'blob',\n",
       "        'ref': {'$link': 'bafkreienntq7hq7dn4gfqgx6lkpwq7zbrwr3cycgjckpqq37ygei4txuei'},\n",
       "        'mimeType': 'image/jpeg',\n",
       "        'size': 266310}},\n",
       "      {'$type': 'app.bsky.embed.images#image',\n",
       "       'alt': 'Emoji Cloud; its emojis (sorted by weighted frequency, descending):  🧑\\u200d🎄, 🎅🏻, ☃️, 🎅, 🎄, ☑️, 🕺🏽, 🕎, 🎁, 🪡, 🧣, 🧍\\u200d♀️, 🦢, 🥉, 🤷🏿\\u200d♂️, 🤷🏼, 🤶🏻, 🤶, 🤥, 🤞🏾, 🤙, 🤏🏼, 🛡️, 🛋️, 🚲, 🙏🏿, 🙋🏼\\u200d♀️, 😾, 😽, 🖌️, 🕹️, 🕳️, 🔭, 📙, 👇🏽, 🏒, 🇨🇴, ⚾, ⚖️, ♠️, ™️, \\U0001faf2, 🫔, \\U0001facf, \\U0001faa9, 🪐, 🩺, 🧳, 🧱, 🧭, 🧢, 🧟\\u200d♂️, 🧑🏻\\u200d🎄, 🦾, 🦠, 🦛, 🦒, 🦌, 🥸, 🥤, 🥚, 🥈, 🥃, 🥂, 🤷🏾\\u200d♂️, 🤷🏾\\u200d♀️, 🤷🏼\\u200d♂️, 🤷\\u200d♂️, 🤷\\u200d♀️, 🤮, 🤨, 🤦🏾\\u200d♂️, 🤦🏼\\u200d♀️, 🤦🏻\\u200d♀️, 🤦\\u200d♀️, 🤢, 🤞🏼, 🤝🏽, 🤜, 🤛, 🤒, 🤌🏼, 🚴, 🚪, 🚢, 🚙, 🙅\\u200d♂️, 😶\\u200d🌫️, 😖, 😃, 🗿, 🗒️, 🖊️, 🔃, 📽️, 📽, 📹, 📰, 📘, 💶, 💈, 👿, 👌🏻, 👆🏼, 👆, 🐻\\u200d❄️, 🐋, 🐀, 🏷️, 🏛️, 🏈, 🏀, 🎭, 🎪, 🎨, 🎞, 🎅🏼, 🍿, 🍷, 🍪, 🍥, 🍤, 🍗, 🍉, 🌵, 🌲, 🌭, 🌨️, 🌏, 🇺🇲, 🇰🇿, 🇮🇪, 🇫🇷, 🇨🇿, 🇧🇾, 🆕, 🅿️, ❇️, ❄️, ✍🏾, ✌🏽, ✋🏻, ✊🏽, ✊🏼, ☎️, ☃, ▶️, ⌛',\n",
       "       'image': {'$type': 'blob',\n",
       "        'ref': {'$link': 'bafkreibol4mwsbhz2rzk5mdr2nj3ej6fvymq3dzzbobbjipnlk6l3dcg24'},\n",
       "        'mimeType': 'image/jpeg',\n",
       "        'size': 615209}},\n",
       "      {'$type': 'app.bsky.embed.images#image',\n",
       "       'alt': 'NickWrightData.01 [QR code from the Signal app] Contact the Developer with any concerns (link in alt text: https://signal.me/#eu/XNbymWWcjJZxBHdeJWvTbXK86ViP1DYALo68NJYWDR8JQYuZwu5G0ojsYMG9_Qyf )',\n",
       "       'image': {'$type': 'blob',\n",
       "        'ref': {'$link': 'bafkreigt2hnlo2phvckchmz6kzqt6le74js7y7ajoppxn7hvlvudautwhm'},\n",
       "        'mimeType': 'image/png',\n",
       "        'size': 63734}}]},\n",
       "    'facets': [{'$type': 'app.bsky.richtext.facet',\n",
       "      'features': [{'$type': 'app.bsky.richtext.facet#link',\n",
       "        'uri': 'http://bsky.app/search?q=valls'}],\n",
       "      'index': {'$type': 'app.bsky.richtext.facet#byteSlice',\n",
       "       'byteEnd': 82,\n",
       "       'byteStart': 77}},\n",
       "     {'$type': 'app.bsky.richtext.facet',\n",
       "      'features': [{'$type': 'app.bsky.richtext.facet#link',\n",
       "        'uri': 'http://bsky.app/search?q=darmanin'}],\n",
       "      'index': {'$type': 'app.bsky.richtext.facet#byteSlice',\n",
       "       'byteEnd': 108,\n",
       "       'byteStart': 100}},\n",
       "     {'$type': 'app.bsky.richtext.facet',\n",
       "      'features': [{'$type': 'app.bsky.richtext.facet#link',\n",
       "        'uri': 'http://bsky.app/search?q=gouvernement'}],\n",
       "      'index': {'$type': 'app.bsky.richtext.facet#byteSlice',\n",
       "       'byteEnd': 138,\n",
       "       'byteStart': 126}},\n",
       "     {'$type': 'app.bsky.richtext.facet',\n",
       "      'features': [{'$type': 'app.bsky.richtext.facet#link',\n",
       "        'uri': 'http://bsky.app/search?q=festivus'}],\n",
       "      'index': {'$type': 'app.bsky.richtext.facet#byteSlice',\n",
       "       'byteEnd': 164,\n",
       "       'byteStart': 156}},\n",
       "     {'$type': 'app.bsky.richtext.facet',\n",
       "      'features': [{'$type': 'app.bsky.richtext.facet#link',\n",
       "        'uri': 'http://bsky.app/search?q=ukraine'}],\n",
       "      'index': {'$type': 'app.bsky.richtext.facet#byteSlice',\n",
       "       'byteEnd': 189,\n",
       "       'byteStart': 182}},\n",
       "     {'$type': 'app.bsky.richtext.facet',\n",
       "      'features': [{'$type': 'app.bsky.richtext.facet#link',\n",
       "        'uri': 'http://bsky.app/search?q=borne'}],\n",
       "      'index': {'$type': 'app.bsky.richtext.facet#byteSlice',\n",
       "       'byteEnd': 212,\n",
       "       'byteStart': 207}},\n",
       "     {'$type': 'app.bsky.richtext.facet',\n",
       "      'features': [{'$type': 'app.bsky.richtext.facet#link',\n",
       "        'uri': 'http://bsky.app/search?q=gaetz'}],\n",
       "      'index': {'$type': 'app.bsky.richtext.facet#byteSlice',\n",
       "       'byteEnd': 235,\n",
       "       'byteStart': 230}},\n",
       "     {'$type': 'app.bsky.richtext.facet',\n",
       "      'features': [{'$type': 'app.bsky.richtext.facet#link',\n",
       "        'uri': 'http://bsky.app/search?q=statutory'}],\n",
       "      'index': {'$type': 'app.bsky.richtext.facet#byteSlice',\n",
       "       'byteEnd': 262,\n",
       "       'byteStart': 253}},\n",
       "     {'$type': 'app.bsky.richtext.facet',\n",
       "      'features': [{'$type': 'app.bsky.richtext.facet#link',\n",
       "        'uri': 'http://bsky.app/search?q=gaza'}],\n",
       "      'index': {'$type': 'app.bsky.richtext.facet#byteSlice',\n",
       "       'byteEnd': 284,\n",
       "       'byteStart': 280}},\n",
       "     {'$type': 'app.bsky.richtext.facet',\n",
       "      'features': [{'$type': 'app.bsky.richtext.facet#link',\n",
       "        'uri': 'http://bsky.app/search?q=underage'}],\n",
       "      'index': {'$type': 'app.bsky.richtext.facet#byteSlice',\n",
       "       'byteEnd': 310,\n",
       "       'byteStart': 302}}],\n",
       "    'text': \"\\nBluesky's Top 10 Trending Words from the Past 10 Minutes:\\n️⚠️💨12 - valls\\n️⚠️💨5 - darmanin\\n️⚠️💨4 - gouvernement\\n️⚠️💨4 - festivus\\n️⚠️💨3 - ukraine\\n️⚠️💨3 - borne\\n️⚠️💨3 - gaetz\\n️⚠️💨2 - statutory\\n️⚠️💨2 - gaza\\n️⚠️💨2 - underage\\n(tap/click to see all posts on Bluesky featuring that word!)\\n\\n#FreePalestine 🇵🇸\"},\n",
       "   'embed': {'$type': 'app.bsky.embed.images#view',\n",
       "    'images': [{'thumb': 'https://cdn.bsky.app/img/feed_thumbnail/plain/did:plc:mcb6n67plnrlx4lg35natk2b/bafkreiawnneti6cdg2ft2iqcj4moqowglvrrneilct5nuq2ypzv4772fdi@jpeg',\n",
       "      'fullsize': 'https://cdn.bsky.app/img/feed_fullsize/plain/did:plc:mcb6n67plnrlx4lg35natk2b/bafkreiawnneti6cdg2ft2iqcj4moqowglvrrneilct5nuq2ypzv4772fdi@jpeg',\n",
       "      'alt': \"Word Cloud; its top words (sorted by weighted frequency, descending):  valls, darmanin, gouvernement, festivus, ukraine, borne, gaetz, statutory, gaza, underage, ministre, greenland, censure, bayrou, retailleau, ministres, panama, ministère, manuel, gueule, blague, prostitution, merrick, matt, pire, l'intérieur, grievances, ethics.house.gov/wp-content/u, outre-mer, nommé, rire, nouveau, garland, gaetz's, caixinha, eve, ethics, bergé, nommer, merry, illicit, extraterrestre, censurer, cadeau, rebsamen, raciste, pleads, periodistas, noël, non-lotr, merde, mayotte, joyeux, holidays, hanukkah, complètement, commuted, bertrand, aurore, έχω, véspera, veulent, putain, provocation, novia, montre, mammoth, macron, lombard, l'extrême, kathy, jul, joulua, inocente, inmates, hyvää, garde, françois, franchement, fera, elisabeth, déçu, dislocated, deuil, commandos, ceia, cawthorn, bras, baldoni, attorney, ag, 17-year-old, 1.30, versatile, unveiled, treinador, trafficking, sid, santa's, rudy, renovada, rapists, rape, privileges, pollo, obstruction, mêmes, merchant, marge, l'éducation, l'outre-mer, gérald, gvt, geschenke, gauche, gars, fout, fiestas, farting, droite, deputado, dati, culpable, cramer, bordel, blij, blackmail, belarus, bande, alerta, acl, 12/23/2024, クリスマスイブ, élections, électeurs, www.cnn.com/2024/12/23/p, wrapping, weihnachten, vraiment, voulu, visage, técnico, transitioned, thugs, takeaways, sympa, speedrun, snowstorm, sexuelles, sentencing, s'y, regalos, racisme, qu'on, qu'ils, qu'est-ce, période, prêt, presents, politique, planetary, pimp, panamá, oublier, orgies, numéro, nfp, monetary, milieu, merger, marjorie, macronie, législatives, lutar, leão, kerst, jester, investigar, invade, impermissible, huomenna, happiest, grievance, gouvernements, getaway, garland's, frohe, foutage, feather, epstein, elk, dumbasses, dost, doj, disqualified, dirait, destinations, depravity, deplorable, deimos\"},\n",
       "     {'thumb': 'https://cdn.bsky.app/img/feed_thumbnail/plain/did:plc:mcb6n67plnrlx4lg35natk2b/bafkreienntq7hq7dn4gfqgx6lkpwq7zbrwr3cycgjckpqq37ygei4txuei@jpeg',\n",
       "      'fullsize': 'https://cdn.bsky.app/img/feed_fullsize/plain/did:plc:mcb6n67plnrlx4lg35natk2b/bafkreienntq7hq7dn4gfqgx6lkpwq7zbrwr3cycgjckpqq37ygei4txuei@jpeg',\n",
       "      'alt': 'Hashtag Cloud; its hashtagged words/phrases (sorted by weighted frequency, descending):  christmas, gouvernementbayrou, gay, filmsky, artist, twitch, bayrou, gamedev, movies, birds, artadventcalendar, wip, trump, tarot, zodiac, nsfwsky, horoscope, gouvernement, gaming, asrtrology, news, monochromemonday, happyholidays, presidentmusk, indiedev, bluecrew, sexy, christmas2024, boldandbeautiful, witchsky, resist, mattgaetz, hentai, gaetz, festivus, artwork, xmas, valls, sonicthehedgehog, santa, magdeburg, macron, jayvik, history, helpsky, haiku, dogs, vrchat, usa, transgender, russia, retrogaming, painting, mutualaid, merrychristmas, love, lgbtq, humanatm, france, football, dccomics, cute, collabfcbot, vr, unrivaled, twitchstreamer, streaming, startrek, spicysky, science, pets, palestine, naked, nafo, moviesky, live, girl, gayart, doctorwho, creaturecommandos, comedy, canada, alphabetchallenge, abdl, yule, wwe, woman, weihnachten, vintage, tv, texans, strongertogether, stream, space, sonic3, sonic, selflove, rule34, resistance, portrait, photographer, peace, nyr, njdevils, nhl, musicapervecchi, monday, mentalhealth, marvel, luigi, linux, lingerie, life, latex, israel, holidays, holiday, gop, goonette, godot, genocide, gaysex, fursona, fpl, fortnite, fineart, fetish, education, disney, cinema, censure, cdnpoli, cartoon, borne, blonde, biden, beautiful, bbcnews, batman, author, artshare, ad, 20daybookchallenge, クリスマス, yiff, worldofwarcraft, wnba, weekzforzoom, water, war, vtubersupportbeam, vinylrecords, twst, twitchaffiliate, thrive, technews, tattoo, tarotsky, switch, sustainability, stablediffusion, sportsbetting, sinn, simp, signalboost, seinfeld, rubber, republicans, r18, punk, outdoors, nowspinning, nipples, newyork, natal, muscular, murderdrones, movie, mangione, magamorons, lgbtqia, kindle, jokes, jockstrap, iot, inspiration, hugecock, hiking, helpfolkslive2024, gratitude, gift, giantess, germany, generativeai, genealogy, gaytwink, gaykink, gayfetish, fucking, free'},\n",
       "     {'thumb': 'https://cdn.bsky.app/img/feed_thumbnail/plain/did:plc:mcb6n67plnrlx4lg35natk2b/bafkreibol4mwsbhz2rzk5mdr2nj3ej6fvymq3dzzbobbjipnlk6l3dcg24@jpeg',\n",
       "      'fullsize': 'https://cdn.bsky.app/img/feed_fullsize/plain/did:plc:mcb6n67plnrlx4lg35natk2b/bafkreibol4mwsbhz2rzk5mdr2nj3ej6fvymq3dzzbobbjipnlk6l3dcg24@jpeg',\n",
       "      'alt': 'Emoji Cloud; its emojis (sorted by weighted frequency, descending):  🧑\\u200d🎄, 🎅🏻, ☃️, 🎅, 🎄, ☑️, 🕺🏽, 🕎, 🎁, 🪡, 🧣, 🧍\\u200d♀️, 🦢, 🥉, 🤷🏿\\u200d♂️, 🤷🏼, 🤶🏻, 🤶, 🤥, 🤞🏾, 🤙, 🤏🏼, 🛡️, 🛋️, 🚲, 🙏🏿, 🙋🏼\\u200d♀️, 😾, 😽, 🖌️, 🕹️, 🕳️, 🔭, 📙, 👇🏽, 🏒, 🇨🇴, ⚾, ⚖️, ♠️, ™️, \\U0001faf2, 🫔, \\U0001facf, \\U0001faa9, 🪐, 🩺, 🧳, 🧱, 🧭, 🧢, 🧟\\u200d♂️, 🧑🏻\\u200d🎄, 🦾, 🦠, 🦛, 🦒, 🦌, 🥸, 🥤, 🥚, 🥈, 🥃, 🥂, 🤷🏾\\u200d♂️, 🤷🏾\\u200d♀️, 🤷🏼\\u200d♂️, 🤷\\u200d♂️, 🤷\\u200d♀️, 🤮, 🤨, 🤦🏾\\u200d♂️, 🤦🏼\\u200d♀️, 🤦🏻\\u200d♀️, 🤦\\u200d♀️, 🤢, 🤞🏼, 🤝🏽, 🤜, 🤛, 🤒, 🤌🏼, 🚴, 🚪, 🚢, 🚙, 🙅\\u200d♂️, 😶\\u200d🌫️, 😖, 😃, 🗿, 🗒️, 🖊️, 🔃, 📽️, 📽, 📹, 📰, 📘, 💶, 💈, 👿, 👌🏻, 👆🏼, 👆, 🐻\\u200d❄️, 🐋, 🐀, 🏷️, 🏛️, 🏈, 🏀, 🎭, 🎪, 🎨, 🎞, 🎅🏼, 🍿, 🍷, 🍪, 🍥, 🍤, 🍗, 🍉, 🌵, 🌲, 🌭, 🌨️, 🌏, 🇺🇲, 🇰🇿, 🇮🇪, 🇫🇷, 🇨🇿, 🇧🇾, 🆕, 🅿️, ❇️, ❄️, ✍🏾, ✌🏽, ✋🏻, ✊🏽, ✊🏼, ☎️, ☃, ▶️, ⌛'},\n",
       "     {'thumb': 'https://cdn.bsky.app/img/feed_thumbnail/plain/did:plc:mcb6n67plnrlx4lg35natk2b/bafkreigt2hnlo2phvckchmz6kzqt6le74js7y7ajoppxn7hvlvudautwhm@jpeg',\n",
       "      'fullsize': 'https://cdn.bsky.app/img/feed_fullsize/plain/did:plc:mcb6n67plnrlx4lg35natk2b/bafkreigt2hnlo2phvckchmz6kzqt6le74js7y7ajoppxn7hvlvudautwhm@jpeg',\n",
       "      'alt': 'NickWrightData.01 [QR code from the Signal app] Contact the Developer with any concerns (link in alt text: https://signal.me/#eu/XNbymWWcjJZxBHdeJWvTbXK86ViP1DYALo68NJYWDR8JQYuZwu5G0ojsYMG9_Qyf )'}]},\n",
       "   'replyCount': 0,\n",
       "   'repostCount': 0,\n",
       "   'likeCount': 1,\n",
       "   'quoteCount': 0,\n",
       "   'indexedAt': '2024-12-23T18:40:58.658Z',\n",
       "   'labels': []},\n",
       "  {'uri': 'at://did:plc:g4627gqwexrbatcw7oc633kp/app.bsky.feed.post/3ldylcmf4vk2a',\n",
       "   'cid': 'bafyreifcc3j6gwsmlkb7toeh6xwmrxgpa7qsfy4ctwwjenldfzrmxpi7ci',\n",
       "   'author': {'did': 'did:plc:g4627gqwexrbatcw7oc633kp',\n",
       "    'handle': 'thomascadene.bsky.social',\n",
       "    'displayName': 'Thomas Cadène',\n",
       "    'avatar': 'https://cdn.bsky.app/img/avatar/plain/did:plc:g4627gqwexrbatcw7oc633kp/bafkreifjapg7zv2p26az2votlj57zy5uiwaula5qkvictcdaey6eyteb2a@jpeg',\n",
       "    'labels': [{'src': 'did:plc:g4627gqwexrbatcw7oc633kp',\n",
       "      'uri': 'at://did:plc:g4627gqwexrbatcw7oc633kp/app.bsky.actor.profile/self',\n",
       "      'cid': 'bafyreihop2j3zlmq42cqhunetemn67krp3sh6q7ml6q4mdqa7cxgrnw2ee',\n",
       "      'val': '!no-unauthenticated',\n",
       "      'cts': '1970-01-01T00:00:00.000Z'}],\n",
       "    'createdAt': '2023-08-22T15:32:28.135Z'},\n",
       "   'record': {'$type': 'app.bsky.feed.post',\n",
       "    'createdAt': '2024-12-23T18:39:30.438Z',\n",
       "    'embed': {'$type': 'app.bsky.embed.record',\n",
       "     'record': {'cid': 'bafyreiaqdl34jdqulfjcugjartr4bfnbdn34udb66hio7u7ug2yczw6pwq',\n",
       "      'uri': 'at://did:plc:g4627gqwexrbatcw7oc633kp/app.bsky.feed.post/3ldykctx4uk2a'}},\n",
       "    'langs': ['fr'],\n",
       "    'text': 'D’ailleurs, si vous vivez dans un monde où Rebsamen est de gauche c’est que vous vivez dans une réalité alternative dans laquelle Macron est banquier, Hollande, ennemi de la finance et Trump animateur télé. Vous avez trouvé une faille du continuum espace temps.'},\n",
       "   'embed': {'$type': 'app.bsky.embed.record#view',\n",
       "    'record': {'$type': 'app.bsky.embed.record#viewRecord',\n",
       "     'uri': 'at://did:plc:g4627gqwexrbatcw7oc633kp/app.bsky.feed.post/3ldykctx4uk2a',\n",
       "     'cid': 'bafyreiaqdl34jdqulfjcugjartr4bfnbdn34udb66hio7u7ug2yczw6pwq',\n",
       "     'author': {'did': 'did:plc:g4627gqwexrbatcw7oc633kp',\n",
       "      'handle': 'thomascadene.bsky.social',\n",
       "      'displayName': 'Thomas Cadène',\n",
       "      'avatar': 'https://cdn.bsky.app/img/avatar/plain/did:plc:g4627gqwexrbatcw7oc633kp/bafkreifjapg7zv2p26az2votlj57zy5uiwaula5qkvictcdaey6eyteb2a@jpeg',\n",
       "      'labels': [{'src': 'did:plc:g4627gqwexrbatcw7oc633kp',\n",
       "        'uri': 'at://did:plc:g4627gqwexrbatcw7oc633kp/app.bsky.actor.profile/self',\n",
       "        'cid': 'bafyreihop2j3zlmq42cqhunetemn67krp3sh6q7ml6q4mdqa7cxgrnw2ee',\n",
       "        'val': '!no-unauthenticated',\n",
       "        'cts': '1970-01-01T00:00:00.000Z'}],\n",
       "      'createdAt': '2023-08-22T15:32:28.135Z'},\n",
       "     'value': {'$type': 'app.bsky.feed.post',\n",
       "      'createdAt': '2024-12-23T18:21:44.627Z',\n",
       "      'langs': ['fr'],\n",
       "      'text': 'Rappel : Tous les journalistes qui associent «\\xa0gauche\\xa0» avec «\\xa0Valls\\xa0» sont des clowns qui n’ont pas travaillé leurs dossiers ou des gens qui sortent d’un très Long coma.'},\n",
       "     'labels': [],\n",
       "     'likeCount': 392,\n",
       "     'replyCount': 17,\n",
       "     'repostCount': 85,\n",
       "     'quoteCount': 5,\n",
       "     'indexedAt': '2024-12-23T18:21:44.850Z',\n",
       "     'embeds': []}},\n",
       "   'replyCount': 0,\n",
       "   'repostCount': 4,\n",
       "   'likeCount': 13,\n",
       "   'quoteCount': 0,\n",
       "   'indexedAt': '2024-12-23T18:39:30.653Z',\n",
       "   'labels': []},\n",
       "  {'uri': 'at://did:plc:nw3zwcda6vo3kqkyopq6w7rd/app.bsky.feed.post/3ldyl7z77b22x',\n",
       "   'cid': 'bafyreigykhxpvnp5ksdgqvzm7bpkxhacrftmv2bhmi2bi63dmm6bagq2de',\n",
       "   'author': {'did': 'did:plc:nw3zwcda6vo3kqkyopq6w7rd',\n",
       "    'handle': 'lee-jack-facial.bsky.social',\n",
       "    'displayName': '',\n",
       "    'avatar': 'https://cdn.bsky.app/img/avatar/plain/did:plc:nw3zwcda6vo3kqkyopq6w7rd/bafkreib4cbd5pg3yp5tb4mqfnccyvjaowg3e2a44eloqmjzcixeiogklui@jpeg',\n",
       "    'labels': [],\n",
       "    'createdAt': '2024-11-21T10:32:19.272Z'},\n",
       "   'record': {'$type': 'app.bsky.feed.post',\n",
       "    'createdAt': '2024-12-23T18:38:03.213Z',\n",
       "    'langs': ['fr'],\n",
       "    'reply': {'parent': {'cid': 'bafyreievvbi2efd7ze5axogbrzaib6wxbgee34iphfk4vacoangynsecxi',\n",
       "      'uri': 'at://did:plc:tytyo7jhiuo5gnd6tq6pwyif/app.bsky.feed.post/3ldykip6mfs23'},\n",
       "     'root': {'cid': 'bafyreievvbi2efd7ze5axogbrzaib6wxbgee34iphfk4vacoangynsecxi',\n",
       "      'uri': 'at://did:plc:tytyo7jhiuo5gnd6tq6pwyif/app.bsky.feed.post/3ldykip6mfs23'}},\n",
       "    'text': 'Pour moi , deux raison pour ce gouvernement.\\nPremière appel de bayrou a Trump à mara lapau pour constituer un gouvernement dans le style Trump. \\nDeuxième valls c est du à sa réussite en Espagne (extrême droite etc), darmanin car après mazan , macron a voulu envoyer un message clair.'},\n",
       "   'replyCount': 0,\n",
       "   'repostCount': 0,\n",
       "   'likeCount': 0,\n",
       "   'quoteCount': 0,\n",
       "   'indexedAt': '2024-12-23T18:38:03.959Z',\n",
       "   'labels': []},\n",
       "  {'uri': 'at://did:plc:6aadvxjarph55pshqyfu5zap/app.bsky.feed.post/3ldyl64ncks2v',\n",
       "   'cid': 'bafyreibuiqttu7ndos3h3uwhkygijan3yfawqhqg3uw2nfrgc6t2cvljw4',\n",
       "   'author': {'did': 'did:plc:6aadvxjarph55pshqyfu5zap',\n",
       "    'handle': 'jurpackmirdy.bsky.social',\n",
       "    'displayName': 'Louis Plan',\n",
       "    'avatar': 'https://cdn.bsky.app/img/avatar/plain/did:plc:6aadvxjarph55pshqyfu5zap/bafkreib3xlb73qco767lxohrlstziyow4aepp3uzwxu33xmlrubkb52ww4@jpeg',\n",
       "    'labels': [],\n",
       "    'createdAt': '2024-11-19T13:52:02.606Z'},\n",
       "   'record': {'$type': 'app.bsky.feed.post',\n",
       "    'createdAt': '2024-12-23T18:36:59.711Z',\n",
       "    'langs': ['fr'],\n",
       "    'reply': {'parent': {'cid': 'bafyreih7iwakmbgvghwlejre3rhh4vun3rc3jlux3u2w7vqtwacedg4yty',\n",
       "      'uri': 'at://did:plc:iytaukwz4qivg3ldw3b65bjb/app.bsky.feed.post/3ldykj4upws2x'},\n",
       "     'root': {'cid': 'bafyreicnhtbcuxqeeigzjbfy7l2jz37eekkwli5cpsk6tk3jsjeualhzey',\n",
       "      'uri': 'at://did:plc:6aadvxjarph55pshqyfu5zap/app.bsky.feed.post/3ldykdbk5rc2v'}},\n",
       "    'text': 'Comme Netanyahu, Milei, Trump, Orban, Macron, .. Merci de compléter cette liste de grands dirigeants élus démocratiquement. \\nCombien de fois faudra-t-il le ré-pé-ter ? \\nDé-mo-cra-ti-que-ment élus.'},\n",
       "   'replyCount': 1,\n",
       "   'repostCount': 0,\n",
       "   'likeCount': 0,\n",
       "   'quoteCount': 0,\n",
       "   'indexedAt': '2024-12-23T18:37:00.050Z',\n",
       "   'labels': []},\n",
       "  {'uri': 'at://did:plc:x3ifufw6jbvsb4fgryuweu3q/app.bsky.feed.post/3ldykj7zofs2b',\n",
       "   'cid': 'bafyreicotyidymti2toenvhadbgiii7smf4sq2lxfsv7atk4v2pc654hpq',\n",
       "   'author': {'did': 'did:plc:x3ifufw6jbvsb4fgryuweu3q',\n",
       "    'handle': 'kracoukas.bsky.social',\n",
       "    'displayName': 'Kracoukas',\n",
       "    'avatar': 'https://cdn.bsky.app/img/avatar/plain/did:plc:x3ifufw6jbvsb4fgryuweu3q/bafkreib632nm4gninls3fbrnhtpcsyvnoy6tdktoqbgrqpohdhidkwf3ui@jpeg',\n",
       "    'associated': {'chat': {'allowIncoming': 'following'}},\n",
       "    'labels': [],\n",
       "    'createdAt': '2023-09-19T11:16:40.834Z'},\n",
       "   'record': {'$type': 'app.bsky.feed.post',\n",
       "    'createdAt': '2024-12-23T18:25:18.619Z',\n",
       "    'langs': ['fr'],\n",
       "    'reply': {'parent': {'cid': 'bafyreih2w5hmefhjau3sxhnbekngy76xxikklogszbmlokw6nfc5yqjf5e',\n",
       "      'uri': 'at://did:plc:gkltacl74wg3dgalevfq4ss5/app.bsky.feed.post/3ldyk6gl4cs2l'},\n",
       "     'root': {'cid': 'bafyreih2w5hmefhjau3sxhnbekngy76xxikklogszbmlokw6nfc5yqjf5e',\n",
       "      'uri': 'at://did:plc:gkltacl74wg3dgalevfq4ss5/app.bsky.feed.post/3ldyk6gl4cs2l'}},\n",
       "    'text': 'Je rentre en France pour Noël et voilà ce que je reçois en cadeau... J\\'veux rentrer à NY et regarder Trump faire nawak en en ayant rien à foutre because \"not my country, not my problem\" (c\\'est faux, Trump me donne envie de casser des trucs autant que Macron)'},\n",
       "   'replyCount': 1,\n",
       "   'repostCount': 0,\n",
       "   'likeCount': 1,\n",
       "   'quoteCount': 0,\n",
       "   'indexedAt': '2024-12-23T18:25:20.252Z',\n",
       "   'labels': []},\n",
       "  {'uri': 'at://did:plc:mcb6n67plnrlx4lg35natk2b/app.bsky.feed.post/3ldyjplouxs2d',\n",
       "   'cid': 'bafyreigmsehhgxs2gjvxionkmi6fr7hfzjyxp26u3wblf245qh3reoocyi',\n",
       "   'author': {'did': 'did:plc:mcb6n67plnrlx4lg35natk2b',\n",
       "    'handle': 'nowbreezing.ntw.app',\n",
       "    'displayName': '☁️Now🤖Breezing💨 [UNOFFICIAL]',\n",
       "    'avatar': 'https://cdn.bsky.app/img/avatar/plain/did:plc:mcb6n67plnrlx4lg35natk2b/bafkreiaagvzfzc5rcx6dhdcquu7kaq5lcjhdmubvpmlest4kwxhjf6336m@jpeg',\n",
       "    'associated': {'chat': {'allowIncoming': 'none'}},\n",
       "    'labels': [],\n",
       "    'createdAt': '2023-05-23T20:37:36.553Z'},\n",
       "   'record': {'$type': 'app.bsky.feed.post',\n",
       "    'createdAt': '2024-12-23T18:10:58.895523+00:00',\n",
       "    'embed': {'$type': 'app.bsky.embed.images',\n",
       "     'images': [{'$type': 'app.bsky.embed.images#image',\n",
       "       'alt': \"Word Cloud; its top words (sorted by weighted frequency, descending):  valls, darmanin, borne, gouvernement, retailleau, festivus, gaetz, manuel, gaza, ukraine, statutory, censure, blague, grievances, ministre, bayrou, bergé, putain, ministère, gueule, underage, ministres, l'éducation, pire, mêmes, joyeux, greenland, inmates, ethics.house.gov/wp-content/u, d'état, nommé, rire, panama, nouveau, matt, gaetz's, barnier, xxxmas, l'intérieur, bogo, aurore, noël, merry, mayotte, 2024-12-23, 17-year-old, retour, prostitution, merde, kreider, honte, ghostbusters, garde, eve, dati, bordel, vautrin, république, procès, non-lotr, n'était, merrick, macron, last-minute, hanukkah, ethics, drôle, commuted, 1,283, élections, violated, trafficking, tocards, rebsamen, outre-mer, midfielder, macronie, l'outre-mer, foutre, foutage, démocratie, devient, croire, colère, bras, 49.3, 23/12/2024, 03.00, świąt, www.cnn.com/2024/12/23/p, touche, sérieux, sociopathic, revenir, repubs, rape, qanon, pires, outre, nul, nfp, navidades, montchalin, mixture, misconduct, meghan, matty, m'attendais, l'extrême, l'enfer, jul, holidays, garland, franchement, fetterman, droite, depp, demandé, d'extrême, censuré, blagues, bamba, attorney, annex, 23rd, 23, 18.00, święta, ändern, voulait, violeur, veulent, vals, treasures, suv, supérieur, subscribing, sinsmas, sceaux, santé, recommence, prosecute, pleading, pedos, nominating, navideño, nationale, mourir, membres, mec, manque, mangione, l'extrême-droite, l'en, jusqu'au, hewitt, groomer, gouvernements, gorafi, gertz, gemaakt, garland's, garder, fiestas, epstein, envoyer, elisabeth, doj, cvs, cul, commutes, christmassy, cauchemar, bottes, blancos, bangladesh, baldoni, avril, attendre, ape, amélie, allez, airing, ag, accepter, 12/24, www.npr.org/2024/12/23/n, wrapping, weighing, véspera, vraiment, volatile, vite, veut, tomber, spew, sparkly, rêves, roasting, rien\",\n",
       "       'image': {'$type': 'blob',\n",
       "        'ref': {'$link': 'bafkreielk4aoqh47u6wrxmfiqvc6pisruxdv45z5bvui4o2fcjiyykgzam'},\n",
       "        'mimeType': 'image/jpeg',\n",
       "        'size': 564937}},\n",
       "      {'$type': 'app.bsky.embed.images#image',\n",
       "       'alt': 'Hashtag Cloud; its hashtagged words/phrases (sorted by weighted frequency, descending):  christmas, furry, gouvernementbayrou, furryart, fanart, nowplaying, gamedev, music, gay, twitch, indiedev, gaming, musicsky, writingcommunity, trump, news, monochromemonday, bitcoin, trans, gouvernement, birds, holidays, femdom, dnd, valls, politics, mattgaetz, animation, xmas, writing, travel, movies, love, festivus, femboy, commission, bayrou, videogames, ttrpg, nsfwsky, merrychristmas, manga, gayporn, gaetz, football, feet, fantasy, dogs, comics, characterdesign, btc, starwars, scifi, marvelrivals, happyholidays, gh, games, fetish, cute, crypto, catsofbluesky, science, retrogaming, podcast, milf, magdeburg, japan, indiegame, holiday, 3d, クリスマス, winter, vss365, traditionalart, strongertogether, streamer, ps5, photo, peace, nyr, medsky, london, landscape, history, gift, gaza, gamedevelopment, food, finsub, domme, cumulusmx, collabfcbot, boardgames, blender, artvsartist2024, ad, weather, vtuberuprising, vinyl, tgirl, sunset, space, rhop, presidentmusk, palestine, nwsl, musk, mommy, marketing, maga, m2, literature, lingerie, lgbtq, latex, indiegames, haiku, gaybear, furryfandom, comicbooks, cartoon, butt, brunette, anthro, albums, aiイラスト, 561, yr, xbox, weekzforzoom, warframe, uncut, twitchstreamer, trending, trees, transporn, transformers, toronto, tiktok, tech, startreklowerdecks, spicysky, smallstreamer, smallbusiness, rpg, radioapple, quote, portrait, poetrycommunity, pngtuber, onthisday, nowwatching, njdevils, navidad, motivation, model, mlp, metal, mayotte, marvel, m3, lgbt, israel, instagram, infosec, gop, gayboy, fursuit, funny, freepalestine, freeluigi, france, films, film, fiction, fashion, eldenring, eattherich, donaldtrump, dom, dog, darmanin, cuck, commsopen, commissions, capcom, canada, breakingnews, borne, book, birdphotography, beta, beauty, animeart, animals, afd, 楽天市場, タイムセール, ynwa, wishlist',\n",
       "       'image': {'$type': 'blob',\n",
       "        'ref': {'$link': 'bafkreia34mprgnmyzj5eliifpsiaety25oefovmpyavku5wt3rbmcpld3u'},\n",
       "        'mimeType': 'image/jpeg',\n",
       "        'size': 364117}},\n",
       "      {'$type': 'app.bsky.embed.images#image',\n",
       "       'alt': 'Emoji Cloud; its emojis (sorted by weighted frequency, descending):  🎅🏻, 🧑\\u200d🎄, 🎄, 🎅, 🎁, 🌨️, 🦌, 🤶🏻, 🤶, 🟠, 🔭, 📆, 💼, 💱, 🏷️, 🏒, 🎞️, 🎅🏽, 🎅🏼, 🌲, 🌬, 🌡️, 🫀, 🪐, 🧣, 🦚, 🦔, 🥉, 🥂, 🤦🏽\\u200d♂️, 🛠️, 🚌, 🔃, 👿, 👈🏼, 🎺, 🎙️, 🍈, 🇨🇭, ❄️, ✊🏽, ✈️, ⛄, ♾️, ☃️, \\U0001fae2, \\U0001facf, 🧼, 🧫, 🧪, 🧧, 🧥, 🧛, 🧚, 🦖, 🦒, 🥩, 🥤, 🥑, 🥈, 🥃, 🥁, 🤷🏿\\u200d♂️, 🤷🏿\\u200d♀️, 🤷🏽\\u200d♀️, 🤷🏻\\u200d♀️, 🤷, 🤮, 🤦🏾\\u200d♂️, 🤦🏻, 🤥, 🤢, 🤝🏾, 🤝🏼, 🤜🏾, 🤜, 🤛, 🛷, 🛳️, 🛬, 🛡️, 🚲, 🚫, 🚢, 🚙, 🚆, 🙏🏿, 🙏🏽, 🙌🏾, 🙈, 😶, 🗼, 🗯️, 🗑️, 🖖🏽, 🖌️, 🖋️, 🕺🏾, 🕺🏻, 🕰️, 🕊, 🔽, 🔴, 🔨, 🔗, 🔒, 🔍, 🔋, 🔆, 📽, 📹, 📸, 📷, 📲, 📰, 📦, 📢, 📡, 📜, 📓, 📍, 📅, 💽, 💻, 💲, 💬, 💩, 💟, 💃🏼, 💃🏻, 👶, 👥, 👣, 👖, 👌🏻, 👊🏼, 👉, 👇🏽, 🐻\\u200d❄️, 🐦, 🏴\\U000e0067\\U000e0062\\U000e0077\\U000e006c\\U000e0073\\U000e007f, 🏰, 🏡, 🏠, 🏝️, 🏔️, 🏁, 🎷, 🎪, 🎣, 🎞, 🎖️, 🎊, 🎅🏾, 🍷, 🍪, 🍑, 🍏, 🍉, 🌶, 🌫️, 🌪️, 🌧️, 🌥️, 🌤️, 🌡, 🌟, 🌎, 🌍, 🌌, 🌋, 🌈, 🇺🇸, 🇹🇼, 🇷🇺, 🇵🇱, 🇲🇽, 🇯🇵, 🇮🇷, 🇬🇪, 🇩🇰, 🇨🇳, 🆚, 🀄, ➡️, ✏️, ✊🏼, ⛳, ⛔, ⚾, ♠️, ♟, ☮️, ☘️, ☔, ☃, ☁️, ▶️, ⏰, ⌛',\n",
       "       'image': {'$type': 'blob',\n",
       "        'ref': {'$link': 'bafkreieqnytaki6wpedw6yfzbrmnozqobtqh5gz4ustw2livbcnppdw6vu'},\n",
       "        'mimeType': 'image/jpeg',\n",
       "        'size': 762527}},\n",
       "      {'$type': 'app.bsky.embed.images#image',\n",
       "       'alt': 'NickWrightData.01 [QR code from the Signal app] Contact the Developer with any concerns (link in alt text: https://signal.me/#eu/XNbymWWcjJZxBHdeJWvTbXK86ViP1DYALo68NJYWDR8JQYuZwu5G0ojsYMG9_Qyf )',\n",
       "       'image': {'$type': 'blob',\n",
       "        'ref': {'$link': 'bafkreigt2hnlo2phvckchmz6kzqt6le74js7y7ajoppxn7hvlvudautwhm'},\n",
       "        'mimeType': 'image/png',\n",
       "        'size': 63734}}]},\n",
       "    'facets': [{'$type': 'app.bsky.richtext.facet',\n",
       "      'features': [{'$type': 'app.bsky.richtext.facet#link',\n",
       "        'uri': 'http://bsky.app/search?q=valls'}],\n",
       "      'index': {'$type': 'app.bsky.richtext.facet#byteSlice',\n",
       "       'byteEnd': 82,\n",
       "       'byteStart': 77}},\n",
       "     {'$type': 'app.bsky.richtext.facet',\n",
       "      'features': [{'$type': 'app.bsky.richtext.facet#link',\n",
       "        'uri': 'http://bsky.app/search?q=darmanin'}],\n",
       "      'index': {'$type': 'app.bsky.richtext.facet#byteSlice',\n",
       "       'byteEnd': 109,\n",
       "       'byteStart': 101}},\n",
       "     {'$type': 'app.bsky.richtext.facet',\n",
       "      'features': [{'$type': 'app.bsky.richtext.facet#link',\n",
       "        'uri': 'http://bsky.app/search?q=borne'}],\n",
       "      'index': {'$type': 'app.bsky.richtext.facet#byteSlice',\n",
       "       'byteEnd': 132,\n",
       "       'byteStart': 127}},\n",
       "     {'$type': 'app.bsky.richtext.facet',\n",
       "      'features': [{'$type': 'app.bsky.richtext.facet#link',\n",
       "        'uri': 'http://bsky.app/search?q=gouvernement'}],\n",
       "      'index': {'$type': 'app.bsky.richtext.facet#byteSlice',\n",
       "       'byteEnd': 162,\n",
       "       'byteStart': 150}},\n",
       "     {'$type': 'app.bsky.richtext.facet',\n",
       "      'features': [{'$type': 'app.bsky.richtext.facet#link',\n",
       "        'uri': 'http://bsky.app/search?q=retailleau'}],\n",
       "      'index': {'$type': 'app.bsky.richtext.facet#byteSlice',\n",
       "       'byteEnd': 190,\n",
       "       'byteStart': 180}},\n",
       "     {'$type': 'app.bsky.richtext.facet',\n",
       "      'features': [{'$type': 'app.bsky.richtext.facet#link',\n",
       "        'uri': 'http://bsky.app/search?q=festivus'}],\n",
       "      'index': {'$type': 'app.bsky.richtext.facet#byteSlice',\n",
       "       'byteEnd': 216,\n",
       "       'byteStart': 208}},\n",
       "     {'$type': 'app.bsky.richtext.facet',\n",
       "      'features': [{'$type': 'app.bsky.richtext.facet#link',\n",
       "        'uri': 'http://bsky.app/search?q=gaetz'}],\n",
       "      'index': {'$type': 'app.bsky.richtext.facet#byteSlice',\n",
       "       'byteEnd': 239,\n",
       "       'byteStart': 234}},\n",
       "     {'$type': 'app.bsky.richtext.facet',\n",
       "      'features': [{'$type': 'app.bsky.richtext.facet#link',\n",
       "        'uri': 'http://bsky.app/search?q=manuel'}],\n",
       "      'index': {'$type': 'app.bsky.richtext.facet#byteSlice',\n",
       "       'byteEnd': 263,\n",
       "       'byteStart': 257}},\n",
       "     {'$type': 'app.bsky.richtext.facet',\n",
       "      'features': [{'$type': 'app.bsky.richtext.facet#link',\n",
       "        'uri': 'http://bsky.app/search?q=gaza'}],\n",
       "      'index': {'$type': 'app.bsky.richtext.facet#byteSlice',\n",
       "       'byteEnd': 285,\n",
       "       'byteStart': 281}},\n",
       "     {'$type': 'app.bsky.richtext.facet',\n",
       "      'features': [{'$type': 'app.bsky.richtext.facet#link',\n",
       "        'uri': 'http://bsky.app/search?q=ukraine'}],\n",
       "      'index': {'$type': 'app.bsky.richtext.facet#byteSlice',\n",
       "       'byteEnd': 310,\n",
       "       'byteStart': 303}}],\n",
       "    'text': \"\\nBluesky's Top 10 Trending Words from the Past 10 Minutes:\\n️⚠️💨22 - valls\\n️⚠️💨10 - darmanin\\n️⚠️💨6 - borne\\n️⚠️💨6 - gouvernement\\n️⚠️💨4 - retailleau\\n️⚠️💨4 - festivus\\n️⚠️💨3 - gaetz\\n️⚠️💨3 - manuel\\n️⚠️💨3 - gaza\\n️⚠️💨3 - ukraine\\n(tap/click to see all posts on Bluesky featuring that word!)\\n\\n#йобанарусня 🇺🇦\"},\n",
       "   'embed': {'$type': 'app.bsky.embed.images#view',\n",
       "    'images': [{'thumb': 'https://cdn.bsky.app/img/feed_thumbnail/plain/did:plc:mcb6n67plnrlx4lg35natk2b/bafkreielk4aoqh47u6wrxmfiqvc6pisruxdv45z5bvui4o2fcjiyykgzam@jpeg',\n",
       "      'fullsize': 'https://cdn.bsky.app/img/feed_fullsize/plain/did:plc:mcb6n67plnrlx4lg35natk2b/bafkreielk4aoqh47u6wrxmfiqvc6pisruxdv45z5bvui4o2fcjiyykgzam@jpeg',\n",
       "      'alt': \"Word Cloud; its top words (sorted by weighted frequency, descending):  valls, darmanin, borne, gouvernement, retailleau, festivus, gaetz, manuel, gaza, ukraine, statutory, censure, blague, grievances, ministre, bayrou, bergé, putain, ministère, gueule, underage, ministres, l'éducation, pire, mêmes, joyeux, greenland, inmates, ethics.house.gov/wp-content/u, d'état, nommé, rire, panama, nouveau, matt, gaetz's, barnier, xxxmas, l'intérieur, bogo, aurore, noël, merry, mayotte, 2024-12-23, 17-year-old, retour, prostitution, merde, kreider, honte, ghostbusters, garde, eve, dati, bordel, vautrin, république, procès, non-lotr, n'était, merrick, macron, last-minute, hanukkah, ethics, drôle, commuted, 1,283, élections, violated, trafficking, tocards, rebsamen, outre-mer, midfielder, macronie, l'outre-mer, foutre, foutage, démocratie, devient, croire, colère, bras, 49.3, 23/12/2024, 03.00, świąt, www.cnn.com/2024/12/23/p, touche, sérieux, sociopathic, revenir, repubs, rape, qanon, pires, outre, nul, nfp, navidades, montchalin, mixture, misconduct, meghan, matty, m'attendais, l'extrême, l'enfer, jul, holidays, garland, franchement, fetterman, droite, depp, demandé, d'extrême, censuré, blagues, bamba, attorney, annex, 23rd, 23, 18.00, święta, ändern, voulait, violeur, veulent, vals, treasures, suv, supérieur, subscribing, sinsmas, sceaux, santé, recommence, prosecute, pleading, pedos, nominating, navideño, nationale, mourir, membres, mec, manque, mangione, l'extrême-droite, l'en, jusqu'au, hewitt, groomer, gouvernements, gorafi, gertz, gemaakt, garland's, garder, fiestas, epstein, envoyer, elisabeth, doj, cvs, cul, commutes, christmassy, cauchemar, bottes, blancos, bangladesh, baldoni, avril, attendre, ape, amélie, allez, airing, ag, accepter, 12/24, www.npr.org/2024/12/23/n, wrapping, weighing, véspera, vraiment, volatile, vite, veut, tomber, spew, sparkly, rêves, roasting, rien\"},\n",
       "     {'thumb': 'https://cdn.bsky.app/img/feed_thumbnail/plain/did:plc:mcb6n67plnrlx4lg35natk2b/bafkreia34mprgnmyzj5eliifpsiaety25oefovmpyavku5wt3rbmcpld3u@jpeg',\n",
       "      'fullsize': 'https://cdn.bsky.app/img/feed_fullsize/plain/did:plc:mcb6n67plnrlx4lg35natk2b/bafkreia34mprgnmyzj5eliifpsiaety25oefovmpyavku5wt3rbmcpld3u@jpeg',\n",
       "      'alt': 'Hashtag Cloud; its hashtagged words/phrases (sorted by weighted frequency, descending):  christmas, furry, gouvernementbayrou, furryart, fanart, nowplaying, gamedev, music, gay, twitch, indiedev, gaming, musicsky, writingcommunity, trump, news, monochromemonday, bitcoin, trans, gouvernement, birds, holidays, femdom, dnd, valls, politics, mattgaetz, animation, xmas, writing, travel, movies, love, festivus, femboy, commission, bayrou, videogames, ttrpg, nsfwsky, merrychristmas, manga, gayporn, gaetz, football, feet, fantasy, dogs, comics, characterdesign, btc, starwars, scifi, marvelrivals, happyholidays, gh, games, fetish, cute, crypto, catsofbluesky, science, retrogaming, podcast, milf, magdeburg, japan, indiegame, holiday, 3d, クリスマス, winter, vss365, traditionalart, strongertogether, streamer, ps5, photo, peace, nyr, medsky, london, landscape, history, gift, gaza, gamedevelopment, food, finsub, domme, cumulusmx, collabfcbot, boardgames, blender, artvsartist2024, ad, weather, vtuberuprising, vinyl, tgirl, sunset, space, rhop, presidentmusk, palestine, nwsl, musk, mommy, marketing, maga, m2, literature, lingerie, lgbtq, latex, indiegames, haiku, gaybear, furryfandom, comicbooks, cartoon, butt, brunette, anthro, albums, aiイラスト, 561, yr, xbox, weekzforzoom, warframe, uncut, twitchstreamer, trending, trees, transporn, transformers, toronto, tiktok, tech, startreklowerdecks, spicysky, smallstreamer, smallbusiness, rpg, radioapple, quote, portrait, poetrycommunity, pngtuber, onthisday, nowwatching, njdevils, navidad, motivation, model, mlp, metal, mayotte, marvel, m3, lgbt, israel, instagram, infosec, gop, gayboy, fursuit, funny, freepalestine, freeluigi, france, films, film, fiction, fashion, eldenring, eattherich, donaldtrump, dom, dog, darmanin, cuck, commsopen, commissions, capcom, canada, breakingnews, borne, book, birdphotography, beta, beauty, animeart, animals, afd, 楽天市場, タイムセール, ynwa, wishlist'},\n",
       "     {'thumb': 'https://cdn.bsky.app/img/feed_thumbnail/plain/did:plc:mcb6n67plnrlx4lg35natk2b/bafkreieqnytaki6wpedw6yfzbrmnozqobtqh5gz4ustw2livbcnppdw6vu@jpeg',\n",
       "      'fullsize': 'https://cdn.bsky.app/img/feed_fullsize/plain/did:plc:mcb6n67plnrlx4lg35natk2b/bafkreieqnytaki6wpedw6yfzbrmnozqobtqh5gz4ustw2livbcnppdw6vu@jpeg',\n",
       "      'alt': 'Emoji Cloud; its emojis (sorted by weighted frequency, descending):  🎅🏻, 🧑\\u200d🎄, 🎄, 🎅, 🎁, 🌨️, 🦌, 🤶🏻, 🤶, 🟠, 🔭, 📆, 💼, 💱, 🏷️, 🏒, 🎞️, 🎅🏽, 🎅🏼, 🌲, 🌬, 🌡️, 🫀, 🪐, 🧣, 🦚, 🦔, 🥉, 🥂, 🤦🏽\\u200d♂️, 🛠️, 🚌, 🔃, 👿, 👈🏼, 🎺, 🎙️, 🍈, 🇨🇭, ❄️, ✊🏽, ✈️, ⛄, ♾️, ☃️, \\U0001fae2, \\U0001facf, 🧼, 🧫, 🧪, 🧧, 🧥, 🧛, 🧚, 🦖, 🦒, 🥩, 🥤, 🥑, 🥈, 🥃, 🥁, 🤷🏿\\u200d♂️, 🤷🏿\\u200d♀️, 🤷🏽\\u200d♀️, 🤷🏻\\u200d♀️, 🤷, 🤮, 🤦🏾\\u200d♂️, 🤦🏻, 🤥, 🤢, 🤝🏾, 🤝🏼, 🤜🏾, 🤜, 🤛, 🛷, 🛳️, 🛬, 🛡️, 🚲, 🚫, 🚢, 🚙, 🚆, 🙏🏿, 🙏🏽, 🙌🏾, 🙈, 😶, 🗼, 🗯️, 🗑️, 🖖🏽, 🖌️, 🖋️, 🕺🏾, 🕺🏻, 🕰️, 🕊, 🔽, 🔴, 🔨, 🔗, 🔒, 🔍, 🔋, 🔆, 📽, 📹, 📸, 📷, 📲, 📰, 📦, 📢, 📡, 📜, 📓, 📍, 📅, 💽, 💻, 💲, 💬, 💩, 💟, 💃🏼, 💃🏻, 👶, 👥, 👣, 👖, 👌🏻, 👊🏼, 👉, 👇🏽, 🐻\\u200d❄️, 🐦, 🏴\\U000e0067\\U000e0062\\U000e0077\\U000e006c\\U000e0073\\U000e007f, 🏰, 🏡, 🏠, 🏝️, 🏔️, 🏁, 🎷, 🎪, 🎣, 🎞, 🎖️, 🎊, 🎅🏾, 🍷, 🍪, 🍑, 🍏, 🍉, 🌶, 🌫️, 🌪️, 🌧️, 🌥️, 🌤️, 🌡, 🌟, 🌎, 🌍, 🌌, 🌋, 🌈, 🇺🇸, 🇹🇼, 🇷🇺, 🇵🇱, 🇲🇽, 🇯🇵, 🇮🇷, 🇬🇪, 🇩🇰, 🇨🇳, 🆚, 🀄, ➡️, ✏️, ✊🏼, ⛳, ⛔, ⚾, ♠️, ♟, ☮️, ☘️, ☔, ☃, ☁️, ▶️, ⏰, ⌛'},\n",
       "     {'thumb': 'https://cdn.bsky.app/img/feed_thumbnail/plain/did:plc:mcb6n67plnrlx4lg35natk2b/bafkreigt2hnlo2phvckchmz6kzqt6le74js7y7ajoppxn7hvlvudautwhm@jpeg',\n",
       "      'fullsize': 'https://cdn.bsky.app/img/feed_fullsize/plain/did:plc:mcb6n67plnrlx4lg35natk2b/bafkreigt2hnlo2phvckchmz6kzqt6le74js7y7ajoppxn7hvlvudautwhm@jpeg',\n",
       "      'alt': 'NickWrightData.01 [QR code from the Signal app] Contact the Developer with any concerns (link in alt text: https://signal.me/#eu/XNbymWWcjJZxBHdeJWvTbXK86ViP1DYALo68NJYWDR8JQYuZwu5G0ojsYMG9_Qyf )'}]},\n",
       "   'replyCount': 0,\n",
       "   'repostCount': 0,\n",
       "   'likeCount': 2,\n",
       "   'quoteCount': 0,\n",
       "   'indexedAt': '2024-12-23T18:10:59.259Z',\n",
       "   'labels': []},\n",
       "  {'uri': 'at://did:plc:apllxl7ogeozcno7f4z4vgw6/app.bsky.feed.post/3ldygbmjttc27',\n",
       "   'cid': 'bafyreiej3docqjbkedmm5i5hvm2akv63gqsibciy7p3n7k56xjkuhti7h4',\n",
       "   'author': {'did': 'did:plc:apllxl7ogeozcno7f4z4vgw6',\n",
       "    'handle': 'dbelemlopes.bsky.social',\n",
       "    'displayName': 'Dawisson Belém Lopes',\n",
       "    'avatar': 'https://cdn.bsky.app/img/avatar/plain/did:plc:apllxl7ogeozcno7f4z4vgw6/bafkreifmcp2xj3m4letbw7s552f7eqezqod5ywcwt5mrgiznp5mcassqhy@jpeg',\n",
       "    'associated': {'chat': {'allowIncoming': 'following'}},\n",
       "    'labels': [],\n",
       "    'createdAt': '2024-04-07T17:04:41.667Z'},\n",
       "   'record': {'$type': 'app.bsky.feed.post',\n",
       "    'createdAt': '2024-12-23T17:09:06.068Z',\n",
       "    'embed': {'$type': 'app.bsky.embed.images',\n",
       "     'images': [{'alt': '',\n",
       "       'aspectRatio': {'height': 850, 'width': 850},\n",
       "       'image': {'$type': 'blob',\n",
       "        'ref': {'$link': 'bafkreihbegdj5v5smzif2dswerv643p35drgvrjbxpujhvlmbo4e4dab2y'},\n",
       "        'mimeType': 'image/jpeg',\n",
       "        'size': 898443}}]},\n",
       "    'langs': ['en'],\n",
       "    'reply': {'parent': {'cid': 'bafyreiefbe4xwtvzfszh7mjp7t76m6vapfpckj3jhvu7ky223onglsajrm',\n",
       "      'uri': 'at://did:plc:apllxl7ogeozcno7f4z4vgw6/app.bsky.feed.post/3ldygbihykk27'},\n",
       "     'root': {'cid': 'bafyreig55uancjbvinhvxzke3dfr75sj7pbilbytpuaewy2eprc2cvbxam',\n",
       "      'uri': 'at://did:plc:apllxl7ogeozcno7f4z4vgw6/app.bsky.feed.post/3ldygaxcogk27'}},\n",
       "    'text': '6/ G7 VIRA À DIREITA\\n\\nAlém da volta de Trump à Casa Branca, Alemanha e Canadá podem substituir seus atuais primeiros-ministros por lideranças conservadoras. O perfil médio do grupo dos países ricos do mundo, que já conta com Meloni e Macron, ficaria ainda mais de direita.'},\n",
       "   'embed': {'$type': 'app.bsky.embed.images#view',\n",
       "    'images': [{'thumb': 'https://cdn.bsky.app/img/feed_thumbnail/plain/did:plc:apllxl7ogeozcno7f4z4vgw6/bafkreihbegdj5v5smzif2dswerv643p35drgvrjbxpujhvlmbo4e4dab2y@jpeg',\n",
       "      'fullsize': 'https://cdn.bsky.app/img/feed_fullsize/plain/did:plc:apllxl7ogeozcno7f4z4vgw6/bafkreihbegdj5v5smzif2dswerv643p35drgvrjbxpujhvlmbo4e4dab2y@jpeg',\n",
       "      'alt': '',\n",
       "      'aspectRatio': {'height': 850, 'width': 850}}]},\n",
       "   'replyCount': 1,\n",
       "   'repostCount': 1,\n",
       "   'likeCount': 16,\n",
       "   'quoteCount': 0,\n",
       "   'indexedAt': '2024-12-23T17:06:55.589Z',\n",
       "   'labels': []},\n",
       "  {'uri': 'at://did:plc:e7il3yc3tzgeg735hehbm3c7/app.bsky.feed.post/3ldyaw5jses2q',\n",
       "   'cid': 'bafyreib4dqqloayybsuzalrg4xxtcntrtvfo5ui3lw7jtbhphncdh76vbq',\n",
       "   'author': {'did': 'did:plc:e7il3yc3tzgeg735hehbm3c7',\n",
       "    'handle': 'mebeforr.bsky.social',\n",
       "    'displayName': '',\n",
       "    'avatar': 'https://cdn.bsky.app/img/avatar/plain/did:plc:e7il3yc3tzgeg735hehbm3c7/bafkreifemyx2vhqffzggtbohqoa75qskfq2d6ce3kgdhakknnvft4rasea@jpeg',\n",
       "    'labels': [],\n",
       "    'createdAt': '2024-11-22T03:34:47.654Z'},\n",
       "   'record': {'$type': 'app.bsky.feed.post',\n",
       "    'createdAt': '2024-12-23T15:33:34.792Z',\n",
       "    'langs': ['en'],\n",
       "    'reply': {'parent': {'cid': 'bafyreih3xtzfx3z2ljazv6ghi53k5metu6c2pchasfiukeylrjcfbn4kce',\n",
       "      'uri': 'at://did:plc:e7il3yc3tzgeg735hehbm3c7/app.bsky.feed.post/3ldyahbv4u22q'},\n",
       "     'root': {'cid': 'bafyreie3g647twj23xnjxshpru7q4qnuqwuo6tud4cmjiacpuo6yythzpa',\n",
       "      'uri': 'at://did:plc:4u3hwe3p7oy3hoy3amlw7rp2/app.bsky.feed.post/3ldy7lyujzi2e'}},\n",
       "    'text': \"France's Macron  and Germany Olaf etc,everyone UK Boris's Brexit criticize. Join EU because UK not survive. Trump tariffs heavy.\"},\n",
       "   'replyCount': 1,\n",
       "   'repostCount': 1,\n",
       "   'likeCount': 0,\n",
       "   'quoteCount': 0,\n",
       "   'indexedAt': '2024-12-23T15:33:36.247Z',\n",
       "   'labels': []},\n",
       "  {'uri': 'at://did:plc:3nysgyurk3lihminqor65t4o/app.bsky.feed.post/3ldy6ekwiks2j',\n",
       "   'cid': 'bafyreiegnrkhbx5lgfou3pscnx3ieocb2hte4h5nrf5kpqhkalfwmgtczq',\n",
       "   'author': {'did': 'did:plc:3nysgyurk3lihminqor65t4o',\n",
       "    'handle': 'michaelpacholek.bsky.social',\n",
       "    'displayName': 'Michael Pacholek',\n",
       "    'avatar': 'https://cdn.bsky.app/img/avatar/plain/did:plc:3nysgyurk3lihminqor65t4o/bafkreidzedn4pnbkuw5kihwqejmo6djoocovmle3jb6k6kvz57fbrhtio4@jpeg',\n",
       "    'labels': [],\n",
       "    'createdAt': '2024-11-14T03:27:12.577Z'},\n",
       "   'record': {'$type': 'app.bsky.feed.post',\n",
       "    'createdAt': '2024-12-23T14:47:57.376Z',\n",
       "    'langs': ['en'],\n",
       "    'reply': {'parent': {'cid': 'bafyreig3jmdfcqfaej747lfut4csts3btcwc475okeb3tktolw75hz24iy',\n",
       "      'uri': 'at://did:plc:xhetdwyqgnhtawpv2x4sgs2e/app.bsky.feed.post/3ldxsblhycs2k'},\n",
       "     'root': {'cid': 'bafyreihdsuzbwtbiwk2kt6obd6nmt74mote6v2txu5vzb6atldkcdjjvzm',\n",
       "      'uri': 'at://did:plc:uz5apa2z3jrxhjjzqw5qik65/app.bsky.feed.post/3ld5gw7bars22'}},\n",
       "    'text': \"This wasn't a year for successful heroes, mainly failed ones. I could nominate, as a whole, the people of France. President Macron standing up to Trump and Putin, the rebuilding of Notre-Dame, a successful Olympics, Gisèle Pelicot.\"},\n",
       "   'replyCount': 1,\n",
       "   'repostCount': 0,\n",
       "   'likeCount': 2,\n",
       "   'quoteCount': 0,\n",
       "   'indexedAt': '2024-12-23T14:48:00.656Z',\n",
       "   'labels': []},\n",
       "  {'uri': 'at://did:plc:4bdgy4poo22dcohecdynzgf2/app.bsky.feed.post/3ldxxfkyw2225',\n",
       "   'cid': 'bafyreigsc4roopvdrxtazxvy433377zkfhki22e35t6iyuimlzxec4x4vu',\n",
       "   'author': {'did': 'did:plc:4bdgy4poo22dcohecdynzgf2',\n",
       "    'handle': 'skitridog2024.bsky.social',\n",
       "    'displayName': 'Me, Him, Dude, dont care... know who what i am... ',\n",
       "    'avatar': 'https://cdn.bsky.app/img/avatar/plain/did:plc:4bdgy4poo22dcohecdynzgf2/bafkreiakdjsluys2zpikzumhvpgb2eh6r47osqxbk4sj27mouy2li5couq@jpeg',\n",
       "    'labels': [],\n",
       "    'createdAt': '2024-11-14T16:48:27.225Z'},\n",
       "   'record': {'$type': 'app.bsky.feed.post',\n",
       "    'createdAt': '2024-12-23T12:43:14.806Z',\n",
       "    'langs': ['en'],\n",
       "    'reply': {'parent': {'cid': 'bafyreidhcslmqhhpifujrhr4xzhq533noir3hgitzslveddm2qkizlturq',\n",
       "      'uri': 'at://did:plc:4bdgy4poo22dcohecdynzgf2/app.bsky.feed.post/3ldxxfkyv2s25'},\n",
       "     'root': {'cid': 'bafyreicxj2nor6xrnlqw3thbzqezprgebgztiimn2zfz7o5bxmvfggvapq',\n",
       "      'uri': 'at://did:plc:4bdgy4poo22dcohecdynzgf2/app.bsky.feed.post/3ldxxfkyiek25'}},\n",
       "    'text': 'also not big fans of Macron..but take him over ... TRUMP.. all locals i talked to..even Swede chimed in in Mariselle....  Spent my time in Montpelier.. loved the Southern France VIBE.. not one nasty French..all very NICE to me... and helpful... curious... BONJOUR.'},\n",
       "   'replyCount': 0,\n",
       "   'repostCount': 0,\n",
       "   'likeCount': 0,\n",
       "   'quoteCount': 0,\n",
       "   'indexedAt': '2024-12-23T12:43:15.702Z',\n",
       "   'labels': []},\n",
       "  {'uri': 'at://did:plc:zhewelv4zeqcmwjqsr5fnpv4/app.bsky.feed.post/3ldxrymkpjs2b',\n",
       "   'cid': 'bafyreiecfnk6c4t3r7kh7hq7f23stnt24xyrka3s3zrebre4kg4zxndg2a',\n",
       "   'author': {'did': 'did:plc:zhewelv4zeqcmwjqsr5fnpv4',\n",
       "    'handle': 'alyazia.bsky.social',\n",
       "    'displayName': 'Alyazia',\n",
       "    'avatar': 'https://cdn.bsky.app/img/avatar/plain/did:plc:zhewelv4zeqcmwjqsr5fnpv4/bafkreia35ix275ocu57xodfxahvsbm4dcpbkkg7bk6v6qxazaxiolquvp4@jpeg',\n",
       "    'labels': [],\n",
       "    'createdAt': '2024-12-05T06:57:42.946Z'},\n",
       "   'record': {'$type': 'app.bsky.feed.post',\n",
       "    'createdAt': '2024-12-23T11:06:31.531Z',\n",
       "    'langs': ['en'],\n",
       "    'reply': {'parent': {'cid': 'bafyreibvkezicfzp423d7rvkwm277wg52bqahqv6xwulhnpxxpi646ypai',\n",
       "      'uri': 'at://did:plc:vpfavbhwv4okwh6ydgp5uxf6/app.bsky.feed.post/3ldwomauvnc2y'},\n",
       "     'root': {'cid': 'bafyreibvkezicfzp423d7rvkwm277wg52bqahqv6xwulhnpxxpi646ypai',\n",
       "      'uri': 'at://did:plc:vpfavbhwv4okwh6ydgp5uxf6/app.bsky.feed.post/3ldwomauvnc2y'}},\n",
       "    'text': 'Tell that biden bibi  trump starmer putin macron too many too mention\\nThe bit about HUMAN'},\n",
       "   'replyCount': 0,\n",
       "   'repostCount': 0,\n",
       "   'likeCount': 1,\n",
       "   'quoteCount': 0,\n",
       "   'indexedAt': '2024-12-23T11:06:33.554Z',\n",
       "   'labels': []},\n",
       "  {'uri': 'at://did:plc:wvpsbdrmpl7vtiu3gwhsnlqz/app.bsky.feed.post/3ldxk4lpdgc2g',\n",
       "   'cid': 'bafyreihzzlskm7mnr4ghllkpkudhuyliyuuwbgttvqqlucyxoq6xurq7py',\n",
       "   'author': {'did': 'did:plc:wvpsbdrmpl7vtiu3gwhsnlqz',\n",
       "    'handle': 'schattenspiele.bsky.social',\n",
       "    'displayName': ' Raphael',\n",
       "    'avatar': 'https://cdn.bsky.app/img/avatar/plain/did:plc:wvpsbdrmpl7vtiu3gwhsnlqz/bafkreicvbvbwt6cq5ibtn3uajqw4hschdysfbmaq2m764gh26hqvkltuhq@jpeg',\n",
       "    'labels': [],\n",
       "    'createdAt': '2023-10-03T09:35:28.988Z'},\n",
       "   'record': {'$type': 'app.bsky.feed.post',\n",
       "    'createdAt': '2024-12-23T08:45:34.918Z',\n",
       "    'langs': ['de'],\n",
       "    'text': 'Trump will den Panama-Kanal zurück. \\nKann Macron bitte Louisiana zurückfordern? Würde gern in New Orleans mit Euro zahlen. Danke.'},\n",
       "   'replyCount': 7,\n",
       "   'repostCount': 4,\n",
       "   'likeCount': 57,\n",
       "   'quoteCount': 0,\n",
       "   'indexedAt': '2024-12-23T08:45:35.052Z',\n",
       "   'labels': []},\n",
       "  {'uri': 'at://did:plc:tcafytbuykbsrmuockmjncrr/app.bsky.feed.post/3ldxgfmrn5w27',\n",
       "   'cid': 'bafyreidus7o65z3ovvzz2kfatz33xqttzeeygalxnempptkofsvkg3gs2a',\n",
       "   'author': {'did': 'did:plc:tcafytbuykbsrmuockmjncrr',\n",
       "    'handle': 'mh120480.bsky.social',\n",
       "    'displayName': 'Marco Herack',\n",
       "    'avatar': 'https://cdn.bsky.app/img/avatar/plain/did:plc:tcafytbuykbsrmuockmjncrr/bafkreiatfixkceon3u45bgeswntrhg6ip3uoczrkmsboh24lfl6b5n53ja@jpeg',\n",
       "    'associated': {'chat': {'allowIncoming': 'all'}},\n",
       "    'labels': [],\n",
       "    'createdAt': '2023-09-16T14:19:30.188Z'},\n",
       "   'record': {'$type': 'app.bsky.feed.post',\n",
       "    'createdAt': '2024-12-23T07:39:02.827Z',\n",
       "    'embed': {'$type': 'app.bsky.embed.images',\n",
       "     'images': [{'alt': 'SZ Dossier: Je weniger Kanzler, desto mehr\\n Scholz\\n Es ist Olaf Scholz im zurückliegenden\\n Jahr gelungen, den Nimbus des\\n deutschen Bundeskanzlers gegen null\\n zu reduzieren.\\n Auf der Weltbühne: Nicht eingeladen,\\n wenn Emmanuel Macron, Donald\\n Trump und Wolodimir Selenskij die\\n Zukunft der Ukraine besprechen. Er\\n telefoniert mit Putin - der wenige\\n Stunden später einen Großangriff auf\\n die Ukraine befiehlt. Er telefoniert mit\\n Trump - und ein paar Stunden später\\n ruft dessen engster Berater erst zur\\n Wahl der AfD, dann Scholz zum\\n Rücktritt auf.\\n In Europa: Führte Sprachlosigkeit\\n durch eine uneinige Koalition erst zu\\n Einsamkeit, dann dazu, dass man\\n zunehmend nicht mehr gehört wurde.\\n Zuhause: Blieb vom Kanzler je weniger,\\n desto mehr Olaf Scholz zum Vorschein\\n kam. „Tünkram\", die Behauptung, die\\n Union wolle Renten „kürzen\", der\\n Wutausbruch zum Ampelende - all das\\n konnte man dem Amte unangemessen\\n finden.\\n Mit einem Amtsbonus kann Scholz laut\\n allen Umfragen aber ohnehin nicht\\n rechnen. Bleibt das Mittel der\\n Authentizität. Und authentisch ist\\n Scholz dann, wenn er auch sagt, was er\\n denkt: dass er klüger ist als die meisten\\n anderen auf der Welt.',\n",
       "       'aspectRatio': {'height': 2240, 'width': 951},\n",
       "       'image': {'$type': 'blob',\n",
       "        'ref': {'$link': 'bafkreiazrrvlcycclptarmotgzceppohmjkk5vngpwlwtkjj2tx4zbsgsi'},\n",
       "        'mimeType': 'image/jpeg',\n",
       "        'size': 797272}}]},\n",
       "    'facets': [],\n",
       "    'langs': ['en'],\n",
       "    'text': 'also olaf scholz findet sich dufte.'},\n",
       "   'embed': {'$type': 'app.bsky.embed.images#view',\n",
       "    'images': [{'thumb': 'https://cdn.bsky.app/img/feed_thumbnail/plain/did:plc:tcafytbuykbsrmuockmjncrr/bafkreiazrrvlcycclptarmotgzceppohmjkk5vngpwlwtkjj2tx4zbsgsi@jpeg',\n",
       "      'fullsize': 'https://cdn.bsky.app/img/feed_fullsize/plain/did:plc:tcafytbuykbsrmuockmjncrr/bafkreiazrrvlcycclptarmotgzceppohmjkk5vngpwlwtkjj2tx4zbsgsi@jpeg',\n",
       "      'alt': 'SZ Dossier: Je weniger Kanzler, desto mehr\\n Scholz\\n Es ist Olaf Scholz im zurückliegenden\\n Jahr gelungen, den Nimbus des\\n deutschen Bundeskanzlers gegen null\\n zu reduzieren.\\n Auf der Weltbühne: Nicht eingeladen,\\n wenn Emmanuel Macron, Donald\\n Trump und Wolodimir Selenskij die\\n Zukunft der Ukraine besprechen. Er\\n telefoniert mit Putin - der wenige\\n Stunden später einen Großangriff auf\\n die Ukraine befiehlt. Er telefoniert mit\\n Trump - und ein paar Stunden später\\n ruft dessen engster Berater erst zur\\n Wahl der AfD, dann Scholz zum\\n Rücktritt auf.\\n In Europa: Führte Sprachlosigkeit\\n durch eine uneinige Koalition erst zu\\n Einsamkeit, dann dazu, dass man\\n zunehmend nicht mehr gehört wurde.\\n Zuhause: Blieb vom Kanzler je weniger,\\n desto mehr Olaf Scholz zum Vorschein\\n kam. „Tünkram\", die Behauptung, die\\n Union wolle Renten „kürzen\", der\\n Wutausbruch zum Ampelende - all das\\n konnte man dem Amte unangemessen\\n finden.\\n Mit einem Amtsbonus kann Scholz laut\\n allen Umfragen aber ohnehin nicht\\n rechnen. Bleibt das Mittel der\\n Authentizität. Und authentisch ist\\n Scholz dann, wenn er auch sagt, was er\\n denkt: dass er klüger ist als die meisten\\n anderen auf der Welt.',\n",
       "      'aspectRatio': {'height': 2240, 'width': 951}}]},\n",
       "   'replyCount': 0,\n",
       "   'repostCount': 0,\n",
       "   'likeCount': 1,\n",
       "   'quoteCount': 0,\n",
       "   'indexedAt': '2024-12-23T07:39:04.351Z',\n",
       "   'labels': []},\n",
       "  {'uri': 'at://did:plc:7ma7mcwxjfnpscejggd22awy/app.bsky.feed.post/3ldx6ox6enk2s',\n",
       "   'cid': 'bafyreiek2wko5og5pm6cvwxdlhybz2kwm7gxbtlfdiu6fowsszadchauqy',\n",
       "   'author': {'did': 'did:plc:7ma7mcwxjfnpscejggd22awy',\n",
       "    'handle': 'coolhand2.bsky.social',\n",
       "    'displayName': '',\n",
       "    'avatar': 'https://cdn.bsky.app/img/avatar/plain/did:plc:7ma7mcwxjfnpscejggd22awy/bafkreicels43wypindegdvpl2b2vve7aa2vssjp3loy2seo4pztws2y5xq@jpeg',\n",
       "    'labels': [],\n",
       "    'createdAt': '2024-11-22T20:49:57.754Z'},\n",
       "   'record': {'$type': 'app.bsky.feed.post',\n",
       "    'createdAt': '2024-12-23T05:21:06.023Z',\n",
       "    'langs': ['en'],\n",
       "    'reply': {'parent': {'cid': 'bafyreicvoymdrfe4rr7wdw3ug326guskl6pb5uxakde567zev3btvzqpaa',\n",
       "      'uri': 'at://did:plc:7ma7mcwxjfnpscejggd22awy/app.bsky.feed.post/3ldx6iws3oc22'},\n",
       "     'root': {'cid': 'bafyreicvoymdrfe4rr7wdw3ug326guskl6pb5uxakde567zev3btvzqpaa',\n",
       "      'uri': 'at://did:plc:7ma7mcwxjfnpscejggd22awy/app.bsky.feed.post/3ldx6iws3oc22'}},\n",
       "    'text': 'Hey hey. Play that back. Macron locking up at trump. Where the fuck was that. Fucking priceless.'},\n",
       "   'replyCount': 1,\n",
       "   'repostCount': 0,\n",
       "   'likeCount': 0,\n",
       "   'quoteCount': 0,\n",
       "   'indexedAt': '2024-12-23T05:19:50.349Z',\n",
       "   'labels': []},\n",
       "  {'uri': 'at://did:plc:oafrxdmbsxzz3of3zyy7pkkw/app.bsky.feed.post/3ldx35k5za22r',\n",
       "   'cid': 'bafyreiav27djdfuulxzvab5jls5br3wgkgjubkm42zt277gyyvkj76kw7u',\n",
       "   'author': {'did': 'did:plc:oafrxdmbsxzz3of3zyy7pkkw',\n",
       "    'handle': 'onesingularity.bsky.social',\n",
       "    'displayName': 'Singularity',\n",
       "    'avatar': 'https://cdn.bsky.app/img/avatar/plain/did:plc:oafrxdmbsxzz3of3zyy7pkkw/bafkreieq6oazibzbssr4tahuh43bktorsmyxdptl2ik7ozsfyg6eecqpsu@jpeg',\n",
       "    'associated': {'chat': {'allowIncoming': 'all'}},\n",
       "    'labels': [{'src': 'did:plc:oafrxdmbsxzz3of3zyy7pkkw',\n",
       "      'uri': 'at://did:plc:oafrxdmbsxzz3of3zyy7pkkw/app.bsky.actor.profile/self',\n",
       "      'cid': 'bafyreifulomcydwxd2yuekiqpobgfakghaf7gdibqzlcadmddbrbv7rpju',\n",
       "      'val': '!no-unauthenticated',\n",
       "      'cts': '2024-11-18T05:05:42.575Z'}],\n",
       "    'createdAt': '2024-11-18T05:05:43.732Z'},\n",
       "   'record': {'$type': 'app.bsky.feed.post',\n",
       "    'createdAt': '2024-12-23T04:17:40.729Z',\n",
       "    'langs': ['en'],\n",
       "    'reply': {'parent': {'cid': 'bafyreiaf2rt4mnvdm62qpk75pbzll7xh2v6pjoi5blpjxd7ho4nxnfd3xq',\n",
       "      'uri': 'at://did:plc:sgti3jsgu3luif24tokvth3a/app.bsky.feed.post/3ldwx5mjhlc2l'},\n",
       "     'root': {'cid': 'bafyreiaf2rt4mnvdm62qpk75pbzll7xh2v6pjoi5blpjxd7ho4nxnfd3xq',\n",
       "      'uri': 'at://did:plc:sgti3jsgu3luif24tokvth3a/app.bsky.feed.post/3ldwx5mjhlc2l'}},\n",
       "    'text': 'So far, and without even taking office, Trump has invaded Mexico, Canada, Bahamas, Panama and now Denmark/Greenland and he has not even started his 3 days SMO. \\n\\nPresident-Elect Elon Must is attacking Germany. Macron must be scared shitless - he is next!'},\n",
       "   'replyCount': 0,\n",
       "   'repostCount': 0,\n",
       "   'likeCount': 3,\n",
       "   'quoteCount': 0,\n",
       "   'indexedAt': '2024-12-23T04:17:41.656Z',\n",
       "   'labels': []},\n",
       "  {'uri': 'at://did:plc:svflq765lt7rdjjxhonmtqjv/app.bsky.feed.post/3ldwjyy7zrs2e',\n",
       "   'cid': 'bafyreifg2k6lsypdgiilsdp5wgya533q3kncgqne7vkxxje7kgrgap2ebq',\n",
       "   'author': {'did': 'did:plc:svflq765lt7rdjjxhonmtqjv',\n",
       "    'handle': 'usasunder.bsky.social',\n",
       "    'displayName': 'Us Asunder',\n",
       "    'avatar': 'https://cdn.bsky.app/img/avatar/plain/did:plc:svflq765lt7rdjjxhonmtqjv/bafkreifzpgzen52df4lvtf75uzpizoekyrxzz5dqpzhub473nhf3lh2im4@jpeg',\n",
       "    'labels': [],\n",
       "    'createdAt': '2024-11-15T20:19:36.721Z'},\n",
       "   'record': {'$type': 'app.bsky.feed.post',\n",
       "    'createdAt': '2024-12-22T23:10:54.091Z',\n",
       "    'langs': ['en'],\n",
       "    'reply': {'parent': {'cid': 'bafyreie764nfodmclpqlhegicqp72jtyaj7424yy4ngbcqzh7dbyb3g7hq',\n",
       "      'uri': 'at://did:plc:4b7dudo6nkevnczgtz77vpms/app.bsky.feed.post/3lduevg6pd22o'},\n",
       "     'root': {'cid': 'bafyreie764nfodmclpqlhegicqp72jtyaj7424yy4ngbcqzh7dbyb3g7hq',\n",
       "      'uri': 'at://did:plc:4b7dudo6nkevnczgtz77vpms/app.bsky.feed.post/3lduevg6pd22o'}},\n",
       "    'text': \"I'm seriously interested in learning WHY Trump shakes hands that way? He did the same recently with Macron. Like he's trying to arm-wrestle. Then the 2 clowns both try to order the other to sit down. Next clip they unzip and have a *issing contest?\"},\n",
       "   'replyCount': 0,\n",
       "   'repostCount': 0,\n",
       "   'likeCount': 0,\n",
       "   'quoteCount': 0,\n",
       "   'indexedAt': '2024-12-22T23:10:55.357Z',\n",
       "   'labels': []},\n",
       "  {'uri': 'at://did:plc:oah2we37m55r6rcu244hy6pz/app.bsky.feed.post/3ldwcpuo2xk2q',\n",
       "   'cid': 'bafyreidmr6vjqpf6oxkqucb5oowkihf5mlkpd6j7sgsrhtk4gfcxbfokhy',\n",
       "   'author': {'did': 'did:plc:oah2we37m55r6rcu244hy6pz',\n",
       "    'handle': 'naranciazebest.bsky.social',\n",
       "    'displayName': 'Narancia⚧️ Into the wild blue yonder!',\n",
       "    'avatar': 'https://cdn.bsky.app/img/avatar/plain/did:plc:oah2we37m55r6rcu244hy6pz/bafkreih6q2skpyehn55eyr22on3hlj45q4yhdwaplpjfqikixcfxecryi4@jpeg',\n",
       "    'associated': {'chat': {'allowIncoming': 'following'}},\n",
       "    'labels': [],\n",
       "    'createdAt': '2023-07-23T17:34:02.852Z'},\n",
       "   'record': {'$type': 'app.bsky.feed.post',\n",
       "    'createdAt': '2024-12-22T21:00:32.174Z',\n",
       "    'embed': {'$type': 'app.bsky.embed.record',\n",
       "     'record': {'cid': 'bafyreihxp6ji7mdwosvuvu5zac2usixg4d5qtn4263cgs3eyq6ge34xfue',\n",
       "      'uri': 'at://did:plc:ffccycfh6c6pmxwkhvq5clkv/app.bsky.feed.post/3ldvwtfxbss26'}},\n",
       "    'langs': ['en'],\n",
       "    'text': 'Watch as the trump administration will start before Macron will even have any sort of government'},\n",
       "   'embed': {'$type': 'app.bsky.embed.record#view',\n",
       "    'record': {'$type': 'app.bsky.embed.record#viewRecord',\n",
       "     'uri': 'at://did:plc:ffccycfh6c6pmxwkhvq5clkv/app.bsky.feed.post/3ldvwtfxbss26',\n",
       "     'cid': 'bafyreihxp6ji7mdwosvuvu5zac2usixg4d5qtn4263cgs3eyq6ge34xfue',\n",
       "     'author': {'did': 'did:plc:ffccycfh6c6pmxwkhvq5clkv',\n",
       "      'handle': 'afpfr.bsky.social',\n",
       "      'displayName': 'Agence France-Presse',\n",
       "      'avatar': 'https://cdn.bsky.app/img/avatar/plain/did:plc:ffccycfh6c6pmxwkhvq5clkv/bafkreiadcsh7hzzurk5joh7bhxxlyqlvr26mg25f6dnozuwhsz72jz2cme@jpeg',\n",
       "      'labels': [],\n",
       "      'createdAt': '2023-08-07T14:14:38.914Z'},\n",
       "     'value': {'$type': 'app.bsky.feed.post',\n",
       "      'createdAt': '2024-12-22T17:27:46.034Z',\n",
       "      'embed': {'$type': 'app.bsky.embed.images',\n",
       "       'images': [{'alt': '',\n",
       "         'aspectRatio': {'height': 253, 'width': 506},\n",
       "         'image': {'$type': 'blob',\n",
       "          'ref': {'$link': 'bafkreihppe2xqr7xoscpopuixcs6dp7q7ggtxcukf6l6hugqbdm665vpmi'},\n",
       "          'mimeType': 'image/jpeg',\n",
       "          'size': 9945}}]},\n",
       "      'facets': [{'features': [{'$type': 'app.bsky.richtext.facet#tag',\n",
       "          'tag': 'AFP'}],\n",
       "        'index': {'byteEnd': 129, 'byteStart': 125}}],\n",
       "      'text': \"🇫🇷 Matignon : le gouvernement de Bayrou ne sera pas annoncé ce dimanche, a déclaré une source proche de l'exécutif #AFP\"},\n",
       "     'labels': [],\n",
       "     'likeCount': 62,\n",
       "     'replyCount': 25,\n",
       "     'repostCount': 12,\n",
       "     'quoteCount': 53,\n",
       "     'indexedAt': '2024-12-22T17:27:46.155Z',\n",
       "     'embeds': [{'$type': 'app.bsky.embed.images#view',\n",
       "       'images': [{'thumb': 'https://cdn.bsky.app/img/feed_thumbnail/plain/did:plc:ffccycfh6c6pmxwkhvq5clkv/bafkreihppe2xqr7xoscpopuixcs6dp7q7ggtxcukf6l6hugqbdm665vpmi@jpeg',\n",
       "         'fullsize': 'https://cdn.bsky.app/img/feed_fullsize/plain/did:plc:ffccycfh6c6pmxwkhvq5clkv/bafkreihppe2xqr7xoscpopuixcs6dp7q7ggtxcukf6l6hugqbdm665vpmi@jpeg',\n",
       "         'alt': '',\n",
       "         'aspectRatio': {'height': 253, 'width': 506}}]}]}},\n",
       "   'replyCount': 0,\n",
       "   'repostCount': 0,\n",
       "   'likeCount': 1,\n",
       "   'quoteCount': 0,\n",
       "   'indexedAt': '2024-12-22T21:00:31.246Z',\n",
       "   'labels': []},\n",
       "  {'uri': 'at://did:plc:uc2zrk2vp5t37nftli6hyjyb/app.bsky.feed.post/3ldwc4on6cs2z',\n",
       "   'cid': 'bafyreia7vk355hnn2ktn2qenbkhhihotgdxgvqxjs2jt3a5ux5y3aqfzqa',\n",
       "   'author': {'did': 'did:plc:uc2zrk2vp5t37nftli6hyjyb',\n",
       "    'handle': 'gameoverboi.bsky.social',\n",
       "    'displayName': 'GameOverBoy',\n",
       "    'avatar': 'https://cdn.bsky.app/img/avatar/plain/did:plc:uc2zrk2vp5t37nftli6hyjyb/bafkreigxlyslolxmjgfwuw7wxcznzhwosx2uod2ikqctnxg7zshng7vzbq@jpeg',\n",
       "    'labels': [],\n",
       "    'createdAt': '2024-11-15T04:50:38.538Z'},\n",
       "   'record': {'$type': 'app.bsky.feed.post',\n",
       "    'createdAt': '2024-12-22T20:49:48.320Z',\n",
       "    'langs': ['de'],\n",
       "    'reply': {'parent': {'cid': 'bafyreiawiwz7zelwccdpyftnoeympego2ndyctgkoi3lawdjfqryz74ede',\n",
       "      'uri': 'at://did:plc:6dmvcqrm7piuxw6eejitwib7/app.bsky.feed.post/3lduqbwfflyo2'},\n",
       "     'root': {'cid': 'bafyreiawiwz7zelwccdpyftnoeympego2ndyctgkoi3lawdjfqryz74ede',\n",
       "      'uri': 'at://did:plc:6dmvcqrm7piuxw6eejitwib7/app.bsky.feed.post/3lduqbwfflyo2'}},\n",
       "    'text': 'Hahaha freu mich schon darauf wenn es beef zwischen Macron und Trump gibt, und Macron die Freiheitstatue zuruckfordern wird. Worauf Trump dies ablehnt und die Franzosen sich das Denkmal mit Gewalt zurueckholen werden 😂'},\n",
       "   'replyCount': 0,\n",
       "   'repostCount': 0,\n",
       "   'likeCount': 0,\n",
       "   'quoteCount': 0,\n",
       "   'indexedAt': '2024-12-22T20:49:49.046Z',\n",
       "   'labels': []},\n",
       "  {'uri': 'at://did:plc:a2xlfsly67kqogg65mahdpn7/app.bsky.feed.post/3ldw4g4pf5l2u',\n",
       "   'cid': 'bafyreihriqc2slexim52uydnnsnad76dxctbg364m6lhcbi7t6igzutgxe',\n",
       "   'author': {'did': 'did:plc:a2xlfsly67kqogg65mahdpn7',\n",
       "    'handle': 'readingthepictures.bsky.social',\n",
       "    'displayName': 'ReadingThePictures',\n",
       "    'avatar': 'https://cdn.bsky.app/img/avatar/plain/did:plc:a2xlfsly67kqogg65mahdpn7/bafkreicgk5wle2y4iyperexstdonaf4gb6tk3ivhyac3ieihdwwgiwpwru@jpeg',\n",
       "    'labels': [],\n",
       "    'createdAt': '2023-07-24T16:48:14.031Z'},\n",
       "   'record': {'$type': 'app.bsky.feed.post',\n",
       "    'createdAt': '2024-12-22T19:07:42.425Z',\n",
       "    'embed': {'$type': 'app.bsky.embed.images',\n",
       "     'images': [{'alt': 'A young girl walks in Kaweni on the outskirts of Mamoudzou on the French Indian Ocean island of Mayotte after Cyclone Chido.',\n",
       "       'aspectRatio': {'height': 1076, 'width': 1366},\n",
       "       'image': {'$type': 'blob',\n",
       "        'ref': {'$link': 'bafkreicz4giwg62g6hljzi3mfwpwjvmaxboqphczqxv6txpkudd4aqudde'},\n",
       "        'mimeType': 'image/jpeg',\n",
       "        'size': 593429}}]},\n",
       "    'facets': [{'$type': 'app.bsky.richtext.facet',\n",
       "      'features': [{'$type': 'app.bsky.richtext.facet#mention',\n",
       "        'did': 'did:plc:vovinwhtulbsx4mwfw26r5ni'}],\n",
       "      'index': {'byteEnd': 17, 'byteStart': 1}}],\n",
       "    'langs': ['en'],\n",
       "    'tags': [],\n",
       "    'text': \" @theguardian.com retooling their captions for the Trump era? \\n\\nNot your typical climate emergency framing. Embattled Macron exposes the limits of compassion/commitment to spiraling planetary crisis when actually challenged.\\n\\nOne media org that's not intimidated. \\n\\n(From pix of the week gallery.)\"},\n",
       "   'embed': {'$type': 'app.bsky.embed.images#view',\n",
       "    'images': [{'thumb': 'https://cdn.bsky.app/img/feed_thumbnail/plain/did:plc:a2xlfsly67kqogg65mahdpn7/bafkreicz4giwg62g6hljzi3mfwpwjvmaxboqphczqxv6txpkudd4aqudde@jpeg',\n",
       "      'fullsize': 'https://cdn.bsky.app/img/feed_fullsize/plain/did:plc:a2xlfsly67kqogg65mahdpn7/bafkreicz4giwg62g6hljzi3mfwpwjvmaxboqphczqxv6txpkudd4aqudde@jpeg',\n",
       "      'alt': 'A young girl walks in Kaweni on the outskirts of Mamoudzou on the French Indian Ocean island of Mayotte after Cyclone Chido.',\n",
       "      'aspectRatio': {'height': 1076, 'width': 1366}}]},\n",
       "   'replyCount': 0,\n",
       "   'repostCount': 0,\n",
       "   'likeCount': 3,\n",
       "   'quoteCount': 0,\n",
       "   'indexedAt': '2024-12-22T19:07:43.448Z',\n",
       "   'labels': []},\n",
       "  {'uri': 'at://did:plc:woqdx4fziffszjdday6ynxpw/app.bsky.feed.post/3ldvz3d7hzc2r',\n",
       "   'cid': 'bafyreiebsxd6canpahzivtf2edm2amagq2aigf7netkcawaekpxhke7zoy',\n",
       "   'author': {'did': 'did:plc:woqdx4fziffszjdday6ynxpw',\n",
       "    'handle': 'igorinsu.bsky.social',\n",
       "    'displayName': 'insu que sait',\n",
       "    'avatar': 'https://cdn.bsky.app/img/avatar/plain/did:plc:woqdx4fziffszjdday6ynxpw/bafkreid6z67gvicm2wqbvwjsbl4zdyxoge274ku6ggkgwbr5oy2windmti@jpeg',\n",
       "    'labels': [],\n",
       "    'createdAt': '2023-11-11T17:28:11.139Z'},\n",
       "   'record': {'$type': 'app.bsky.feed.post',\n",
       "    'createdAt': '2024-12-22T18:07:59.105Z',\n",
       "    'langs': ['fr'],\n",
       "    'reply': {'parent': {'cid': 'bafyreie3dmyfwrbjcxb4a72uiiz3jxc4pkcu5jgoxh2z4foeqaie6cekoq',\n",
       "      'uri': 'at://did:plc:556c5pjvt4gqiy3dtzae3h6q/app.bsky.feed.post/3ldvv6orqnk2n'},\n",
       "     'root': {'cid': 'bafyreichp3cnumeqsdw3ulb72vjkuxf2reymr54axmc6is6etswdtvmw2y',\n",
       "      'uri': 'at://did:plc:56iybaja7cyau7yecctkorve/app.bsky.feed.post/3ldvcxaanp22c'}},\n",
       "    'text': \"Oui mais c'est pire depuis la motion de censure, il suffit de lire les journaux économiques . C'est la dette de la France. L'erreur de Macron c'est d'avoir aidé les français lors du covid. Trump est coresponsable de la morts de centaines de milliers de morts et a été réélu\"},\n",
       "   'replyCount': 2,\n",
       "   'repostCount': 0,\n",
       "   'likeCount': 1,\n",
       "   'quoteCount': 0,\n",
       "   'indexedAt': '2024-12-22T18:08:00.947Z',\n",
       "   'labels': []},\n",
       "  {'uri': 'at://did:plc:xrdyc4g3ye7hj4zb4ybn5l46/app.bsky.feed.post/3ldvx6zusd22n',\n",
       "   'cid': 'bafyreiaghob5hdfd2ejjer2kfvbqxsakyea5emdt3oaefq6tvb7hr5yh4a',\n",
       "   'author': {'did': 'did:plc:xrdyc4g3ye7hj4zb4ybn5l46',\n",
       "    'handle': 'profwolff.bsky.social',\n",
       "    'displayName': 'Professor Richard D. Wolff',\n",
       "    'avatar': 'https://cdn.bsky.app/img/avatar/plain/did:plc:xrdyc4g3ye7hj4zb4ybn5l46/bafkreidbq7uzogfzwqnin2cbpidglkw6naz245xn6y5acibqimqhomd3hi@jpeg',\n",
       "    'labels': [],\n",
       "    'createdAt': '2024-11-14T15:45:26.435Z'},\n",
       "   'record': {'$type': 'app.bsky.feed.post',\n",
       "    'createdAt': '2024-12-22T17:34:16.052Z',\n",
       "    'embed': {'$type': 'app.bsky.embed.external',\n",
       "     'external': {'description': 'French president makes remark when confronted by residents still without water after huge storm last week',\n",
       "      'thumb': {'$type': 'blob',\n",
       "       'ref': {'$link': 'bafkreifm2j4div2vpmre6ml4k4zhy7dsnddm5pew5nyt5iew5c7i4xya4q'},\n",
       "       'mimeType': 'image/jpeg',\n",
       "       'size': 274222},\n",
       "      'title': 'Macron swears amid furious exchange with cyclone-hit Mayotte islanders',\n",
       "      'uri': 'https://www.theguardian.com/world/2024/dec/20/emmanuel-macron-swears-amid-furious-exchange-with-cyclone-hit-mayotte-islanders'}},\n",
       "    'facets': [{'features': [{'$type': 'app.bsky.richtext.facet#link',\n",
       "        'uri': 'https://www.theguardian.com/world/2024/dec/20/emmanuel-macron-swears-amid-furious-exchange-with-cyclone-hit-mayotte-islanders'}],\n",
       "      'index': {'byteEnd': 248, 'byteStart': 213}}],\n",
       "    'langs': ['en'],\n",
       "    'text': 'France\\'s Macron still a tone-deaf imperialist. He tells Mayotte\\'s poor - now without water for a week - not to complain since other colonies are even worse off. Like Trump on what he called \"shithole\" countries.\\n\\nwww.theguardian.com/world/2024/d...'},\n",
       "   'embed': {'$type': 'app.bsky.embed.external#view',\n",
       "    'external': {'uri': 'https://www.theguardian.com/world/2024/dec/20/emmanuel-macron-swears-amid-furious-exchange-with-cyclone-hit-mayotte-islanders',\n",
       "     'title': 'Macron swears amid furious exchange with cyclone-hit Mayotte islanders',\n",
       "     'description': 'French president makes remark when confronted by residents still without water after huge storm last week',\n",
       "     'thumb': 'https://cdn.bsky.app/img/feed_thumbnail/plain/did:plc:xrdyc4g3ye7hj4zb4ybn5l46/bafkreifm2j4div2vpmre6ml4k4zhy7dsnddm5pew5nyt5iew5c7i4xya4q@jpeg'}},\n",
       "   'replyCount': 0,\n",
       "   'repostCount': 10,\n",
       "   'likeCount': 45,\n",
       "   'quoteCount': 0,\n",
       "   'indexedAt': '2024-12-22T17:34:19.552Z',\n",
       "   'labels': []},\n",
       "  {'uri': 'at://did:plc:xscr662qygj2ggdgzub6y22j/app.bsky.feed.post/3ldvtlvsj2s2o',\n",
       "   'cid': 'bafyreicu76fhiut2ju2ts3lmspzomgzcybjvnjcbgboljhbl765nferrxq',\n",
       "   'author': {'did': 'did:plc:xscr662qygj2ggdgzub6y22j',\n",
       "    'handle': 'keithhancock.bsky.social',\n",
       "    'displayName': '🦋Keith Hancock🦋  🇬🇧 🇪🇺 🇹🇭 🇻🇳',\n",
       "    'avatar': 'https://cdn.bsky.app/img/avatar/plain/did:plc:xscr662qygj2ggdgzub6y22j/bafkreihr7a6gpgaik7eo4bfxz65plq3lb3knygaige6jcgsxhxvid2csci@jpeg',\n",
       "    'labels': [],\n",
       "    'createdAt': '2024-11-14T23:25:22.646Z'},\n",
       "   'record': {'$type': 'app.bsky.feed.post',\n",
       "    'createdAt': '2024-12-22T16:29:53.016Z',\n",
       "    'embed': {'$type': 'app.bsky.embed.images',\n",
       "     'images': [{'alt': 'Trump, \"What makes you think you\\'re right for the job?\"\\nNoem, \"I lied about the money, and I lied about meeting Kim and Macron. . . . . oh, and I killed a puppy.\"\\nTrump, \"OK, you\\'re in.\"',\n",
       "       'aspectRatio': {'height': 788, 'width': 940},\n",
       "       'image': {'$type': 'blob',\n",
       "        'ref': {'$link': 'bafkreigvyb6tumaqr54dus2h4mg2ihq6ffvhvjmme7sapjhryonxqzortq'},\n",
       "        'mimeType': 'image/jpeg',\n",
       "        'size': 568781}}]},\n",
       "    'langs': ['en'],\n",
       "    'reply': {'parent': {'cid': 'bafyreifpzii63h4xmct566lhdy6r2p7dh75jhkgouze65lgno2g6gwl7hu',\n",
       "      'uri': 'at://did:plc:t57zckxuo4v6t53fjp7j7mcv/app.bsky.feed.post/3ldvksc7d522f'},\n",
       "     'root': {'cid': 'bafyreifpzii63h4xmct566lhdy6r2p7dh75jhkgouze65lgno2g6gwl7hu',\n",
       "      'uri': 'at://did:plc:t57zckxuo4v6t53fjp7j7mcv/app.bsky.feed.post/3ldvksc7d522f'}},\n",
       "    'text': ''},\n",
       "   'embed': {'$type': 'app.bsky.embed.images#view',\n",
       "    'images': [{'thumb': 'https://cdn.bsky.app/img/feed_thumbnail/plain/did:plc:xscr662qygj2ggdgzub6y22j/bafkreigvyb6tumaqr54dus2h4mg2ihq6ffvhvjmme7sapjhryonxqzortq@jpeg',\n",
       "      'fullsize': 'https://cdn.bsky.app/img/feed_fullsize/plain/did:plc:xscr662qygj2ggdgzub6y22j/bafkreigvyb6tumaqr54dus2h4mg2ihq6ffvhvjmme7sapjhryonxqzortq@jpeg',\n",
       "      'alt': 'Trump, \"What makes you think you\\'re right for the job?\"\\nNoem, \"I lied about the money, and I lied about meeting Kim and Macron. . . . . oh, and I killed a puppy.\"\\nTrump, \"OK, you\\'re in.\"',\n",
       "      'aspectRatio': {'height': 788, 'width': 940}}]},\n",
       "   'replyCount': 0,\n",
       "   'repostCount': 1,\n",
       "   'likeCount': 6,\n",
       "   'quoteCount': 0,\n",
       "   'indexedAt': '2024-12-22T16:30:02.553Z',\n",
       "   'labels': []},\n",
       "  {'uri': 'at://did:plc:r6dnotaiuhs2wxzbrngbrszc/app.bsky.feed.post/3ldvsjonyb227',\n",
       "   'cid': 'bafyreif7oir547pbh7a52xnzwsxj2zz7ltmhuqe6cluijk2wjhwuwwbcba',\n",
       "   'author': {'did': 'did:plc:r6dnotaiuhs2wxzbrngbrszc',\n",
       "    'handle': 'fichtel.bsky.social',\n",
       "    'displayName': '𝐅𝐢𝐜𝐡𝐭𝐞𝐥 🕊️',\n",
       "    'avatar': 'https://cdn.bsky.app/img/avatar/plain/did:plc:r6dnotaiuhs2wxzbrngbrszc/bafkreiaz2exomnmvs2l5hky4s3ok4ntdxshacikrzocoghrwhpykacch3u@jpeg',\n",
       "    'labels': [],\n",
       "    'createdAt': '2024-10-17T01:31:09.807Z'},\n",
       "   'record': {'$type': 'app.bsky.feed.post',\n",
       "    'createdAt': '2024-12-22T16:10:44.682Z',\n",
       "    'langs': ['de'],\n",
       "    'reply': {'parent': {'cid': 'bafyreicfvexyfsjjazj7vr4vwvdlolxtgsuui7bqqnda37m5rovwxhiqj4',\n",
       "      'uri': 'at://did:plc:gydf5zsqeav23wgz4znswiqk/app.bsky.feed.post/3ldvqouoczs2l'},\n",
       "     'root': {'cid': 'bafyreielyha4mjmgxvux32yiyaxmcufmaa2ty667yx66qbclg3ai5xwpqi',\n",
       "      'uri': 'at://did:plc:gydf5zsqeav23wgz4znswiqk/app.bsky.feed.post/3ldvood6nj22l'}},\n",
       "    'text': \"C'est clair. et quand t'enlève le pouvoir des mains des musk Thiel Trump Macron Bolloré Arnault le Pen höcke farrage meloni ou quiconque, \\nd'une manière décidé et définitive, par des expropriations et condamnations, ça ferait certainement aussi effet d'intimidation. C qui serait +k bienvenue\"},\n",
       "   'replyCount': 0,\n",
       "   'repostCount': 0,\n",
       "   'likeCount': 0,\n",
       "   'quoteCount': 0,\n",
       "   'indexedAt': '2024-12-22T16:10:46.147Z',\n",
       "   'labels': []},\n",
       "  {'uri': 'at://did:plc:66gl2bn6tpnq374x33nh66t2/app.bsky.feed.post/3ldvn5wt7wk2p',\n",
       "   'cid': 'bafyreibavv7gp3ffgjg3233g36x6nki7oxupa4kotylth2uhfmhjkrlyae',\n",
       "   'author': {'did': 'did:plc:66gl2bn6tpnq374x33nh66t2',\n",
       "    'handle': 'fabulousfab.bsky.social',\n",
       "    'displayName': 'Fabienne Cassagne',\n",
       "    'avatar': 'https://cdn.bsky.app/img/avatar/plain/did:plc:66gl2bn6tpnq374x33nh66t2/bafkreic3cxyqqsewfxxeoxiq5qiyhu3ezvitndrnxjfqkknphmr2jqnyuy@jpeg',\n",
       "    'labels': [],\n",
       "    'createdAt': '2023-07-29T21:32:52.140Z'},\n",
       "   'record': {'$type': 'app.bsky.feed.post',\n",
       "    'createdAt': '2024-12-22T14:34:41.882Z',\n",
       "    'langs': ['fr'],\n",
       "    'reply': {'parent': {'cid': 'bafyreige4igq65ft56wufyupalvfc6563cj4cdfpvc3ova3ccnuzn7mpei',\n",
       "      'uri': 'at://did:plc:rqm5gg5bqy42l4mxrcgqndzt/app.bsky.feed.post/3ldvn35mw222f'},\n",
       "     'root': {'cid': 'bafyreihbtziklcbg3mgtsnupn555vvw7tpvyounsdgyaqawygqpadwe6vi',\n",
       "      'uri': 'at://did:plc:66gl2bn6tpnq374x33nh66t2/app.bsky.feed.post/3ldvddsxim227'}},\n",
       "    'text': 'Comme le dit l’article, Poutine est un très fin manipulateur. Et s’est beaucoup entraîné sur Trump… Il a dû voir venir Macron à 1000 km.'},\n",
       "   'replyCount': 0,\n",
       "   'repostCount': 0,\n",
       "   'likeCount': 2,\n",
       "   'quoteCount': 0,\n",
       "   'indexedAt': '2024-12-22T14:34:42.353Z',\n",
       "   'labels': []},\n",
       "  {'uri': 'at://did:plc:4bdgy4poo22dcohecdynzgf2/app.bsky.feed.post/3ldvdonrhek2k',\n",
       "   'cid': 'bafyreicgac3eshelge3l557hqg7yon6oi7koonyciipxccfkbmpyatebwu',\n",
       "   'author': {'did': 'did:plc:4bdgy4poo22dcohecdynzgf2',\n",
       "    'handle': 'skitridog2024.bsky.social',\n",
       "    'displayName': 'Me, Him, Dude, dont care... know who what i am... ',\n",
       "    'avatar': 'https://cdn.bsky.app/img/avatar/plain/did:plc:4bdgy4poo22dcohecdynzgf2/bafkreiakdjsluys2zpikzumhvpgb2eh6r47osqxbk4sj27mouy2li5couq@jpeg',\n",
       "    'labels': [],\n",
       "    'createdAt': '2024-11-14T16:48:27.225Z'},\n",
       "   'record': {'$type': 'app.bsky.feed.post',\n",
       "    'createdAt': '2024-12-22T11:45:05.395Z',\n",
       "    'langs': ['en'],\n",
       "    'text': 'In my France Experience.. America.. the French hate Macron.. and want another viable ... leader... but also dont want a TRUMP ... from the streets of Southern FRANCE... peace.'},\n",
       "   'replyCount': 0,\n",
       "   'repostCount': 0,\n",
       "   'likeCount': 0,\n",
       "   'quoteCount': 0,\n",
       "   'indexedAt': '2024-12-22T11:45:16.950Z',\n",
       "   'labels': []},\n",
       "  {'uri': 'at://did:plc:uevihdnadzxr4msnzwkeads5/app.bsky.feed.post/3ldv3lqyxr225',\n",
       "   'cid': 'bafyreic7xcbcj2own5gfk3roeddctovzgzbc432ug64ra3idodfjimlh7e',\n",
       "   'author': {'did': 'did:plc:uevihdnadzxr4msnzwkeads5',\n",
       "    'handle': 'lucidr.bsky.social',\n",
       "    'displayName': '',\n",
       "    'avatar': 'https://cdn.bsky.app/img/avatar/plain/did:plc:uevihdnadzxr4msnzwkeads5/bafkreibypzj7tw2bfkoklwx72svnwye5ya5kd5rfbse6spvuccqwqvmpxe@jpeg',\n",
       "    'labels': [],\n",
       "    'createdAt': '2024-12-07T06:42:15.846Z'},\n",
       "   'record': {'$type': 'app.bsky.feed.post',\n",
       "    'createdAt': '2024-12-22T09:20:18.188Z',\n",
       "    'embed': {'$type': 'app.bsky.embed.record',\n",
       "     'record': {'cid': 'bafyreih3xods7ei5qkjzqmzryfs3vcuuxjeabssna2dc3xtcnfr62xkgy4',\n",
       "      'uri': 'at://did:plc:uevihdnadzxr4msnzwkeads5/app.bsky.feed.post/3ldv3ig6dbk25'}},\n",
       "    'langs': ['en'],\n",
       "    'text': 'Prediction,  these ships will become part of the Chinese Navy.  Trump and Macron will be pleased.'},\n",
       "   'embed': {'$type': 'app.bsky.embed.record#view',\n",
       "    'record': {'$type': 'app.bsky.embed.record#viewRecord',\n",
       "     'uri': 'at://did:plc:uevihdnadzxr4msnzwkeads5/app.bsky.feed.post/3ldv3ig6dbk25',\n",
       "     'cid': 'bafyreih3xods7ei5qkjzqmzryfs3vcuuxjeabssna2dc3xtcnfr62xkgy4',\n",
       "     'author': {'did': 'did:plc:uevihdnadzxr4msnzwkeads5',\n",
       "      'handle': 'lucidr.bsky.social',\n",
       "      'displayName': '',\n",
       "      'avatar': 'https://cdn.bsky.app/img/avatar/plain/did:plc:uevihdnadzxr4msnzwkeads5/bafkreibypzj7tw2bfkoklwx72svnwye5ya5kd5rfbse6spvuccqwqvmpxe@jpeg',\n",
       "      'labels': [],\n",
       "      'createdAt': '2024-12-07T06:42:15.846Z'},\n",
       "     'value': {'$type': 'app.bsky.feed.post',\n",
       "      'createdAt': '2024-12-22T09:18:26.161Z',\n",
       "      'embed': {'$type': 'app.bsky.embed.images',\n",
       "       'images': [{'alt': '',\n",
       "         'aspectRatio': {'height': 540, 'width': 960},\n",
       "         'image': {'$type': 'blob',\n",
       "          'ref': {'$link': 'bafkreibu2spnh2z57dfh2skerlgsof5aktjxc64fqevgw7wntuepfz7lsm'},\n",
       "          'mimeType': 'image/jpeg',\n",
       "          'size': 255600}}]},\n",
       "      'langs': ['en'],\n",
       "      'reply': {'parent': {'cid': 'bafyreia4c23ejc3ahgicovfalqwanlywr3uuzyn5exp4bomeheoc3c2ijm',\n",
       "        'uri': 'at://did:plc:ayvwywv74nznrdd5nxera5wa/app.bsky.feed.post/3lducykvcsk22'},\n",
       "       'root': {'cid': 'bafyreia4c23ejc3ahgicovfalqwanlywr3uuzyn5exp4bomeheoc3c2ijm',\n",
       "        'uri': 'at://did:plc:ayvwywv74nznrdd5nxera5wa/app.bsky.feed.post/3lducykvcsk22'}},\n",
       "      'text': \"Britains Queen Elizabeth class aircraft carriers are to be mothballed by Labour's own treasury defence budget cuts.\\n\\nThese metal behemoths were a Sir Tony Blair legacy, and this is what happens every single time Labour invests in Britain's future.\\n\\nPutin famously said, good for target practice.\"},\n",
       "     'labels': [],\n",
       "     'likeCount': 0,\n",
       "     'replyCount': 0,\n",
       "     'repostCount': 0,\n",
       "     'quoteCount': 1,\n",
       "     'indexedAt': '2024-12-22T09:18:28.253Z',\n",
       "     'embeds': [{'$type': 'app.bsky.embed.images#view',\n",
       "       'images': [{'thumb': 'https://cdn.bsky.app/img/feed_thumbnail/plain/did:plc:uevihdnadzxr4msnzwkeads5/bafkreibu2spnh2z57dfh2skerlgsof5aktjxc64fqevgw7wntuepfz7lsm@jpeg',\n",
       "         'fullsize': 'https://cdn.bsky.app/img/feed_fullsize/plain/did:plc:uevihdnadzxr4msnzwkeads5/bafkreibu2spnh2z57dfh2skerlgsof5aktjxc64fqevgw7wntuepfz7lsm@jpeg',\n",
       "         'alt': '',\n",
       "         'aspectRatio': {'height': 540, 'width': 960}}]}]}},\n",
       "   'replyCount': 0,\n",
       "   'repostCount': 0,\n",
       "   'likeCount': 0,\n",
       "   'quoteCount': 0,\n",
       "   'indexedAt': '2024-12-22T09:20:19.047Z',\n",
       "   'labels': []},\n",
       "  {'uri': 'at://did:plc:yli4syw3atnxb3tgwndfajiz/app.bsky.feed.post/3ldu3fcvpbc2p',\n",
       "   'cid': 'bafyreibewcgxmnjihvx3sdwqy6kr67zrxeqo4xey5rxh66e5tyc4lrgxxi',\n",
       "   'author': {'did': 'did:plc:yli4syw3atnxb3tgwndfajiz',\n",
       "    'handle': 'rdewalt.bsky.social',\n",
       "    'displayName': 'That Ryan Guy, no, the other one.',\n",
       "    'avatar': 'https://cdn.bsky.app/img/avatar/plain/did:plc:yli4syw3atnxb3tgwndfajiz/bafkreiankbbslatal4n3oc73yinik3yjrs6dbk3wpt7vckye43pyo6lihq@jpeg',\n",
       "    'associated': {'chat': {'allowIncoming': 'all'}},\n",
       "    'labels': [{'src': 'did:plc:yli4syw3atnxb3tgwndfajiz',\n",
       "      'uri': 'at://did:plc:yli4syw3atnxb3tgwndfajiz/app.bsky.actor.profile/self',\n",
       "      'cid': 'bafyreigr2dlyob4bf3abgc7iu3m7axfkuwvgsvv2qdlv3d4olr3xebp2rm',\n",
       "      'val': '!no-unauthenticated',\n",
       "      'cts': '1970-01-01T00:00:00.000Z'}],\n",
       "    'createdAt': '2023-07-28T15:10:00.624Z'},\n",
       "   'record': {'$type': 'app.bsky.feed.post',\n",
       "    'createdAt': '2024-12-21T23:44:03.419Z',\n",
       "    'facets': [],\n",
       "    'langs': ['en'],\n",
       "    'reply': {'parent': {'$type': 'com.atproto.repo.strongRef',\n",
       "      'cid': 'bafyreidiegehsbksvmcmhqp4bufip5av32z3dhahxzwy7l2kzfqjrscyd4',\n",
       "      'uri': 'at://did:plc:2lth4qgnd6tcrohfjrb4rnrv/app.bsky.feed.post/3ldtd5h55is2x'},\n",
       "     'root': {'$type': 'com.atproto.repo.strongRef',\n",
       "      'cid': 'bafyreid26grcjnoktvhyn6lhsfc5welh3nfldpoinfgshahoepqjqf3wxa',\n",
       "      'uri': 'at://did:plc:vpfavbhwv4okwh6ydgp5uxf6/app.bsky.feed.post/3ldrcrr56n22c'}},\n",
       "    'tags': [],\n",
       "    'text': 'Was that the one where Trump does his usual \"Yank towards himself to pull the other off balance\" and Macron held his ground and Trump failed?'},\n",
       "   'replyCount': 1,\n",
       "   'repostCount': 0,\n",
       "   'likeCount': 1,\n",
       "   'quoteCount': 0,\n",
       "   'indexedAt': '2024-12-21T23:44:02.453Z',\n",
       "   'labels': []},\n",
       "  {'uri': 'at://did:plc:t2c5sfuudp26au53e2lqx5tv/app.bsky.feed.post/3ldtrucj7nc2s',\n",
       "   'cid': 'bafyreidngbmevn3gbji5tstpd5qgorl5grp4ftgym3idued3djofut3i3a',\n",
       "   'author': {'did': 'did:plc:t2c5sfuudp26au53e2lqx5tv',\n",
       "    'handle': 'mountainflash.bsky.social',\n",
       "    'displayName': 'Mountainflash',\n",
       "    'avatar': 'https://cdn.bsky.app/img/avatar/plain/did:plc:t2c5sfuudp26au53e2lqx5tv/bafkreieeiluxvm4uj5chgbjpwfsvf2h43ouba2qh4zild77abyrk2empyq@jpeg',\n",
       "    'labels': [],\n",
       "    'createdAt': '2024-11-15T14:32:39.022Z'},\n",
       "   'record': {'$type': 'app.bsky.feed.post',\n",
       "    'createdAt': '2024-12-21T20:53:27.825Z',\n",
       "    'langs': ['en'],\n",
       "    'reply': {'parent': {'cid': 'bafyreif4473xdbrggkqljn6t5xgqns6gbyi6iqrdmiikok5spmqlxy6jzq',\n",
       "      'uri': 'at://did:plc:jhrvceejiwhddnhkct7ywbhs/app.bsky.feed.post/3ldtmrmfk4k2m'},\n",
       "     'root': {'cid': 'bafyreie5z3rtqoq5i22o7htugcor6ueqv7dpevbrlzsp4moszi34m5ysza',\n",
       "      'uri': 'at://did:plc:3khnsa2zf5afzl7b5q3inyyd/app.bsky.feed.post/3ldtel6fyz22g'}},\n",
       "    'text': \"It was a GBH clip from BBC of President Duda of Poland and President Macron of France at the Norte Dame reopening. Both looking at Trump, pointing in Trump's diaper area and laughing. Then Duda examined Macron's hand where Trump tried to smash Macron's hand and they both laughed again.\"},\n",
       "   'replyCount': 0,\n",
       "   'repostCount': 0,\n",
       "   'likeCount': 0,\n",
       "   'quoteCount': 0,\n",
       "   'indexedAt': '2024-12-21T20:53:27.445Z',\n",
       "   'labels': []},\n",
       "  {'uri': 'at://did:plc:w2s4i7arbv7mbsjmsmaiqhuu/app.bsky.feed.post/3ldtlx6ldxc2h',\n",
       "   'cid': 'bafyreifjr3rzokoahxlrb3bswe7xhppjdm5ujaczmyekntknczzplq3vwi',\n",
       "   'author': {'did': 'did:plc:w2s4i7arbv7mbsjmsmaiqhuu',\n",
       "    'handle': 'sociosengage-e-s.bsky.social',\n",
       "    'displayName': 'Les (vrai·e·s) Socios Engagé·e·s',\n",
       "    'avatar': 'https://cdn.bsky.app/img/avatar/plain/did:plc:w2s4i7arbv7mbsjmsmaiqhuu/bafkreiezvbptyu6sxtmb7topjaird6yeyzeeglsm6q65kjftr5dx4sdpze@jpeg',\n",
       "    'labels': [],\n",
       "    'createdAt': '2024-08-16T19:16:50.586Z'},\n",
       "   'record': {'$type': 'app.bsky.feed.post',\n",
       "    'createdAt': '2024-12-21T19:07:41.912Z',\n",
       "    'embed': {'$type': 'app.bsky.embed.images',\n",
       "     'images': [{'alt': '',\n",
       "       'aspectRatio': {'height': 1080, 'width': 1080},\n",
       "       'image': {'$type': 'blob',\n",
       "        'ref': {'$link': 'bafkreibwpu6qth33urw6fefw6qnn637brgzcsgdmbtdl4gomgidxmja7im'},\n",
       "        'mimeType': 'image/jpeg',\n",
       "        'size': 450515}}]},\n",
       "    'facets': [{'features': [{'$type': 'app.bsky.richtext.facet#tag',\n",
       "        'tag': '2salles2ambiances'}],\n",
       "      'index': {'byteEnd': 49, 'byteStart': 31}},\n",
       "     {'features': [{'$type': 'app.bsky.richtext.facet#link',\n",
       "        'uri': 'https://sociosengages.fr/archives/visuels/#2salles'}],\n",
       "      'index': {'byteEnd': 82, 'byteStart': 50}},\n",
       "     {'features': [{'$type': 'app.bsky.richtext.facet#tag', 'tag': 'Trump'}],\n",
       "      'index': {'byteEnd': 89, 'byteStart': 83}},\n",
       "     {'features': [{'$type': 'app.bsky.richtext.facet#tag', 'tag': 'Macron'}],\n",
       "      'index': {'byteEnd': 97, 'byteStart': 90}},\n",
       "     {'features': [{'$type': 'app.bsky.richtext.facet#tag',\n",
       "        'tag': 'martinlutherking'}],\n",
       "      'index': {'byteEnd': 115, 'byteStart': 98}},\n",
       "     {'features': [{'$type': 'app.bsky.richtext.facet#tag',\n",
       "        'tag': 'MalcolmX'}],\n",
       "      'index': {'byteEnd': 125, 'byteStart': 116}}],\n",
       "    'langs': ['fr'],\n",
       "    'text': 'Nouveau visuel de notre série #2salles2ambiances\\nsociosengages.fr/archives/vis...\\n#Trump #Macron #martinlutherking #MalcolmX'},\n",
       "   'embed': {'$type': 'app.bsky.embed.images#view',\n",
       "    'images': [{'thumb': 'https://cdn.bsky.app/img/feed_thumbnail/plain/did:plc:w2s4i7arbv7mbsjmsmaiqhuu/bafkreibwpu6qth33urw6fefw6qnn637brgzcsgdmbtdl4gomgidxmja7im@jpeg',\n",
       "      'fullsize': 'https://cdn.bsky.app/img/feed_fullsize/plain/did:plc:w2s4i7arbv7mbsjmsmaiqhuu/bafkreibwpu6qth33urw6fefw6qnn637brgzcsgdmbtdl4gomgidxmja7im@jpeg',\n",
       "      'alt': '',\n",
       "      'aspectRatio': {'height': 1080, 'width': 1080}}]},\n",
       "   'replyCount': 0,\n",
       "   'repostCount': 3,\n",
       "   'likeCount': 6,\n",
       "   'quoteCount': 0,\n",
       "   'indexedAt': '2024-12-21T19:07:44.957Z',\n",
       "   'labels': []},\n",
       "  {'uri': 'at://did:plc:2lth4qgnd6tcrohfjrb4rnrv/app.bsky.feed.post/3ldtd5h55is2x',\n",
       "   'cid': 'bafyreidiegehsbksvmcmhqp4bufip5av32z3dhahxzwy7l2kzfqjrscyd4',\n",
       "   'author': {'did': 'did:plc:2lth4qgnd6tcrohfjrb4rnrv',\n",
       "    'handle': 'heartsrunner.bsky.social',\n",
       "    'displayName': 'Queen of Spades',\n",
       "    'avatar': 'https://cdn.bsky.app/img/avatar/plain/did:plc:2lth4qgnd6tcrohfjrb4rnrv/bafkreigtn3c626dst6bqtzvztp7oqt5elrikaet32tjurk7zx26wb4q7am@jpeg',\n",
       "    'labels': [],\n",
       "    'createdAt': '2024-11-16T16:34:51.972Z'},\n",
       "   'record': {'$type': 'app.bsky.feed.post',\n",
       "    'createdAt': '2024-12-21T16:30:08.536Z',\n",
       "    'langs': ['en'],\n",
       "    'reply': {'parent': {'cid': 'bafyreifcb57luhhj73aqnsfztpbyt42bek6dlmmmdicmbhozqbtwu6y5aq',\n",
       "      'uri': 'at://did:plc:vpfavbhwv4okwh6ydgp5uxf6/app.bsky.feed.post/3ldrcw5bnks2c'},\n",
       "     'root': {'cid': 'bafyreid26grcjnoktvhyn6lhsfc5welh3nfldpoinfgshahoepqjqf3wxa',\n",
       "      'uri': 'at://did:plc:vpfavbhwv4okwh6ydgp5uxf6/app.bsky.feed.post/3ldrcrr56n22c'}},\n",
       "    'text': 'My favorite attempt at a power play is still that awkward handshake between Trump and Macron.'},\n",
       "   'replyCount': 2,\n",
       "   'repostCount': 0,\n",
       "   'likeCount': 1,\n",
       "   'quoteCount': 0,\n",
       "   'indexedAt': '2024-12-21T16:30:07.057Z',\n",
       "   'labels': []},\n",
       "  {'uri': 'at://did:plc:2zb5gw7vgclzs2x54lj2kcmy/app.bsky.feed.post/3ldt6xc4kps26',\n",
       "   'cid': 'bafyreihq74jqfubqrua2l27irdvggeoob5wbhhbwew3chenwkonmruwbge',\n",
       "   'author': {'did': 'did:plc:2zb5gw7vgclzs2x54lj2kcmy',\n",
       "    'handle': 'rodaire.bsky.social',\n",
       "    'displayName': 'Rodaire',\n",
       "    'avatar': 'https://cdn.bsky.app/img/avatar/plain/did:plc:2zb5gw7vgclzs2x54lj2kcmy/bafkreih33zx7cxz6ccxw6bsup2lwrrqxm7dkimdg4rrroe3757chz2ve64@jpeg',\n",
       "    'associated': {'chat': {'allowIncoming': 'all'}},\n",
       "    'labels': [],\n",
       "    'createdAt': '2023-10-04T11:58:31.847Z'},\n",
       "   'record': {'$type': 'app.bsky.feed.post',\n",
       "    'createdAt': '2024-12-21T15:15:06.979Z',\n",
       "    'langs': ['fr'],\n",
       "    'reply': {'parent': {'cid': 'bafyreibabmtjb7bfes3sed6b4w4q45vdg6xduibcx43yhub745oeggzx2y',\n",
       "      'uri': 'at://did:plc:fow7hj2saj4odotd6oce3drm/app.bsky.feed.post/3ldt6rwwppc23'},\n",
       "     'root': {'cid': 'bafyreibudcraiv5kbytgcvz6dqajnps2fxecpceiq2kinl3y7ywdtwgwei',\n",
       "      'uri': 'at://did:plc:fow7hj2saj4odotd6oce3drm/app.bsky.feed.post/3ldt6jfwea223'}},\n",
       "    'text': \"C'est aussi une application qui relaie les informations de peuples opprimés comme la Palestine et permet l'organisation de résistances minoritaires, c'est littéralement ce dont rêvait Macron pendant les révoltes en Nouvelle-Caledonie et Trump face aux mouvements LGBT et antiracistes\"},\n",
       "   'replyCount': 1,\n",
       "   'repostCount': 0,\n",
       "   'likeCount': 1,\n",
       "   'quoteCount': 0,\n",
       "   'indexedAt': '2024-12-21T15:15:05.554Z',\n",
       "   'labels': []},\n",
       "  {'uri': 'at://did:plc:skk62hihpla74ejqzjhdknku/app.bsky.feed.post/3ldt5vwuboc2y',\n",
       "   'cid': 'bafyreihlj3el63txkn72mt4r4ix2qocoqzm25iw2bzj6baheezxb6nvtie',\n",
       "   'author': {'did': 'did:plc:skk62hihpla74ejqzjhdknku',\n",
       "    'handle': 'luciedebretagne.bsky.social',\n",
       "    'displayName': 'Lucie de Bretagne',\n",
       "    'avatar': 'https://cdn.bsky.app/img/avatar/plain/did:plc:skk62hihpla74ejqzjhdknku/bafkreidr7fs2sbsvqv44lwhyusy7yq5ripdst3lybpnmkbgai4chkt2n7e@jpeg',\n",
       "    'labels': [],\n",
       "    'createdAt': '2024-11-24T13:31:21.647Z'},\n",
       "   'record': {'$type': 'app.bsky.feed.post',\n",
       "    'createdAt': '2024-12-21T14:56:27.872Z',\n",
       "    'embed': {'$type': 'app.bsky.embed.external',\n",
       "     'external': {'description': 'YouTube video by LUCIE DE BRETAGNE',\n",
       "      'thumb': {'$type': 'blob',\n",
       "       'ref': {'$link': 'bafkreihroxawamuomrfk62k5if52nu5g6mcbigcr6lbzxsps5tvhwztfom'},\n",
       "       'mimeType': 'image/jpeg',\n",
       "       'size': 421679},\n",
       "      'title': 'White House White Lines',\n",
       "      'uri': 'https://youtu.be/IGSC-1M0nE8?si=QDJ3TAX1CToEDuEM'}},\n",
       "    'facets': [{'features': [{'$type': 'app.bsky.richtext.facet#tag',\n",
       "        'tag': 'Washington'}],\n",
       "      'index': {'byteEnd': 48, 'byteStart': 37}},\n",
       "     {'features': [{'$type': 'app.bsky.richtext.facet#tag', 'tag': 'Paris'}],\n",
       "      'index': {'byteEnd': 58, 'byteStart': 52}},\n",
       "     {'features': [{'$type': 'app.bsky.richtext.facet#link',\n",
       "        'uri': 'https://youtu.be/IGSC-1M0nE8?si=QDJ3TAX1CToEDuEM'}],\n",
       "      'index': {'byteEnd': 276, 'byteStart': 252}},\n",
       "     {'features': [{'$type': 'app.bsky.richtext.facet#tag', 'tag': 'quote'}],\n",
       "      'index': {'byteEnd': 285, 'byteStart': 279}},\n",
       "     {'features': [{'$type': 'app.bsky.richtext.facet#tag', 'tag': 'Trump'}],\n",
       "      'index': {'byteEnd': 292, 'byteStart': 286}},\n",
       "     {'features': [{'$type': 'app.bsky.richtext.facet#tag', 'tag': 'Macron'}],\n",
       "      'index': {'byteEnd': 300, 'byteStart': 293}}],\n",
       "    'langs': ['en'],\n",
       "    'text': 'I\\'ve understood world politics: from #Washington to #Paris, rehab centers have lost their worst patients, and now they\\'re governing our countries. The funniest part? They call it \\'responsible governance\\' during their relapse!\"\\n\\nWhite House White Lines youtu.be/IGSC-1M0nE8?...  \\n#quote #Trump #Macron'},\n",
       "   'embed': {'$type': 'app.bsky.embed.external#view',\n",
       "    'external': {'uri': 'https://youtu.be/IGSC-1M0nE8?si=QDJ3TAX1CToEDuEM',\n",
       "     'title': 'White House White Lines',\n",
       "     'description': 'YouTube video by LUCIE DE BRETAGNE',\n",
       "     'thumb': 'https://cdn.bsky.app/img/feed_thumbnail/plain/did:plc:skk62hihpla74ejqzjhdknku/bafkreihroxawamuomrfk62k5if52nu5g6mcbigcr6lbzxsps5tvhwztfom@jpeg'}},\n",
       "   'replyCount': 0,\n",
       "   'repostCount': 2,\n",
       "   'likeCount': 1,\n",
       "   'quoteCount': 0,\n",
       "   'indexedAt': '2024-12-21T14:56:29.757Z',\n",
       "   'labels': []},\n",
       "  {'uri': 'at://did:plc:i3ptsq6lx6jpvvdvepcnnglo/app.bsky.feed.post/3ldt4mdxyi22m',\n",
       "   'cid': 'bafyreiftrvo7c36qoc5pvdd6xfnr7tzt2wa4doiqlyszd54ptcapxuko7e',\n",
       "   'author': {'did': 'did:plc:i3ptsq6lx6jpvvdvepcnnglo',\n",
       "    'handle': 'justmeanybody.bsky.social',\n",
       "    'displayName': 'JustmeAnybody',\n",
       "    'avatar': 'https://cdn.bsky.app/img/avatar/plain/did:plc:i3ptsq6lx6jpvvdvepcnnglo/bafkreibd6ttfvyhthdlgj52hp4dfauuaolwq6hcs2rp4cc2mnu6pz5bq6i@jpeg',\n",
       "    'labels': [],\n",
       "    'createdAt': '2024-11-07T12:33:45.980Z'},\n",
       "   'record': {'$type': 'app.bsky.feed.post',\n",
       "    'createdAt': '2024-12-21T14:33:12.344Z',\n",
       "    'langs': ['en'],\n",
       "    'reply': {'parent': {'cid': 'bafyreia5wxjnnqbxncfifus2ofkgnfytt6rg3kivccbxepogrq4tgbtkqu',\n",
       "      'uri': 'at://did:plc:j3ay33wvum57j5hyflzq5msk/app.bsky.feed.post/3ldt3udqas22d'},\n",
       "     'root': {'cid': 'bafyreid6kukg36t7fhuolpnnaa7sifaho2mrzv753fq66ohh6nbdtudtt4',\n",
       "      'uri': 'at://did:plc:j3ay33wvum57j5hyflzq5msk/app.bsky.feed.post/3ldt3nyt4jc2d'}},\n",
       "    'text': \"Trump changes his mind every day\\n1 week Kellogg congratulates Biden for cancelling his restriction on ATACMS, says it will give Trump leverege\\nNext week Trump says he's against it.\\nI assume he says one thing after Macron calls\\nanother after Orban\\nLet's hope Orban doesn't call\"},\n",
       "   'replyCount': 1,\n",
       "   'repostCount': 0,\n",
       "   'likeCount': 4,\n",
       "   'quoteCount': 0,\n",
       "   'indexedAt': '2024-12-21T14:33:13.648Z',\n",
       "   'labels': []},\n",
       "  {'uri': 'at://did:plc:ob2i2qfypqkczjftxhddi2up/app.bsky.feed.post/3ldt3xsssv227',\n",
       "   'cid': 'bafyreibjsrsszpiq327zlq6krzbyhaihq6kkuu7likjfkrl6e6df5xvyje',\n",
       "   'author': {'did': 'did:plc:ob2i2qfypqkczjftxhddi2up',\n",
       "    'handle': 'massalia8313.bsky.social',\n",
       "    'displayName': 'Sebastien Campana',\n",
       "    'avatar': 'https://cdn.bsky.app/img/avatar/plain/did:plc:ob2i2qfypqkczjftxhddi2up/bafkreifelpg5277gtmgla2fhjneolmxl2suljf3mngqhe7o56ag5fitqzi@jpeg',\n",
       "    'associated': {'chat': {'allowIncoming': 'following'}},\n",
       "    'labels': [],\n",
       "    'createdAt': '2023-09-08T21:56:31.770Z'},\n",
       "   'record': {'$type': 'app.bsky.feed.post',\n",
       "    'createdAt': '2024-12-21T14:21:43.260Z',\n",
       "    'langs': ['fr'],\n",
       "    'text': '-“Et puis ta semaine ?”\\n-“Entre Freeland qui se casse, Trump qui insulte les canadiens au quotidien, Chido à Mayotte, un avocat qui sort du tribunal pour cracher sur les femmes, Macron le colonialiste puissance 10K, l’Ext-Dr qui se jette sur Magdebourg avec la bave aux lèvres … bien et toi ?'},\n",
       "   'replyCount': 1,\n",
       "   'repostCount': 1,\n",
       "   'likeCount': 7,\n",
       "   'quoteCount': 0,\n",
       "   'indexedAt': '2024-12-21T14:21:43.747Z',\n",
       "   'labels': []},\n",
       "  {'uri': 'at://did:plc:j3ay33wvum57j5hyflzq5msk/app.bsky.feed.post/3ldt3nyt4jc2d',\n",
       "   'cid': 'bafyreid6kukg36t7fhuolpnnaa7sifaho2mrzv753fq66ohh6nbdtudtt4',\n",
       "   'author': {'did': 'did:plc:j3ay33wvum57j5hyflzq5msk',\n",
       "    'handle': 'galaxyz.bsky.social',\n",
       "    'displayName': 'Andromeda',\n",
       "    'avatar': 'https://cdn.bsky.app/img/avatar/plain/did:plc:j3ay33wvum57j5hyflzq5msk/bafkreiawxsrmr5hqdlke5xyol2eot4kllptngr3jp6s7io627te3x2vjwq@jpeg',\n",
       "    'associated': {'chat': {'allowIncoming': 'none'}},\n",
       "    'labels': [],\n",
       "    'createdAt': '2023-10-18T11:23:30.386Z'},\n",
       "   'record': {'$type': 'app.bsky.feed.post',\n",
       "    'createdAt': '2024-12-21T14:16:14.017Z',\n",
       "    'langs': ['en'],\n",
       "    'text': \"So Trump says he won't cut aid to Ukraine. Good. I'm sure Macron explained to him that cutting aid would dangerously escalate the war.\\nHe demands Europe increases defense spending to 5%.\\nThis is actually fair.\\nEurope's defence should be Europe's priority. \\n1/\"},\n",
       "   'replyCount': 1,\n",
       "   'repostCount': 2,\n",
       "   'likeCount': 9,\n",
       "   'quoteCount': 1,\n",
       "   'indexedAt': '2024-12-21T14:16:14.652Z',\n",
       "   'labels': []},\n",
       "  {'uri': 'at://did:plc:ofmipzs5zeiewsv7z7j5lomm/app.bsky.feed.post/3ldsy3sd6hk2d',\n",
       "   'cid': 'bafyreighsk3ibykvvt5gsoiwr43rhouwmpsid475lijvmidjnstxy2cgqu',\n",
       "   'author': {'did': 'did:plc:ofmipzs5zeiewsv7z7j5lomm',\n",
       "    'handle': 'slavaukrainigr.bsky.social',\n",
       "    'displayName': 'Героям слава!🇬🇷🇺🇦',\n",
       "    'avatar': 'https://cdn.bsky.app/img/avatar/plain/did:plc:ofmipzs5zeiewsv7z7j5lomm/bafkreif62fn27d2aodrqfjejbfwtfbhgsvsopeyuhpam2mzyoa7ax55bmy@jpeg',\n",
       "    'labels': [],\n",
       "    'createdAt': '2024-11-12T08:57:19.504Z'},\n",
       "   'record': {'$type': 'app.bsky.feed.post',\n",
       "    'createdAt': '2024-12-21T13:12:21.999Z',\n",
       "    'langs': ['en'],\n",
       "    'reply': {'parent': {'cid': 'bafyreicqqe76gfcvx52qvbv3scnj2bwvjfuvzbgeapxc6odx6arxtnncaq',\n",
       "      'uri': 'at://did:plc:c4xvn6c2r4mqy6tgxeh7uuhr/app.bsky.feed.post/3ldsoomyeoc2a'},\n",
       "     'root': {'cid': 'bafyreiafqpudlbkn652m4wdulesyrwffggbbeonwrkpuxq5poto3k76jcy',\n",
       "      'uri': 'at://did:plc:6y3honhec2jch2ryrbuyx5a5/app.bsky.feed.post/3ldsmlx74oc23'}},\n",
       "    'text': 'He looks goofy but he delivers, macron is all talk, idc what trump was saying if he delivers more aid or do more for Ukraine ill shut up no matter what he does'},\n",
       "   'replyCount': 0,\n",
       "   'repostCount': 0,\n",
       "   'likeCount': 1,\n",
       "   'quoteCount': 0,\n",
       "   'indexedAt': '2024-12-21T13:12:24.551Z',\n",
       "   'labels': []},\n",
       "  {'uri': 'at://did:plc:5pjirluwcgrfugkwehonxovw/app.bsky.feed.post/3ldswaaqvrk2w',\n",
       "   'cid': 'bafyreigopsovz6s6vj6qrydvac5m6cz5ivw3u6bszyfqkmlpsat5jauuke',\n",
       "   'author': {'did': 'did:plc:5pjirluwcgrfugkwehonxovw',\n",
       "    'handle': 'jolenska.bsky.social',\n",
       "    'displayName': '🦉Jolenska fella',\n",
       "    'avatar': 'https://cdn.bsky.app/img/avatar/plain/did:plc:5pjirluwcgrfugkwehonxovw/bafkreihxqacs2f3tn4imksslheanthmjgppejrqhryifgoqb5pncsqbaiy@jpeg',\n",
       "    'associated': {'chat': {'allowIncoming': 'following'}},\n",
       "    'labels': [{'src': 'did:plc:5pjirluwcgrfugkwehonxovw',\n",
       "      'uri': 'at://did:plc:5pjirluwcgrfugkwehonxovw/app.bsky.actor.profile/self',\n",
       "      'cid': 'bafyreie4o2qa7kwpstw2ovytenkqxbv3sf47bro5p3ih2j7j26gyovrexe',\n",
       "      'val': '!no-unauthenticated',\n",
       "      'cts': '1970-01-01T00:00:00.000Z'}],\n",
       "    'createdAt': '2023-09-19T21:08:19.332Z'},\n",
       "   'record': {'$type': 'app.bsky.feed.post',\n",
       "    'createdAt': '2024-12-21T12:39:03.863Z',\n",
       "    'langs': ['en'],\n",
       "    'reply': {'parent': {'cid': 'bafyreicjerjhtkpg6aflnsmgiwoxjgrswdff5gkuqarygjeydqtfa3zx5u',\n",
       "      'uri': 'at://did:plc:f5xkhushrnb4snbxuohamy4k/app.bsky.feed.post/3ldqsvu6o7s24'},\n",
       "     'root': {'cid': 'bafyreicjerjhtkpg6aflnsmgiwoxjgrswdff5gkuqarygjeydqtfa3zx5u',\n",
       "      'uri': 'at://did:plc:f5xkhushrnb4snbxuohamy4k/app.bsky.feed.post/3ldqsvu6o7s24'}},\n",
       "    'text': \"This isn't unpopular in France. There was a lot of economical tensions with wine (Trump) then cars (Biden), Macron got nothing from both hahaha. It was already unfriendly, with the return of Trump it will be hostile.\\nTrump already threatened NATO countries in their GDP investment into Defense too.\"},\n",
       "   'replyCount': 1,\n",
       "   'repostCount': 0,\n",
       "   'likeCount': 4,\n",
       "   'quoteCount': 0,\n",
       "   'indexedAt': '2024-12-21T12:39:04.147Z',\n",
       "   'labels': []},\n",
       "  {'uri': 'at://did:plc:csuorvnt5qbdmwkvrfvjuydo/app.bsky.feed.post/3ldssh7p5xk2t',\n",
       "   'cid': 'bafyreie55taogeuykjhjpyaft3gazuxrmzneky4rqpwgvem7cyb5opivkq',\n",
       "   'author': {'did': 'did:plc:csuorvnt5qbdmwkvrfvjuydo',\n",
       "    'handle': 'rk-bob.bsky.social',\n",
       "    'displayName': 'Bob',\n",
       "    'avatar': 'https://cdn.bsky.app/img/avatar/plain/did:plc:csuorvnt5qbdmwkvrfvjuydo/bafkreicznvbleedhsg77bsox32aqabbjqaasi7xiogpnyvchblgia4qojy@jpeg',\n",
       "    'associated': {'chat': {'allowIncoming': 'following'}},\n",
       "    'labels': [],\n",
       "    'createdAt': '2023-12-01T20:37:57.759Z'},\n",
       "   'record': {'$type': 'app.bsky.feed.post',\n",
       "    'createdAt': '2024-12-21T11:31:22.670Z',\n",
       "    'langs': ['fr'],\n",
       "    'reply': {'parent': {'cid': 'bafyreibevwrnpmyw5mdiaytdoxciufm4ek2f52e47svcbqmhgqvlhrq6re',\n",
       "      'uri': 'at://did:plc:guvbls2pq55ief74yxhca24a/app.bsky.feed.post/3ldsmrxk4n22s'},\n",
       "     'root': {'cid': 'bafyreibevwrnpmyw5mdiaytdoxciufm4ek2f52e47svcbqmhgqvlhrq6re',\n",
       "      'uri': 'at://did:plc:guvbls2pq55ief74yxhca24a/app.bsky.feed.post/3ldsmrxk4n22s'}},\n",
       "    'text': \"Si Macron ne démissionne pas, Le Pen sera probablement condamnée et inéligible, et Bardella sera élu Président en 2027.\\n\\nL'extrême-droite peut mentir ouvertement et que ça se voit, les gens votent pour eux.\\n\\nIls ont élu Trump et avec une avance confortable.\\n\\nLes gens veulent des fascistes au pouvoir\"},\n",
       "   'replyCount': 2,\n",
       "   'repostCount': 0,\n",
       "   'likeCount': 4,\n",
       "   'quoteCount': 0,\n",
       "   'indexedAt': '2024-12-21T11:31:23.352Z',\n",
       "   'labels': []},\n",
       "  {'uri': 'at://did:plc:osx26wkd333ybxpmmtc5dbkz/app.bsky.feed.post/3ldsnajlnzs22',\n",
       "   'cid': 'bafyreiei7m4sijlaoacyvtp7ltmfkw5zmwja56ri3eajwezhqj3jmflmki',\n",
       "   'author': {'did': 'did:plc:osx26wkd333ybxpmmtc5dbkz',\n",
       "    'handle': 'vokoban.bsky.social',\n",
       "    'displayName': 'Olivier Vokoban',\n",
       "    'avatar': 'https://cdn.bsky.app/img/avatar/plain/did:plc:osx26wkd333ybxpmmtc5dbkz/bafkreig7z7omvmdwtsyb6w7yekr6zf57vtudfnc7nyjwytdvqjapxwniva@jpeg',\n",
       "    'labels': [],\n",
       "    'createdAt': '2024-11-18T19:21:56.547Z'},\n",
       "   'record': {'$type': 'app.bsky.feed.post',\n",
       "    'createdAt': '2024-12-21T09:58:09.425Z',\n",
       "    'embed': {'$type': 'app.bsky.embed.images',\n",
       "     'images': [{'alt': '',\n",
       "       'aspectRatio': {'height': 1200, 'width': 1200},\n",
       "       'image': {'$type': 'blob',\n",
       "        'ref': {'$link': 'bafkreifezxtpsfyklfd5fnyl4ryham6zubyr2bhkdy55lucvrdsc4jxxme'},\n",
       "        'mimeType': 'image/jpeg',\n",
       "        'size': 503444}}]},\n",
       "    'langs': ['fr'],\n",
       "    'reply': {'parent': {'cid': 'bafyreidfmnkwogtmsdemap7p77cs6eypb4zbtwilpik7dwe7fspjqch47e',\n",
       "      'uri': 'at://did:plc:cb2o2kpvms3xdheida7riw7z/app.bsky.feed.post/3ldshqfgv222c'},\n",
       "     'root': {'cid': 'bafyreidfmnkwogtmsdemap7p77cs6eypb4zbtwilpik7dwe7fspjqch47e',\n",
       "      'uri': 'at://did:plc:cb2o2kpvms3xdheida7riw7z/app.bsky.feed.post/3ldshqfgv222c'}},\n",
       "    'text': \"Macron a reçu en grande pompe Musk cet été, qui n'avait pas d'autre titre qu'un milliardaire d'extrême-droite pro-Trump.\"},\n",
       "   'embed': {'$type': 'app.bsky.embed.images#view',\n",
       "    'images': [{'thumb': 'https://cdn.bsky.app/img/feed_thumbnail/plain/did:plc:osx26wkd333ybxpmmtc5dbkz/bafkreifezxtpsfyklfd5fnyl4ryham6zubyr2bhkdy55lucvrdsc4jxxme@jpeg',\n",
       "      'fullsize': 'https://cdn.bsky.app/img/feed_fullsize/plain/did:plc:osx26wkd333ybxpmmtc5dbkz/bafkreifezxtpsfyklfd5fnyl4ryham6zubyr2bhkdy55lucvrdsc4jxxme@jpeg',\n",
       "      'alt': '',\n",
       "      'aspectRatio': {'height': 1200, 'width': 1200}}]},\n",
       "   'replyCount': 0,\n",
       "   'repostCount': 0,\n",
       "   'likeCount': 1,\n",
       "   'quoteCount': 0,\n",
       "   'indexedAt': '2024-12-21T09:58:11.648Z',\n",
       "   'labels': []},\n",
       "  {'uri': 'at://did:plc:ch3oyaazztbiy6m7d4tugggp/app.bsky.feed.post/3ldsjmbzf7k2a',\n",
       "   'cid': 'bafyreibfieopp34vnyfxzjkb6mut3kl4y4a6u742vdby7vhkl7mpvyjjay',\n",
       "   'author': {'did': 'did:plc:ch3oyaazztbiy6m7d4tugggp',\n",
       "    'handle': 'scorpionsting61.bsky.social',\n",
       "    'displayName': '',\n",
       "    'avatar': 'https://cdn.bsky.app/img/avatar/plain/did:plc:ch3oyaazztbiy6m7d4tugggp/bafkreiedgx7ldblkgh63cicp6evilflmpbobnfzo25hqlgkjqey3dcq3lu@jpeg',\n",
       "    'labels': [],\n",
       "    'createdAt': '2024-12-12T05:05:10.343Z'},\n",
       "   'record': {'$type': 'app.bsky.feed.post',\n",
       "    'createdAt': '2024-12-21T08:53:07.632Z',\n",
       "    'langs': ['en'],\n",
       "    'reply': {'parent': {'cid': 'bafyreib5kzgnx2xn3inkmjnsohbpq4wbb5dpl5sd77uqncjk3jm5z4n5ta',\n",
       "      'uri': 'at://did:plc:ch3oyaazztbiy6m7d4tugggp/app.bsky.feed.post/3ldsjmajots2a'},\n",
       "     'root': {'cid': 'bafyreib5kzgnx2xn3inkmjnsohbpq4wbb5dpl5sd77uqncjk3jm5z4n5ta',\n",
       "      'uri': 'at://did:plc:ch3oyaazztbiy6m7d4tugggp/app.bsky.feed.post/3ldsjmajots2a'}},\n",
       "    'text': 'Should fuck off to Israel and if Netanyahu is not careful he will vanish dictators and there actions consequences always follow, so Biden, Starmer, Macron, Trump, and the EU should check there cars and watch there backs because what they have done to our countries is disgusting and no morals.'},\n",
       "   'replyCount': 0,\n",
       "   'repostCount': 0,\n",
       "   'likeCount': 0,\n",
       "   'quoteCount': 0,\n",
       "   'indexedAt': '2024-12-21T08:53:10.361Z',\n",
       "   'labels': []},\n",
       "  {'uri': 'at://did:plc:cb2o2kpvms3xdheida7riw7z/app.bsky.feed.post/3ldshqfgv222c',\n",
       "   'cid': 'bafyreidfmnkwogtmsdemap7p77cs6eypb4zbtwilpik7dwe7fspjqch47e',\n",
       "   'author': {'did': 'did:plc:cb2o2kpvms3xdheida7riw7z',\n",
       "    'handle': 'faizaharbi.bsky.social',\n",
       "    'displayName': '🎄Faïzalalala lala la la🎄',\n",
       "    'avatar': 'https://cdn.bsky.app/img/avatar/plain/did:plc:cb2o2kpvms3xdheida7riw7z/bafkreig2655p27hqxwq5m7blgujk3bb2rmatj5x44rhjzk6vueljtzt6na@jpeg',\n",
       "    'associated': {'chat': {'allowIncoming': 'following'}},\n",
       "    'labels': [],\n",
       "    'createdAt': '2023-08-01T16:14:03.140Z'},\n",
       "   'record': {'$type': 'app.bsky.feed.post',\n",
       "    'createdAt': '2024-12-21T08:19:39.519Z',\n",
       "    'langs': ['fr'],\n",
       "    'text': \"Musk et ses milliards est pro Trump et s'est payé l'exécutif américain.\\nMusk soutient Farage aux Royaume-Uni.\\nMusk soutien l'AfD en Allemagne.\\nEn gros Musk soutient les extrêmes droites, les néofascistes. \\n\\nMusk est pro Macron.\"},\n",
       "   'replyCount': 2,\n",
       "   'repostCount': 21,\n",
       "   'likeCount': 66,\n",
       "   'quoteCount': 2,\n",
       "   'indexedAt': '2024-12-21T08:19:40.053Z',\n",
       "   'labels': []},\n",
       "  {'uri': 'at://did:plc:32nnmhekuburxuxt3bogzvfp/app.bsky.feed.post/3ldsdnb3ct22u',\n",
       "   'cid': 'bafyreibv36ha6aqiau6rtbkjvbdqmulbrr3b3a5ci5cvy3lwox2vyqkyly',\n",
       "   'author': {'did': 'did:plc:32nnmhekuburxuxt3bogzvfp',\n",
       "    'handle': 'antifakater.bsky.social',\n",
       "    'displayName': 'Antifacat',\n",
       "    'avatar': 'https://cdn.bsky.app/img/avatar/plain/did:plc:32nnmhekuburxuxt3bogzvfp/bafkreicfz5bjlhja3u2pqdxkxllk7n5bzdvy2fhvvqqadfme2eiu4hnglq@jpeg',\n",
       "    'associated': {'chat': {'allowIncoming': 'following'}},\n",
       "    'labels': [{'src': 'did:plc:32nnmhekuburxuxt3bogzvfp',\n",
       "      'uri': 'at://did:plc:32nnmhekuburxuxt3bogzvfp/app.bsky.actor.profile/self',\n",
       "      'cid': 'bafyreiaod3ppuqkcxmsjddy2jkollpv7fg57ticc5le53tb2wu2reuncwu',\n",
       "      'val': '!no-unauthenticated',\n",
       "      'cts': '1970-01-01T00:00:00.000Z'}],\n",
       "    'createdAt': '2023-10-07T09:12:20.770Z'},\n",
       "   'record': {'$type': 'app.bsky.feed.post',\n",
       "    'createdAt': '2024-12-21T07:06:19.316Z',\n",
       "    'langs': ['de'],\n",
       "    'text': 'Wenn X nicht verboten wird, dann war es das mit dem liberalen Europa. Elon Musk wird alles daran setzen Le Pen und AfD an die Macht zu bringen. Macron wird kaum noch eine Chance haben und was in Deutschland droht...sollte klar sein. Trump Musk USA greift online genauso hart an, wie Putin Russland.'},\n",
       "   'replyCount': 1,\n",
       "   'repostCount': 0,\n",
       "   'likeCount': 5,\n",
       "   'quoteCount': 0,\n",
       "   'indexedAt': '2024-12-21T07:06:19.750Z',\n",
       "   'labels': []},\n",
       "  {'uri': 'at://did:plc:onir55nlqwqhes3dod3ugw3w/app.bsky.feed.post/3ldscg2lahs24',\n",
       "   'cid': 'bafyreidicmu2gajdttjmu43kekwlh7p7cvamz3zfsaukfgtbhqga6qhhdm',\n",
       "   'author': {'did': 'did:plc:onir55nlqwqhes3dod3ugw3w',\n",
       "    'handle': 'heyla.bsky.social',\n",
       "    'displayName': 'Heyla',\n",
       "    'avatar': 'https://cdn.bsky.app/img/avatar/plain/did:plc:onir55nlqwqhes3dod3ugw3w/bafkreiaeywoqvbeft34nqalp7ulp3i3ogurmz47z4attddztbpg2z76j2m@jpeg',\n",
       "    'associated': {'chat': {'allowIncoming': 'all'}},\n",
       "    'labels': [],\n",
       "    'createdAt': '2023-09-01T00:06:09.260Z'},\n",
       "   'record': {'$type': 'app.bsky.feed.post',\n",
       "    'createdAt': '2024-12-21T06:44:23.876Z',\n",
       "    'langs': ['fr'],\n",
       "    'text': \"Tout comme avec les républicains aux Etats unis, y'aura pas de destitution parce que en réalité, toute la droite et une partie du PS va dans le sens du pouvoir et préfère laisser faire\\n\\nTrump ou Macron n'arrivent pas de nulle part....\"},\n",
       "   'replyCount': 0,\n",
       "   'repostCount': 0,\n",
       "   'likeCount': 1,\n",
       "   'quoteCount': 0,\n",
       "   'indexedAt': '2024-12-21T06:44:27.947Z',\n",
       "   'labels': []},\n",
       "  {'uri': 'at://did:plc:6znmhorvesymczgjos5b7wni/app.bsky.feed.post/3ldsalsl4ac2k',\n",
       "   'cid': 'bafyreiftnyqf4si3a4vvmwekhw74ujgqgbti3f2ijgptou3eg5tetxyhee',\n",
       "   'author': {'did': 'did:plc:6znmhorvesymczgjos5b7wni',\n",
       "    'handle': 'stevexsmith.bsky.social',\n",
       "    'displayName': '',\n",
       "    'avatar': 'https://cdn.bsky.app/img/avatar/plain/did:plc:6znmhorvesymczgjos5b7wni/bafkreicldveqiozyypl6lexrv2ghz7ag3mlqpiuevzzwjb26xbqox4o574@jpeg',\n",
       "    'labels': [],\n",
       "    'createdAt': '2024-12-04T01:39:53.946Z'},\n",
       "   'record': {'$type': 'app.bsky.feed.post',\n",
       "    'createdAt': '2024-12-21T06:11:49.325Z',\n",
       "    'langs': ['en'],\n",
       "    'text': \"Yesterday I saw Putin answering Media questions. He was intelligent and knoweldgeable. No current Western leader could match his abilities. Starmer, Macron, Scholtz, Biden, Trump, all too dim to outshine him. On RT, if it hasn't been banned in your country.\"},\n",
       "   'replyCount': 0,\n",
       "   'repostCount': 0,\n",
       "   'likeCount': 0,\n",
       "   'quoteCount': 0,\n",
       "   'indexedAt': '2024-12-21T06:11:49.954Z',\n",
       "   'labels': []},\n",
       "  {'uri': 'at://did:plc:zswzd5ek7pcvdjhapvtjhel2/app.bsky.feed.post/3ldrzrwfkes2z',\n",
       "   'cid': 'bafyreiew2fdc7pf7u7p3whh4zxip4y34owjz6fixue2vacvnrqns2nmoty',\n",
       "   'author': {'did': 'did:plc:zswzd5ek7pcvdjhapvtjhel2',\n",
       "    'handle': 'wakeupsunny.bsky.social',\n",
       "    'displayName': '',\n",
       "    'avatar': 'https://cdn.bsky.app/img/avatar/plain/did:plc:zswzd5ek7pcvdjhapvtjhel2/bafkreicxgs3dlt33m2l2wjapqgzqqgqcrgnhjnpqb3doylpe6qv2ifuwc4@jpeg',\n",
       "    'labels': [],\n",
       "    'createdAt': '2024-11-12T00:30:46.807Z'},\n",
       "   'record': {'$type': 'app.bsky.feed.post',\n",
       "    'createdAt': '2024-12-21T04:09:58.471Z',\n",
       "    'embed': {'$type': 'app.bsky.embed.record',\n",
       "     'record': {'cid': 'bafyreif7grqgbe4m3xd3h5e6c6agmlu4dqhbcy2i5gbohtjmjecbh6cipe',\n",
       "      'uri': 'at://did:plc:6y3honhec2jch2ryrbuyx5a5/app.bsky.feed.post/3ldmcprr7x224'}},\n",
       "    'langs': ['en'],\n",
       "    'text': 'Macron, Zelensky, Trudeau . . . . Trump.  One of these things is not like the others.'},\n",
       "   'embed': {'$type': 'app.bsky.embed.record#view',\n",
       "    'record': {'$type': 'app.bsky.embed.record#viewRecord',\n",
       "     'uri': 'at://did:plc:6y3honhec2jch2ryrbuyx5a5/app.bsky.feed.post/3ldmcprr7x224',\n",
       "     'cid': 'bafyreif7grqgbe4m3xd3h5e6c6agmlu4dqhbcy2i5gbohtjmjecbh6cipe',\n",
       "     'author': {'did': 'did:plc:6y3honhec2jch2ryrbuyx5a5',\n",
       "      'handle': 'maks23.bsky.social',\n",
       "      'displayName': 'MAKS 24 👀🇺🇦',\n",
       "      'avatar': 'https://cdn.bsky.app/img/avatar/plain/did:plc:6y3honhec2jch2ryrbuyx5a5/bafkreiaxheuelonc6ngwflm43jyexf7cqcs56bcdfiv2to77rrxbfvmh4e@jpeg',\n",
       "      'associated': {'chat': {'allowIncoming': 'following'}},\n",
       "      'labels': [],\n",
       "      'createdAt': '2023-08-18T13:25:16.268Z'},\n",
       "     'value': {'$type': 'app.bsky.feed.post',\n",
       "      'createdAt': '2024-12-18T21:33:51.749Z',\n",
       "      'embed': {'$type': 'app.bsky.embed.video',\n",
       "       'aspectRatio': {'height': 1080, 'width': 1920},\n",
       "       'video': {'$type': 'blob',\n",
       "        'ref': {'$link': 'bafkreihkbbq6zwa5lbqowena3hjlnlndjt2dq4z4ioaosvh7hv6t26vlgu'},\n",
       "        'mimeType': 'video/mp4',\n",
       "        'size': 5429908}},\n",
       "      'langs': ['en'],\n",
       "      'text': \"🇫🇷🇺🇦 Zelensky: Held a productive meeting with Macron. Discussed key priorities for further strengthening Ukraine's positions in defense. The main task remains to strengthen air defense capabilities.\\n\\nThanked for France's training of one of our brigade, agreed to train another brigade.\"},\n",
       "     'labels': [],\n",
       "     'likeCount': 377,\n",
       "     'replyCount': 3,\n",
       "     'repostCount': 30,\n",
       "     'quoteCount': 4,\n",
       "     'indexedAt': '2024-12-18T21:33:52.552Z',\n",
       "     'embeds': [{'$type': 'app.bsky.embed.video#view',\n",
       "       'cid': 'bafkreihkbbq6zwa5lbqowena3hjlnlndjt2dq4z4ioaosvh7hv6t26vlgu',\n",
       "       'playlist': 'https://video.bsky.app/watch/did%3Aplc%3A6y3honhec2jch2ryrbuyx5a5/bafkreihkbbq6zwa5lbqowena3hjlnlndjt2dq4z4ioaosvh7hv6t26vlgu/playlist.m3u8',\n",
       "       'thumbnail': 'https://video.bsky.app/watch/did%3Aplc%3A6y3honhec2jch2ryrbuyx5a5/bafkreihkbbq6zwa5lbqowena3hjlnlndjt2dq4z4ioaosvh7hv6t26vlgu/thumbnail.jpg',\n",
       "       'aspectRatio': {'height': 1080, 'width': 1920}}]}},\n",
       "   'replyCount': 0,\n",
       "   'repostCount': 0,\n",
       "   'likeCount': 0,\n",
       "   'quoteCount': 0,\n",
       "   'indexedAt': '2024-12-21T04:09:58.852Z',\n",
       "   'labels': []},\n",
       "  {'uri': 'at://did:plc:jbtw3djzn4vyeg6afvtr3ba5/app.bsky.feed.post/3ldruojxels2r',\n",
       "   'cid': 'bafyreibgd47jzv2jnx74s2i77yvlb5lxwh5cugcg32eclv35wqg35ooxaq',\n",
       "   'author': {'did': 'did:plc:jbtw3djzn4vyeg6afvtr3ba5',\n",
       "    'handle': 'nikolaskozloff.bsky.social',\n",
       "    'displayName': 'Nikolas Kozloff',\n",
       "    'avatar': 'https://cdn.bsky.app/img/avatar/plain/did:plc:jbtw3djzn4vyeg6afvtr3ba5/bafkreidtszvljb3gf277ezsmrbihjbriouhybmaxzy4nqlk6w2oe6t3fa4@jpeg',\n",
       "    'associated': {'chat': {'allowIncoming': 'following'}},\n",
       "    'labels': [],\n",
       "    'createdAt': '2024-02-10T19:55:08.132Z'},\n",
       "   'record': {'$type': 'app.bsky.feed.post',\n",
       "    'createdAt': '2024-12-21T02:38:36.050Z',\n",
       "    'embed': {'$type': 'app.bsky.embed.external',\n",
       "     'external': {'description': 'French president makes remark when confronted by residents still without water after huge storm last week',\n",
       "      'thumb': {'$type': 'blob',\n",
       "       'ref': {'$link': 'bafkreidjppe7apy2si5t2ghl6mylumzsrex56kwdchvwau2yrm4ph3jozm'},\n",
       "       'mimeType': 'image/jpeg',\n",
       "       'size': 265081},\n",
       "      'title': 'Macron swears amid furious exchange with cyclone-hit Mayotte islanders',\n",
       "      'uri': 'https://www.theguardian.com/world/2024/dec/20/emmanuel-macron-swears-amid-furious-exchange-with-cyclone-hit-mayotte-islanders?CMP=Share_AndroidApp_Other'}},\n",
       "    'facets': [{'features': [{'$type': 'app.bsky.richtext.facet#tag',\n",
       "        'tag': 'Trump'}],\n",
       "      'index': {'byteEnd': 16, 'byteStart': 10}},\n",
       "     {'features': [{'$type': 'app.bsky.richtext.facet#tag', 'tag': 'toilet'}],\n",
       "      'index': {'byteEnd': 43, 'byteStart': 36}},\n",
       "     {'features': [{'$type': 'app.bsky.richtext.facet#tag',\n",
       "        'tag': 'PuertoRico'}],\n",
       "      'index': {'byteEnd': 64, 'byteStart': 53}},\n",
       "     {'features': [{'$type': 'app.bsky.richtext.facet#tag',\n",
       "        'tag': 'Hurricane'}],\n",
       "      'index': {'byteEnd': 81, 'byteStart': 71}},\n",
       "     {'features': [{'$type': 'app.bsky.richtext.facet#tag', 'tag': 'Macron'}],\n",
       "      'index': {'byteEnd': 106, 'byteStart': 99}},\n",
       "     {'features': [{'$type': 'app.bsky.richtext.facet#tag', 'tag': 'Mayotte'}],\n",
       "      'index': {'byteEnd': 133, 'byteStart': 125}},\n",
       "     {'features': [{'$type': 'app.bsky.richtext.facet#tag', 'tag': 'France'}],\n",
       "      'index': {'byteEnd': 172, 'byteStart': 165}},\n",
       "     {'features': [{'$type': 'app.bsky.richtext.facet#link',\n",
       "        'uri': 'https://www.theguardian.com/world/2024/dec/20/emmanuel-macron-swears-amid-furious-exchange-with-cyclone-hit-mayotte-islanders?CMP=Share_AndroidApp_Other'}],\n",
       "      'index': {'byteEnd': 208, 'byteStart': 173}},\n",
       "     {'features': [{'$type': 'app.bsky.richtext.facet#tag', 'tag': 'climate'}],\n",
       "      'index': {'byteEnd': 217, 'byteStart': 209}},\n",
       "     {'features': [{'$type': 'app.bsky.richtext.facet#tag',\n",
       "        'tag': 'climatechange'}],\n",
       "      'index': {'byteEnd': 232, 'byteStart': 218}}],\n",
       "    'langs': ['en'],\n",
       "    'text': \"Move over #Trump callously throwing #toilet paper in #PuertoRico after #Hurricane Maria here comes #Macron telling people on #Mayotte they'd be in deep shit without #France www.theguardian.com/world/2024/d... #climate #climatechange\"},\n",
       "   'embed': {'$type': 'app.bsky.embed.external#view',\n",
       "    'external': {'uri': 'https://www.theguardian.com/world/2024/dec/20/emmanuel-macron-swears-amid-furious-exchange-with-cyclone-hit-mayotte-islanders?CMP=Share_AndroidApp_Other',\n",
       "     'title': 'Macron swears amid furious exchange with cyclone-hit Mayotte islanders',\n",
       "     'description': 'French president makes remark when confronted by residents still without water after huge storm last week',\n",
       "     'thumb': 'https://cdn.bsky.app/img/feed_thumbnail/plain/did:plc:jbtw3djzn4vyeg6afvtr3ba5/bafkreidjppe7apy2si5t2ghl6mylumzsrex56kwdchvwau2yrm4ph3jozm@jpeg'}},\n",
       "   'replyCount': 0,\n",
       "   'repostCount': 0,\n",
       "   'likeCount': 0,\n",
       "   'quoteCount': 0,\n",
       "   'indexedAt': '2024-12-21T02:38:38.254Z',\n",
       "   'labels': []},\n",
       "  {'uri': 'at://did:plc:ubee5xpii74xjsrv3zmeboqj/app.bsky.feed.post/3ldruig3uzk22',\n",
       "   'cid': 'bafyreihb7wilxn52b5vbhozckvgoo24nafnime635cbf3ga3fftm3dl6cy',\n",
       "   'author': {'did': 'did:plc:ubee5xpii74xjsrv3zmeboqj',\n",
       "    'handle': 'paolobernardi.bsky.social',\n",
       "    'displayName': 'Paolo Bernardi',\n",
       "    'avatar': 'https://cdn.bsky.app/img/avatar/plain/did:plc:ubee5xpii74xjsrv3zmeboqj/bafkreidd7575ojrrq5hvl7w4s5vb3rt3bx4dbkmsqhudcoz75xpdrkizce@jpeg',\n",
       "    'associated': {'chat': {'allowIncoming': 'following'}},\n",
       "    'labels': [{'src': 'did:plc:ubee5xpii74xjsrv3zmeboqj',\n",
       "      'uri': 'at://did:plc:ubee5xpii74xjsrv3zmeboqj/app.bsky.actor.profile/self',\n",
       "      'cid': 'bafyreif3wra6u6eertia2up3n2y6amyvglixgzn6flazyr75pmvtn44fha',\n",
       "      'val': '!no-unauthenticated',\n",
       "      'cts': '1970-01-01T00:00:00.000Z'}],\n",
       "    'createdAt': '2023-05-08T13:34:41.135Z'},\n",
       "   'record': {'$type': 'app.bsky.feed.post',\n",
       "    'createdAt': '2024-12-21T02:35:10.676Z',\n",
       "    'embed': {'$type': 'app.bsky.embed.images',\n",
       "     'images': [{'alt': '',\n",
       "       'aspectRatio': {'height': 536, 'width': 1634},\n",
       "       'image': {'$type': 'blob',\n",
       "        'ref': {'$link': 'bafkreihyuw3icrnsd5hgvtfxjn7tzqieaaz5kzkmq73g2276nttop7qhxq'},\n",
       "        'mimeType': 'image/jpeg',\n",
       "        'size': 652049}}]},\n",
       "    'facets': [{'features': [{'$type': 'app.bsky.richtext.facet#link',\n",
       "        'uri': 'https://geopolitique.eu/2024/04/26/batir-un-nouveau-paradigme-emmanuel-macron-a-la-sorbonne/'}],\n",
       "      'index': {'byteEnd': 129, 'byteStart': 98}}],\n",
       "    'langs': ['en'],\n",
       "    'reply': {'parent': {'cid': 'bafyreibw5f7rzsp3fv5wvryygj5ifterlzujwnrqkfclnsygnypmw6ldty',\n",
       "      'uri': 'at://did:plc:cmvp2dfgs7qrfjo5n27limmf/app.bsky.feed.post/3ldgbbi24x224'},\n",
       "     'root': {'cid': 'bafyreihhq7kbtwggmcn6lvpvhk6dqgcpivedxw6iwbdq6hxnqvduoks7eu',\n",
       "      'uri': 'at://did:plc:cmvp2dfgs7qrfjo5n27limmf/app.bsky.feed.post/3lbpbcih3sc27'}},\n",
       "    'text': 'Not all UE seems to be acquiescent to a Trump 2.0; Macron speech at Sorbonne is Gaulliste in tone geopolitique.eu/2024/04/26/b...'},\n",
       "   'embed': {'$type': 'app.bsky.embed.images#view',\n",
       "    'images': [{'thumb': 'https://cdn.bsky.app/img/feed_thumbnail/plain/did:plc:ubee5xpii74xjsrv3zmeboqj/bafkreihyuw3icrnsd5hgvtfxjn7tzqieaaz5kzkmq73g2276nttop7qhxq@jpeg',\n",
       "      'fullsize': 'https://cdn.bsky.app/img/feed_fullsize/plain/did:plc:ubee5xpii74xjsrv3zmeboqj/bafkreihyuw3icrnsd5hgvtfxjn7tzqieaaz5kzkmq73g2276nttop7qhxq@jpeg',\n",
       "      'alt': '',\n",
       "      'aspectRatio': {'height': 536, 'width': 1634}}]},\n",
       "   'replyCount': 0,\n",
       "   'repostCount': 0,\n",
       "   'likeCount': 1,\n",
       "   'quoteCount': 0,\n",
       "   'indexedAt': '2024-12-21T02:35:13.449Z',\n",
       "   'labels': []},\n",
       "  {'uri': 'at://did:plc:v4fdzao3xcpqfmxcfc4q63sy/app.bsky.feed.post/3ldrrlutlwc2q',\n",
       "   'cid': 'bafyreic47sh5xnahbfmtah2fpdvxbexjfgdz2ga2w5hyllq2vy5fqzdlmi',\n",
       "   'author': {'did': 'did:plc:v4fdzao3xcpqfmxcfc4q63sy',\n",
       "    'handle': 'gregniaudet.bsky.social',\n",
       "    'displayName': '',\n",
       "    'avatar': 'https://cdn.bsky.app/img/avatar/plain/did:plc:v4fdzao3xcpqfmxcfc4q63sy/bafkreiexcgyvej4qigsydh5dc3egtar4ppe2vijiykow3ysvbis7hi4ddm@jpeg',\n",
       "    'labels': [],\n",
       "    'createdAt': '2024-11-15T17:39:10.033Z'},\n",
       "   'record': {'$type': 'app.bsky.feed.post',\n",
       "    'createdAt': '2024-12-21T01:43:25.322Z',\n",
       "    'langs': ['fr'],\n",
       "    'reply': {'parent': {'cid': 'bafyreia47dxzd6zidslrfmkg7pacfnmienbl2w4hcbniz6hjbtsesn43he',\n",
       "      'uri': 'at://did:plc:v4fdzao3xcpqfmxcfc4q63sy/app.bsky.feed.post/3ldrrlulxrs2q'},\n",
       "     'root': {'cid': 'bafyreiev4iriiij2fzxil3o34u7lqrmvxbpyxdzvymo55xds4xbzbruxvu',\n",
       "      'uri': 'at://did:plc:tuxs46rncpoq3z6eyvfmhfnc/app.bsky.feed.post/3ldrctgxrok2r'}},\n",
       "    'text': \"Perhaps because I was actively involved locally, an important fact of 2024 is how the rallying of the left prevented the far right from coming to power in France. Despite Macron, I'm pretty relieved about that when you see Trump or Milei trashing social rights. a story to tell!!!!\"},\n",
       "   'replyCount': 2,\n",
       "   'repostCount': 0,\n",
       "   'likeCount': 5,\n",
       "   'quoteCount': 0,\n",
       "   'indexedAt': '2024-12-21T01:43:27.073Z',\n",
       "   'labels': []},\n",
       "  {'uri': 'at://did:plc:jrlmi6zooazieol2okbqkuz3/app.bsky.feed.post/3ldrq4tqxt22p',\n",
       "   'cid': 'bafyreif6s6osbsvezojl3ebd7c5awn4bop6bs374glj4jx3xgwheawik6y',\n",
       "   'author': {'did': 'did:plc:jrlmi6zooazieol2okbqkuz3',\n",
       "    'handle': 'wessoman.bsky.social',\n",
       "    'displayName': 'Otakunorico 💮🎄',\n",
       "    'avatar': 'https://cdn.bsky.app/img/avatar/plain/did:plc:jrlmi6zooazieol2okbqkuz3/bafkreibwlothixf4ory6vnmepcaecey2fdek7yixkqkv634b4dmfuznv3e@jpeg',\n",
       "    'labels': [],\n",
       "    'createdAt': '2024-11-20T19:03:05.553Z'},\n",
       "   'record': {'$type': 'app.bsky.feed.post',\n",
       "    'createdAt': '2024-12-21T01:17:07.373Z',\n",
       "    'embed': {'$type': 'app.bsky.embed.images',\n",
       "     'images': [{'alt': 'Trump (With a blue suit and yellow tie), with Macron (center) and Zelensky (right).',\n",
       "       'aspectRatio': {'height': 513, 'width': 770},\n",
       "       'image': {'$type': 'blob',\n",
       "        'ref': {'$link': 'bafkreiboetxqv5cbudmyudbgurwjndof6l7xhzaa2kwq2sz3pp7vaf5u2y'},\n",
       "        'mimeType': 'image/jpeg',\n",
       "        'size': 173661}}]},\n",
       "    'langs': ['en'],\n",
       "    'text': \"You know, I noticed that Musk truly started to interfere with the Trump administration immediately after his visit with Zelensky and Macron, where he uncharacteristically wore Ukraine's colors. I think Trump realized he actually holds more power than Putin, and handler Musk has put him on a leash.\"},\n",
       "   'embed': {'$type': 'app.bsky.embed.images#view',\n",
       "    'images': [{'thumb': 'https://cdn.bsky.app/img/feed_thumbnail/plain/did:plc:jrlmi6zooazieol2okbqkuz3/bafkreiboetxqv5cbudmyudbgurwjndof6l7xhzaa2kwq2sz3pp7vaf5u2y@jpeg',\n",
       "      'fullsize': 'https://cdn.bsky.app/img/feed_fullsize/plain/did:plc:jrlmi6zooazieol2okbqkuz3/bafkreiboetxqv5cbudmyudbgurwjndof6l7xhzaa2kwq2sz3pp7vaf5u2y@jpeg',\n",
       "      'alt': 'Trump (With a blue suit and yellow tie), with Macron (center) and Zelensky (right).',\n",
       "      'aspectRatio': {'height': 513, 'width': 770}}]},\n",
       "   'replyCount': 0,\n",
       "   'repostCount': 0,\n",
       "   'likeCount': 3,\n",
       "   'quoteCount': 0,\n",
       "   'indexedAt': '2024-12-21T01:17:08.856Z',\n",
       "   'labels': []},\n",
       "  {'uri': 'at://did:plc:2ibby3wb3zhktuo7xpq5eloz/app.bsky.feed.post/3ldrjfwyk5s26',\n",
       "   'cid': 'bafyreicdsuei634e5cdktpiqhura5bhg3ndigv6i757hi4vdps26nqjuc4',\n",
       "   'author': {'did': 'did:plc:2ibby3wb3zhktuo7xpq5eloz',\n",
       "    'handle': 'kinkylinking.bsky.social',\n",
       "    'displayName': 'kinky kea',\n",
       "    'avatar': 'https://cdn.bsky.app/img/avatar/plain/did:plc:2ibby3wb3zhktuo7xpq5eloz/bafkreigf5v4cjpyxmsv6hhsudhdphiewbxixygyr3tppmkh237tzowlske@jpeg',\n",
       "    'labels': [{'cid': 'bafyreihtdb6dp6gvi237ecpprs6cgfxhqkhx5hou4cplhhxfdfy3fr6aku',\n",
       "      'cts': '2024-11-12T18:29:09.151Z',\n",
       "      'src': 'did:plc:ar7c4by46qjdydhdevvrndac',\n",
       "      'uri': 'at://did:plc:2ibby3wb3zhktuo7xpq5eloz/app.bsky.actor.profile/self',\n",
       "      'val': 'porn',\n",
       "      'ver': 1}],\n",
       "    'createdAt': '2023-12-13T16:58:07.791Z'},\n",
       "   'record': {'$type': 'app.bsky.feed.post',\n",
       "    'createdAt': '2024-12-20T23:16:56.556Z',\n",
       "    'embed': {'$type': 'app.bsky.embed.record',\n",
       "     'record': {'cid': 'bafyreicahvqewxnhe57f3d4g2ucf6f2luglcphs5tbaxqccqnqpwe3uytu',\n",
       "      'uri': 'at://did:plc:2egpzsea27fru2vkrjgdw2ob/app.bsky.feed.post/3ldrin2gwlg2e'}},\n",
       "    'langs': ['en'],\n",
       "    'text': \"everybody should know that macron is a disgusting colonial racist homophobic piece of shit since almost forever, he's no better than trump\"},\n",
       "   'embed': {'$type': 'app.bsky.embed.record#view',\n",
       "    'record': {'$type': 'app.bsky.embed.record#viewRecord',\n",
       "     'uri': 'at://did:plc:2egpzsea27fru2vkrjgdw2ob/app.bsky.feed.post/3ldrin2gwlg2e',\n",
       "     'cid': 'bafyreicahvqewxnhe57f3d4g2ucf6f2luglcphs5tbaxqccqnqpwe3uytu',\n",
       "     'author': {'did': 'did:plc:2egpzsea27fru2vkrjgdw2ob',\n",
       "      'handle': 'mediapart.fr',\n",
       "      'displayName': 'Mediapart',\n",
       "      'avatar': 'https://cdn.bsky.app/img/avatar/plain/did:plc:2egpzsea27fru2vkrjgdw2ob/bafkreiell2vpjxbrvddt63enj7jd2rwqzl47ivryhyetxbpqxpk3tuppjq@jpeg',\n",
       "      'associated': {'chat': {'allowIncoming': 'following'}},\n",
       "      'labels': [],\n",
       "      'createdAt': '2023-09-01T16:21:36.238Z'},\n",
       "     'value': {'$type': 'app.bsky.feed.post',\n",
       "      'createdAt': '2024-12-20T23:03:00.741Z',\n",
       "      'embed': {'$type': 'app.bsky.embed.external',\n",
       "       'external': {'description': 'Les propos racistes et homophobes attribués à Emmanuel Macron dans une enquête du «\\xa0Monde\\xa0», bien que démentis par l’Élysée, font écho à des années de discours réactionnaires d’un président...',\n",
       "        'thumb': {'$type': 'blob',\n",
       "         'ref': {'$link': 'bafkreihfprqzbizopungeyauo6t2bsljn5gcanighxxrlc4lz7rhawmhyy'},\n",
       "         'mimeType': 'image/jpeg',\n",
       "         'size': 101729},\n",
       "        'title': 'Les propos racistes et homophobes attribués à Macron\\xa0ne surprennent plus personne',\n",
       "        'uri': 'https://www.mediapart.fr/journal/politique/201224/les-propos-racistes-et-homophobes-attribues-macron-ne-surprennent-plus-personne?at_medium=rs-cm&at_campaign=bluesky'}},\n",
       "      'facets': [{'features': [{'$type': 'app.bsky.richtext.facet#link',\n",
       "          'uri': 'https://www.mediapart.fr/journal/politique/201224/les…'}],\n",
       "        'index': {'byteEnd': 323, 'byteStart': 267}}],\n",
       "      'text': 'Les propos racistes et homophobes attribués à Emmanuel Macron dans une enquête du «Monde», bien que démentis par l’Élysée, font écho à des années de discours réactionnaires d’un président qui s’est pourtant longtemps présenté comme progressiste. https://www.mediapart.fr/journal/politique/201224/les…'},\n",
       "     'labels': [],\n",
       "     'likeCount': 333,\n",
       "     'replyCount': 15,\n",
       "     'repostCount': 111,\n",
       "     'quoteCount': 6,\n",
       "     'indexedAt': '2024-12-20T23:03:02.051Z',\n",
       "     'embeds': [{'$type': 'app.bsky.embed.external#view',\n",
       "       'external': {'uri': 'https://www.mediapart.fr/journal/politique/201224/les-propos-racistes-et-homophobes-attribues-macron-ne-surprennent-plus-personne?at_medium=rs-cm&at_campaign=bluesky',\n",
       "        'title': 'Les propos racistes et homophobes attribués à Macron\\xa0ne surprennent plus personne',\n",
       "        'description': 'Les propos racistes et homophobes attribués à Emmanuel Macron dans une enquête du «\\xa0Monde\\xa0», bien que démentis par l’Élysée, font écho à des années de discours réactionnaires d’un président...',\n",
       "        'thumb': 'https://cdn.bsky.app/img/feed_thumbnail/plain/did:plc:2egpzsea27fru2vkrjgdw2ob/bafkreihfprqzbizopungeyauo6t2bsljn5gcanighxxrlc4lz7rhawmhyy@jpeg'}}]}},\n",
       "   'replyCount': 0,\n",
       "   'repostCount': 0,\n",
       "   'likeCount': 1,\n",
       "   'quoteCount': 0,\n",
       "   'indexedAt': '2024-12-20T23:16:56.953Z',\n",
       "   'labels': []},\n",
       "  {'uri': 'at://did:plc:4nojmb4gbk6a2dlaencndwai/app.bsky.feed.post/3ldrdulnpbs2m',\n",
       "   'cid': 'bafyreia7oaodplzd5ao54x5kcrse4ouohs3luyylhnqe4gq2pg4bslhfru',\n",
       "   'author': {'did': 'did:plc:4nojmb4gbk6a2dlaencndwai',\n",
       "    'handle': 'warrenbuffett1.bsky.social',\n",
       "    'displayName': 'Warren Buffett',\n",
       "    'avatar': 'https://cdn.bsky.app/img/avatar/plain/did:plc:4nojmb4gbk6a2dlaencndwai/bafkreickkx44ochusckmdzy5ye2vg4hc5dkaffjaflqevty4baydtfggde@jpeg',\n",
       "    'labels': [],\n",
       "    'createdAt': '2024-12-20T18:04:17.742Z'},\n",
       "   'record': {'$type': 'app.bsky.feed.post',\n",
       "    'createdAt': '2024-12-20T21:37:45.548Z',\n",
       "    'embed': {'$type': 'app.bsky.embed.external',\n",
       "     'external': {'description': \"International leaders' early acceptance of Donald Trump as America's acting commander in chief is yet another harsh indictment of Joe Biden.\",\n",
       "      'thumb': {'$type': 'blob',\n",
       "       'ref': {'$link': 'bafkreicwm2rr5leullce6ffdoctzf44vwivwd7renltglo3ulzy57nfb74'},\n",
       "       'mimeType': 'image/jpeg',\n",
       "       'size': 583708},\n",
       "      'title': \"It's already Trump's world. Biden is just fading away in it. | Opinion\",\n",
       "      'uri': 'https://www.usatoday.com/story/opinion/columnist/2024/12/12/trump-strength-ukraine-france-foreign-policy/76859762007/'}},\n",
       "    'facets': [{'features': [{'$type': 'app.bsky.richtext.facet#link',\n",
       "        'uri': 'https://www.usatoday.com/story/opinion/columnist/2024/12/12/trump-strength-ukraine-france-foreign-policy/76859762007/'}],\n",
       "      'index': {'byteEnd': 230, 'byteStart': 198}}],\n",
       "    'langs': ['en'],\n",
       "    'text': \"Macron, Zelenskyy embrace Trump as Biden's power fades\\n\\nInternational leaders' early acceptance of Donald Trump as America's acting commander in chief is yet another harsh indictment of Joe Biden.\\n\\nwww.usatoday.com/story/opinio...\"},\n",
       "   'embed': {'$type': 'app.bsky.embed.external#view',\n",
       "    'external': {'uri': 'https://www.usatoday.com/story/opinion/columnist/2024/12/12/trump-strength-ukraine-france-foreign-policy/76859762007/',\n",
       "     'title': \"It's already Trump's world. Biden is just fading away in it. | Opinion\",\n",
       "     'description': \"International leaders' early acceptance of Donald Trump as America's acting commander in chief is yet another harsh indictment of Joe Biden.\",\n",
       "     'thumb': 'https://cdn.bsky.app/img/feed_thumbnail/plain/did:plc:4nojmb4gbk6a2dlaencndwai/bafkreicwm2rr5leullce6ffdoctzf44vwivwd7renltglo3ulzy57nfb74@jpeg'}},\n",
       "   'replyCount': 0,\n",
       "   'repostCount': 0,\n",
       "   'likeCount': 0,\n",
       "   'quoteCount': 0,\n",
       "   'indexedAt': '2024-12-20T21:37:52.753Z',\n",
       "   'labels': []},\n",
       "  {'uri': 'at://did:plc:zlolixep5x3tsht3bk25k6pa/app.bsky.feed.post/3ldrayzcnhc2y',\n",
       "   'cid': 'bafyreih3ethypf2akv767wx5zgo45xrgzqd4khln53f3gwslhi2dhzrzfq',\n",
       "   'author': {'did': 'did:plc:zlolixep5x3tsht3bk25k6pa',\n",
       "    'handle': 'letoulouzingue.bsky.social',\n",
       "    'displayName': 'Velouté',\n",
       "    'avatar': 'https://cdn.bsky.app/img/avatar/plain/did:plc:zlolixep5x3tsht3bk25k6pa/bafkreihogplg6c2vdlf5qjfxcop6cniq7kkd7dsbckjmjmy7eeghvpqilu@jpeg',\n",
       "    'labels': [],\n",
       "    'createdAt': '2023-08-22T16:18:39.474Z'},\n",
       "   'record': {'$type': 'app.bsky.feed.post',\n",
       "    'createdAt': '2024-12-20T20:46:32.858Z',\n",
       "    'facets': [{'features': [{'$type': 'app.bsky.richtext.facet#tag',\n",
       "        'tag': 'Macron'}],\n",
       "      'index': {'byteEnd': 65, 'byteStart': 58}}],\n",
       "    'langs': ['fr'],\n",
       "    'reply': {'parent': {'cid': 'bafyreifvk6zyt3vbo4brqqmgb2qj72g3o6pku727m4ulzd2clym4cfhlvq',\n",
       "      'uri': 'at://did:plc:t4lnw5adnycwoa267g27gnaz/app.bsky.feed.post/3ldrauqxbjk26'},\n",
       "     'root': {'cid': 'bafyreihadjboxvlk2tlqnzsdbx4s3bdqbq6had7fwkdndzyuhkdfwf25fq',\n",
       "      'uri': 'at://did:plc:zlolixep5x3tsht3bk25k6pa/app.bsky.feed.post/3ldr56xbsx22k'}},\n",
       "    'text': 'Mais je vous répète que Trump a une femme plus jeune et #Macron une femme plus vieille. Cela devient la seule différence entre ces deux crétins.'},\n",
       "   'replyCount': 1,\n",
       "   'repostCount': 0,\n",
       "   'likeCount': 2,\n",
       "   'quoteCount': 0,\n",
       "   'indexedAt': '2024-12-20T20:46:33.252Z',\n",
       "   'labels': []},\n",
       "  {'uri': 'at://did:plc:zlolixep5x3tsht3bk25k6pa/app.bsky.feed.post/3ldrav62jk22y',\n",
       "   'cid': 'bafyreidazrhgdgujllml4oxa6xp5z7nntwpes7bh7d7v5wphua4u7lk7qu',\n",
       "   'author': {'did': 'did:plc:zlolixep5x3tsht3bk25k6pa',\n",
       "    'handle': 'letoulouzingue.bsky.social',\n",
       "    'displayName': 'Velouté',\n",
       "    'avatar': 'https://cdn.bsky.app/img/avatar/plain/did:plc:zlolixep5x3tsht3bk25k6pa/bafkreihogplg6c2vdlf5qjfxcop6cniq7kkd7dsbckjmjmy7eeghvpqilu@jpeg',\n",
       "    'labels': [],\n",
       "    'createdAt': '2023-08-22T16:18:39.474Z'},\n",
       "   'record': {'$type': 'app.bsky.feed.post',\n",
       "    'createdAt': '2024-12-20T20:44:23.617Z',\n",
       "    'facets': [{'features': [{'$type': 'app.bsky.richtext.facet#tag',\n",
       "        'tag': 'Macron'}],\n",
       "      'index': {'byteEnd': 36, 'byteStart': 29}}],\n",
       "    'langs': ['fr'],\n",
       "    'reply': {'parent': {'cid': 'bafyreiayo5jc7rwqbyvfy64jfe72ighzbt422p7daqrxkysecfax3mplce',\n",
       "      'uri': 'at://did:plc:m4bdrhujdl5ixzgdcnttfyjt/app.bsky.feed.post/3ldrarfijic24'},\n",
       "     'root': {'cid': 'bafyreihadjboxvlk2tlqnzsdbx4s3bdqbq6had7fwkdndzyuhkdfwf25fq',\n",
       "      'uri': 'at://did:plc:zlolixep5x3tsht3bk25k6pa/app.bsky.feed.post/3ldr56xbsx22k'}},\n",
       "    'text': 'La balle est uniquement pour #Macron qui est comparé à Trump.'},\n",
       "   'replyCount': 0,\n",
       "   'repostCount': 0,\n",
       "   'likeCount': 0,\n",
       "   'quoteCount': 0,\n",
       "   'indexedAt': '2024-12-20T20:44:24.549Z',\n",
       "   'labels': []},\n",
       "  {'uri': 'at://did:plc:zlolixep5x3tsht3bk25k6pa/app.bsky.feed.post/3ldratfveqs2y',\n",
       "   'cid': 'bafyreigvpluf76wfvkpe7mfymi7pb34mkjththm5ibfnvgx66ucdwarkty',\n",
       "   'author': {'did': 'did:plc:zlolixep5x3tsht3bk25k6pa',\n",
       "    'handle': 'letoulouzingue.bsky.social',\n",
       "    'displayName': 'Velouté',\n",
       "    'avatar': 'https://cdn.bsky.app/img/avatar/plain/did:plc:zlolixep5x3tsht3bk25k6pa/bafkreihogplg6c2vdlf5qjfxcop6cniq7kkd7dsbckjmjmy7eeghvpqilu@jpeg',\n",
       "    'labels': [],\n",
       "    'createdAt': '2023-08-22T16:18:39.474Z'},\n",
       "   'record': {'$type': 'app.bsky.feed.post',\n",
       "    'createdAt': '2024-12-20T20:43:24.728Z',\n",
       "    'facets': [{'features': [{'$type': 'app.bsky.richtext.facet#tag',\n",
       "        'tag': 'Macron'}],\n",
       "      'index': {'byteEnd': 126, 'byteStart': 119}}],\n",
       "    'langs': ['fr'],\n",
       "    'reply': {'parent': {'cid': 'bafyreibfdkpwga5z5p4htknyovopndv6duynlz4allk6uqdylyllxr6zjq',\n",
       "      'uri': 'at://did:plc:m4bdrhujdl5ixzgdcnttfyjt/app.bsky.feed.post/3ldr7zuca2c24'},\n",
       "     'root': {'cid': 'bafyreihadjboxvlk2tlqnzsdbx4s3bdqbq6had7fwkdndzyuhkdfwf25fq',\n",
       "      'uri': 'at://did:plc:zlolixep5x3tsht3bk25k6pa/app.bsky.feed.post/3ldr56xbsx22k'}},\n",
       "    'text': \"Bah, non, le sujet c'est Trump. Et pour les différencier maintenant il ne reste plus que l'âge de leur femme puisque #Macron est aussi con que Trump.\"},\n",
       "   'replyCount': 0,\n",
       "   'repostCount': 0,\n",
       "   'likeCount': 1,\n",
       "   'quoteCount': 0,\n",
       "   'indexedAt': '2024-12-20T20:43:25.649Z',\n",
       "   'labels': []},\n",
       "  {'uri': 'at://did:plc:mtfcdyxona2pa3jn2aa4cfyj/app.bsky.feed.post/3ldr7k64ohk2e',\n",
       "   'cid': 'bafyreibpbmf3ris7boywo3z624w735d3chnu3r75mvwu3o47aduszkrjya',\n",
       "   'author': {'did': 'did:plc:mtfcdyxona2pa3jn2aa4cfyj',\n",
       "    'handle': 'neighbor1941.bsky.social',\n",
       "    'displayName': '',\n",
       "    'avatar': 'https://cdn.bsky.app/img/avatar/plain/did:plc:mtfcdyxona2pa3jn2aa4cfyj/bafkreifk3yeevopnageios4lmt4mdd67utg75ac2wzfz5sflo7ymp7gzwm@jpeg',\n",
       "    'labels': [],\n",
       "    'createdAt': '2024-11-18T00:59:31.197Z'},\n",
       "   'record': {'$type': 'app.bsky.feed.post',\n",
       "    'createdAt': '2024-12-20T20:20:20.846Z',\n",
       "    'langs': ['en'],\n",
       "    'reply': {'parent': {'cid': 'bafyreidupdcoihmhmartxsv2n3j2vzasf2gjg4pnqvtwxju3vpn4mlcraq',\n",
       "      'uri': 'at://did:plc:qqxqxgdu5z3he2piqfbfaku4/app.bsky.feed.post/3ldr6zs3ufa25'},\n",
       "     'root': {'cid': 'bafyreidupdcoihmhmartxsv2n3j2vzasf2gjg4pnqvtwxju3vpn4mlcraq',\n",
       "      'uri': 'at://did:plc:qqxqxgdu5z3he2piqfbfaku4/app.bsky.feed.post/3ldr6zs3ufa25'}},\n",
       "    'text': 'So Macron is like the Trump of France?'},\n",
       "   'replyCount': 2,\n",
       "   'repostCount': 0,\n",
       "   'likeCount': 5,\n",
       "   'quoteCount': 0,\n",
       "   'indexedAt': '2024-12-20T20:20:20.055Z',\n",
       "   'labels': []},\n",
       "  {'uri': 'at://did:plc:zhvqndm4h5br2lidssko45vb/app.bsky.feed.post/3ldr5snri2223',\n",
       "   'cid': 'bafyreiecbuoqe62cf5ktzqhvb2vjfwwooynkgmluf32xqwob3gsqphkw2y',\n",
       "   'author': {'did': 'did:plc:zhvqndm4h5br2lidssko45vb',\n",
       "    'handle': 'ind84124.bsky.social',\n",
       "    'displayName': 'Mike',\n",
       "    'avatar': 'https://cdn.bsky.app/img/avatar/plain/did:plc:zhvqndm4h5br2lidssko45vb/bafkreidfjs62hqkbbmcdpdxmg56szzea53segb2boa4qhcxrsukmunxife@jpeg',\n",
       "    'labels': [],\n",
       "    'createdAt': '2024-11-11T03:33:00.783Z'},\n",
       "   'record': {'$type': 'app.bsky.feed.post',\n",
       "    'createdAt': '2024-12-20T19:49:18.209Z',\n",
       "    'langs': ['en'],\n",
       "    'reply': {'parent': {'cid': 'bafyreibhcl2izyie5ir7wmoygk63pl2f2lmbfoypu7f2eekg3xfqiagdny',\n",
       "      'uri': 'at://did:plc:xwqpoq4wkcegppzinojubdms/app.bsky.feed.post/3ldr4nykmx22n'},\n",
       "     'root': {'cid': 'bafyreibhcl2izyie5ir7wmoygk63pl2f2lmbfoypu7f2eekg3xfqiagdny',\n",
       "      'uri': 'at://did:plc:xwqpoq4wkcegppzinojubdms/app.bsky.feed.post/3ldr4nykmx22n'}},\n",
       "    'text': 'Trump will probably demand that Macron pardon him and a point hint he ambassador to the US'},\n",
       "   'replyCount': 0,\n",
       "   'repostCount': 0,\n",
       "   'likeCount': 6,\n",
       "   'quoteCount': 0,\n",
       "   'indexedAt': '2024-12-20T19:49:18.854Z',\n",
       "   'labels': []},\n",
       "  {'uri': 'at://did:plc:iboz2vw2mt4ryfiunsy4fsr6/app.bsky.feed.post/3ldqy3tvsd22c',\n",
       "   'cid': 'bafyreibyxocziwfz4ejfb4sfywiyk2tevdg7ck6i5sdztpkphepypapd5m',\n",
       "   'author': {'did': 'did:plc:iboz2vw2mt4ryfiunsy4fsr6',\n",
       "    'handle': 'penelope129974.bsky.social',\n",
       "    'displayName': 'Penelope124974',\n",
       "    'avatar': 'https://cdn.bsky.app/img/avatar/plain/did:plc:iboz2vw2mt4ryfiunsy4fsr6/bafkreicesd3zl7nwik44q33pot2mzrzndydlcruf5jzackpcbhp4szmd5q@jpeg',\n",
       "    'associated': {'chat': {'allowIncoming': 'following'}},\n",
       "    'labels': [],\n",
       "    'createdAt': '2023-10-10T18:29:24.785Z'},\n",
       "   'record': {'$type': 'app.bsky.feed.post',\n",
       "    'createdAt': '2024-12-20T18:07:04.180Z',\n",
       "    'langs': ['fr'],\n",
       "    'reply': {'parent': {'cid': 'bafyreifk4qqzp5puea3ted2sssi525fbu7khgujsv3376p37u5z3gpusge',\n",
       "      'uri': 'at://did:plc:s6bqn4ctt3qeelfek5x43ibo/app.bsky.feed.post/3ldqxfhxclc2v'},\n",
       "     'root': {'cid': 'bafyreif4dagrbthtaxcdysymlx63vwnnqdhbthmj5wefjnrkrffmzjf234',\n",
       "      'uri': 'at://did:plc:3xhpszaojothbajjznewrslt/app.bsky.feed.post/3ldq4cnzrrc2e'}},\n",
       "    'text': \"Il est véritablement d'une inhumanité absolue. Je pense que Sarko voulait être aimé et que Macron s'aime tellement qu'il s'en tape totalement de ce que l'on peut penser. Nan mais il engueule des gens qui ont tout perdu ? Trump balançait du PQ aux portoricains, lui crache au visage de français.\"},\n",
       "   'replyCount': 1,\n",
       "   'repostCount': 0,\n",
       "   'likeCount': 2,\n",
       "   'quoteCount': 0,\n",
       "   'indexedAt': '2024-12-20T18:07:04.047Z',\n",
       "   'labels': []},\n",
       "  {'uri': 'at://did:plc:4hm6gb7dzobynqrpypif3dck/app.bsky.feed.post/3ldqxufyse32x',\n",
       "   'cid': 'bafyreiessamflxpifbrb3pmvwhoektlabumrrnqf6inlqjeybwqwgl332m',\n",
       "   'author': {'did': 'did:plc:4hm6gb7dzobynqrpypif3dck',\n",
       "    'handle': 'news-feed.bsky.social',\n",
       "    'displayName': 'News Feed',\n",
       "    'avatar': 'https://cdn.bsky.app/img/avatar/plain/did:plc:4hm6gb7dzobynqrpypif3dck/bafkreigugrlksjekyk2ymtv5rrucjp6e7z64dvn4hizgxchw5i4vna2ozq@jpeg',\n",
       "    'labels': [],\n",
       "    'createdAt': '2023-08-03T16:31:10.562Z'},\n",
       "   'record': {'$type': 'app.bsky.feed.post',\n",
       "    'createdAt': '2024-12-20T18:02:54.646Z',\n",
       "    'facets': [{'features': [{'$type': 'app.bsky.richtext.facet#link',\n",
       "        'uri': 'https://t.co/RJ9MEYN0MC'}],\n",
       "      'index': {'byteEnd': 247, 'byteStart': 224}}],\n",
       "    'text': '@Reuters: A Donald Trump-backed spending deal fails in the House, as a possible shutdown approaches, Angry residents of cyclone-hit Mayotte jeer French President Macron, and more. Here are the top 5️⃣ stories of the day https://t.co/RJ9MEYN0MC'},\n",
       "   'replyCount': 0,\n",
       "   'repostCount': 0,\n",
       "   'likeCount': 1,\n",
       "   'quoteCount': 0,\n",
       "   'indexedAt': '2024-12-20T18:02:54.855Z',\n",
       "   'labels': []},\n",
       "  {'uri': 'at://did:plc:zlolixep5x3tsht3bk25k6pa/app.bsky.feed.post/3ldqxrs4zas2x',\n",
       "   'cid': 'bafyreicqn6tovktatxrk6hucluwuimggghhduxnmrbi6uustm36r6ftmei',\n",
       "   'author': {'did': 'did:plc:zlolixep5x3tsht3bk25k6pa',\n",
       "    'handle': 'letoulouzingue.bsky.social',\n",
       "    'displayName': 'Velouté',\n",
       "    'avatar': 'https://cdn.bsky.app/img/avatar/plain/did:plc:zlolixep5x3tsht3bk25k6pa/bafkreihogplg6c2vdlf5qjfxcop6cniq7kkd7dsbckjmjmy7eeghvpqilu@jpeg',\n",
       "    'labels': [],\n",
       "    'createdAt': '2023-08-22T16:18:39.474Z'},\n",
       "   'record': {'$type': 'app.bsky.feed.post',\n",
       "    'createdAt': '2024-12-20T18:01:26.775Z',\n",
       "    'facets': [{'features': [{'$type': 'app.bsky.richtext.facet#tag',\n",
       "        'tag': 'Macron'}],\n",
       "      'index': {'byteEnd': 19, 'byteStart': 12}},\n",
       "     {'features': [{'$type': 'app.bsky.richtext.facet#tag', 'tag': 'Mamadou'}],\n",
       "      'index': {'byteEnd': 82, 'byteStart': 74}}],\n",
       "    'langs': ['fr'],\n",
       "    'text': \"Finalement, #Macron c'est Trump mais avec une femme plus vieille que lui.\\n#Mamadou\"},\n",
       "   'replyCount': 0,\n",
       "   'repostCount': 0,\n",
       "   'likeCount': 14,\n",
       "   'quoteCount': 1,\n",
       "   'indexedAt': '2024-12-20T18:01:27.358Z',\n",
       "   'labels': []},\n",
       "  {'uri': 'at://did:plc:mcb6n67plnrlx4lg35natk2b/app.bsky.feed.post/3ldqufn3exn2e',\n",
       "   'cid': 'bafyreicx5uqwfxt2ihhmhzhewgmefiilnys377yd2lwgfg73m347bx24qu',\n",
       "   'author': {'did': 'did:plc:mcb6n67plnrlx4lg35natk2b',\n",
       "    'handle': 'nowbreezing.ntw.app',\n",
       "    'displayName': '☁️Now🤖Breezing💨 [UNOFFICIAL]',\n",
       "    'avatar': 'https://cdn.bsky.app/img/avatar/plain/did:plc:mcb6n67plnrlx4lg35natk2b/bafkreiaagvzfzc5rcx6dhdcquu7kaq5lcjhdmubvpmlest4kwxhjf6336m@jpeg',\n",
       "    'associated': {'chat': {'allowIncoming': 'none'}},\n",
       "    'labels': [],\n",
       "    'createdAt': '2023-05-23T20:37:36.553Z'},\n",
       "   'record': {'$type': 'app.bsky.feed.post',\n",
       "    'createdAt': '2024-12-20T17:00:59.239558+00:00',\n",
       "    'embed': {'$type': 'app.bsky.embed.images',\n",
       "     'images': [{'$type': 'app.bsky.embed.images#image',\n",
       "       'alt': \"Word Cloud; its top words (sorted by weighted frequency, descending):  ukraine, singh, ndp, gaza, jagmeet, shutdown, sza, 1,280, vacances, fcf, t+s, snowing, lords, fêtes, cpc, bipartisan, solstice, mandelson, fiasco, wrestle, neo-nazi, musks, louisiana, like/love, 27th, yuletide, tenir, speaker, shutdowns, prochaine, pro-life, pouvez, pediatric, oversized, musk/trump, musk, mump, meddling, holidays, govern, gatland, ajax, @jagmeetsingh.ca, アキラ, zdrowia, wszystkiego, workday, travelers, sliced, shambles, self-love, roundup, risoto, richest, repubs, recipients, recesso, poilievre, paychecks, oligarchy, negotiating, natale, muskrat, musk's, mocked, merry, krypto, ketamine, juvi, implication, gop's, goldman, germany's, fireball, esquerdomacho, elect, ehkä, doses, cutting-edge, clarifying, bonnes, back-to-back, aston, année, amaia, afd, achtste, @kollinbenson.bsky.social, 行い, zin, yule, www.theguardian.com/us-news/2024, www.npr.org/sections/sho, weißt, watt, warms, unreliable, unified, unelected, ubisoft, tsa, trifecta, transsexual, toby, tesla, suppress, stud, stockings, spokesperson, sow, snowy, shenhe, selfies, sandoval, samantha, roy, risking, retailers, restful, remembrance, president-elect, peinado, panetone, open.substack.com/pub/snyder/p, neo-nazis, natasha, milagro, mehrere, mavuika, magician, mackenzie, m'n, lng, limpando, last-minute, knapp, janvier, jahres, hu, https.//www.profitablecpmrate.com/ruhbtywg?key=27b85875b33a14c1a4b74045d15223cf, holmat, heist, hassan, général, gunn's, grandchildren, governed, fri, fraser, folds, finales, filtering, feo, far-right, fani, exec, evangelicals, endorsing, elon, donors, discipline, dickens, definitions, debt, deben, coupe, commons, chover, chilli, ceiling, cancer, cancellation, bloc, blm, blackmail, baum, americas, ai-driven, adulting, aaron, @aaron.bsky.team, 6/10, 28th, $250, 更かし, какие, είμαι, www.threads.net, www.nytimes.com/2024/12/20/w, wszystkich, wolfgang, wilderness, whispering, weihnachtszeit, weihnachten, walgreens, wagen, vp, visibly, viera\",\n",
       "       'image': {'$type': 'blob',\n",
       "        'ref': {'$link': 'bafkreihlwgf6ynx77jd6zqfhj4zdisqu2ginjqi4qb75n2u5euzo5gq4vi'},\n",
       "        'mimeType': 'image/jpeg',\n",
       "        'size': 327689}},\n",
       "      {'$type': 'app.bsky.embed.images#image',\n",
       "       'alt': 'Hashtag Cloud; its hashtagged words/phrases (sorted by weighted frequency, descending):  fcf, photography, christmas, furry, music, fursuitfriday, gamedev, findom, filmsky, trump, onlyfans, presidentmusk, musicsky, drawing, musk, realnsfw, pokemon, body, 18, writingcommunity, superman, promosky, movies, gaming, nsfwsky, elonmusk, winter, petite, cdnpoli, xxx, resist, poetry, podcast, holidays, cats, videogames, nsfwbluesky, musicchallenge, indiedev, horny, femdom, artadventcalendar, afd, 558, youtube, snow, nudes, marvelrivals, hentai, fpl, brart, boobs, bigtits, xmas, wintersolstice, wildlife, vrchat, spicysky, russia, photo, painting, lastfourwatched, japan, happyholidays, fansly, crypto, collabfcbot, animation, 20daybookchallenge, yule, writing, sex, retro, pngtuber, paranormal, myart, merrychristmas, maga, macron, london, lingerie, letterboxdfriday, indiegame, history, haiku, goonsky, games, feet, fatcockfriday, edusky, dogs, cybersecurity, cute, comics, blender, witch, vtuberuprising, vptrump, vinyl, twitchstreamer, tiktok, tattoos, tarot, stream, sonicthehedgehog, sonic3, signalboost, scifi, science, procreate, otd, minecraft, lgbtq, lewd, kindle, infinitynikki, indiegames, gop, goddess, game, friday, footfetish, fineart, fiction, femsky, femboyfriday, facts, draw, dc, christmasdrinksinasongormovie, canada, bwc, blackandwhite, artmoots, artificialintelligence, arte, amazon, こと, zenlesszonezero, warhammercommunity, us, twink, toes, teen, stockmarket, sonicoc, sonic, russiaisaterroriststate, retrogaming, purity, privacy, poem, piercednipple, photographer, pawg, pagan, nudesky, nintendo, new, nba, naturephotography, movie, monochrome, model, medsky, marvel, libros, hung, holiday, helpsky, google, goodmorning, godot, giftideas, fursuit, films, doctorwho, digital, cuteart, cartoon, btc, bsnm, blonde, bird, bg3, artvsartist2024, artvsartist, artsky, anthro, alternative, alt, abstract, タイムセールセール, zzzero, witches, whatgymleaderareyou, whamageddon, warhammer40k, waifu, vpsupport',\n",
       "       'image': {'$type': 'blob',\n",
       "        'ref': {'$link': 'bafkreidypxxsslztcxje7jmxk6r36jxdfuc7mlez267wgqulqwgv3e2aqi'},\n",
       "        'mimeType': 'image/jpeg',\n",
       "        'size': 344326}},\n",
       "      {'$type': 'app.bsky.embed.images#image',\n",
       "       'alt': 'Emoji Cloud; its emojis (sorted by weighted frequency, descending):  🤶, 🪡, 🔭, 👉🏽, 🎅🏼, 🎄, ☃️, 🧑\\u200d🎄, 🥂, 🤦🏾\\u200d♂️, 🤞🏽, 🚮, 🙉, 📜, 🐲, 🎅🏻, 🎅, 🎁, 🧬, 🧑\\u200d🎤, 🦌, 🤷🏻, 🤶🏻, 🚿, 🚲, 🙋\\u200d♂️, 🗺️, 🕺🏻, 🕎, 🔬, 🔆, 💲, 💁\\u200d♂️, 💁\\u200d♀️, 👎, 👃, 🎺, 🎬, 🎥, 🎓, 🍹, 🌴, 🌨️, ❄️, ⚾, ↪️, ™, 4️⃣, \\U0001faf0, 🫐, \\U0001face, 🪶, 🪢, 🪖, 🪐, \\U0001fa87, 🩺, 🩹, 🩰, 🧵, 🧲, 🧚, 🧑\\u200d🔬, 🧁, 🧀, 🦸\\u200d♀️, 🦷, 🦶, 🦭, 🦞, 🥵, 🥴, 🥳, 🥤, 🥚, 🥒, 🤷🏽\\u200d♀️, 🤷🏼\\u200d♂️, 🤷🏻\\u200d♀️, 🤷\\u200d♂️, 🤫, 🤦🏿\\u200d♂️, 🤦🏻\\u200d♂️, 🤟🏼, 🤞🏼, 🤜, 🤛, 🤙, 🛻, 🛷, 🛬, 🛡️, 🛍, 🚧, 🚙, 🚘, 🚗, 🚍, 🙌🏿, 🙈, 🙇🏻\\u200d♀️, 😽, 😶\\u200d🌫️, 😵\\u200d💫, 😬, 😥, 😛, 😏, 😈, 🗿, 🗳️, 🗓️, 🖼, 🖖🏻, 🖌️, 🖋️, 🖊️, 🕞, 🔦, 🔒, 🔍, 🔋, 📽, 📹, 📸, 📰, 📨, 📡, 📗, 📍, 📊, 📉, 📆, 💼, 💯, 💪🏾, 💪🏼, 💩, 💅🏽, 💅🏻, 💅, 💄, 💁🏻\\u200d♀️, 👵, 👯\\u200d♂️, 👯, 👨\\u200d✈️, 👧, 👠, 👟, 👐, 👍🏿, 👍🏽, 👌🏾, 👊🏼, 👉🏻, 👇🏼, 👅, 🐿️, 🐤, 🐘, 🐗, 🐖, 🐆, 🐁, 🏥, 🏞️, 🏝️, 🏖️, 🏅, 🏃\\u200d♂️, 🏁, 🎲, 🎯, 🎮, 🎭, 🎤, 🎟, 🎙️, 🎅🏾, 🎂, 🍼, 🍯, 🍓, 🍉, 🍇, 🌶️, 🌵, 🌲, 🌫️, 🌜, 🌛, 🌚, 🌐, 🌍, 🌌, 🌊, 🇺🇸, 🇸🇪, 🇮🇱',\n",
       "       'image': {'$type': 'blob',\n",
       "        'ref': {'$link': 'bafkreic4dkzckfi2nvstm2gdseb65j4c43coxe627smtcfu2bpvvwakzpy'},\n",
       "        'mimeType': 'image/jpeg',\n",
       "        'size': 784302}},\n",
       "      {'$type': 'app.bsky.embed.images#image',\n",
       "       'alt': 'If you need someone to talk to, here is the link to message me (@NickWrightData.ntw.app, creator of @NowBreezing.ntw.app) over the Signal app: https://signal.me/#eu/XNbymWWcjJZxBHdeJWvTbXK86ViP1DYALo68NJYWDR8JQYuZwu5G0ojsYMG9_Qyf',\n",
       "       'image': {'$type': 'blob',\n",
       "        'ref': {'$link': 'bafkreigt2hnlo2phvckchmz6kzqt6le74js7y7ajoppxn7hvlvudautwhm'},\n",
       "        'mimeType': 'image/png',\n",
       "        'size': 63734}}]},\n",
       "    'facets': [{'$type': 'app.bsky.richtext.facet',\n",
       "      'features': [{'$type': 'app.bsky.richtext.facet#link',\n",
       "        'uri': 'http://bsky.app/search?q=ukraine'}],\n",
       "      'index': {'$type': 'app.bsky.richtext.facet#byteSlice',\n",
       "       'byteEnd': 83,\n",
       "       'byteStart': 76}},\n",
       "     {'$type': 'app.bsky.richtext.facet',\n",
       "      'features': [{'$type': 'app.bsky.richtext.facet#link',\n",
       "        'uri': 'http://bsky.app/search?q=singh'}],\n",
       "      'index': {'$type': 'app.bsky.richtext.facet#byteSlice',\n",
       "       'byteEnd': 106,\n",
       "       'byteStart': 101}},\n",
       "     {'$type': 'app.bsky.richtext.facet',\n",
       "      'features': [{'$type': 'app.bsky.richtext.facet#link',\n",
       "        'uri': 'http://bsky.app/search?q=ndp'}],\n",
       "      'index': {'$type': 'app.bsky.richtext.facet#byteSlice',\n",
       "       'byteEnd': 127,\n",
       "       'byteStart': 124}},\n",
       "     {'$type': 'app.bsky.richtext.facet',\n",
       "      'features': [{'$type': 'app.bsky.richtext.facet#link',\n",
       "        'uri': 'http://bsky.app/search?q=gaza'}],\n",
       "      'index': {'$type': 'app.bsky.richtext.facet#byteSlice',\n",
       "       'byteEnd': 149,\n",
       "       'byteStart': 145}},\n",
       "     {'$type': 'app.bsky.richtext.facet',\n",
       "      'features': [{'$type': 'app.bsky.richtext.facet#link',\n",
       "        'uri': 'http://bsky.app/search?q=jagmeet'}],\n",
       "      'index': {'$type': 'app.bsky.richtext.facet#byteSlice',\n",
       "       'byteEnd': 174,\n",
       "       'byteStart': 167}},\n",
       "     {'$type': 'app.bsky.richtext.facet',\n",
       "      'features': [{'$type': 'app.bsky.richtext.facet#link',\n",
       "        'uri': 'http://bsky.app/search?q=shutdown'}],\n",
       "      'index': {'$type': 'app.bsky.richtext.facet#byteSlice',\n",
       "       'byteEnd': 200,\n",
       "       'byteStart': 192}},\n",
       "     {'$type': 'app.bsky.richtext.facet',\n",
       "      'features': [{'$type': 'app.bsky.richtext.facet#link',\n",
       "        'uri': 'http://bsky.app/search?q=sza'}],\n",
       "      'index': {'$type': 'app.bsky.richtext.facet#byteSlice',\n",
       "       'byteEnd': 221,\n",
       "       'byteStart': 218}},\n",
       "     {'$type': 'app.bsky.richtext.facet',\n",
       "      'features': [{'$type': 'app.bsky.richtext.facet#link',\n",
       "        'uri': 'http://bsky.app/search?q=1,280'}],\n",
       "      'index': {'$type': 'app.bsky.richtext.facet#byteSlice',\n",
       "       'byteEnd': 244,\n",
       "       'byteStart': 239}},\n",
       "     {'$type': 'app.bsky.richtext.facet',\n",
       "      'features': [{'$type': 'app.bsky.richtext.facet#link',\n",
       "        'uri': 'http://bsky.app/search?q=vacances'}],\n",
       "      'index': {'$type': 'app.bsky.richtext.facet#byteSlice',\n",
       "       'byteEnd': 270,\n",
       "       'byteStart': 262}},\n",
       "     {'$type': 'app.bsky.richtext.facet',\n",
       "      'features': [{'$type': 'app.bsky.richtext.facet#link',\n",
       "        'uri': 'http://bsky.app/search?q=fcf'}],\n",
       "      'index': {'$type': 'app.bsky.richtext.facet#byteSlice',\n",
       "       'byteEnd': 291,\n",
       "       'byteStart': 288}}],\n",
       "    'text': \"\\nBluesky's Top 10 Trending Words from the Past 10 Minutes:\\n️⚠️💨3 - ukraine\\n️⚠️💨3 - singh\\n️⚠️💨3 - ndp\\n️⚠️💨2 - gaza\\n️⚠️💨2 - jagmeet\\n️⚠️💨1 - shutdown\\n️⚠️💨1 - sza\\n️⚠️💨1 - 1,280\\n️⚠️💨1 - vacances\\n️⚠️💨1 - fcf\\n(tap/click to see all posts on Bluesky featuring that word!)\\n\\n#йобанарусня 🇺🇦\"},\n",
       "   'embed': {'$type': 'app.bsky.embed.images#view',\n",
       "    'images': [{'thumb': 'https://cdn.bsky.app/img/feed_thumbnail/plain/did:plc:mcb6n67plnrlx4lg35natk2b/bafkreihlwgf6ynx77jd6zqfhj4zdisqu2ginjqi4qb75n2u5euzo5gq4vi@jpeg',\n",
       "      'fullsize': 'https://cdn.bsky.app/img/feed_fullsize/plain/did:plc:mcb6n67plnrlx4lg35natk2b/bafkreihlwgf6ynx77jd6zqfhj4zdisqu2ginjqi4qb75n2u5euzo5gq4vi@jpeg',\n",
       "      'alt': \"Word Cloud; its top words (sorted by weighted frequency, descending):  ukraine, singh, ndp, gaza, jagmeet, shutdown, sza, 1,280, vacances, fcf, t+s, snowing, lords, fêtes, cpc, bipartisan, solstice, mandelson, fiasco, wrestle, neo-nazi, musks, louisiana, like/love, 27th, yuletide, tenir, speaker, shutdowns, prochaine, pro-life, pouvez, pediatric, oversized, musk/trump, musk, mump, meddling, holidays, govern, gatland, ajax, @jagmeetsingh.ca, アキラ, zdrowia, wszystkiego, workday, travelers, sliced, shambles, self-love, roundup, risoto, richest, repubs, recipients, recesso, poilievre, paychecks, oligarchy, negotiating, natale, muskrat, musk's, mocked, merry, krypto, ketamine, juvi, implication, gop's, goldman, germany's, fireball, esquerdomacho, elect, ehkä, doses, cutting-edge, clarifying, bonnes, back-to-back, aston, année, amaia, afd, achtste, @kollinbenson.bsky.social, 行い, zin, yule, www.theguardian.com/us-news/2024, www.npr.org/sections/sho, weißt, watt, warms, unreliable, unified, unelected, ubisoft, tsa, trifecta, transsexual, toby, tesla, suppress, stud, stockings, spokesperson, sow, snowy, shenhe, selfies, sandoval, samantha, roy, risking, retailers, restful, remembrance, president-elect, peinado, panetone, open.substack.com/pub/snyder/p, neo-nazis, natasha, milagro, mehrere, mavuika, magician, mackenzie, m'n, lng, limpando, last-minute, knapp, janvier, jahres, hu, https.//www.profitablecpmrate.com/ruhbtywg?key=27b85875b33a14c1a4b74045d15223cf, holmat, heist, hassan, général, gunn's, grandchildren, governed, fri, fraser, folds, finales, filtering, feo, far-right, fani, exec, evangelicals, endorsing, elon, donors, discipline, dickens, definitions, debt, deben, coupe, commons, chover, chilli, ceiling, cancer, cancellation, bloc, blm, blackmail, baum, americas, ai-driven, adulting, aaron, @aaron.bsky.team, 6/10, 28th, $250, 更かし, какие, είμαι, www.threads.net, www.nytimes.com/2024/12/20/w, wszystkich, wolfgang, wilderness, whispering, weihnachtszeit, weihnachten, walgreens, wagen, vp, visibly, viera\"},\n",
       "     {'thumb': 'https://cdn.bsky.app/img/feed_thumbnail/plain/did:plc:mcb6n67plnrlx4lg35natk2b/bafkreidypxxsslztcxje7jmxk6r36jxdfuc7mlez267wgqulqwgv3e2aqi@jpeg',\n",
       "      'fullsize': 'https://cdn.bsky.app/img/feed_fullsize/plain/did:plc:mcb6n67plnrlx4lg35natk2b/bafkreidypxxsslztcxje7jmxk6r36jxdfuc7mlez267wgqulqwgv3e2aqi@jpeg',\n",
       "      'alt': 'Hashtag Cloud; its hashtagged words/phrases (sorted by weighted frequency, descending):  fcf, photography, christmas, furry, music, fursuitfriday, gamedev, findom, filmsky, trump, onlyfans, presidentmusk, musicsky, drawing, musk, realnsfw, pokemon, body, 18, writingcommunity, superman, promosky, movies, gaming, nsfwsky, elonmusk, winter, petite, cdnpoli, xxx, resist, poetry, podcast, holidays, cats, videogames, nsfwbluesky, musicchallenge, indiedev, horny, femdom, artadventcalendar, afd, 558, youtube, snow, nudes, marvelrivals, hentai, fpl, brart, boobs, bigtits, xmas, wintersolstice, wildlife, vrchat, spicysky, russia, photo, painting, lastfourwatched, japan, happyholidays, fansly, crypto, collabfcbot, animation, 20daybookchallenge, yule, writing, sex, retro, pngtuber, paranormal, myart, merrychristmas, maga, macron, london, lingerie, letterboxdfriday, indiegame, history, haiku, goonsky, games, feet, fatcockfriday, edusky, dogs, cybersecurity, cute, comics, blender, witch, vtuberuprising, vptrump, vinyl, twitchstreamer, tiktok, tattoos, tarot, stream, sonicthehedgehog, sonic3, signalboost, scifi, science, procreate, otd, minecraft, lgbtq, lewd, kindle, infinitynikki, indiegames, gop, goddess, game, friday, footfetish, fineart, fiction, femsky, femboyfriday, facts, draw, dc, christmasdrinksinasongormovie, canada, bwc, blackandwhite, artmoots, artificialintelligence, arte, amazon, こと, zenlesszonezero, warhammercommunity, us, twink, toes, teen, stockmarket, sonicoc, sonic, russiaisaterroriststate, retrogaming, purity, privacy, poem, piercednipple, photographer, pawg, pagan, nudesky, nintendo, new, nba, naturephotography, movie, monochrome, model, medsky, marvel, libros, hung, holiday, helpsky, google, goodmorning, godot, giftideas, fursuit, films, doctorwho, digital, cuteart, cartoon, btc, bsnm, blonde, bird, bg3, artvsartist2024, artvsartist, artsky, anthro, alternative, alt, abstract, タイムセールセール, zzzero, witches, whatgymleaderareyou, whamageddon, warhammer40k, waifu, vpsupport'},\n",
       "     {'thumb': 'https://cdn.bsky.app/img/feed_thumbnail/plain/did:plc:mcb6n67plnrlx4lg35natk2b/bafkreic4dkzckfi2nvstm2gdseb65j4c43coxe627smtcfu2bpvvwakzpy@jpeg',\n",
       "      'fullsize': 'https://cdn.bsky.app/img/feed_fullsize/plain/did:plc:mcb6n67plnrlx4lg35natk2b/bafkreic4dkzckfi2nvstm2gdseb65j4c43coxe627smtcfu2bpvvwakzpy@jpeg',\n",
       "      'alt': 'Emoji Cloud; its emojis (sorted by weighted frequency, descending):  🤶, 🪡, 🔭, 👉🏽, 🎅🏼, 🎄, ☃️, 🧑\\u200d🎄, 🥂, 🤦🏾\\u200d♂️, 🤞🏽, 🚮, 🙉, 📜, 🐲, 🎅🏻, 🎅, 🎁, 🧬, 🧑\\u200d🎤, 🦌, 🤷🏻, 🤶🏻, 🚿, 🚲, 🙋\\u200d♂️, 🗺️, 🕺🏻, 🕎, 🔬, 🔆, 💲, 💁\\u200d♂️, 💁\\u200d♀️, 👎, 👃, 🎺, 🎬, 🎥, 🎓, 🍹, 🌴, 🌨️, ❄️, ⚾, ↪️, ™, 4️⃣, \\U0001faf0, 🫐, \\U0001face, 🪶, 🪢, 🪖, 🪐, \\U0001fa87, 🩺, 🩹, 🩰, 🧵, 🧲, 🧚, 🧑\\u200d🔬, 🧁, 🧀, 🦸\\u200d♀️, 🦷, 🦶, 🦭, 🦞, 🥵, 🥴, 🥳, 🥤, 🥚, 🥒, 🤷🏽\\u200d♀️, 🤷🏼\\u200d♂️, 🤷🏻\\u200d♀️, 🤷\\u200d♂️, 🤫, 🤦🏿\\u200d♂️, 🤦🏻\\u200d♂️, 🤟🏼, 🤞🏼, 🤜, 🤛, 🤙, 🛻, 🛷, 🛬, 🛡️, 🛍, 🚧, 🚙, 🚘, 🚗, 🚍, 🙌🏿, 🙈, 🙇🏻\\u200d♀️, 😽, 😶\\u200d🌫️, 😵\\u200d💫, 😬, 😥, 😛, 😏, 😈, 🗿, 🗳️, 🗓️, 🖼, 🖖🏻, 🖌️, 🖋️, 🖊️, 🕞, 🔦, 🔒, 🔍, 🔋, 📽, 📹, 📸, 📰, 📨, 📡, 📗, 📍, 📊, 📉, 📆, 💼, 💯, 💪🏾, 💪🏼, 💩, 💅🏽, 💅🏻, 💅, 💄, 💁🏻\\u200d♀️, 👵, 👯\\u200d♂️, 👯, 👨\\u200d✈️, 👧, 👠, 👟, 👐, 👍🏿, 👍🏽, 👌🏾, 👊🏼, 👉🏻, 👇🏼, 👅, 🐿️, 🐤, 🐘, 🐗, 🐖, 🐆, 🐁, 🏥, 🏞️, 🏝️, 🏖️, 🏅, 🏃\\u200d♂️, 🏁, 🎲, 🎯, 🎮, 🎭, 🎤, 🎟, 🎙️, 🎅🏾, 🎂, 🍼, 🍯, 🍓, 🍉, 🍇, 🌶️, 🌵, 🌲, 🌫️, 🌜, 🌛, 🌚, 🌐, 🌍, 🌌, 🌊, 🇺🇸, 🇸🇪, 🇮🇱'},\n",
       "     {'thumb': 'https://cdn.bsky.app/img/feed_thumbnail/plain/did:plc:mcb6n67plnrlx4lg35natk2b/bafkreigt2hnlo2phvckchmz6kzqt6le74js7y7ajoppxn7hvlvudautwhm@jpeg',\n",
       "      'fullsize': 'https://cdn.bsky.app/img/feed_fullsize/plain/did:plc:mcb6n67plnrlx4lg35natk2b/bafkreigt2hnlo2phvckchmz6kzqt6le74js7y7ajoppxn7hvlvudautwhm@jpeg',\n",
       "      'alt': 'If you need someone to talk to, here is the link to message me (@NickWrightData.ntw.app, creator of @NowBreezing.ntw.app) over the Signal app: https://signal.me/#eu/XNbymWWcjJZxBHdeJWvTbXK86ViP1DYALo68NJYWDR8JQYuZwu5G0ojsYMG9_Qyf'}]},\n",
       "   'replyCount': 0,\n",
       "   'repostCount': 0,\n",
       "   'likeCount': 1,\n",
       "   'quoteCount': 0,\n",
       "   'indexedAt': '2024-12-20T17:00:58.572Z',\n",
       "   'labels': []},\n",
       "  {'uri': 'at://did:plc:6gcs3auytvib2drzeqztbpgd/app.bsky.feed.post/3ldqtxsmxpc2b',\n",
       "   'cid': 'bafyreiaxa5npt2skpqegt6spgpjhyn65reh3vbpmkmzlarpdfuu52sfyke',\n",
       "   'author': {'did': 'did:plc:6gcs3auytvib2drzeqztbpgd',\n",
       "    'handle': 'anatole.co',\n",
       "    'displayName': 'Anatole',\n",
       "    'avatar': 'https://cdn.bsky.app/img/avatar/plain/did:plc:6gcs3auytvib2drzeqztbpgd/bafkreidwxpes35rs7lc2x5ggrpgxqnedq26ymn7mbrptuhhv7bd6mio6uy@jpeg',\n",
       "    'associated': {'chat': {'allowIncoming': 'all'}},\n",
       "    'labels': [{'src': 'did:plc:6gcs3auytvib2drzeqztbpgd',\n",
       "      'uri': 'at://did:plc:6gcs3auytvib2drzeqztbpgd/app.bsky.actor.profile/self',\n",
       "      'cid': 'bafyreiejb73f3yrvmqlww2lgylh3glf5aytzlzg2vwm64pf4pnskragddy',\n",
       "      'val': '!no-unauthenticated',\n",
       "      'cts': '1970-01-01T00:00:00.000Z'}],\n",
       "    'createdAt': '2023-09-01T18:47:10.417Z'},\n",
       "   'record': {'$type': 'app.bsky.feed.post',\n",
       "    'createdAt': '2024-12-20T16:53:13.658Z',\n",
       "    'langs': ['fr'],\n",
       "    'reply': {'parent': {'cid': 'bafyreifvlu4vrqwzetk7ys726ovirgu4s2kehgemxsols7qmqj7k4t3zn4',\n",
       "      'uri': 'at://did:plc:767s2nguoaab4zbobpnrzda4/app.bsky.feed.post/3ldqtusnmis2e'},\n",
       "     'root': {'cid': 'bafyreigu6odrtep3e2mhpnv7nt5a35fuabdlut2v4gpcs7pefr7fovvwp4',\n",
       "      'uri': 'at://did:plc:osx26wkd333ybxpmmtc5dbkz/app.bsky.feed.post/3ldqsl3nngs2q'}},\n",
       "    'text': 'Donc il n’était ni ministre de Trump (ce qu’il n’est toujours pas aujourd’hui d’ailleurs) ni soutiens de l’AFD quand il a été reçu par Macron, merci pour l’éclaircissement'},\n",
       "   'replyCount': 1,\n",
       "   'repostCount': 0,\n",
       "   'likeCount': 0,\n",
       "   'quoteCount': 0,\n",
       "   'indexedAt': '2024-12-20T16:53:14.156Z',\n",
       "   'labels': []},\n",
       "  {'uri': 'at://did:plc:mcb6n67plnrlx4lg35natk2b/app.bsky.feed.post/3ldqttr7g6d2t',\n",
       "   'cid': 'bafyreigoraceh3qnnntpbcxucqxdc64sl32mb2ulsorwqmcoy5ngtb4ekm',\n",
       "   'author': {'did': 'did:plc:mcb6n67plnrlx4lg35natk2b',\n",
       "    'handle': 'nowbreezing.ntw.app',\n",
       "    'displayName': '☁️Now🤖Breezing💨 [UNOFFICIAL]',\n",
       "    'avatar': 'https://cdn.bsky.app/img/avatar/plain/did:plc:mcb6n67plnrlx4lg35natk2b/bafkreiaagvzfzc5rcx6dhdcquu7kaq5lcjhdmubvpmlest4kwxhjf6336m@jpeg',\n",
       "    'associated': {'chat': {'allowIncoming': 'none'}},\n",
       "    'labels': [],\n",
       "    'createdAt': '2023-05-23T20:37:36.553Z'},\n",
       "   'record': {'$type': 'app.bsky.feed.post',\n",
       "    'createdAt': '2024-12-20T16:50:59.577120+00:00',\n",
       "    'embed': {'$type': 'app.bsky.embed.images',\n",
       "     'images': [{'$type': 'app.bsky.embed.images#image',\n",
       "       'alt': \"Word Cloud; its top words (sorted by weighted frequency, descending):  ukraine, gaza, sza, ndp, singh, shutdown, neo-nazi, fcf, jagmeet, 1,280, vacances, solstice, pro-life, www.npr.org/sections/sho, unelected, lords, apartheid, pediatric, mufasa, meuser, jeffries, hakeem, constituents, www.cbc.ca/news/politic, wszystkiego, tsa, soros, snowing, qrt, peinado, non-confidence, musk, mump, martyr, louisiana, esquerdomacho, celebi, cadeau, zelle, urach, richest, repubs, prise, open.substack.com/pub/snyder/p, merry, luthor, holidays, govern, germany's, finales, downgraded, civics, ceiling, achtste, vp, voyager, treasurer, sleigh, sided, scammed, sandoval, resumen, plötzlich, perp, neonazi, nazi's, lindner, ketamine, juez, imprisoned, illegally, hâte, googly, giddy, festivities, elon, disruptive, directors, dickens, demonic, cr, cpc, contractors, caucus, businessman, bipartisan, andressa, zdrowia, yule, www.threads.net, vivek, vacaciones, trudeau, traitorous, traders, toby, thuis, tesla's, taliban, takeaways, t+s, surplus, supper, superman, sufficiently, speaker, sitzt, sinne, sinema, shuts, shutdowns, reçu, recesso, recente, r's, quebec, president-elect, presidency, presenta, pneumonia, pitcher, pier, picket, pelicot, paljon, ornament, onderwijs, oats, nutrition, newrepublic.com/article/1895, navigation, mère, musks, muskrat, musk/trump, musk's, muddy, moyen, mineral, merger, mangione, ludicrous, lows, looms, llena, llaveros, l'équipe, kyiv, krypto, kathy, karriere, januari, interfere, insulin, immigrant, government, gooning, gatekeeping, friday, fostering, fiestas, far-right, endorsing, elmo, déclaré, defy, deeds, debt, collateral, collaborating, cfpb, cbc, carrey, carnage, cancer, branches, bonnes, batalla, ants, angenehm, airbus, african, afd, acab, 6/10, 26th, 2031, 1940, 헤헤, 冬至, τι, στα, εγώ, zoning, youtu.be/scscvcniv2i, year-end, www.cbc.ca/news/canada, wishful, wetter, well-known\",\n",
       "       'image': {'$type': 'blob',\n",
       "        'ref': {'$link': 'bafkreihqm6al4jpztnegp2uwoxz5tmmeb2pmke7tjyunequfgyp5r64ekm'},\n",
       "        'mimeType': 'image/jpeg',\n",
       "        'size': 325719}},\n",
       "      {'$type': 'app.bsky.embed.images#image',\n",
       "       'alt': 'Hashtag Cloud; its hashtagged words/phrases (sorted by weighted frequency, descending):  fcf, nsfw, photography, booksky, christmas, filmsky, nature, presidentmusk, superman, music, gamedev, nude, cdnpoli, trump, musicsky, movies, body, fursuitfriday, artadventcalendar, winter, painting, onlyfans, birds, writingcommunity, snow, realnsfw, musk, horror, エロ, エッチ, trans, sexy, poetry, nsfwart, dogs, 雰囲気好きな人と繋がりたい, 裏垢男子と繋がりたい, 裏垢女子, 裏垢, 裏アカ男子と繋がりたい, 裏アカ男子さんと繋がりたい, 裏アカ女子, オナニー, エロ垢, ukraine, travel, sonicthehedgehog, sonicmovie3, pussy, brart, bitcoin, podcast, nsfwsky, nsfwbluesky, musicchallenge, gposers, fatcockfriday, cum, boobs, artshare, 558, 18, photo, nudes, nfl, milf, indiegame, hot, gaza, fantasy, cybersecurity, crypto, blonde, 섹블, xxx, virtualphotography, vinyl, uncut, sonic, rule34, retrogaming, myart, macron, lingerie, lgbtq, lastfourwatched, holidays, helluvaboss, fursuit, elonmusk, comic, cock, blackandwhite, aiartcommunity, ad, witchsky, vintage, tavqotd, startrek, sonic3, shutdown, shadowthehedgehog, running, portrait, naked, mlp, metal, memes, livestream, landscapephotography, gop, free, flowers, flashbackfriday, fiction, ffxivnsfw, ff14, fansly, erotic, coffee, cartoon, canada, amwriting, albumchallenge, арт, vptrump, visualnovel, trading, teen, tech, tattoos, streaming, stockmarket, sports, spicysky, selfie, scifi, science, putin, pokémon, pokemontcg, pngtuber, otd, nudeart, netflix, naturephotography, mystery, muscle, metalsky, mentalhealth, marvel, losangeles, live, lewd, letterboxdfriday, kink, italy, indiegames, indiegamedev, humanrights, humanatm, games, game, funny, freepalestine, fortnite, forex, fineart, films, film, ffxivart, fafo, eagles, dragonage, dandadan, crimefiction, comedy, collabfcbot, collab, christmasdrinksinasongormovie, btc, booty, bookrecommendations, bookishqotd, blackandwhitephotography, birdphotography, bigtits, biden, bbw, amazon, academicsky, 292, 20daybookchallenge, 原神, últimahora, zenlesszonezero, yoga, yaoi, worldofwarcraft, wolf',\n",
       "       'image': {'$type': 'blob',\n",
       "        'ref': {'$link': 'bafkreiauq3sjghwnyyb27e7xn7ikxv2lt2krkqs4oewadvxg2jhebvin4e'},\n",
       "        'mimeType': 'image/jpeg',\n",
       "        'size': 389781}},\n",
       "      {'$type': 'app.bsky.embed.images#image',\n",
       "       'alt': 'Emoji Cloud; its emojis (sorted by weighted frequency, descending):  ☃️, 🪡, 🧑\\u200d🎄, 🤶, 👊🏽, 🎅, 🎄, 🧤, 🤏🏼, 📋, 👇🏽, 🐲, 🏔️, 🎅🏼, 🎁, ✌🏾, ⛄, ⚰️, 🪞, 🧨, 🧚\\u200d♀️, 🧋, 🤷🏾\\u200d♂️, 🤷🏼, 🤶🏻, 🤦🏾\\u200d♀️, 🙉, 🖖🏻, 🖕🏾, 🔙, 🔌, 💶, 💱, 👊🏼, 👇🏿, 🐽, 🐂, 🏒, 🏎️, 🏃\\u200d♀️, 🍟, 🇳🇴, 🇳🇱, ❄️, ♣️, ☝🏽, ☎️, ©, \\U0001fae3, \\U0001fabc, \\U0001fabb, 🪶, 🪴, 🪧, 🪙, 🧹, 🧳, 🧪, 🧣, 🧙\\u200d♀️, 🧘, 🧑🏾\\u200d🎄, 🧑\\u200d🎤, 🧁, 🦸\\u200d♂️, 🦶, 🦫, 🦩, 🦔, 🦎, 🦍, 🦌, 🥵, 🥗, 🥂, 🤺, 🤷🏼\\u200d♀️, 🤷🏻, 🤷\\u200d♂️, 🤷\\u200d♀️, 🤶🏽, 🤳, 🤪, 🤦🏿\\u200d♂️, 🤦🏽\\u200d♀️, 🤦🏼\\u200d♀️, 🤦\\u200d♂️, 🤦\\u200d♀️, 🤦, 🤘🏼, 🤓, 🤒, 🤑, 🤌🏾, 🛍️, 🛋️, 🚲, 🚮, 🚫, 🚛, 🚙, 🚑, 🙌🏿, 🙌🏾, 🙌🏽, 🙌🏼, 🙌🏻, 🙋🏽\\u200d♂️, 🙋🏻, 🙊, 🙈, 🙀, 😜, 😛, 😕, 😑, 🗡, 🗓️, 🗓, 🖼️, 🖐️, 🕺🏼, 🕺, 🕞, 🕊️, 🔼, 🔬, 🔐, 🔍, 🔁, 📸, 📲, 📖, 📉, 📈, 📅, 💼, 💸, 💪🏻, 💡, 💅, 💄, 💃, 👢, 👓, 👍🏽, 👌🏿, 👋🏿, 👉🏽, 👉🏼, 👉🏻, 👈🏽, 👈🏼, 👇🏾, 👃, 🐼, 🐢, 🐘, 🐏, 🏺, 🏷️, 🏛️, 🏙️, 🏕️, 🏃\\u200d♂️, 🏃, 🎾, 🎺, 🎲, 🎯, 🎬, 🎪, 🎧, 🎥, 🎤, 🎖️, 🎈, 🎅🏻, 🍻, 🍹, 🍷, 🍫, 🍦, 🍤, 🍇, 🍆, 🌵, 🌲, 🌬, 🌍, 🌌, 🌋, 🇵🇱, 🇮🇪, 🇩🇰, 🇨🇿, 🅰️, ⬇️, ❣️, ❄',\n",
       "       'image': {'$type': 'blob',\n",
       "        'ref': {'$link': 'bafkreidzdcequm33fu3cbpbp2ahye7hwmdkiw2uqrfp5px4wemsphr76n4'},\n",
       "        'mimeType': 'image/jpeg',\n",
       "        'size': 785172}},\n",
       "      {'$type': 'app.bsky.embed.images#image',\n",
       "       'alt': 'If you need someone to talk to, here is the link to message me (@NickWrightData.ntw.app, creator of @NowBreezing.ntw.app) over the Signal app: https://signal.me/#eu/XNbymWWcjJZxBHdeJWvTbXK86ViP1DYALo68NJYWDR8JQYuZwu5G0ojsYMG9_Qyf',\n",
       "       'image': {'$type': 'blob',\n",
       "        'ref': {'$link': 'bafkreigt2hnlo2phvckchmz6kzqt6le74js7y7ajoppxn7hvlvudautwhm'},\n",
       "        'mimeType': 'image/png',\n",
       "        'size': 63734}}]},\n",
       "    'facets': [{'$type': 'app.bsky.richtext.facet',\n",
       "      'features': [{'$type': 'app.bsky.richtext.facet#link',\n",
       "        'uri': 'http://bsky.app/search?q=ukraine'}],\n",
       "      'index': {'$type': 'app.bsky.richtext.facet#byteSlice',\n",
       "       'byteEnd': 83,\n",
       "       'byteStart': 76}},\n",
       "     {'$type': 'app.bsky.richtext.facet',\n",
       "      'features': [{'$type': 'app.bsky.richtext.facet#link',\n",
       "        'uri': 'http://bsky.app/search?q=gaza'}],\n",
       "      'index': {'$type': 'app.bsky.richtext.facet#byteSlice',\n",
       "       'byteEnd': 105,\n",
       "       'byteStart': 101}},\n",
       "     {'$type': 'app.bsky.richtext.facet',\n",
       "      'features': [{'$type': 'app.bsky.richtext.facet#link',\n",
       "        'uri': 'http://bsky.app/search?q=sza'}],\n",
       "      'index': {'$type': 'app.bsky.richtext.facet#byteSlice',\n",
       "       'byteEnd': 126,\n",
       "       'byteStart': 123}},\n",
       "     {'$type': 'app.bsky.richtext.facet',\n",
       "      'features': [{'$type': 'app.bsky.richtext.facet#link',\n",
       "        'uri': 'http://bsky.app/search?q=ndp'}],\n",
       "      'index': {'$type': 'app.bsky.richtext.facet#byteSlice',\n",
       "       'byteEnd': 147,\n",
       "       'byteStart': 144}},\n",
       "     {'$type': 'app.bsky.richtext.facet',\n",
       "      'features': [{'$type': 'app.bsky.richtext.facet#link',\n",
       "        'uri': 'http://bsky.app/search?q=singh'}],\n",
       "      'index': {'$type': 'app.bsky.richtext.facet#byteSlice',\n",
       "       'byteEnd': 170,\n",
       "       'byteStart': 165}},\n",
       "     {'$type': 'app.bsky.richtext.facet',\n",
       "      'features': [{'$type': 'app.bsky.richtext.facet#link',\n",
       "        'uri': 'http://bsky.app/search?q=shutdown'}],\n",
       "      'index': {'$type': 'app.bsky.richtext.facet#byteSlice',\n",
       "       'byteEnd': 196,\n",
       "       'byteStart': 188}},\n",
       "     {'$type': 'app.bsky.richtext.facet',\n",
       "      'features': [{'$type': 'app.bsky.richtext.facet#link',\n",
       "        'uri': 'http://bsky.app/search?q=neo-nazi'}],\n",
       "      'index': {'$type': 'app.bsky.richtext.facet#byteSlice',\n",
       "       'byteEnd': 222,\n",
       "       'byteStart': 214}},\n",
       "     {'$type': 'app.bsky.richtext.facet',\n",
       "      'features': [{'$type': 'app.bsky.richtext.facet#link',\n",
       "        'uri': 'http://bsky.app/search?q=fcf'}],\n",
       "      'index': {'$type': 'app.bsky.richtext.facet#byteSlice',\n",
       "       'byteEnd': 243,\n",
       "       'byteStart': 240}},\n",
       "     {'$type': 'app.bsky.richtext.facet',\n",
       "      'features': [{'$type': 'app.bsky.richtext.facet#link',\n",
       "        'uri': 'http://bsky.app/search?q=jagmeet'}],\n",
       "      'index': {'$type': 'app.bsky.richtext.facet#byteSlice',\n",
       "       'byteEnd': 268,\n",
       "       'byteStart': 261}},\n",
       "     {'$type': 'app.bsky.richtext.facet',\n",
       "      'features': [{'$type': 'app.bsky.richtext.facet#link',\n",
       "        'uri': 'http://bsky.app/search?q=1,280'}],\n",
       "      'index': {'$type': 'app.bsky.richtext.facet#byteSlice',\n",
       "       'byteEnd': 291,\n",
       "       'byteStart': 286}}],\n",
       "    'text': \"\\nBluesky's Top 10 Trending Words from the Past 10 Minutes:\\n️⚠️💨4 - ukraine\\n️⚠️💨2 - gaza\\n️⚠️💨2 - sza\\n️⚠️💨2 - ndp\\n️⚠️💨2 - singh\\n️⚠️💨1 - shutdown\\n️⚠️💨1 - neo-nazi\\n️⚠️💨1 - fcf\\n️⚠️💨1 - jagmeet\\n️⚠️💨1 - 1,280\\n(tap/click to see all posts on Bluesky featuring that word!)\\n\\n#FreePalestine 🇵🇸\"},\n",
       "   'embed': {'$type': 'app.bsky.embed.images#view',\n",
       "    'images': [{'thumb': 'https://cdn.bsky.app/img/feed_thumbnail/plain/did:plc:mcb6n67plnrlx4lg35natk2b/bafkreihqm6al4jpztnegp2uwoxz5tmmeb2pmke7tjyunequfgyp5r64ekm@jpeg',\n",
       "      'fullsize': 'https://cdn.bsky.app/img/feed_fullsize/plain/did:plc:mcb6n67plnrlx4lg35natk2b/bafkreihqm6al4jpztnegp2uwoxz5tmmeb2pmke7tjyunequfgyp5r64ekm@jpeg',\n",
       "      'alt': \"Word Cloud; its top words (sorted by weighted frequency, descending):  ukraine, gaza, sza, ndp, singh, shutdown, neo-nazi, fcf, jagmeet, 1,280, vacances, solstice, pro-life, www.npr.org/sections/sho, unelected, lords, apartheid, pediatric, mufasa, meuser, jeffries, hakeem, constituents, www.cbc.ca/news/politic, wszystkiego, tsa, soros, snowing, qrt, peinado, non-confidence, musk, mump, martyr, louisiana, esquerdomacho, celebi, cadeau, zelle, urach, richest, repubs, prise, open.substack.com/pub/snyder/p, merry, luthor, holidays, govern, germany's, finales, downgraded, civics, ceiling, achtste, vp, voyager, treasurer, sleigh, sided, scammed, sandoval, resumen, plötzlich, perp, neonazi, nazi's, lindner, ketamine, juez, imprisoned, illegally, hâte, googly, giddy, festivities, elon, disruptive, directors, dickens, demonic, cr, cpc, contractors, caucus, businessman, bipartisan, andressa, zdrowia, yule, www.threads.net, vivek, vacaciones, trudeau, traitorous, traders, toby, thuis, tesla's, taliban, takeaways, t+s, surplus, supper, superman, sufficiently, speaker, sitzt, sinne, sinema, shuts, shutdowns, reçu, recesso, recente, r's, quebec, president-elect, presidency, presenta, pneumonia, pitcher, pier, picket, pelicot, paljon, ornament, onderwijs, oats, nutrition, newrepublic.com/article/1895, navigation, mère, musks, muskrat, musk/trump, musk's, muddy, moyen, mineral, merger, mangione, ludicrous, lows, looms, llena, llaveros, l'équipe, kyiv, krypto, kathy, karriere, januari, interfere, insulin, immigrant, government, gooning, gatekeeping, friday, fostering, fiestas, far-right, endorsing, elmo, déclaré, defy, deeds, debt, collateral, collaborating, cfpb, cbc, carrey, carnage, cancer, branches, bonnes, batalla, ants, angenehm, airbus, african, afd, acab, 6/10, 26th, 2031, 1940, 헤헤, 冬至, τι, στα, εγώ, zoning, youtu.be/scscvcniv2i, year-end, www.cbc.ca/news/canada, wishful, wetter, well-known\"},\n",
       "     {'thumb': 'https://cdn.bsky.app/img/feed_thumbnail/plain/did:plc:mcb6n67plnrlx4lg35natk2b/bafkreiauq3sjghwnyyb27e7xn7ikxv2lt2krkqs4oewadvxg2jhebvin4e@jpeg',\n",
       "      'fullsize': 'https://cdn.bsky.app/img/feed_fullsize/plain/did:plc:mcb6n67plnrlx4lg35natk2b/bafkreiauq3sjghwnyyb27e7xn7ikxv2lt2krkqs4oewadvxg2jhebvin4e@jpeg',\n",
       "      'alt': 'Hashtag Cloud; its hashtagged words/phrases (sorted by weighted frequency, descending):  fcf, nsfw, photography, booksky, christmas, filmsky, nature, presidentmusk, superman, music, gamedev, nude, cdnpoli, trump, musicsky, movies, body, fursuitfriday, artadventcalendar, winter, painting, onlyfans, birds, writingcommunity, snow, realnsfw, musk, horror, エロ, エッチ, trans, sexy, poetry, nsfwart, dogs, 雰囲気好きな人と繋がりたい, 裏垢男子と繋がりたい, 裏垢女子, 裏垢, 裏アカ男子と繋がりたい, 裏アカ男子さんと繋がりたい, 裏アカ女子, オナニー, エロ垢, ukraine, travel, sonicthehedgehog, sonicmovie3, pussy, brart, bitcoin, podcast, nsfwsky, nsfwbluesky, musicchallenge, gposers, fatcockfriday, cum, boobs, artshare, 558, 18, photo, nudes, nfl, milf, indiegame, hot, gaza, fantasy, cybersecurity, crypto, blonde, 섹블, xxx, virtualphotography, vinyl, uncut, sonic, rule34, retrogaming, myart, macron, lingerie, lgbtq, lastfourwatched, holidays, helluvaboss, fursuit, elonmusk, comic, cock, blackandwhite, aiartcommunity, ad, witchsky, vintage, tavqotd, startrek, sonic3, shutdown, shadowthehedgehog, running, portrait, naked, mlp, metal, memes, livestream, landscapephotography, gop, free, flowers, flashbackfriday, fiction, ffxivnsfw, ff14, fansly, erotic, coffee, cartoon, canada, amwriting, albumchallenge, арт, vptrump, visualnovel, trading, teen, tech, tattoos, streaming, stockmarket, sports, spicysky, selfie, scifi, science, putin, pokémon, pokemontcg, pngtuber, otd, nudeart, netflix, naturephotography, mystery, muscle, metalsky, mentalhealth, marvel, losangeles, live, lewd, letterboxdfriday, kink, italy, indiegames, indiegamedev, humanrights, humanatm, games, game, funny, freepalestine, fortnite, forex, fineart, films, film, ffxivart, fafo, eagles, dragonage, dandadan, crimefiction, comedy, collabfcbot, collab, christmasdrinksinasongormovie, btc, booty, bookrecommendations, bookishqotd, blackandwhitephotography, birdphotography, bigtits, biden, bbw, amazon, academicsky, 292, 20daybookchallenge, 原神, últimahora, zenlesszonezero, yoga, yaoi, worldofwarcraft, wolf'},\n",
       "     {'thumb': 'https://cdn.bsky.app/img/feed_thumbnail/plain/did:plc:mcb6n67plnrlx4lg35natk2b/bafkreidzdcequm33fu3cbpbp2ahye7hwmdkiw2uqrfp5px4wemsphr76n4@jpeg',\n",
       "      'fullsize': 'https://cdn.bsky.app/img/feed_fullsize/plain/did:plc:mcb6n67plnrlx4lg35natk2b/bafkreidzdcequm33fu3cbpbp2ahye7hwmdkiw2uqrfp5px4wemsphr76n4@jpeg',\n",
       "      'alt': 'Emoji Cloud; its emojis (sorted by weighted frequency, descending):  ☃️, 🪡, 🧑\\u200d🎄, 🤶, 👊🏽, 🎅, 🎄, 🧤, 🤏🏼, 📋, 👇🏽, 🐲, 🏔️, 🎅🏼, 🎁, ✌🏾, ⛄, ⚰️, 🪞, 🧨, 🧚\\u200d♀️, 🧋, 🤷🏾\\u200d♂️, 🤷🏼, 🤶🏻, 🤦🏾\\u200d♀️, 🙉, 🖖🏻, 🖕🏾, 🔙, 🔌, 💶, 💱, 👊🏼, 👇🏿, 🐽, 🐂, 🏒, 🏎️, 🏃\\u200d♀️, 🍟, 🇳🇴, 🇳🇱, ❄️, ♣️, ☝🏽, ☎️, ©, \\U0001fae3, \\U0001fabc, \\U0001fabb, 🪶, 🪴, 🪧, 🪙, 🧹, 🧳, 🧪, 🧣, 🧙\\u200d♀️, 🧘, 🧑🏾\\u200d🎄, 🧑\\u200d🎤, 🧁, 🦸\\u200d♂️, 🦶, 🦫, 🦩, 🦔, 🦎, 🦍, 🦌, 🥵, 🥗, 🥂, 🤺, 🤷🏼\\u200d♀️, 🤷🏻, 🤷\\u200d♂️, 🤷\\u200d♀️, 🤶🏽, 🤳, 🤪, 🤦🏿\\u200d♂️, 🤦🏽\\u200d♀️, 🤦🏼\\u200d♀️, 🤦\\u200d♂️, 🤦\\u200d♀️, 🤦, 🤘🏼, 🤓, 🤒, 🤑, 🤌🏾, 🛍️, 🛋️, 🚲, 🚮, 🚫, 🚛, 🚙, 🚑, 🙌🏿, 🙌🏾, 🙌🏽, 🙌🏼, 🙌🏻, 🙋🏽\\u200d♂️, 🙋🏻, 🙊, 🙈, 🙀, 😜, 😛, 😕, 😑, 🗡, 🗓️, 🗓, 🖼️, 🖐️, 🕺🏼, 🕺, 🕞, 🕊️, 🔼, 🔬, 🔐, 🔍, 🔁, 📸, 📲, 📖, 📉, 📈, 📅, 💼, 💸, 💪🏻, 💡, 💅, 💄, 💃, 👢, 👓, 👍🏽, 👌🏿, 👋🏿, 👉🏽, 👉🏼, 👉🏻, 👈🏽, 👈🏼, 👇🏾, 👃, 🐼, 🐢, 🐘, 🐏, 🏺, 🏷️, 🏛️, 🏙️, 🏕️, 🏃\\u200d♂️, 🏃, 🎾, 🎺, 🎲, 🎯, 🎬, 🎪, 🎧, 🎥, 🎤, 🎖️, 🎈, 🎅🏻, 🍻, 🍹, 🍷, 🍫, 🍦, 🍤, 🍇, 🍆, 🌵, 🌲, 🌬, 🌍, 🌌, 🌋, 🇵🇱, 🇮🇪, 🇩🇰, 🇨🇿, 🅰️, ⬇️, ❣️, ❄'},\n",
       "     {'thumb': 'https://cdn.bsky.app/img/feed_thumbnail/plain/did:plc:mcb6n67plnrlx4lg35natk2b/bafkreigt2hnlo2phvckchmz6kzqt6le74js7y7ajoppxn7hvlvudautwhm@jpeg',\n",
       "      'fullsize': 'https://cdn.bsky.app/img/feed_fullsize/plain/did:plc:mcb6n67plnrlx4lg35natk2b/bafkreigt2hnlo2phvckchmz6kzqt6le74js7y7ajoppxn7hvlvudautwhm@jpeg',\n",
       "      'alt': 'If you need someone to talk to, here is the link to message me (@NickWrightData.ntw.app, creator of @NowBreezing.ntw.app) over the Signal app: https://signal.me/#eu/XNbymWWcjJZxBHdeJWvTbXK86ViP1DYALo68NJYWDR8JQYuZwu5G0ojsYMG9_Qyf'}]},\n",
       "   'replyCount': 0,\n",
       "   'repostCount': 0,\n",
       "   'likeCount': 1,\n",
       "   'quoteCount': 0,\n",
       "   'indexedAt': '2024-12-20T16:50:58.659Z',\n",
       "   'labels': []},\n",
       "  {'uri': 'at://did:plc:6gcs3auytvib2drzeqztbpgd/app.bsky.feed.post/3ldqtanhqjs2b',\n",
       "   'cid': 'bafyreidi7cdslnhyojwuomn42iwrckgqewxxk3uacudqattq7m7rqyxmiq',\n",
       "   'author': {'did': 'did:plc:6gcs3auytvib2drzeqztbpgd',\n",
       "    'handle': 'anatole.co',\n",
       "    'displayName': 'Anatole',\n",
       "    'avatar': 'https://cdn.bsky.app/img/avatar/plain/did:plc:6gcs3auytvib2drzeqztbpgd/bafkreidwxpes35rs7lc2x5ggrpgxqnedq26ymn7mbrptuhhv7bd6mio6uy@jpeg',\n",
       "    'associated': {'chat': {'allowIncoming': 'all'}},\n",
       "    'labels': [{'src': 'did:plc:6gcs3auytvib2drzeqztbpgd',\n",
       "      'uri': 'at://did:plc:6gcs3auytvib2drzeqztbpgd/app.bsky.actor.profile/self',\n",
       "      'cid': 'bafyreiejb73f3yrvmqlww2lgylh3glf5aytzlzg2vwm64pf4pnskragddy',\n",
       "      'val': '!no-unauthenticated',\n",
       "      'cts': '1970-01-01T00:00:00.000Z'}],\n",
       "    'createdAt': '2023-09-01T18:47:10.417Z'},\n",
       "   'record': {'$type': 'app.bsky.feed.post',\n",
       "    'createdAt': '2024-12-20T16:40:16.491Z',\n",
       "    'langs': ['fr'],\n",
       "    'reply': {'parent': {'cid': 'bafyreigu6odrtep3e2mhpnv7nt5a35fuabdlut2v4gpcs7pefr7fovvwp4',\n",
       "      'uri': 'at://did:plc:osx26wkd333ybxpmmtc5dbkz/app.bsky.feed.post/3ldqsl3nngs2q'},\n",
       "     'root': {'cid': 'bafyreigu6odrtep3e2mhpnv7nt5a35fuabdlut2v4gpcs7pefr7fovvwp4',\n",
       "      'uri': 'at://did:plc:osx26wkd333ybxpmmtc5dbkz/app.bsky.feed.post/3ldqsl3nngs2q'}},\n",
       "    'text': 'Il était ministre de Trump et avait déclaré son soutien à l’AFD quand Macron l’a reçu?'},\n",
       "   'replyCount': 2,\n",
       "   'repostCount': 0,\n",
       "   'likeCount': 1,\n",
       "   'quoteCount': 0,\n",
       "   'indexedAt': '2024-12-20T16:40:17.054Z',\n",
       "   'labels': []},\n",
       "  {'uri': 'at://did:plc:k647x4n6h3jm347u3t5cm6ki/app.bsky.feed.post/3ldqt3uyvie2q',\n",
       "   'cid': 'bafyreia3zpqmy7fn6db7m564bothbd4agizb35g3aectys3hrzgutlkcli',\n",
       "   'author': {'did': 'did:plc:k647x4n6h3jm347u3t5cm6ki',\n",
       "    'handle': 'phill.hallambaker.com',\n",
       "    'displayName': 'Phillip Hallam-Baker',\n",
       "    'avatar': 'https://cdn.bsky.app/img/avatar/plain/did:plc:k647x4n6h3jm347u3t5cm6ki/bafkreihrtgnl6lyqxvsbly5fhwvxh2yjlf6d6hcq4oisezgjvznmhvp65e@jpeg',\n",
       "    'associated': {'chat': {'allowIncoming': 'all'}},\n",
       "    'labels': [],\n",
       "    'createdAt': '2023-07-28T17:06:32.862Z'},\n",
       "   'record': {'$type': 'app.bsky.feed.post',\n",
       "    'createdAt': '2024-12-20T16:37:36.516Z',\n",
       "    'langs': ['en'],\n",
       "    'reply': {'parent': {'cid': 'bafyreihlzzve2h5coycf5cbkubjhzass66lzwgyc4d3gtgpwppk2rsm4ee',\n",
       "      'uri': 'at://did:plc:k647x4n6h3jm347u3t5cm6ki/app.bsky.feed.post/3ldqt3uyvid2q'},\n",
       "     'root': {'cid': 'bafyreifjoh62z7yv2oo5mexa5ypumq6ul5dnh7xxj6jhqhlmxqyoj2sqqu',\n",
       "      'uri': 'at://did:plc:sey7sepxyhnke3h5aa6ttbon/app.bsky.feed.post/3ldqs42esc22b'}},\n",
       "    'text': \"Assad's defeat in Syria has shown that Putin is weak. Macron is telling Trump that Zelensky is strong.\\n\\nUkraine has already taken out half the barges defending the Kerch bridge. If that was to fall in the next few weeks, it would be transformational.\"},\n",
       "   'replyCount': 1,\n",
       "   'repostCount': 0,\n",
       "   'likeCount': 3,\n",
       "   'quoteCount': 0,\n",
       "   'indexedAt': '2024-12-20T16:37:36.851Z',\n",
       "   'labels': []},\n",
       "  {'uri': 'at://did:plc:osx26wkd333ybxpmmtc5dbkz/app.bsky.feed.post/3ldqsl3nngs2q',\n",
       "   'cid': 'bafyreigu6odrtep3e2mhpnv7nt5a35fuabdlut2v4gpcs7pefr7fovvwp4',\n",
       "   'author': {'did': 'did:plc:osx26wkd333ybxpmmtc5dbkz',\n",
       "    'handle': 'vokoban.bsky.social',\n",
       "    'displayName': 'Olivier Vokoban',\n",
       "    'avatar': 'https://cdn.bsky.app/img/avatar/plain/did:plc:osx26wkd333ybxpmmtc5dbkz/bafkreig7z7omvmdwtsyb6w7yekr6zf57vtudfnc7nyjwytdvqjapxwniva@jpeg',\n",
       "    'labels': [],\n",
       "    'createdAt': '2024-11-18T19:21:56.547Z'},\n",
       "   'record': {'$type': 'app.bsky.feed.post',\n",
       "    'createdAt': '2024-12-20T16:28:13.162Z',\n",
       "    'embed': {'$type': 'app.bsky.embed.images',\n",
       "     'images': [{'alt': '',\n",
       "       'aspectRatio': {'height': 1200, 'width': 1200},\n",
       "       'image': {'$type': 'blob',\n",
       "        'ref': {'$link': 'bafkreihvvev3oz4yomq7jbmmi3y4hbb74i3bznilaxer6na4t3andlnu7q'},\n",
       "        'mimeType': 'image/jpeg',\n",
       "        'size': 798638}},\n",
       "      {'alt': '',\n",
       "       'aspectRatio': {'height': 1494, 'width': 1080},\n",
       "       'image': {'$type': 'blob',\n",
       "        'ref': {'$link': 'bafkreicoh7vjkmsnyptb7klycy4n36lvh2mva5g4wdgcyukwt2g6blwoay'},\n",
       "        'mimeType': 'image/jpeg',\n",
       "        'size': 603174}}]},\n",
       "    'langs': ['fr'],\n",
       "    'text': \"Musk, ministre de Trump et soutien de l'AfD, reçu en grande pompe en juillet dernier par Macron.\\n\\nÀ un moment il faut arrêter de nier le rapprochement de Macron avec l'extrême-droite.\"},\n",
       "   'embed': {'$type': 'app.bsky.embed.images#view',\n",
       "    'images': [{'thumb': 'https://cdn.bsky.app/img/feed_thumbnail/plain/did:plc:osx26wkd333ybxpmmtc5dbkz/bafkreihvvev3oz4yomq7jbmmi3y4hbb74i3bznilaxer6na4t3andlnu7q@jpeg',\n",
       "      'fullsize': 'https://cdn.bsky.app/img/feed_fullsize/plain/did:plc:osx26wkd333ybxpmmtc5dbkz/bafkreihvvev3oz4yomq7jbmmi3y4hbb74i3bznilaxer6na4t3andlnu7q@jpeg',\n",
       "      'alt': '',\n",
       "      'aspectRatio': {'height': 1200, 'width': 1200}},\n",
       "     {'thumb': 'https://cdn.bsky.app/img/feed_thumbnail/plain/did:plc:osx26wkd333ybxpmmtc5dbkz/bafkreicoh7vjkmsnyptb7klycy4n36lvh2mva5g4wdgcyukwt2g6blwoay@jpeg',\n",
       "      'fullsize': 'https://cdn.bsky.app/img/feed_fullsize/plain/did:plc:osx26wkd333ybxpmmtc5dbkz/bafkreicoh7vjkmsnyptb7klycy4n36lvh2mva5g4wdgcyukwt2g6blwoay@jpeg',\n",
       "      'alt': '',\n",
       "      'aspectRatio': {'height': 1494, 'width': 1080}}]},\n",
       "   'replyCount': 1,\n",
       "   'repostCount': 0,\n",
       "   'likeCount': 2,\n",
       "   'quoteCount': 0,\n",
       "   'indexedAt': '2024-12-20T16:27:19.851Z',\n",
       "   'labels': []},\n",
       "  {'uri': 'at://did:plc:r5mbzndzng2deqwb5rkrnvui/app.bsky.feed.post/3ldqpoqcyp22i',\n",
       "   'cid': 'bafyreig3qfqzgqxvngvibz4csci22ymaive6vpavcozbdbsdshj4ygkfoq',\n",
       "   'author': {'did': 'did:plc:r5mbzndzng2deqwb5rkrnvui',\n",
       "    'handle': 'xrgg9.bsky.social',\n",
       "    'displayName': 'RQ+ 🏳️\\u200d🌈🏳️\\u200d⚧️⛄',\n",
       "    'avatar': 'https://cdn.bsky.app/img/avatar/plain/did:plc:r5mbzndzng2deqwb5rkrnvui/bafkreiatgojklxkxmjpkiimhrxetpeaykgmbjaesfgyp7nkwhm66egpsuq@jpeg',\n",
       "    'associated': {'chat': {'allowIncoming': 'following'}},\n",
       "    'labels': [{'src': 'did:plc:r5mbzndzng2deqwb5rkrnvui',\n",
       "      'uri': 'at://did:plc:r5mbzndzng2deqwb5rkrnvui/app.bsky.actor.profile/self',\n",
       "      'cid': 'bafyreichacw6hdek2uqsijfiu5son4vs35j3hhvaycrl36dcrpgnocnuvi',\n",
       "      'val': '!no-unauthenticated',\n",
       "      'cts': '1970-01-01T00:00:00.000Z'}],\n",
       "    'createdAt': '2023-09-24T18:13:21.429Z'},\n",
       "   'record': {'$type': 'app.bsky.feed.post',\n",
       "    'createdAt': '2024-12-20T15:36:34.275Z',\n",
       "    'embed': {'$type': 'app.bsky.embed.images',\n",
       "     'images': [{'alt': 'Macron y Trump cogiditos de la mano y sonriendo.',\n",
       "       'aspectRatio': {'height': 1028, 'width': 1500},\n",
       "       'image': {'$type': 'blob',\n",
       "        'ref': {'$link': 'bafkreigr7qgd23se7if3kwh6enpw75ehprhdre2nxz4oljcksvs542bzfi'},\n",
       "        'mimeType': 'image/jpeg',\n",
       "        'size': 771904}}]},\n",
       "    'langs': ['es'],\n",
       "    'reply': {'parent': {'cid': 'bafyreiehigkwk76ilmoxhnnusqncpwobfclmohl72oultv55v5w3sfepvu',\n",
       "      'uri': 'at://did:plc:6j6mf3oglldypzja4puj7bgx/app.bsky.feed.post/3ldqokposqs2m'},\n",
       "     'root': {'cid': 'bafyreiehigkwk76ilmoxhnnusqncpwobfclmohl72oultv55v5w3sfepvu',\n",
       "      'uri': 'at://did:plc:6j6mf3oglldypzja4puj7bgx/app.bsky.feed.post/3ldqokposqs2m'}},\n",
       "    'text': 'Cada vez se entiende mejor esta foto. 🤦'},\n",
       "   'embed': {'$type': 'app.bsky.embed.images#view',\n",
       "    'images': [{'thumb': 'https://cdn.bsky.app/img/feed_thumbnail/plain/did:plc:r5mbzndzng2deqwb5rkrnvui/bafkreigr7qgd23se7if3kwh6enpw75ehprhdre2nxz4oljcksvs542bzfi@jpeg',\n",
       "      'fullsize': 'https://cdn.bsky.app/img/feed_fullsize/plain/did:plc:r5mbzndzng2deqwb5rkrnvui/bafkreigr7qgd23se7if3kwh6enpw75ehprhdre2nxz4oljcksvs542bzfi@jpeg',\n",
       "      'alt': 'Macron y Trump cogiditos de la mano y sonriendo.',\n",
       "      'aspectRatio': {'height': 1028, 'width': 1500}}]},\n",
       "   'replyCount': 0,\n",
       "   'repostCount': 0,\n",
       "   'likeCount': 1,\n",
       "   'quoteCount': 0,\n",
       "   'indexedAt': '2024-12-20T15:36:45.959Z',\n",
       "   'labels': []},\n",
       "  {'uri': 'at://did:plc:eizxoqcsvvvarxeb3pjkblrp/app.bsky.feed.post/3ldqpjweib223',\n",
       "   'cid': 'bafyreifeii42hpqbtsu5p3m6zg23quvp6coayi54vyshrjzy2y7quo6bt4',\n",
       "   'author': {'did': 'did:plc:eizxoqcsvvvarxeb3pjkblrp',\n",
       "    'handle': 'minimaliste13.cpesr.fr',\n",
       "    'displayName': 'minimaliste13',\n",
       "    'avatar': 'https://cdn.bsky.app/img/avatar/plain/did:plc:eizxoqcsvvvarxeb3pjkblrp/bafkreifz7ethfcrvk65ptkstchbzx3su7zh6t5upsx6xu4ho6sqa5v7e7q@jpeg',\n",
       "    'associated': {'chat': {'allowIncoming': 'following'}},\n",
       "    'labels': [],\n",
       "    'createdAt': '2023-10-02T13:45:48.191Z'},\n",
       "   'record': {'$type': 'app.bsky.feed.post',\n",
       "    'createdAt': '2024-12-20T15:33:52.843Z',\n",
       "    'langs': ['fr'],\n",
       "    'reply': {'parent': {'cid': 'bafyreifr5worynkemarvqamvtb44bd55pomurfwxzgecezl22jckdpf2qu',\n",
       "      'uri': 'at://did:plc:eizxoqcsvvvarxeb3pjkblrp/app.bsky.feed.post/3ldqpbt6wpc23'},\n",
       "     'root': {'cid': 'bafyreifr5worynkemarvqamvtb44bd55pomurfwxzgecezl22jckdpf2qu',\n",
       "      'uri': 'at://did:plc:eizxoqcsvvvarxeb3pjkblrp/app.bsky.feed.post/3ldqpbt6wpc23'}},\n",
       "    'text': \"Alt : Donald Trump, Nicolas Sarkozy, Michel Barnier, Elon Musk, Brigitte Macron, Carla Bruni et Emmanuel Macron au premier rang de l'inauguration de Notre-Dame de Paris reconstruite.\"},\n",
       "   'replyCount': 1,\n",
       "   'repostCount': 0,\n",
       "   'likeCount': 7,\n",
       "   'quoteCount': 0,\n",
       "   'indexedAt': '2024-12-20T15:33:54.654Z',\n",
       "   'labels': []},\n",
       "  {'uri': 'at://did:plc:fxcg5pa5bf2pmf7c7eyy3x2k/app.bsky.feed.post/3ldqoyzl5qdl2',\n",
       "   'cid': 'bafyreiatyy3vzayjw27i75dbvu5rsjtnrq6krtaydorjbardknmovkiwba',\n",
       "   'author': {'did': 'did:plc:fxcg5pa5bf2pmf7c7eyy3x2k',\n",
       "    'handle': 'VasteQuestion.rivals.space.ap.brid.gy',\n",
       "    'displayName': 'Alexie (normale)',\n",
       "    'avatar': 'https://cdn.bsky.app/img/avatar/plain/did:plc:fxcg5pa5bf2pmf7c7eyy3x2k/bafkreicdx7yz77zy6xapoipoatutt3wm2c5mkxily3agdwinyh2x2q56aq@jpeg',\n",
       "    'associated': {'chat': {'allowIncoming': 'none'}},\n",
       "    'labels': [{'src': 'did:plc:fxcg5pa5bf2pmf7c7eyy3x2k',\n",
       "      'uri': 'at://did:plc:fxcg5pa5bf2pmf7c7eyy3x2k/app.bsky.actor.profile/self',\n",
       "      'cid': 'bafyreia5icpkpokovodlx5wnue74dqp7khurqtzwj6qmdriszyr64xxs5m',\n",
       "      'val': 'bridged-from-bridgy-fed-activitypub',\n",
       "      'cts': '1970-01-01T00:00:00.000Z'}],\n",
       "    'createdAt': '2024-05-30T15:08:16.587Z'},\n",
       "   'record': {'$type': 'app.bsky.feed.post',\n",
       "    'bridgyOriginalText': '<p>Théorie&nbsp;: Macron a fait lui-même fuiter les propos racistes sexistes homophobes lui-même pour cultiver une image de beauf vulgaire qui semble marcher pour Trump et Milei</p>',\n",
       "    'bridgyOriginalUrl': 'https://rivals.space/@VasteQuestion/113685840691134721',\n",
       "    'createdAt': '2024-12-20T15:24:22.000Z',\n",
       "    'langs': ['fr'],\n",
       "    'text': 'Théorie\\xa0: Macron a fait lui-même fuiter les propos racistes sexistes homophobes lui-même pour cultiver une image de beauf vulgaire qui semble marcher pour Trump et Milei'},\n",
       "   'replyCount': 0,\n",
       "   'repostCount': 0,\n",
       "   'likeCount': 4,\n",
       "   'quoteCount': 0,\n",
       "   'indexedAt': '2024-12-20T15:24:39.747Z',\n",
       "   'labels': []},\n",
       "  {'uri': 'at://did:plc:miqltggbnrgtqzia4dxewqaq/app.bsky.feed.post/3ldqmds4cvk2o',\n",
       "   'cid': 'bafyreigvwieuswdco5egca4wdcs2yypyoockxupavebguwjgky3bf3i3te',\n",
       "   'author': {'did': 'did:plc:miqltggbnrgtqzia4dxewqaq',\n",
       "    'handle': 'charles.de-lacom.be',\n",
       "    'displayName': 'Charles de Lacombe',\n",
       "    'avatar': 'https://cdn.bsky.app/img/avatar/plain/did:plc:miqltggbnrgtqzia4dxewqaq/bafkreief4h4rmq3vpglgpv3ztjmxpr7givfjelvpklzvlgggrayrvyw6ta@jpeg',\n",
       "    'associated': {'chat': {'allowIncoming': 'all'}},\n",
       "    'labels': [],\n",
       "    'createdAt': '2024-11-18T09:59:50.346Z'},\n",
       "   'record': {'$type': 'app.bsky.feed.post',\n",
       "    'createdAt': '2024-12-20T14:36:45.830Z',\n",
       "    'langs': ['fr'],\n",
       "    'text': 'Je ne sais pas si on se rappelle comment ce sont précisément les outrances à répétition de Donald Trump qui l’ont menées là où il est.\\n\\nQu’Emmanuel Macron soit raciste et réac, je n’en doute plus depuis longtemps. Mais à votre avis, qui ça va servir, encore plus d’horreurs dans le débat public\\u202f?'},\n",
       "   'replyCount': 0,\n",
       "   'repostCount': 1,\n",
       "   'likeCount': 4,\n",
       "   'quoteCount': 0,\n",
       "   'indexedAt': '2024-12-20T14:36:46.052Z',\n",
       "   'labels': []},\n",
       "  {'uri': 'at://did:plc:ifeda2auw5iicswhcdtgelai/app.bsky.feed.post/3ldqkd6ywqo2b',\n",
       "   'cid': 'bafyreidc6y2224cmikwd4xrhvcuyl7ddcutdeb5fqbkzpibwfblbcruz7a',\n",
       "   'author': {'did': 'did:plc:ifeda2auw5iicswhcdtgelai',\n",
       "    'handle': 'trendingworld.bsky.social',\n",
       "    'displayName': 'Trending Topics - World',\n",
       "    'avatar': 'https://cdn.bsky.app/img/avatar/plain/did:plc:ifeda2auw5iicswhcdtgelai/bafkreicv6mzvcgqj64hq6j5cdehfhlrnzaw7bgdzaykrqhckthtgfifqna@jpeg',\n",
       "    'associated': {'chat': {'allowIncoming': 'all'}},\n",
       "    'labels': [],\n",
       "    'createdAt': '2024-09-25T20:47:55.507Z'},\n",
       "   'record': {'$type': 'app.bsky.feed.post',\n",
       "    'createdAt': '2024-12-20T14:00:37Z',\n",
       "    'facets': [],\n",
       "    'langs': ['pt'],\n",
       "    'text': 'Top trending in the last 15 minutes 🧭:\\n\\n1. Musk\\n2. Trump\\n3. Christmas\\n4. Elon\\n5. Elon Musk\\n6. Friday\\n7. Twitter\\n8. Rich\\n9. Break\\n10. Macron\\n'},\n",
       "   'replyCount': 0,\n",
       "   'repostCount': 0,\n",
       "   'likeCount': 1,\n",
       "   'quoteCount': 0,\n",
       "   'indexedAt': '2024-12-20T14:00:38.851Z',\n",
       "   'labels': []},\n",
       "  {'uri': 'at://did:plc:ifeda2auw5iicswhcdtgelai/app.bsky.feed.post/3ldqjiamdgr2t',\n",
       "   'cid': 'bafyreic5puqm7gx2upwgvwcxxpr5amqcayuctzdb45tva2g52r72oez26u',\n",
       "   'author': {'did': 'did:plc:ifeda2auw5iicswhcdtgelai',\n",
       "    'handle': 'trendingworld.bsky.social',\n",
       "    'displayName': 'Trending Topics - World',\n",
       "    'avatar': 'https://cdn.bsky.app/img/avatar/plain/did:plc:ifeda2auw5iicswhcdtgelai/bafkreicv6mzvcgqj64hq6j5cdehfhlrnzaw7bgdzaykrqhckthtgfifqna@jpeg',\n",
       "    'associated': {'chat': {'allowIncoming': 'all'}},\n",
       "    'labels': [],\n",
       "    'createdAt': '2024-09-25T20:47:55.507Z'},\n",
       "   'record': {'$type': 'app.bsky.feed.post',\n",
       "    'createdAt': '2024-12-20T13:45:33Z',\n",
       "    'facets': [],\n",
       "    'langs': ['pt'],\n",
       "    'text': 'Top trending in the last 15 minutes 🧭:\\n\\n1. Musk\\n2. Trump\\n3. Christmas\\n4. Elon\\n5. Elon Musk\\n6. Macron\\n7. Friday\\n8. Twitter\\n9. Sie\\n10. Rich\\n'},\n",
       "   'replyCount': 0,\n",
       "   'repostCount': 0,\n",
       "   'likeCount': 0,\n",
       "   'quoteCount': 0,\n",
       "   'indexedAt': '2024-12-20T13:45:34.345Z',\n",
       "   'labels': []},\n",
       "  {'uri': 'at://did:plc:wmwq53egom6yy6zzikkndoaa/app.bsky.feed.post/3ldqj3qs3bc2n',\n",
       "   'cid': 'bafyreidevpny7xsmdmbnx3d3mymcy3fqyg3jbmpdchljwmbusaxmzkvswe',\n",
       "   'author': {'did': 'did:plc:wmwq53egom6yy6zzikkndoaa',\n",
       "    'handle': 'agt-network.bsky.social',\n",
       "    'displayName': 'À Gauche(s) Toutes',\n",
       "    'avatar': 'https://cdn.bsky.app/img/avatar/plain/did:plc:wmwq53egom6yy6zzikkndoaa/bafkreiddlno2nhi6aohu35tv4fypztqi2maa3huqlfrzmwpz2cnlki4sc4@jpeg',\n",
       "    'associated': {'chat': {'allowIncoming': 'all'}},\n",
       "    'labels': [],\n",
       "    'createdAt': '2023-10-20T19:46:47.386Z'},\n",
       "   'record': {'$type': 'app.bsky.feed.post',\n",
       "    'createdAt': '2024-12-20T13:38:34.785Z',\n",
       "    'langs': ['fr'],\n",
       "    'text': \"Macron fonctionne exactement comme Trump : racisme et  xénophobie ordinaires, boys club et trahison/abandon de tout ses compagnons de route. \\n\\nIl a juste évité d'envoyer des rouleaux de PQ devant les caméras à Mayotte.\"},\n",
       "   'replyCount': 1,\n",
       "   'repostCount': 4,\n",
       "   'likeCount': 3,\n",
       "   'quoteCount': 0,\n",
       "   'indexedAt': '2024-12-20T13:38:35.349Z',\n",
       "   'labels': []},\n",
       "  {'uri': 'at://did:plc:ifeda2auw5iicswhcdtgelai/app.bsky.feed.post/3ldqinl43az2w',\n",
       "   'cid': 'bafyreigjasod7kwdoj753sgsnk63dx5qiztv6amrxifflhs3sotbii5fpu',\n",
       "   'author': {'did': 'did:plc:ifeda2auw5iicswhcdtgelai',\n",
       "    'handle': 'trendingworld.bsky.social',\n",
       "    'displayName': 'Trending Topics - World',\n",
       "    'avatar': 'https://cdn.bsky.app/img/avatar/plain/did:plc:ifeda2auw5iicswhcdtgelai/bafkreicv6mzvcgqj64hq6j5cdehfhlrnzaw7bgdzaykrqhckthtgfifqna@jpeg',\n",
       "    'associated': {'chat': {'allowIncoming': 'all'}},\n",
       "    'labels': [],\n",
       "    'createdAt': '2024-09-25T20:47:55.507Z'},\n",
       "   'record': {'$type': 'app.bsky.feed.post',\n",
       "    'createdAt': '2024-12-20T13:30:38Z',\n",
       "    'facets': [],\n",
       "    'langs': ['pt'],\n",
       "    'text': 'Top trending in the last 15 minutes 🧭:\\n\\n1. Musk\\n2. Trump\\n3. Christmas\\n4. Elon\\n5. Macron\\n6. Elon Musk\\n7. Monde\\n8. Friday\\n9. Good morning\\n10. BlueSky\\n'},\n",
       "   'replyCount': 0,\n",
       "   'repostCount': 0,\n",
       "   'likeCount': 0,\n",
       "   'quoteCount': 0,\n",
       "   'indexedAt': '2024-12-20T13:30:39.244Z',\n",
       "   'labels': []},\n",
       "  {'uri': 'at://did:plc:ifeda2auw5iicswhcdtgelai/app.bsky.feed.post/3ldqhsnhs472b',\n",
       "   'cid': 'bafyreiarslnqwgyoyjonfankjlol42q3ojoj5mrfjwhaytszmaghljb23y',\n",
       "   'author': {'did': 'did:plc:ifeda2auw5iicswhcdtgelai',\n",
       "    'handle': 'trendingworld.bsky.social',\n",
       "    'displayName': 'Trending Topics - World',\n",
       "    'avatar': 'https://cdn.bsky.app/img/avatar/plain/did:plc:ifeda2auw5iicswhcdtgelai/bafkreicv6mzvcgqj64hq6j5cdehfhlrnzaw7bgdzaykrqhckthtgfifqna@jpeg',\n",
       "    'associated': {'chat': {'allowIncoming': 'all'}},\n",
       "    'labels': [],\n",
       "    'createdAt': '2024-09-25T20:47:55.507Z'},\n",
       "   'record': {'$type': 'app.bsky.feed.post',\n",
       "    'createdAt': '2024-12-20T13:15:35Z',\n",
       "    'facets': [],\n",
       "    'langs': ['pt'],\n",
       "    'text': 'Top trending in the last 15 minutes 🧭:\\n\\n1. Christmas\\n2. Musk\\n3. Trump\\n4. Elon\\n5. Macron\\n6. Monde\\n7. Bluesky\\n8. Nur\\n9. Elon Musk\\n10. Friday\\n'},\n",
       "   'replyCount': 0,\n",
       "   'repostCount': 0,\n",
       "   'likeCount': 0,\n",
       "   'quoteCount': 0,\n",
       "   'indexedAt': '2024-12-20T13:15:35.747Z',\n",
       "   'labels': []},\n",
       "  {'uri': 'at://did:plc:ifeda2auw5iicswhcdtgelai/app.bsky.feed.post/3ldqgxrqiwh2t',\n",
       "   'cid': 'bafyreib4e75dsz77ojfv733wcc5pntcq65j4eqfchpnd7daxrglk7zwr3m',\n",
       "   'author': {'did': 'did:plc:ifeda2auw5iicswhcdtgelai',\n",
       "    'handle': 'trendingworld.bsky.social',\n",
       "    'displayName': 'Trending Topics - World',\n",
       "    'avatar': 'https://cdn.bsky.app/img/avatar/plain/did:plc:ifeda2auw5iicswhcdtgelai/bafkreicv6mzvcgqj64hq6j5cdehfhlrnzaw7bgdzaykrqhckthtgfifqna@jpeg',\n",
       "    'associated': {'chat': {'allowIncoming': 'all'}},\n",
       "    'labels': [],\n",
       "    'createdAt': '2024-09-25T20:47:55.507Z'},\n",
       "   'record': {'$type': 'app.bsky.feed.post',\n",
       "    'createdAt': '2024-12-20T13:00:33Z',\n",
       "    'facets': [],\n",
       "    'langs': ['pt'],\n",
       "    'text': 'Top trending in the last 15 minutes 🧭:\\n\\n1. Christmas\\n2. Musk\\n3. Trump\\n4. Elon\\n5. Macron\\n6. Monde\\n7. Bluesky\\n8. Ces\\n9. Friday\\n10. Good morning\\n'},\n",
       "   'replyCount': 0,\n",
       "   'repostCount': 0,\n",
       "   'likeCount': 0,\n",
       "   'quoteCount': 0,\n",
       "   'indexedAt': '2024-12-20T13:00:34.256Z',\n",
       "   'labels': []}],\n",
       " 'cursor': '100'}"
      ]
     },
     "execution_count": 44,
     "metadata": {},
     "output_type": "execute_result"
    }
   ],
   "source": [
    "posts = search_posts(query)\n",
    "posts"
   ]
  },
  {
   "cell_type": "code",
   "execution_count": 45,
   "metadata": {},
   "outputs": [
    {
     "data": {
      "text/plain": [
       "100"
      ]
     },
     "execution_count": 45,
     "metadata": {},
     "output_type": "execute_result"
    }
   ],
   "source": [
    "len(posts[\"posts\"])"
   ]
  },
  {
   "cell_type": "code",
   "execution_count": 92,
   "metadata": {},
   "outputs": [
    {
     "data": {
      "text/html": [
       "<div>\n",
       "<style scoped>\n",
       "    .dataframe tbody tr th:only-of-type {\n",
       "        vertical-align: middle;\n",
       "    }\n",
       "\n",
       "    .dataframe tbody tr th {\n",
       "        vertical-align: top;\n",
       "    }\n",
       "\n",
       "    .dataframe thead th {\n",
       "        text-align: right;\n",
       "    }\n",
       "</style>\n",
       "<table border=\"1\" class=\"dataframe\">\n",
       "  <thead>\n",
       "    <tr style=\"text-align: right;\">\n",
       "      <th></th>\n",
       "      <th>id</th>\n",
       "      <th>news_url</th>\n",
       "      <th>title</th>\n",
       "      <th>tweet_ids</th>\n",
       "    </tr>\n",
       "  </thead>\n",
       "  <tbody>\n",
       "    <tr>\n",
       "      <th>0</th>\n",
       "      <td>politifact15014</td>\n",
       "      <td>speedtalk.com/forum/viewtopic.php?t=51650</td>\n",
       "      <td>BREAKING: First NFL Team Declares Bankruptcy O...</td>\n",
       "      <td>937349434668498944\\t937379378006282240\\t937380...</td>\n",
       "    </tr>\n",
       "    <tr>\n",
       "      <th>1</th>\n",
       "      <td>politifact15156</td>\n",
       "      <td>politics2020.info/index.php/2018/03/13/court-o...</td>\n",
       "      <td>Court Orders Obama To Pay $400 Million In Rest...</td>\n",
       "      <td>972666281441878016\\t972678396575559680\\t972827...</td>\n",
       "    </tr>\n",
       "    <tr>\n",
       "      <th>2</th>\n",
       "      <td>politifact14745</td>\n",
       "      <td>www.nscdscamps.org/blog/category/parenting/467...</td>\n",
       "      <td>UPDATE: Second Roy Moore Accuser Works For Mic...</td>\n",
       "      <td>929405740732870656\\t929439450400264192\\t929439...</td>\n",
       "    </tr>\n",
       "    <tr>\n",
       "      <th>3</th>\n",
       "      <td>politifact14355</td>\n",
       "      <td>https://howafrica.com/oscar-pistorius-attempts...</td>\n",
       "      <td>Oscar Pistorius Attempts To Commit Suicide</td>\n",
       "      <td>886941526458347521\\t887011300278194176\\t887023...</td>\n",
       "    </tr>\n",
       "    <tr>\n",
       "      <th>4</th>\n",
       "      <td>politifact15371</td>\n",
       "      <td>http://washingtonsources.org/trump-votes-for-d...</td>\n",
       "      <td>Trump Votes For Death Penalty For Being Gay</td>\n",
       "      <td>915205698212040704\\t915242076681506816\\t915249...</td>\n",
       "    </tr>\n",
       "  </tbody>\n",
       "</table>\n",
       "</div>"
      ],
      "text/plain": [
       "                id                                           news_url  \\\n",
       "0  politifact15014          speedtalk.com/forum/viewtopic.php?t=51650   \n",
       "1  politifact15156  politics2020.info/index.php/2018/03/13/court-o...   \n",
       "2  politifact14745  www.nscdscamps.org/blog/category/parenting/467...   \n",
       "3  politifact14355  https://howafrica.com/oscar-pistorius-attempts...   \n",
       "4  politifact15371  http://washingtonsources.org/trump-votes-for-d...   \n",
       "\n",
       "                                               title  \\\n",
       "0  BREAKING: First NFL Team Declares Bankruptcy O...   \n",
       "1  Court Orders Obama To Pay $400 Million In Rest...   \n",
       "2  UPDATE: Second Roy Moore Accuser Works For Mic...   \n",
       "3         Oscar Pistorius Attempts To Commit Suicide   \n",
       "4        Trump Votes For Death Penalty For Being Gay   \n",
       "\n",
       "                                           tweet_ids  \n",
       "0  937349434668498944\\t937379378006282240\\t937380...  \n",
       "1  972666281441878016\\t972678396575559680\\t972827...  \n",
       "2  929405740732870656\\t929439450400264192\\t929439...  \n",
       "3  886941526458347521\\t887011300278194176\\t887023...  \n",
       "4  915205698212040704\\t915242076681506816\\t915249...  "
      ]
     },
     "execution_count": 92,
     "metadata": {},
     "output_type": "execute_result"
    }
   ],
   "source": [
    "politifact_fake = pd.read_csv(\"FakeNewsNet/politifact_fake.csv\")\n",
    "politifact_fake.head()"
   ]
  },
  {
   "cell_type": "code",
   "execution_count": 93,
   "metadata": {},
   "outputs": [
    {
     "name": "stdout",
     "output_type": "stream",
     "text": [
      "<class 'pandas.core.frame.DataFrame'>\n",
      "RangeIndex: 432 entries, 0 to 431\n",
      "Data columns (total 4 columns):\n",
      " #   Column     Non-Null Count  Dtype \n",
      "---  ------     --------------  ----- \n",
      " 0   id         432 non-null    object\n",
      " 1   news_url   428 non-null    object\n",
      " 2   title      432 non-null    object\n",
      " 3   tweet_ids  392 non-null    object\n",
      "dtypes: object(4)\n",
      "memory usage: 13.6+ KB\n"
     ]
    }
   ],
   "source": [
    "politifact_fake.info()"
   ]
  },
  {
   "cell_type": "code",
   "execution_count": 100,
   "metadata": {},
   "outputs": [
    {
     "data": {
      "text/plain": [
       "1    Court Orders Obama To Pay $400 Million In Rest...\n",
       "Name: title, dtype: object"
      ]
     },
     "execution_count": 100,
     "metadata": {},
     "output_type": "execute_result"
    }
   ],
   "source": [
    "politifact_fake[politifact_fake['id'] == \"politifact15156\"]['title']"
   ]
  },
  {
   "cell_type": "code",
   "execution_count": 110,
   "metadata": {},
   "outputs": [],
   "source": [
    "def create_dataset(news, limit=100):\n",
    "    \n",
    "    dataset = {\"post_uri\": [],\n",
    "                \"post_cid\": [],\n",
    "                \"type\": \"post\",\n",
    "                \"date\": [],\n",
    "                \"news_id\": [],\n",
    "                \"like_count\": [],\n",
    "                \"repost_count\": [],\n",
    "                \"user_name\": [],\n",
    "                \"follower_count\": [],\n",
    "                \"follows_count\": [],\n",
    "                }\n",
    "    \n",
    "    count_nonzeros = 0\n",
    "    \n",
    "    for query in tqdm(news[\"title\"]):\n",
    "        posts = search_posts(query, limit)\n",
    "        nb_of_posts = len(posts[\"posts\"])\n",
    "        if nb_of_posts != 0:\n",
    "            count_nonzeros += 1\n",
    "            print(\"query\", query)\n",
    "        for post in posts[\"posts\"]:\n",
    "            profile = get_profile(post[\"author\"][\"handle\"])\n",
    "            dataset[\"post_uri\"].append(post[\"uri\"])\n",
    "            dataset[\"post_cid\"].append(post[\"cid\"])\n",
    "            dataset[\"date\"].append(post[\"record\"][\"createdAt\"])\n",
    "            dataset[\"news_id\"].append(news[news[\"title\"] == query][\"id\"])\n",
    "            dataset[\"like_count\"].append(post[\"likeCount\"])\n",
    "            dataset[\"repost_count\"].append(post[\"repostCount\"])\n",
    "            dataset[\"user_name\"].append(post[\"author\"][\"handle\"])\n",
    "            dataset[\"follower_count\"].append(profile[\"followersCount\"])\n",
    "            dataset[\"follows_count\"].append(profile[\"followsCount\"])\n",
    "            \n",
    "    dataframe = pd.DataFrame(dataset, columns=[\"post_uri\", \"post_cid\", \"type\", \"date\", \"news_id\", \"like_count\", \"repost_count\", \"user_name\", \"follower_count\", \"follows_count\"])\n",
    "    print(\"Number of different news\", count_nonzeros)\n",
    "            \n",
    "    return dataframe"
   ]
  },
  {
   "cell_type": "code",
   "execution_count": 108,
   "metadata": {},
   "outputs": [
    {
     "name": "stderr",
     "output_type": "stream",
     "text": [
      "  1%|          | 5/432 [00:04<06:19,  1.12it/s]"
     ]
    },
    {
     "name": "stdout",
     "output_type": "stream",
     "text": [
      "query Putin says: ‘Pope Francis Is Not A Man Of God’ | Must-See !!\n"
     ]
    },
    {
     "name": "stderr",
     "output_type": "stream",
     "text": [
      "  2%|▏         | 8/432 [00:07<07:28,  1.06s/it]"
     ]
    },
    {
     "name": "stdout",
     "output_type": "stream",
     "text": [
      "query Saudi Arabia to Behead 6 School Girls for Being With Their Male Friends Without Parents or a Guardian\n"
     ]
    },
    {
     "name": "stderr",
     "output_type": "stream",
     "text": [
      "  6%|▋         | 27/432 [00:32<07:24,  1.10s/it]"
     ]
    },
    {
     "name": "stdout",
     "output_type": "stream",
     "text": [
      "query Biden raises possibility of 2020 presidential bid\n"
     ]
    },
    {
     "name": "stderr",
     "output_type": "stream",
     "text": [
      "  7%|▋         | 29/432 [00:34<07:18,  1.09s/it]"
     ]
    },
    {
     "name": "stdout",
     "output_type": "stream",
     "text": [
      "query Snapchat is shutting down!\n"
     ]
    },
    {
     "name": "stderr",
     "output_type": "stream",
     "text": [
      "  9%|▉         | 38/432 [00:43<06:13,  1.05it/s]"
     ]
    },
    {
     "name": "stdout",
     "output_type": "stream",
     "text": [
      "query Japanese Whaling Crew Eaten Alive By Killer Whales, 16 dead\n"
     ]
    },
    {
     "name": "stderr",
     "output_type": "stream",
     "text": [
      " 10%|▉         | 43/432 [00:49<06:32,  1.01s/it]"
     ]
    },
    {
     "name": "stdout",
     "output_type": "stream",
     "text": [
      "query Mike Pence: “Allowing Rape Victims To Have Abortions Will Lead To Women Trying To Get Raped”\n"
     ]
    },
    {
     "name": "stderr",
     "output_type": "stream",
     "text": [
      " 11%|█         | 47/432 [00:53<06:33,  1.02s/it]"
     ]
    },
    {
     "name": "stdout",
     "output_type": "stream",
     "text": [
      "query Neon Nettle\n"
     ]
    },
    {
     "name": "stderr",
     "output_type": "stream",
     "text": [
      " 14%|█▎        | 59/432 [01:06<06:13,  1.00s/it]"
     ]
    },
    {
     "name": "stdout",
     "output_type": "stream",
     "text": [
      "query The Legislative Process\n"
     ]
    },
    {
     "name": "stderr",
     "output_type": "stream",
     "text": [
      " 15%|█▍        | 63/432 [01:12<07:32,  1.23s/it]"
     ]
    },
    {
     "name": "stdout",
     "output_type": "stream",
     "text": [
      "query Sid Miller\n"
     ]
    },
    {
     "name": "stderr",
     "output_type": "stream",
     "text": [
      " 21%|██▏       | 92/432 [01:43<05:40,  1.00s/it]"
     ]
    },
    {
     "name": "stdout",
     "output_type": "stream",
     "text": [
      "query Account Suspended\n"
     ]
    },
    {
     "name": "stderr",
     "output_type": "stream",
     "text": [
      " 22%|██▏       | 96/432 [01:51<07:52,  1.41s/it]"
     ]
    },
    {
     "name": "stdout",
     "output_type": "stream",
     "text": [
      "query American News is under construction\n"
     ]
    },
    {
     "name": "stderr",
     "output_type": "stream",
     "text": [
      " 29%|██▉       | 126/432 [02:21<05:05,  1.00it/s]"
     ]
    },
    {
     "name": "stdout",
     "output_type": "stream",
     "text": [
      "query NASA Will Pay You 18000 USD To Stay In Bed And Smoke Weed For 70 Straight Days\n"
     ]
    },
    {
     "name": "stderr",
     "output_type": "stream",
     "text": [
      " 32%|███▏      | 138/432 [02:33<04:26,  1.10it/s]"
     ]
    },
    {
     "name": "stdout",
     "output_type": "stream",
     "text": [
      "query Contact Support\n"
     ]
    },
    {
     "name": "stderr",
     "output_type": "stream",
     "text": [
      " 35%|███▍      | 151/432 [03:03<05:07,  1.09s/it]"
     ]
    },
    {
     "name": "stdout",
     "output_type": "stream",
     "text": [
      "query Information for the Nation\n"
     ]
    },
    {
     "name": "stderr",
     "output_type": "stream",
     "text": [
      " 37%|███▋      | 160/432 [03:14<04:39,  1.03s/it]"
     ]
    },
    {
     "name": "stdout",
     "output_type": "stream",
     "text": [
      "query Lady Gaga on Twitter\n"
     ]
    },
    {
     "name": "stderr",
     "output_type": "stream",
     "text": [
      " 37%|███▋      | 161/432 [03:17<07:26,  1.65s/it]"
     ]
    },
    {
     "name": "stdout",
     "output_type": "stream",
     "text": [
      "query American News is under construction\n"
     ]
    },
    {
     "name": "stderr",
     "output_type": "stream",
     "text": [
      " 48%|████▊     | 206/432 [04:15<03:46,  1.00s/it]"
     ]
    },
    {
     "name": "stdout",
     "output_type": "stream",
     "text": [
      "query You are being redirected...\n"
     ]
    },
    {
     "name": "stderr",
     "output_type": "stream",
     "text": [
      " 53%|█████▎    | 230/432 [04:48<03:35,  1.07s/it]"
     ]
    },
    {
     "name": "stdout",
     "output_type": "stream",
     "text": [
      "query Inside a Fake News Sausage Factory: ‘This Is All About Income’\n"
     ]
    },
    {
     "name": "stderr",
     "output_type": "stream",
     "text": [
      " 55%|█████▍    | 237/432 [04:56<03:24,  1.05s/it]"
     ]
    },
    {
     "name": "stdout",
     "output_type": "stream",
     "text": [
      "query Mental Images\n"
     ]
    },
    {
     "name": "stderr",
     "output_type": "stream",
     "text": [
      " 64%|██████▍   | 277/432 [05:37<02:35,  1.00s/it]"
     ]
    },
    {
     "name": "stdout",
     "output_type": "stream",
     "text": [
      "query Trump Nation\n"
     ]
    },
    {
     "name": "stderr",
     "output_type": "stream",
     "text": [
      " 66%|██████▋   | 287/432 [05:57<03:47,  1.57s/it]"
     ]
    },
    {
     "name": "stdout",
     "output_type": "stream",
     "text": [
      "query Information for the Nation\n"
     ]
    },
    {
     "name": "stderr",
     "output_type": "stream",
     "text": [
      " 77%|███████▋  | 331/432 [06:49<01:37,  1.03it/s]"
     ]
    },
    {
     "name": "stdout",
     "output_type": "stream",
     "text": [
      "query Southwest Airlines 2017\n"
     ]
    },
    {
     "name": "stderr",
     "output_type": "stream",
     "text": [
      " 81%|████████  | 349/432 [07:07<01:23,  1.00s/it]"
     ]
    },
    {
     "name": "stdout",
     "output_type": "stream",
     "text": [
      "query The CNN porn scare is how fake news spreads\n"
     ]
    },
    {
     "name": "stderr",
     "output_type": "stream",
     "text": [
      " 83%|████████▎ | 359/432 [07:18<01:18,  1.07s/it]"
     ]
    },
    {
     "name": "stdout",
     "output_type": "stream",
     "text": [
      "query Alabama Secretary of State\n"
     ]
    },
    {
     "name": "stderr",
     "output_type": "stream",
     "text": [
      " 85%|████████▍ | 366/432 [07:28<01:16,  1.16s/it]"
     ]
    },
    {
     "name": "stdout",
     "output_type": "stream",
     "text": [
      "query Clinton Body Count Series #5: Woman Set to Testify Against Clintons Blown Up in Home Explosion\n"
     ]
    },
    {
     "name": "stderr",
     "output_type": "stream",
     "text": [
      " 89%|████████▉ | 386/432 [07:48<00:45,  1.01it/s]"
     ]
    },
    {
     "name": "stdout",
     "output_type": "stream",
     "text": [
      "query Frequently Asked Questions\n"
     ]
    },
    {
     "name": "stderr",
     "output_type": "stream",
     "text": [
      " 94%|█████████▎| 404/432 [08:31<00:32,  1.16s/it]"
     ]
    },
    {
     "name": "stdout",
     "output_type": "stream",
     "text": [
      "query  accessed Aug 11\n"
     ]
    },
    {
     "name": "stderr",
     "output_type": "stream",
     "text": [
      " 96%|█████████▌| 413/432 [08:41<00:20,  1.07s/it]"
     ]
    },
    {
     "name": "stdout",
     "output_type": "stream",
     "text": [
      "query  Wake Up America\n"
     ]
    },
    {
     "name": "stderr",
     "output_type": "stream",
     "text": [
      " 96%|█████████▌| 414/432 [08:44<00:32,  1.78s/it]"
     ]
    },
    {
     "name": "stdout",
     "output_type": "stream",
     "text": [
      "query Account Suspended\n"
     ]
    },
    {
     "name": "stderr",
     "output_type": "stream",
     "text": [
      " 99%|█████████▉| 427/432 [08:59<00:05,  1.00s/it]"
     ]
    },
    {
     "name": "stdout",
     "output_type": "stream",
     "text": [
      "query Who is affected by the government shutdown?\n"
     ]
    },
    {
     "name": "stderr",
     "output_type": "stream",
     "text": [
      "100%|█████████▉| 431/432 [09:04<00:01,  1.09s/it]"
     ]
    },
    {
     "name": "stdout",
     "output_type": "stream",
     "text": [
      "query Account Suspended\n"
     ]
    },
    {
     "name": "stderr",
     "output_type": "stream",
     "text": [
      "100%|██████████| 432/432 [09:05<00:00,  1.26s/it]\n"
     ]
    },
    {
     "data": {
      "text/html": [
       "<div>\n",
       "<style scoped>\n",
       "    .dataframe tbody tr th:only-of-type {\n",
       "        vertical-align: middle;\n",
       "    }\n",
       "\n",
       "    .dataframe tbody tr th {\n",
       "        vertical-align: top;\n",
       "    }\n",
       "\n",
       "    .dataframe thead th {\n",
       "        text-align: right;\n",
       "    }\n",
       "</style>\n",
       "<table border=\"1\" class=\"dataframe\">\n",
       "  <thead>\n",
       "    <tr style=\"text-align: right;\">\n",
       "      <th></th>\n",
       "      <th>post_uri</th>\n",
       "      <th>post_cid</th>\n",
       "      <th>type</th>\n",
       "      <th>date</th>\n",
       "      <th>news_id</th>\n",
       "      <th>like_count</th>\n",
       "      <th>repost_count</th>\n",
       "      <th>user_name</th>\n",
       "      <th>follower_count</th>\n",
       "      <th>follows_count</th>\n",
       "    </tr>\n",
       "  </thead>\n",
       "  <tbody>\n",
       "    <tr>\n",
       "      <th>0</th>\n",
       "      <td>at://did:plc:yhol4baoufobb7solkwpi4hg/app.bsky...</td>\n",
       "      <td>bafyreiee5mjffw6seu3bxecf4c6tmwxv6hxn7zqm6aofl...</td>\n",
       "      <td>post</td>\n",
       "      <td>2024-12-25T19:31:39.816Z</td>\n",
       "      <td>5    politifact14404\n",
       "Name: id, dtype: object</td>\n",
       "      <td>0</td>\n",
       "      <td>0</td>\n",
       "      <td>boemer21.bsky.social</td>\n",
       "      <td>3</td>\n",
       "      <td>7</td>\n",
       "    </tr>\n",
       "    <tr>\n",
       "      <th>1</th>\n",
       "      <td>at://did:plc:oandl5se4xbcmqzqblrthi4i/app.bsky...</td>\n",
       "      <td>bafyreieulgszrsywpyibvm2k4mhrelsw4isx56b5mdllt...</td>\n",
       "      <td>post</td>\n",
       "      <td>2024-12-25T19:30:07.914Z</td>\n",
       "      <td>5    politifact14404\n",
       "Name: id, dtype: object</td>\n",
       "      <td>0</td>\n",
       "      <td>0</td>\n",
       "      <td>naughtyneurals.bsky.social</td>\n",
       "      <td>167</td>\n",
       "      <td>2</td>\n",
       "    </tr>\n",
       "    <tr>\n",
       "      <th>2</th>\n",
       "      <td>at://did:plc:qq7uiyjzzcqdx4pqh4uwze4b/app.bsky...</td>\n",
       "      <td>bafyreicyyjfjkvp3e4mgipj5qj2jigpwidw7toctfclzg...</td>\n",
       "      <td>post</td>\n",
       "      <td>2024-12-25T19:29:03.000Z</td>\n",
       "      <td>5    politifact14404\n",
       "Name: id, dtype: object</td>\n",
       "      <td>0</td>\n",
       "      <td>0</td>\n",
       "      <td>jik.federate.social.ap.brid.gy</td>\n",
       "      <td>64</td>\n",
       "      <td>4</td>\n",
       "    </tr>\n",
       "    <tr>\n",
       "      <th>3</th>\n",
       "      <td>at://did:plc:3f7a6hlrloq2375e3mehwv7x/app.bsky...</td>\n",
       "      <td>bafyreieq6nbf2ckhfr6x2tqwulnf5xdlxoypytzigq4j4...</td>\n",
       "      <td>post</td>\n",
       "      <td>2024-12-25T19:22:29.156Z</td>\n",
       "      <td>5    politifact14404\n",
       "Name: id, dtype: object</td>\n",
       "      <td>0</td>\n",
       "      <td>0</td>\n",
       "      <td>canmorecarmen.bsky.social</td>\n",
       "      <td>591</td>\n",
       "      <td>1549</td>\n",
       "    </tr>\n",
       "    <tr>\n",
       "      <th>4</th>\n",
       "      <td>at://did:plc:nfnrw3skrghbhdqh5tpstsrh/app.bsky...</td>\n",
       "      <td>bafyreidd5xokbcejgv5fimmjturvyfqnbvm7sjxv3b4gi...</td>\n",
       "      <td>post</td>\n",
       "      <td>2024-12-25T19:22:26.338Z</td>\n",
       "      <td>5    politifact14404\n",
       "Name: id, dtype: object</td>\n",
       "      <td>1</td>\n",
       "      <td>0</td>\n",
       "      <td>athelind.bsky.social</td>\n",
       "      <td>148</td>\n",
       "      <td>155</td>\n",
       "    </tr>\n",
       "  </tbody>\n",
       "</table>\n",
       "</div>"
      ],
      "text/plain": [
       "                                            post_uri  \\\n",
       "0  at://did:plc:yhol4baoufobb7solkwpi4hg/app.bsky...   \n",
       "1  at://did:plc:oandl5se4xbcmqzqblrthi4i/app.bsky...   \n",
       "2  at://did:plc:qq7uiyjzzcqdx4pqh4uwze4b/app.bsky...   \n",
       "3  at://did:plc:3f7a6hlrloq2375e3mehwv7x/app.bsky...   \n",
       "4  at://did:plc:nfnrw3skrghbhdqh5tpstsrh/app.bsky...   \n",
       "\n",
       "                                            post_cid  type  \\\n",
       "0  bafyreiee5mjffw6seu3bxecf4c6tmwxv6hxn7zqm6aofl...  post   \n",
       "1  bafyreieulgszrsywpyibvm2k4mhrelsw4isx56b5mdllt...  post   \n",
       "2  bafyreicyyjfjkvp3e4mgipj5qj2jigpwidw7toctfclzg...  post   \n",
       "3  bafyreieq6nbf2ckhfr6x2tqwulnf5xdlxoypytzigq4j4...  post   \n",
       "4  bafyreidd5xokbcejgv5fimmjturvyfqnbvm7sjxv3b4gi...  post   \n",
       "\n",
       "                       date                                       news_id  \\\n",
       "0  2024-12-25T19:31:39.816Z  5    politifact14404\n",
       "Name: id, dtype: object   \n",
       "1  2024-12-25T19:30:07.914Z  5    politifact14404\n",
       "Name: id, dtype: object   \n",
       "2  2024-12-25T19:29:03.000Z  5    politifact14404\n",
       "Name: id, dtype: object   \n",
       "3  2024-12-25T19:22:29.156Z  5    politifact14404\n",
       "Name: id, dtype: object   \n",
       "4  2024-12-25T19:22:26.338Z  5    politifact14404\n",
       "Name: id, dtype: object   \n",
       "\n",
       "   like_count  repost_count                       user_name  follower_count  \\\n",
       "0           0             0            boemer21.bsky.social               3   \n",
       "1           0             0      naughtyneurals.bsky.social             167   \n",
       "2           0             0  jik.federate.social.ap.brid.gy              64   \n",
       "3           0             0       canmorecarmen.bsky.social             591   \n",
       "4           1             0            athelind.bsky.social             148   \n",
       "\n",
       "   follows_count  \n",
       "0              7  \n",
       "1              2  \n",
       "2              4  \n",
       "3           1549  \n",
       "4            155  "
      ]
     },
     "execution_count": 108,
     "metadata": {},
     "output_type": "execute_result"
    }
   ],
   "source": [
    "dataset_test = create_dataset(politifact_fake, 10)\n",
    "dataset_test.head()"
   ]
  },
  {
   "cell_type": "code",
   "execution_count": 109,
   "metadata": {},
   "outputs": [
    {
     "name": "stdout",
     "output_type": "stream",
     "text": [
      "<class 'pandas.core.frame.DataFrame'>\n",
      "RangeIndex: 196 entries, 0 to 195\n",
      "Data columns (total 10 columns):\n",
      " #   Column          Non-Null Count  Dtype \n",
      "---  ------          --------------  ----- \n",
      " 0   post_uri        196 non-null    object\n",
      " 1   post_cid        196 non-null    object\n",
      " 2   type            196 non-null    object\n",
      " 3   date            196 non-null    object\n",
      " 4   news_id         196 non-null    object\n",
      " 5   like_count      196 non-null    int64 \n",
      " 6   repost_count    196 non-null    int64 \n",
      " 7   user_name       196 non-null    object\n",
      " 8   follower_count  196 non-null    int64 \n",
      " 9   follows_count   196 non-null    int64 \n",
      "dtypes: int64(4), object(6)\n",
      "memory usage: 15.4+ KB\n"
     ]
    }
   ],
   "source": [
    "dataset_test.info()"
   ]
  },
  {
   "cell_type": "code",
   "execution_count": 111,
   "metadata": {},
   "outputs": [],
   "source": [
    "politifact_real = pd.read_csv(\"FakeNewsNet/politifact_real.csv\")"
   ]
  },
  {
   "cell_type": "code",
   "execution_count": 112,
   "metadata": {},
   "outputs": [
    {
     "name": "stderr",
     "output_type": "stream",
     "text": [
      "  0%|          | 0/624 [00:00<?, ?it/s]"
     ]
    },
    {
     "name": "stdout",
     "output_type": "stream",
     "text": [
      "query National Federation of Independent Business\n"
     ]
    },
    {
     "name": "stderr",
     "output_type": "stream",
     "text": [
      "  1%|          | 6/624 [00:07<11:11,  1.09s/it]"
     ]
    },
    {
     "name": "stdout",
     "output_type": "stream",
     "text": [
      "query 25th Amendment\n"
     ]
    },
    {
     "name": "stderr",
     "output_type": "stream",
     "text": [
      "  1%|          | 7/624 [00:10<19:04,  1.86s/it]"
     ]
    },
    {
     "name": "stdout",
     "output_type": "stream",
     "text": [
      "query 子供たちのコト。私のコト。\n"
     ]
    },
    {
     "name": "stderr",
     "output_type": "stream",
     "text": [
      "  2%|▏         | 13/624 [00:27<16:30,  1.62s/it]"
     ]
    },
    {
     "name": "stdout",
     "output_type": "stream",
     "text": [
      "query Bureau of Labor Statistics Data\n"
     ]
    },
    {
     "name": "stderr",
     "output_type": "stream",
     "text": [
      "  2%|▏         | 14/624 [00:31<22:37,  2.22s/it]"
     ]
    },
    {
     "name": "stdout",
     "output_type": "stream",
     "text": [
      "query Summary of the Affordable Care Act\n"
     ]
    },
    {
     "name": "stderr",
     "output_type": "stream",
     "text": [
      "  3%|▎         | 18/624 [00:35<11:40,  1.16s/it]"
     ]
    },
    {
     "name": "stdout",
     "output_type": "stream",
     "text": [
      "query Las Vegas campaign rally\n"
     ]
    },
    {
     "name": "stderr",
     "output_type": "stream",
     "text": [
      "  4%|▍         | 27/624 [00:46<10:43,  1.08s/it]"
     ]
    },
    {
     "name": "stdout",
     "output_type": "stream",
     "text": [
      "query Des Moines Register\n"
     ]
    },
    {
     "name": "stderr",
     "output_type": "stream",
     "text": [
      "  4%|▍         | 28/624 [00:49<17:58,  1.81s/it]"
     ]
    },
    {
     "name": "stdout",
     "output_type": "stream",
     "text": [
      "query The Tonight Show with Jay Leno\n"
     ]
    },
    {
     "name": "stderr",
     "output_type": "stream",
     "text": [
      "  5%|▍         | 31/624 [00:58<21:48,  2.21s/it]"
     ]
    },
    {
     "name": "stdout",
     "output_type": "stream",
     "text": [
      "query Joint DHS and ODNI Election Security Statement\n"
     ]
    },
    {
     "name": "stderr",
     "output_type": "stream",
     "text": [
      "  5%|▌         | 33/624 [01:01<16:23,  1.66s/it]"
     ]
    },
    {
     "name": "stdout",
     "output_type": "stream",
     "text": [
      "query Palin-Huey\n"
     ]
    },
    {
     "name": "stderr",
     "output_type": "stream",
     "text": [
      "  6%|▌         | 35/624 [01:03<13:50,  1.41s/it]"
     ]
    },
    {
     "name": "stdout",
     "output_type": "stream",
     "text": [
      "query No, We Can’t? Or Won’t?\n"
     ]
    },
    {
     "name": "stderr",
     "output_type": "stream",
     "text": [
      "  7%|▋         | 43/624 [01:14<10:22,  1.07s/it]"
     ]
    },
    {
     "name": "stdout",
     "output_type": "stream",
     "text": [
      "query Change We Can Believe In\n"
     ]
    },
    {
     "name": "stderr",
     "output_type": "stream",
     "text": [
      "  7%|▋         | 46/624 [01:18<12:24,  1.29s/it]"
     ]
    },
    {
     "name": "stdout",
     "output_type": "stream",
     "text": [
      "query Dr. James Dobson\n"
     ]
    },
    {
     "name": "stderr",
     "output_type": "stream",
     "text": [
      "  9%|▉         | 59/624 [01:34<09:28,  1.01s/it]"
     ]
    },
    {
     "name": "stdout",
     "output_type": "stream",
     "text": [
      "query Congress: Job Ratings\n"
     ]
    },
    {
     "name": "stderr",
     "output_type": "stream",
     "text": [
      " 11%|█         | 69/624 [01:49<11:45,  1.27s/it]"
     ]
    },
    {
     "name": "stdout",
     "output_type": "stream",
     "text": [
      "query Organizing for Action\n"
     ]
    },
    {
     "name": "stderr",
     "output_type": "stream",
     "text": [
      " 11%|█         | 70/624 [01:54<22:00,  2.38s/it]"
     ]
    },
    {
     "name": "stdout",
     "output_type": "stream",
     "text": [
      "query 2008 Presidential Election\n"
     ]
    },
    {
     "name": "stderr",
     "output_type": "stream",
     "text": [
      " 11%|█▏        | 71/624 [01:57<24:53,  2.70s/it]"
     ]
    },
    {
     "name": "stdout",
     "output_type": "stream",
     "text": [
      "query The Return of the Viral Email\n"
     ]
    },
    {
     "name": "stderr",
     "output_type": "stream",
     "text": [
      " 12%|█▏        | 73/624 [01:59<17:16,  1.88s/it]"
     ]
    },
    {
     "name": "stdout",
     "output_type": "stream",
     "text": [
      "query International Energy Statistics\n"
     ]
    },
    {
     "name": "stderr",
     "output_type": "stream",
     "text": [
      " 12%|█▏        | 74/624 [02:03<22:16,  2.43s/it]"
     ]
    },
    {
     "name": "stdout",
     "output_type": "stream",
     "text": [
      "query Interview with Sen John McCain\n"
     ]
    },
    {
     "name": "stderr",
     "output_type": "stream",
     "text": [
      " 13%|█▎        | 79/624 [02:09<11:52,  1.31s/it]"
     ]
    },
    {
     "name": "stdout",
     "output_type": "stream",
     "text": [
      "query Candidate Comparison\n"
     ]
    },
    {
     "name": "stderr",
     "output_type": "stream",
     "text": [
      " 13%|█▎        | 82/624 [02:17<17:03,  1.89s/it]"
     ]
    },
    {
     "name": "stdout",
     "output_type": "stream",
     "text": [
      "query \"New Energy\" Ad\n"
     ]
    },
    {
     "name": "stderr",
     "output_type": "stream",
     "text": [
      " 13%|█▎        | 83/624 [02:24<30:12,  3.35s/it]"
     ]
    },
    {
     "name": "stdout",
     "output_type": "stream",
     "text": [
      "query Session Law\n"
     ]
    },
    {
     "name": "stderr",
     "output_type": "stream",
     "text": [
      " 13%|█▎        | 84/624 [02:27<29:40,  3.30s/it]"
     ]
    },
    {
     "name": "stdout",
     "output_type": "stream",
     "text": [
      "query Interview with Rudy Giuliani\n"
     ]
    },
    {
     "name": "stderr",
     "output_type": "stream",
     "text": [
      " 14%|█▍        | 88/624 [02:33<16:08,  1.81s/it]"
     ]
    },
    {
     "name": "stdout",
     "output_type": "stream",
     "text": [
      "query 'This Week' Transcript: Biden\n"
     ]
    },
    {
     "name": "stderr",
     "output_type": "stream",
     "text": [
      " 15%|█▌        | 94/624 [02:40<08:55,  1.01s/it]"
     ]
    },
    {
     "name": "stdout",
     "output_type": "stream",
     "text": [
      "query remarks in Philadelphia\n"
     ]
    },
    {
     "name": "stderr",
     "output_type": "stream",
     "text": [
      " 17%|█▋        | 103/624 [02:52<08:55,  1.03s/it]"
     ]
    },
    {
     "name": "stdout",
     "output_type": "stream",
     "text": [
      "query Full Interview Transcript: President Barack Obama\n"
     ]
    },
    {
     "name": "stderr",
     "output_type": "stream",
     "text": [
      " 18%|█▊        | 110/624 [02:59<08:33,  1.00it/s]"
     ]
    },
    {
     "name": "stdout",
     "output_type": "stream",
     "text": [
      "query The Colbert Report\n"
     ]
    },
    {
     "name": "stderr",
     "output_type": "stream",
     "text": [
      " 20%|█▉        | 123/624 [03:15<08:33,  1.02s/it]"
     ]
    },
    {
     "name": "stdout",
     "output_type": "stream",
     "text": [
      "query SECRET VIDEO: Romney Tells Millionaire Donors What He REALLY Thinks of Obama Voters\n"
     ]
    },
    {
     "name": "stderr",
     "output_type": "stream",
     "text": [
      " 21%|██        | 128/624 [03:22<09:14,  1.12s/it]"
     ]
    },
    {
     "name": "stdout",
     "output_type": "stream",
     "text": [
      "query Giuliani in New Hampshire\n"
     ]
    },
    {
     "name": "stderr",
     "output_type": "stream",
     "text": [
      " 21%|██        | 132/624 [03:29<12:53,  1.57s/it]"
     ]
    },
    {
     "name": "stdout",
     "output_type": "stream",
     "text": [
      "query Mike Gravel 2008\n"
     ]
    },
    {
     "name": "stderr",
     "output_type": "stream",
     "text": [
      " 22%|██▏       | 136/624 [03:35<10:22,  1.28s/it]"
     ]
    },
    {
     "name": "stdout",
     "output_type": "stream",
     "text": [
      "query Local News Headlines Hawaii\n"
     ]
    },
    {
     "name": "stderr",
     "output_type": "stream",
     "text": [
      " 22%|██▏       | 137/624 [03:36<10:32,  1.30s/it]"
     ]
    },
    {
     "name": "stdout",
     "output_type": "stream",
     "text": [
      "query Michael Bennet for US Senate\n"
     ]
    },
    {
     "name": "stderr",
     "output_type": "stream",
     "text": [
      " 22%|██▏       | 138/624 [03:38<11:14,  1.39s/it]"
     ]
    },
    {
     "name": "stdout",
     "output_type": "stream",
     "text": [
      "query U.S. Senator Rand Paul of Kentucky\n"
     ]
    },
    {
     "name": "stderr",
     "output_type": "stream",
     "text": [
      " 23%|██▎       | 141/624 [03:41<09:34,  1.19s/it]"
     ]
    },
    {
     "name": "stdout",
     "output_type": "stream",
     "text": [
      "query Transcripts\n"
     ]
    },
    {
     "name": "stderr",
     "output_type": "stream",
     "text": [
      " 23%|██▎       | 145/624 [03:48<10:35,  1.33s/it]"
     ]
    },
    {
     "name": "stdout",
     "output_type": "stream",
     "text": [
      "query White and Blue Fund ad\n"
     ]
    },
    {
     "name": "stderr",
     "output_type": "stream",
     "text": [
      " 24%|██▍       | 151/624 [03:54<07:53,  1.00s/it]"
     ]
    },
    {
     "name": "stdout",
     "output_type": "stream",
     "text": [
      "query Transcripts\n"
     ]
    },
    {
     "name": "stderr",
     "output_type": "stream",
     "text": [
      " 25%|██▍       | 153/624 [03:56<08:59,  1.15s/it]"
     ]
    },
    {
     "name": "stdout",
     "output_type": "stream",
     "text": [
      "query U.S. Solar Market Insight Report\n"
     ]
    },
    {
     "name": "stderr",
     "output_type": "stream",
     "text": [
      " 25%|██▍       | 154/624 [03:58<09:27,  1.21s/it]"
     ]
    },
    {
     "name": "stdout",
     "output_type": "stream",
     "text": [
      "query FrontPage Magazine\n"
     ]
    },
    {
     "name": "stderr",
     "output_type": "stream",
     "text": [
      " 25%|██▌       | 157/624 [04:02<09:53,  1.27s/it]"
     ]
    },
    {
     "name": "stdout",
     "output_type": "stream",
     "text": [
      "query Critical Mention\n"
     ]
    },
    {
     "name": "stderr",
     "output_type": "stream",
     "text": [
      " 26%|██▋       | 165/624 [04:16<08:58,  1.17s/it]"
     ]
    },
    {
     "name": "stdout",
     "output_type": "stream",
     "text": [
      "query John McCain for President\n"
     ]
    },
    {
     "name": "stderr",
     "output_type": "stream",
     "text": [
      " 27%|██▋       | 166/624 [04:19<13:59,  1.83s/it]"
     ]
    },
    {
     "name": "stdout",
     "output_type": "stream",
     "text": [
      "query Des Moines Register\n"
     ]
    },
    {
     "name": "stderr",
     "output_type": "stream",
     "text": [
      " 27%|██▋       | 167/624 [04:23<17:47,  2.34s/it]"
     ]
    },
    {
     "name": "stdout",
     "output_type": "stream",
     "text": [
      "query New York Election Results November 7\n"
     ]
    },
    {
     "name": "stderr",
     "output_type": "stream",
     "text": [
      " 27%|██▋       | 169/624 [04:34<25:53,  3.41s/it]"
     ]
    },
    {
     "name": "stdout",
     "output_type": "stream",
     "text": [
      "query \"On and On\"\n"
     ]
    },
    {
     "name": "stderr",
     "output_type": "stream",
     "text": [
      " 27%|██▋       | 171/624 [04:39<22:28,  2.98s/it]"
     ]
    },
    {
     "name": "stdout",
     "output_type": "stream",
     "text": [
      "query Monthly Budget Review\n"
     ]
    },
    {
     "name": "stderr",
     "output_type": "stream",
     "text": [
      " 28%|██▊       | 173/624 [04:43<18:12,  2.42s/it]"
     ]
    },
    {
     "name": "stdout",
     "output_type": "stream",
     "text": [
      "query Centers for Disease Control and Prevention\n"
     ]
    },
    {
     "name": "stderr",
     "output_type": "stream",
     "text": [
      " 28%|██▊       | 175/624 [04:53<27:55,  3.73s/it]"
     ]
    },
    {
     "name": "stdout",
     "output_type": "stream",
     "text": [
      "query NRA President David Keene Rejects White House Gun Control Approach | PBS NewsHour | Jan. 15, 2013\n"
     ]
    },
    {
     "name": "stderr",
     "output_type": "stream",
     "text": [
      " 28%|██▊       | 176/624 [04:55<23:00,  3.08s/it]"
     ]
    },
    {
     "name": "stdout",
     "output_type": "stream",
     "text": [
      "query Let’s Not Be Civil\n"
     ]
    },
    {
     "name": "stderr",
     "output_type": "stream",
     "text": [
      " 29%|██▊       | 178/624 [04:59<19:46,  2.66s/it]"
     ]
    },
    {
     "name": "stdout",
     "output_type": "stream",
     "text": [
      "query U.S. Department of Education Budget History\n"
     ]
    },
    {
     "name": "stderr",
     "output_type": "stream",
     "text": [
      " 29%|██▉       | 182/624 [05:03<10:16,  1.40s/it]"
     ]
    },
    {
     "name": "stdout",
     "output_type": "stream",
     "text": [
      "query Border Security The Role of the US Border Patrol\n"
     ]
    },
    {
     "name": "stderr",
     "output_type": "stream",
     "text": [
      " 30%|██▉       | 185/624 [05:07<08:29,  1.16s/it]"
     ]
    },
    {
     "name": "stdout",
     "output_type": "stream",
     "text": [
      "query FindArticles.com\n"
     ]
    },
    {
     "name": "stderr",
     "output_type": "stream",
     "text": [
      " 30%|██▉       | 186/624 [05:08<08:52,  1.22s/it]"
     ]
    },
    {
     "name": "stdout",
     "output_type": "stream",
     "text": [
      "query All Nobel Peace Prizes\n"
     ]
    },
    {
     "name": "stderr",
     "output_type": "stream",
     "text": [
      " 30%|██▉       | 187/624 [05:15<21:46,  2.99s/it]"
     ]
    },
    {
     "name": "stdout",
     "output_type": "stream",
     "text": [
      "query U.S. Senator John McCain\n"
     ]
    },
    {
     "name": "stderr",
     "output_type": "stream",
     "text": [
      " 31%|███       | 192/624 [05:22<10:51,  1.51s/it]"
     ]
    },
    {
     "name": "stdout",
     "output_type": "stream",
     "text": [
      "query Transcripts\n"
     ]
    },
    {
     "name": "stderr",
     "output_type": "stream",
     "text": [
      " 32%|███▏      | 198/624 [05:31<08:34,  1.21s/it]"
     ]
    },
    {
     "name": "stdout",
     "output_type": "stream",
     "text": [
      "query Transcripts\n"
     ]
    },
    {
     "name": "stderr",
     "output_type": "stream",
     "text": [
      " 32%|███▏      | 201/624 [05:34<07:53,  1.12s/it]"
     ]
    },
    {
     "name": "stdout",
     "output_type": "stream",
     "text": [
      "query Planned Parenthood® Action Center\n"
     ]
    },
    {
     "name": "stderr",
     "output_type": "stream",
     "text": [
      " 33%|███▎      | 204/624 [05:49<19:19,  2.76s/it]"
     ]
    },
    {
     "name": "stdout",
     "output_type": "stream",
     "text": [
      "query More Czars Than the Romanovs\n"
     ]
    },
    {
     "name": "stderr",
     "output_type": "stream",
     "text": [
      " 35%|███▌      | 219/624 [06:04<06:45,  1.00s/it]"
     ]
    },
    {
     "name": "stdout",
     "output_type": "stream",
     "text": [
      "query 2008 Presidential Election\n"
     ]
    },
    {
     "name": "stderr",
     "output_type": "stream",
     "text": [
      " 35%|███▌      | 220/624 [06:07<12:02,  1.79s/it]"
     ]
    },
    {
     "name": "stdout",
     "output_type": "stream",
     "text": [
      "query Public financial disclosure report\n"
     ]
    },
    {
     "name": "stderr",
     "output_type": "stream",
     "text": [
      " 36%|███▌      | 224/624 [06:13<09:35,  1.44s/it]"
     ]
    },
    {
     "name": "stdout",
     "output_type": "stream",
     "text": [
      "query CNN's Don Lemon: Bill O'Reilly's Criticism Of Black Community \"Doesn't Go Far Enough\"\n"
     ]
    },
    {
     "name": "stderr",
     "output_type": "stream",
     "text": [
      " 36%|███▋      | 227/624 [06:16<07:54,  1.20s/it]"
     ]
    },
    {
     "name": "stdout",
     "output_type": "stream",
     "text": [
      "query Barack Obama on Twitter\n"
     ]
    },
    {
     "name": "stderr",
     "output_type": "stream",
     "text": [
      " 37%|███▋      | 229/624 [06:30<22:37,  3.44s/it]"
     ]
    },
    {
     "name": "stdout",
     "output_type": "stream",
     "text": [
      "query Noted and Quoted\n"
     ]
    },
    {
     "name": "stderr",
     "output_type": "stream",
     "text": [
      " 38%|███▊      | 239/624 [06:42<07:00,  1.09s/it]"
     ]
    },
    {
     "name": "stdout",
     "output_type": "stream",
     "text": [
      "query Fox News Sunday\n"
     ]
    },
    {
     "name": "stderr",
     "output_type": "stream",
     "text": [
      " 39%|███▉      | 244/624 [06:50<08:04,  1.28s/it]"
     ]
    },
    {
     "name": "stdout",
     "output_type": "stream",
     "text": [
      "query The Fact Hub\n"
     ]
    },
    {
     "name": "stderr",
     "output_type": "stream",
     "text": [
      " 40%|████      | 251/624 [06:59<06:52,  1.11s/it]"
     ]
    },
    {
     "name": "stdout",
     "output_type": "stream",
     "text": [
      "query Q&A: Did slaves build the White House?\n"
     ]
    },
    {
     "name": "stderr",
     "output_type": "stream",
     "text": [
      " 41%|████      | 257/624 [07:17<10:33,  1.73s/it]"
     ]
    },
    {
     "name": "stdout",
     "output_type": "stream",
     "text": [
      "query McCAIN, John Sidney, III\n"
     ]
    },
    {
     "name": "stderr",
     "output_type": "stream",
     "text": [
      " 42%|████▏     | 265/624 [07:25<06:14,  1.04s/it]"
     ]
    },
    {
     "name": "stdout",
     "output_type": "stream",
     "text": [
      "query US Trade in Goods\n"
     ]
    },
    {
     "name": "stderr",
     "output_type": "stream",
     "text": [
      " 43%|████▎     | 268/624 [07:31<08:25,  1.42s/it]"
     ]
    },
    {
     "name": "stdout",
     "output_type": "stream",
     "text": [
      "query Washington Post: Breaking News, World, US, DC News & Analysis\n",
      "query interview with Bloomberg television\n"
     ]
    },
    {
     "name": "stderr",
     "output_type": "stream",
     "text": [
      " 43%|████▎     | 271/624 [07:42<13:40,  2.32s/it]"
     ]
    },
    {
     "name": "stdout",
     "output_type": "stream",
     "text": [
      "query Justices 1789 to Present\n"
     ]
    },
    {
     "name": "stderr",
     "output_type": "stream",
     "text": [
      " 44%|████▍     | 277/624 [07:48<07:00,  1.21s/it]"
     ]
    },
    {
     "name": "stdout",
     "output_type": "stream",
     "text": [
      "query John McCain for President\n"
     ]
    },
    {
     "name": "stderr",
     "output_type": "stream",
     "text": [
      " 45%|████▌     | 283/624 [07:57<06:37,  1.17s/it]"
     ]
    },
    {
     "name": "stdout",
     "output_type": "stream",
     "text": [
      "query The Committee on Energy and Commerce\n"
     ]
    },
    {
     "name": "stderr",
     "output_type": "stream",
     "text": [
      " 46%|████▌     | 285/624 [08:02<08:50,  1.56s/it]"
     ]
    },
    {
     "name": "stdout",
     "output_type": "stream",
     "text": [
      "query Latest World News, Videos & Photos -ABC News - ABC News\n"
     ]
    },
    {
     "name": "stderr",
     "output_type": "stream",
     "text": [
      " 46%|████▋     | 289/624 [08:06<06:35,  1.18s/it]"
     ]
    },
    {
     "name": "stdout",
     "output_type": "stream",
     "text": [
      "query Transcript: Vice Presidential Debate\n"
     ]
    },
    {
     "name": "stderr",
     "output_type": "stream",
     "text": [
      " 48%|████▊     | 299/624 [08:18<06:04,  1.12s/it]"
     ]
    },
    {
     "name": "stdout",
     "output_type": "stream",
     "text": [
      "query Assistant professor of economics at the Gatton College of Business and Economics at University of Kentucky\n"
     ]
    },
    {
     "name": "stderr",
     "output_type": "stream",
     "text": [
      " 48%|████▊     | 301/624 [08:20<05:44,  1.07s/it]"
     ]
    },
    {
     "name": "stdout",
     "output_type": "stream",
     "text": [
      "query Public Citizen\n"
     ]
    },
    {
     "name": "stderr",
     "output_type": "stream",
     "text": [
      " 49%|████▉     | 306/624 [08:27<06:22,  1.20s/it]"
     ]
    },
    {
     "name": "stdout",
     "output_type": "stream",
     "text": [
      "query Resource Not Available\n"
     ]
    },
    {
     "name": "stderr",
     "output_type": "stream",
     "text": [
      " 49%|████▉     | 307/624 [08:31<09:48,  1.86s/it]"
     ]
    },
    {
     "name": "stdout",
     "output_type": "stream",
     "text": [
      "query McCain, Obama go head to head in last debate\n"
     ]
    },
    {
     "name": "stderr",
     "output_type": "stream",
     "text": [
      " 49%|████▉     | 308/624 [08:32<08:48,  1.67s/it]"
     ]
    },
    {
     "name": "stdout",
     "output_type": "stream",
     "text": [
      "query Take action\n"
     ]
    },
    {
     "name": "stderr",
     "output_type": "stream",
     "text": [
      " 50%|████▉     | 309/624 [08:40<19:34,  3.73s/it]"
     ]
    },
    {
     "name": "stdout",
     "output_type": "stream",
     "text": [
      "query Transcripts\n"
     ]
    },
    {
     "name": "stderr",
     "output_type": "stream",
     "text": [
      " 50%|█████     | 315/624 [08:49<07:19,  1.42s/it]"
     ]
    },
    {
     "name": "stdout",
     "output_type": "stream",
     "text": [
      "query Public Campaign Action Fund\n"
     ]
    },
    {
     "name": "stderr",
     "output_type": "stream",
     "text": [
      " 51%|█████▏    | 320/624 [08:57<06:41,  1.32s/it]"
     ]
    },
    {
     "name": "stdout",
     "output_type": "stream",
     "text": [
      "query United States Department of Defense\n"
     ]
    },
    {
     "name": "stderr",
     "output_type": "stream",
     "text": [
      " 52%|█████▏    | 325/624 [09:04<06:03,  1.22s/it]"
     ]
    },
    {
     "name": "stdout",
     "output_type": "stream",
     "text": [
      "query A Senate in the Gun Lobby’s Grip\n"
     ]
    },
    {
     "name": "stderr",
     "output_type": "stream",
     "text": [
      " 53%|█████▎    | 332/624 [09:14<05:33,  1.14s/it]"
     ]
    },
    {
     "name": "stdout",
     "output_type": "stream",
     "text": [
      "query Mourning in America\n"
     ]
    },
    {
     "name": "stderr",
     "output_type": "stream",
     "text": [
      " 54%|█████▎    | 335/624 [09:19<06:47,  1.41s/it]"
     ]
    },
    {
     "name": "stdout",
     "output_type": "stream",
     "text": [
      "query Interest Group Ratings\n"
     ]
    },
    {
     "name": "stderr",
     "output_type": "stream",
     "text": [
      " 54%|█████▍    | 336/624 [09:21<07:50,  1.63s/it]"
     ]
    },
    {
     "name": "stdout",
     "output_type": "stream",
     "text": [
      "query First Presidential Debate\n"
     ]
    },
    {
     "name": "stderr",
     "output_type": "stream",
     "text": [
      " 54%|█████▍    | 339/624 [09:31<10:29,  2.21s/it]"
     ]
    },
    {
     "name": "stdout",
     "output_type": "stream",
     "text": [
      "query John McCain\n"
     ]
    },
    {
     "name": "stderr",
     "output_type": "stream",
     "text": [
      " 54%|█████▍    | 340/624 [09:35<12:22,  2.61s/it]"
     ]
    },
    {
     "name": "stdout",
     "output_type": "stream",
     "text": [
      "query McCain-Palin 2008\n"
     ]
    },
    {
     "name": "stderr",
     "output_type": "stream",
     "text": [
      " 55%|█████▌    | 344/624 [09:41<07:07,  1.53s/it]"
     ]
    },
    {
     "name": "stdout",
     "output_type": "stream",
     "text": [
      "query Democratic National Convention Committee\n"
     ]
    },
    {
     "name": "stderr",
     "output_type": "stream",
     "text": [
      " 55%|█████▌    | 346/624 [09:45<07:52,  1.70s/it]"
     ]
    },
    {
     "name": "stdout",
     "output_type": "stream",
     "text": [
      "query Social Security Online History Pages\n"
     ]
    },
    {
     "name": "stderr",
     "output_type": "stream",
     "text": [
      " 56%|█████▌    | 350/624 [09:49<05:23,  1.18s/it]"
     ]
    },
    {
     "name": "stdout",
     "output_type": "stream",
     "text": [
      "query foreign policy speech\n"
     ]
    },
    {
     "name": "stderr",
     "output_type": "stream",
     "text": [
      " 57%|█████▋    | 355/624 [10:04<07:58,  1.78s/it]"
     ]
    },
    {
     "name": "stdout",
     "output_type": "stream",
     "text": [
      "query Romney campaign ad\n"
     ]
    },
    {
     "name": "stderr",
     "output_type": "stream",
     "text": [
      " 58%|█████▊    | 361/624 [10:19<06:36,  1.51s/it]"
     ]
    },
    {
     "name": "stdout",
     "output_type": "stream",
     "text": [
      "query Rule by Rentiers\n"
     ]
    },
    {
     "name": "stderr",
     "output_type": "stream",
     "text": [
      " 58%|█████▊    | 365/624 [10:38<11:36,  2.69s/it]"
     ]
    },
    {
     "name": "stdout",
     "output_type": "stream",
     "text": [
      "query interview on Fox News\n"
     ]
    },
    {
     "name": "stderr",
     "output_type": "stream",
     "text": [
      " 59%|█████▉    | 367/624 [10:50<16:17,  3.80s/it]"
     ]
    },
    {
     "name": "stdout",
     "output_type": "stream",
     "text": [
      "query Change We Can Believe In\n"
     ]
    },
    {
     "name": "stderr",
     "output_type": "stream",
     "text": [
      " 59%|█████▉    | 370/624 [10:57<10:51,  2.57s/it]"
     ]
    },
    {
     "name": "stdout",
     "output_type": "stream",
     "text": [
      "query Democratic National Convention Committee\n"
     ]
    },
    {
     "name": "stderr",
     "output_type": "stream",
     "text": [
      " 60%|█████▉    | 372/624 [11:01<09:09,  2.18s/it]"
     ]
    },
    {
     "name": "stdout",
     "output_type": "stream",
     "text": [
      "query In Obama's Words\n"
     ]
    },
    {
     "name": "stderr",
     "output_type": "stream",
     "text": [
      " 60%|██████    | 376/624 [11:07<06:13,  1.50s/it]"
     ]
    },
    {
     "name": "stdout",
     "output_type": "stream",
     "text": [
      "query Popular baby names\n"
     ]
    },
    {
     "name": "stderr",
     "output_type": "stream",
     "text": [
      " 61%|██████    | 378/624 [11:11<07:12,  1.76s/it]"
     ]
    },
    {
     "name": "stdout",
     "output_type": "stream",
     "text": [
      "query speech in Cincinnati\n"
     ]
    },
    {
     "name": "stderr",
     "output_type": "stream",
     "text": [
      " 61%|██████    | 381/624 [11:22<09:35,  2.37s/it]"
     ]
    },
    {
     "name": "stdout",
     "output_type": "stream",
     "text": [
      "query Fox News Sunday\n"
     ]
    },
    {
     "name": "stderr",
     "output_type": "stream",
     "text": [
      " 61%|██████    | 382/624 [11:25<10:06,  2.51s/it]"
     ]
    },
    {
     "name": "stdout",
     "output_type": "stream",
     "text": [
      "query International Energy Statistics\n"
     ]
    },
    {
     "name": "stderr",
     "output_type": "stream",
     "text": [
      " 62%|██████▏   | 388/624 [11:38<06:06,  1.55s/it]"
     ]
    },
    {
     "name": "stdout",
     "output_type": "stream",
     "text": [
      "query Transcript: Interview with Donald Trump\n"
     ]
    },
    {
     "name": "stderr",
     "output_type": "stream",
     "text": [
      " 62%|██████▎   | 390/624 [11:43<07:05,  1.82s/it]"
     ]
    },
    {
     "name": "stdout",
     "output_type": "stream",
     "text": [
      "query Energy and Commerce Committee\n"
     ]
    },
    {
     "name": "stderr",
     "output_type": "stream",
     "text": [
      " 63%|██████▎   | 391/624 [11:46<08:30,  2.19s/it]"
     ]
    },
    {
     "name": "stdout",
     "output_type": "stream",
     "text": [
      "query Meet Barack Obama\n"
     ]
    },
    {
     "name": "stderr",
     "output_type": "stream",
     "text": [
      " 63%|██████▎   | 392/624 [11:51<11:58,  3.10s/it]"
     ]
    },
    {
     "name": "stdout",
     "output_type": "stream",
     "text": [
      "query Redirect Notice\n"
     ]
    },
    {
     "name": "stderr",
     "output_type": "stream",
     "text": [
      " 63%|██████▎   | 395/624 [12:09<14:58,  3.92s/it]"
     ]
    },
    {
     "name": "stdout",
     "output_type": "stream",
     "text": [
      "query Shields and Gerson on Cabinet Noms, Gun Laws, Boehner's Leadership | PBS NewsHour | Dec. 21, 2012\n"
     ]
    },
    {
     "name": "stderr",
     "output_type": "stream",
     "text": [
      " 64%|██████▍   | 401/624 [12:17<05:15,  1.42s/it]"
     ]
    },
    {
     "name": "stdout",
     "output_type": "stream",
     "text": [
      "query Executive Order Protecting the Nation from Foreign Terrorist Entry into the United States\n"
     ]
    },
    {
     "name": "stderr",
     "output_type": "stream",
     "text": [
      " 65%|██████▌   | 406/624 [12:23<04:13,  1.16s/it]"
     ]
    },
    {
     "name": "stdout",
     "output_type": "stream",
     "text": [
      "query Memorial Day\n"
     ]
    },
    {
     "name": "stderr",
     "output_type": "stream",
     "text": [
      " 66%|██████▌   | 409/624 [12:28<04:50,  1.35s/it]"
     ]
    },
    {
     "name": "stdout",
     "output_type": "stream",
     "text": [
      "query Family Policy Alliance\n"
     ]
    },
    {
     "name": "stderr",
     "output_type": "stream",
     "text": [
      " 66%|██████▌   | 410/624 [12:31<06:51,  1.92s/it]"
     ]
    },
    {
     "name": "stdout",
     "output_type": "stream",
     "text": [
      "query HillaryClinton.com\n"
     ]
    },
    {
     "name": "stderr",
     "output_type": "stream",
     "text": [
      " 66%|██████▋   | 414/624 [12:38<05:15,  1.50s/it]"
     ]
    },
    {
     "name": "stdout",
     "output_type": "stream",
     "text": [
      "query Supreme Court Vacancy Video\n"
     ]
    },
    {
     "name": "stderr",
     "output_type": "stream",
     "text": [
      " 67%|██████▋   | 415/624 [12:39<04:56,  1.42s/it]"
     ]
    },
    {
     "name": "stdout",
     "output_type": "stream",
     "text": [
      "query U.S. House Committee on Foreign Affairs\n"
     ]
    },
    {
     "name": "stderr",
     "output_type": "stream",
     "text": [
      " 67%|██████▋   | 421/624 [12:57<05:36,  1.66s/it]"
     ]
    },
    {
     "name": "stdout",
     "output_type": "stream",
     "text": [
      "query Resource Not Available\n"
     ]
    },
    {
     "name": "stderr",
     "output_type": "stream",
     "text": [
      " 68%|██████▊   | 423/624 [13:01<06:02,  1.80s/it]"
     ]
    },
    {
     "name": "stdout",
     "output_type": "stream",
     "text": [
      "query Transcripts\n"
     ]
    },
    {
     "name": "stderr",
     "output_type": "stream",
     "text": [
      " 68%|██████▊   | 424/624 [13:06<08:30,  2.55s/it]"
     ]
    },
    {
     "name": "stdout",
     "output_type": "stream",
     "text": [
      "query State of the Union 2013\n"
     ]
    },
    {
     "name": "stderr",
     "output_type": "stream",
     "text": [
      " 68%|██████▊   | 425/624 [13:09<08:59,  2.71s/it]"
     ]
    },
    {
     "name": "stdout",
     "output_type": "stream",
     "text": [
      "query Statement by the President\n"
     ]
    },
    {
     "name": "stderr",
     "output_type": "stream",
     "text": [
      " 69%|██████▉   | 432/624 [13:19<04:05,  1.28s/it]"
     ]
    },
    {
     "name": "stdout",
     "output_type": "stream",
     "text": [
      "query Uniform Crime Reports\n"
     ]
    },
    {
     "name": "stderr",
     "output_type": "stream",
     "text": [
      " 70%|██████▉   | 436/624 [13:25<04:03,  1.29s/it]"
     ]
    },
    {
     "name": "stdout",
     "output_type": "stream",
     "text": [
      "query ABC News: ABC News\n"
     ]
    },
    {
     "name": "stderr",
     "output_type": "stream",
     "text": [
      " 71%|███████   | 443/624 [13:33<03:18,  1.10s/it]"
     ]
    },
    {
     "name": "stdout",
     "output_type": "stream",
     "text": [
      "query McCain in Colorado\n"
     ]
    },
    {
     "name": "stderr",
     "output_type": "stream",
     "text": [
      " 72%|███████▏  | 447/624 [13:37<03:07,  1.06s/it]"
     ]
    },
    {
     "name": "stdout",
     "output_type": "stream",
     "text": [
      "query Rand Paul: We Must Demilitarize the Police\n"
     ]
    },
    {
     "name": "stderr",
     "output_type": "stream",
     "text": [
      " 74%|███████▎  | 459/624 [13:50<02:46,  1.01s/it]"
     ]
    },
    {
     "name": "stdout",
     "output_type": "stream",
     "text": [
      "query Statement by the President\n"
     ]
    },
    {
     "name": "stderr",
     "output_type": "stream",
     "text": [
      " 74%|███████▍  | 461/624 [13:55<05:19,  1.96s/it]"
     ]
    },
    {
     "name": "stdout",
     "output_type": "stream",
     "text": [
      "query Arizona Department of Public Safety\n"
     ]
    },
    {
     "name": "stderr",
     "output_type": "stream",
     "text": [
      " 75%|███████▌  | 469/624 [14:08<03:41,  1.43s/it]"
     ]
    },
    {
     "name": "stdout",
     "output_type": "stream",
     "text": [
      "query Fox News Sunday\n"
     ]
    },
    {
     "name": "stderr",
     "output_type": "stream",
     "text": [
      " 75%|███████▌  | 471/624 [14:13<04:26,  1.74s/it]"
     ]
    },
    {
     "name": "stdout",
     "output_type": "stream",
     "text": [
      "query Illinois General Assembly\n"
     ]
    },
    {
     "name": "stderr",
     "output_type": "stream",
     "text": [
      " 76%|███████▌  | 472/624 [14:15<05:00,  1.98s/it]"
     ]
    },
    {
     "name": "stdout",
     "output_type": "stream",
     "text": [
      "query Health Insurance Coverage in the United States 2015\n"
     ]
    },
    {
     "name": "stderr",
     "output_type": "stream",
     "text": [
      " 76%|███████▌  | 474/624 [14:18<03:53,  1.56s/it]"
     ]
    },
    {
     "name": "stdout",
     "output_type": "stream",
     "text": [
      "query The Republican Road to Recovery\n"
     ]
    },
    {
     "name": "stderr",
     "output_type": "stream",
     "text": [
      " 76%|███████▌  | 475/624 [14:20<04:05,  1.64s/it]"
     ]
    },
    {
     "name": "stdout",
     "output_type": "stream",
     "text": [
      "query Democratic National Convention\n"
     ]
    },
    {
     "name": "stderr",
     "output_type": "stream",
     "text": [
      " 76%|███████▋  | 476/624 [14:22<04:55,  2.00s/it]"
     ]
    },
    {
     "name": "stdout",
     "output_type": "stream",
     "text": [
      "query 60 Minutes Transcript\n"
     ]
    },
    {
     "name": "stderr",
     "output_type": "stream",
     "text": [
      " 76%|███████▋  | 477/624 [14:25<05:35,  2.28s/it]"
     ]
    },
    {
     "name": "stdout",
     "output_type": "stream",
     "text": [
      "query Bureau of Labor Statistics Data\n"
     ]
    },
    {
     "name": "stderr",
     "output_type": "stream",
     "text": [
      " 77%|███████▋  | 478/624 [14:29<06:29,  2.67s/it]"
     ]
    },
    {
     "name": "stdout",
     "output_type": "stream",
     "text": [
      "query The Texas Unmiracle\n"
     ]
    },
    {
     "name": "stderr",
     "output_type": "stream",
     "text": [
      " 77%|███████▋  | 481/624 [14:32<04:00,  1.68s/it]"
     ]
    },
    {
     "name": "stdout",
     "output_type": "stream",
     "text": [
      "query A comprehensive investigation of voter impersonation finds 31 credible incidents out of one billion ballots cast\n"
     ]
    },
    {
     "name": "stderr",
     "output_type": "stream",
     "text": [
      " 77%|███████▋  | 483/624 [14:35<03:28,  1.48s/it]"
     ]
    },
    {
     "name": "stdout",
     "output_type": "stream",
     "text": [
      "query The Des Moines Register\n"
     ]
    },
    {
     "name": "stderr",
     "output_type": "stream",
     "text": [
      " 79%|███████▉  | 496/624 [14:51<02:10,  1.02s/it]"
     ]
    },
    {
     "name": "stdout",
     "output_type": "stream",
     "text": [
      "query Massachusetts Department of Elementary and Secondary Education\n"
     ]
    },
    {
     "name": "stderr",
     "output_type": "stream",
     "text": [
      " 80%|███████▉  | 497/624 [14:52<02:32,  1.20s/it]"
     ]
    },
    {
     "name": "stdout",
     "output_type": "stream",
     "text": [
      "query Expanding Opportunity — #KempForum16 – Paul Ryan – Medium\n"
     ]
    },
    {
     "name": "stderr",
     "output_type": "stream",
     "text": [
      " 80%|███████▉  | 498/624 [14:59<06:16,  2.99s/it]"
     ]
    },
    {
     "name": "stdout",
     "output_type": "stream",
     "text": [
      "query Country of Origin Labeling (COOL)\n"
     ]
    },
    {
     "name": "stderr",
     "output_type": "stream",
     "text": [
      " 82%|████████▏ | 511/624 [15:13<02:00,  1.07s/it]"
     ]
    },
    {
     "name": "stdout",
     "output_type": "stream",
     "text": [
      "query John McCain for President\n"
     ]
    },
    {
     "name": "stderr",
     "output_type": "stream",
     "text": [
      " 82%|████████▏ | 514/624 [15:19<02:31,  1.38s/it]"
     ]
    },
    {
     "name": "stdout",
     "output_type": "stream",
     "text": [
      "query Organizing for Action\n"
     ]
    },
    {
     "name": "stderr",
     "output_type": "stream",
     "text": [
      " 84%|████████▍ | 523/624 [15:30<01:46,  1.06s/it]"
     ]
    },
    {
     "name": "stdout",
     "output_type": "stream",
     "text": [
      "query by Mark Halperin\n"
     ]
    },
    {
     "name": "stderr",
     "output_type": "stream",
     "text": [
      " 86%|████████▌ | 534/624 [15:43<01:34,  1.05s/it]"
     ]
    },
    {
     "name": "stdout",
     "output_type": "stream",
     "text": [
      "query Federal Election Commission filing\n"
     ]
    },
    {
     "name": "stderr",
     "output_type": "stream",
     "text": [
      " 86%|████████▌ | 536/624 [15:59<05:42,  3.90s/it]"
     ]
    },
    {
     "name": "stdout",
     "output_type": "stream",
     "text": [
      "query Transcripts\n"
     ]
    },
    {
     "name": "stderr",
     "output_type": "stream",
     "text": [
      " 87%|████████▋ | 540/624 [16:05<02:40,  1.91s/it]"
     ]
    },
    {
     "name": "stdout",
     "output_type": "stream",
     "text": [
      "query Food Standards and Labeling Policy Book\n"
     ]
    },
    {
     "name": "stderr",
     "output_type": "stream",
     "text": [
      " 87%|████████▋ | 542/624 [16:08<02:12,  1.62s/it]"
     ]
    },
    {
     "name": "stdout",
     "output_type": "stream",
     "text": [
      "query Transcripts\n"
     ]
    },
    {
     "name": "stderr",
     "output_type": "stream",
     "text": [
      " 87%|████████▋ | 543/624 [16:09<02:02,  1.52s/it]"
     ]
    },
    {
     "name": "stdout",
     "output_type": "stream",
     "text": [
      "query Nancy Pelosi, Wicked Witch of the West\n"
     ]
    },
    {
     "name": "stderr",
     "output_type": "stream",
     "text": [
      " 88%|████████▊ | 550/624 [16:17<01:20,  1.09s/it]"
     ]
    },
    {
     "name": "stdout",
     "output_type": "stream",
     "text": [
      "query Harry Reid\n"
     ]
    },
    {
     "name": "stderr",
     "output_type": "stream",
     "text": [
      " 89%|████████▉ | 554/624 [16:23<01:28,  1.26s/it]"
     ]
    },
    {
     "name": "stdout",
     "output_type": "stream",
     "text": [
      "query speech on the floor of the US House of Representatives\n"
     ]
    },
    {
     "name": "stderr",
     "output_type": "stream",
     "text": [
      " 90%|████████▉ | 559/624 [16:36<02:27,  2.26s/it]"
     ]
    },
    {
     "name": "stdout",
     "output_type": "stream",
     "text": [
      "query Patient Protection and Affordable Care Act\n"
     ]
    },
    {
     "name": "stderr",
     "output_type": "stream",
     "text": [
      " 90%|████████▉ | 561/624 [16:41<02:19,  2.22s/it]"
     ]
    },
    {
     "name": "stdout",
     "output_type": "stream",
     "text": [
      "query Patient Protection and Affordable Care Act\n"
     ]
    },
    {
     "name": "stderr",
     "output_type": "stream",
     "text": [
      " 90%|█████████ | 562/624 [16:42<01:57,  1.89s/it]"
     ]
    },
    {
     "name": "stdout",
     "output_type": "stream",
     "text": [
      "query Sarah Palin on Twitter\n"
     ]
    },
    {
     "name": "stderr",
     "output_type": "stream",
     "text": [
      " 91%|█████████▏| 570/624 [16:53<01:04,  1.20s/it]"
     ]
    },
    {
     "name": "stdout",
     "output_type": "stream",
     "text": [
      "query The early catastrophe\n"
     ]
    },
    {
     "name": "stderr",
     "output_type": "stream",
     "text": [
      " 92%|█████████▏| 575/624 [17:00<00:56,  1.16s/it]"
     ]
    },
    {
     "name": "stdout",
     "output_type": "stream",
     "text": [
      "query U.S. Imports & Exports\n"
     ]
    },
    {
     "name": "stderr",
     "output_type": "stream",
     "text": [
      " 92%|█████████▏| 576/624 [17:04<01:30,  1.89s/it]"
     ]
    },
    {
     "name": "stdout",
     "output_type": "stream",
     "text": [
      "query Transcripts\n"
     ]
    },
    {
     "name": "stderr",
     "output_type": "stream",
     "text": [
      " 94%|█████████▍| 587/624 [17:30<00:33,  1.09it/s]"
     ]
    },
    {
     "name": "stdout",
     "output_type": "stream",
     "text": [
      "query Planned Parenthood® Action Center\n"
     ]
    },
    {
     "name": "stderr",
     "output_type": "stream",
     "text": [
      " 94%|█████████▍| 588/624 [17:33<00:56,  1.56s/it]"
     ]
    },
    {
     "name": "stdout",
     "output_type": "stream",
     "text": [
      "query Transcripts\n"
     ]
    },
    {
     "name": "stderr",
     "output_type": "stream",
     "text": [
      " 95%|█████████▍| 591/624 [17:37<00:44,  1.34s/it]"
     ]
    },
    {
     "name": "stdout",
     "output_type": "stream",
     "text": [
      "query Library of Congress\n"
     ]
    },
    {
     "name": "stderr",
     "output_type": "stream",
     "text": [
      " 95%|█████████▌| 594/624 [17:43<00:45,  1.53s/it]"
     ]
    },
    {
     "name": "stdout",
     "output_type": "stream",
     "text": [
      "query The Colbert Report\n"
     ]
    },
    {
     "name": "stderr",
     "output_type": "stream",
     "text": [
      " 95%|█████████▌| 595/624 [17:47<01:03,  2.17s/it]"
     ]
    },
    {
     "name": "stdout",
     "output_type": "stream",
     "text": [
      "query Stop Coddling the Super-Rich\n"
     ]
    },
    {
     "name": "stderr",
     "output_type": "stream",
     "text": [
      " 96%|█████████▌| 596/624 [18:11<04:06,  8.80s/it]"
     ]
    },
    {
     "name": "stdout",
     "output_type": "stream",
     "text": [
      "query Did Bernie Sanders vote against background checks and waiting periods for gun purchases?\n"
     ]
    },
    {
     "name": "stderr",
     "output_type": "stream",
     "text": [
      " 98%|█████████▊| 614/624 [18:29<00:09,  1.01it/s]"
     ]
    },
    {
     "name": "stdout",
     "output_type": "stream",
     "text": [
      "query The Daily Show with Trevor Noah\n"
     ]
    },
    {
     "name": "stderr",
     "output_type": "stream",
     "text": [
      " 99%|█████████▉| 620/624 [18:38<00:04,  1.15s/it]"
     ]
    },
    {
     "name": "stdout",
     "output_type": "stream",
     "text": [
      "query Change We Can Believe In\n"
     ]
    },
    {
     "name": "stderr",
     "output_type": "stream",
     "text": [
      "100%|█████████▉| 623/624 [18:43<00:01,  1.34s/it]"
     ]
    },
    {
     "name": "stdout",
     "output_type": "stream",
     "text": [
      "query Interest Group Ratings\n"
     ]
    },
    {
     "name": "stderr",
     "output_type": "stream",
     "text": [
      "100%|██████████| 624/624 [18:45<00:00,  1.80s/it]"
     ]
    },
    {
     "name": "stdout",
     "output_type": "stream",
     "text": [
      "Number of different news 159\n"
     ]
    },
    {
     "name": "stderr",
     "output_type": "stream",
     "text": [
      "\n"
     ]
    }
   ],
   "source": [
    "dataset_politifact_real = create_dataset(politifact_real, 10)"
   ]
  },
  {
   "cell_type": "code",
   "execution_count": 113,
   "metadata": {},
   "outputs": [
    {
     "data": {
      "text/html": [
       "<div>\n",
       "<style scoped>\n",
       "    .dataframe tbody tr th:only-of-type {\n",
       "        vertical-align: middle;\n",
       "    }\n",
       "\n",
       "    .dataframe tbody tr th {\n",
       "        vertical-align: top;\n",
       "    }\n",
       "\n",
       "    .dataframe thead th {\n",
       "        text-align: right;\n",
       "    }\n",
       "</style>\n",
       "<table border=\"1\" class=\"dataframe\">\n",
       "  <thead>\n",
       "    <tr style=\"text-align: right;\">\n",
       "      <th></th>\n",
       "      <th>post_uri</th>\n",
       "      <th>post_cid</th>\n",
       "      <th>type</th>\n",
       "      <th>date</th>\n",
       "      <th>news_id</th>\n",
       "      <th>like_count</th>\n",
       "      <th>repost_count</th>\n",
       "      <th>user_name</th>\n",
       "      <th>follower_count</th>\n",
       "      <th>follows_count</th>\n",
       "    </tr>\n",
       "  </thead>\n",
       "  <tbody>\n",
       "    <tr>\n",
       "      <th>0</th>\n",
       "      <td>at://did:plc:ngygrbhyzeyigjlxnli3r2xw/app.bsky...</td>\n",
       "      <td>bafyreiaim3w4bcbajxupci7vfnw67ozr4cmy72ttheimf...</td>\n",
       "      <td>post</td>\n",
       "      <td>2024-12-22T14:05:12.057Z</td>\n",
       "      <td>0    politifact14984\n",
       "Name: id, dtype: object</td>\n",
       "      <td>1</td>\n",
       "      <td>0</td>\n",
       "      <td>themoneycruncher.bsky.social</td>\n",
       "      <td>1049</td>\n",
       "      <td>102</td>\n",
       "    </tr>\n",
       "    <tr>\n",
       "      <th>1</th>\n",
       "      <td>at://did:plc:il7345tnmrhnzaufvgk5qfcx/app.bsky...</td>\n",
       "      <td>bafyreif2fveaw7subm7yfe6avtzkucglpvibgp2qols7o...</td>\n",
       "      <td>post</td>\n",
       "      <td>2024-12-12T21:35:44.118Z</td>\n",
       "      <td>0    politifact14984\n",
       "Name: id, dtype: object</td>\n",
       "      <td>1</td>\n",
       "      <td>0</td>\n",
       "      <td>srubenfeld.bsky.social</td>\n",
       "      <td>845</td>\n",
       "      <td>321</td>\n",
       "    </tr>\n",
       "    <tr>\n",
       "      <th>2</th>\n",
       "      <td>at://did:plc:sk44rhbmaca3ltsa4c6v6da2/app.bsky...</td>\n",
       "      <td>bafyreigvqyv6ih42pbugjdg3enkbidvu7etu3kstqxtwb...</td>\n",
       "      <td>post</td>\n",
       "      <td>2024-12-10T14:34:58Z</td>\n",
       "      <td>0    politifact14984\n",
       "Name: id, dtype: object</td>\n",
       "      <td>1</td>\n",
       "      <td>0</td>\n",
       "      <td>worldnewsguru.bsky.social</td>\n",
       "      <td>174</td>\n",
       "      <td>0</td>\n",
       "    </tr>\n",
       "    <tr>\n",
       "      <th>3</th>\n",
       "      <td>at://did:plc:vyytbbzsqq4ihfgpdlgyjwc3/app.bsky...</td>\n",
       "      <td>bafyreieh4m2ej3nw2s3amso4hxlw2kk6fqoblryw5ooh2...</td>\n",
       "      <td>post</td>\n",
       "      <td>2024-12-10T14:06:59Z</td>\n",
       "      <td>0    politifact14984\n",
       "Name: id, dtype: object</td>\n",
       "      <td>0</td>\n",
       "      <td>0</td>\n",
       "      <td>newsw0rld.bsky.social</td>\n",
       "      <td>34</td>\n",
       "      <td>19</td>\n",
       "    </tr>\n",
       "    <tr>\n",
       "      <th>4</th>\n",
       "      <td>at://did:plc:7bgttf5dscwdbpn5r67ig7zb/app.bsky...</td>\n",
       "      <td>bafyreiefdcvelgytdvv2fea24waarueb7whoeyma7756u...</td>\n",
       "      <td>post</td>\n",
       "      <td>2024-12-10T12:53:50.145Z</td>\n",
       "      <td>0    politifact14984\n",
       "Name: id, dtype: object</td>\n",
       "      <td>1</td>\n",
       "      <td>0</td>\n",
       "      <td>mjm314.bsky.social</td>\n",
       "      <td>781</td>\n",
       "      <td>1317</td>\n",
       "    </tr>\n",
       "  </tbody>\n",
       "</table>\n",
       "</div>"
      ],
      "text/plain": [
       "                                            post_uri  \\\n",
       "0  at://did:plc:ngygrbhyzeyigjlxnli3r2xw/app.bsky...   \n",
       "1  at://did:plc:il7345tnmrhnzaufvgk5qfcx/app.bsky...   \n",
       "2  at://did:plc:sk44rhbmaca3ltsa4c6v6da2/app.bsky...   \n",
       "3  at://did:plc:vyytbbzsqq4ihfgpdlgyjwc3/app.bsky...   \n",
       "4  at://did:plc:7bgttf5dscwdbpn5r67ig7zb/app.bsky...   \n",
       "\n",
       "                                            post_cid  type  \\\n",
       "0  bafyreiaim3w4bcbajxupci7vfnw67ozr4cmy72ttheimf...  post   \n",
       "1  bafyreif2fveaw7subm7yfe6avtzkucglpvibgp2qols7o...  post   \n",
       "2  bafyreigvqyv6ih42pbugjdg3enkbidvu7etu3kstqxtwb...  post   \n",
       "3  bafyreieh4m2ej3nw2s3amso4hxlw2kk6fqoblryw5ooh2...  post   \n",
       "4  bafyreiefdcvelgytdvv2fea24waarueb7whoeyma7756u...  post   \n",
       "\n",
       "                       date                                       news_id  \\\n",
       "0  2024-12-22T14:05:12.057Z  0    politifact14984\n",
       "Name: id, dtype: object   \n",
       "1  2024-12-12T21:35:44.118Z  0    politifact14984\n",
       "Name: id, dtype: object   \n",
       "2      2024-12-10T14:34:58Z  0    politifact14984\n",
       "Name: id, dtype: object   \n",
       "3      2024-12-10T14:06:59Z  0    politifact14984\n",
       "Name: id, dtype: object   \n",
       "4  2024-12-10T12:53:50.145Z  0    politifact14984\n",
       "Name: id, dtype: object   \n",
       "\n",
       "   like_count  repost_count                     user_name  follower_count  \\\n",
       "0           1             0  themoneycruncher.bsky.social            1049   \n",
       "1           1             0        srubenfeld.bsky.social             845   \n",
       "2           1             0     worldnewsguru.bsky.social             174   \n",
       "3           0             0         newsw0rld.bsky.social              34   \n",
       "4           1             0            mjm314.bsky.social             781   \n",
       "\n",
       "   follows_count  \n",
       "0            102  \n",
       "1            321  \n",
       "2              0  \n",
       "3             19  \n",
       "4           1317  "
      ]
     },
     "execution_count": 113,
     "metadata": {},
     "output_type": "execute_result"
    }
   ],
   "source": [
    "dataset_politifact_real.head()"
   ]
  },
  {
   "cell_type": "code",
   "execution_count": 114,
   "metadata": {},
   "outputs": [
    {
     "name": "stdout",
     "output_type": "stream",
     "text": [
      "<class 'pandas.core.frame.DataFrame'>\n",
      "RangeIndex: 1228 entries, 0 to 1227\n",
      "Data columns (total 10 columns):\n",
      " #   Column          Non-Null Count  Dtype \n",
      "---  ------          --------------  ----- \n",
      " 0   post_uri        1228 non-null   object\n",
      " 1   post_cid        1228 non-null   object\n",
      " 2   type            1228 non-null   object\n",
      " 3   date            1228 non-null   object\n",
      " 4   news_id         1228 non-null   object\n",
      " 5   like_count      1228 non-null   int64 \n",
      " 6   repost_count    1228 non-null   int64 \n",
      " 7   user_name       1228 non-null   object\n",
      " 8   follower_count  1228 non-null   int64 \n",
      " 9   follows_count   1228 non-null   int64 \n",
      "dtypes: int64(4), object(6)\n",
      "memory usage: 96.1+ KB\n"
     ]
    }
   ],
   "source": [
    "dataset_politifact_real.info()"
   ]
  },
  {
   "cell_type": "code",
   "execution_count": null,
   "metadata": {},
   "outputs": [],
   "source": [
    "def add_reposts(posts_dataset, limit=100):\n",
    "    \n",
    "    dataset = {\"post_uri\": [],\n",
    "                \"post_cid\": [],\n",
    "                \"type\": \"repost\",\n",
    "                \"date\": [],\n",
    "                \"news_id\": [],\n",
    "                \"like_count\": [],\n",
    "                \"repost_count\": [],\n",
    "                \"user_name\": [],\n",
    "                \"follower_count\": [],\n",
    "                \"follows_count\": [],\n",
    "                }\n",
    "    \n",
    "    \n",
    "    for query in tqdm(posts_dataset[\"post_uri\"]):\n",
    "        posts = search_repost(query, limit)\n",
    "        for post in posts[\"posts\"]:\n",
    "            profile = get_profile(post[\"author\"][\"handle\"])\n",
    "            dataset[\"post_uri\"].append(post[\"uri\"])\n",
    "            dataset[\"post_cid\"].append(post[\"cid\"])\n",
    "            dataset[\"date\"].append(post[\"record\"][\"createdAt\"])\n",
    "            dataset[\"news_id\"].append(news[news[\"title\"] == query][\"id\"])\n",
    "            dataset[\"like_count\"].append(post[\"likeCount\"])\n",
    "            dataset[\"repost_count\"].append(post[\"repostCount\"])\n",
    "            dataset[\"user_name\"].append(post[\"author\"][\"handle\"])\n",
    "            dataset[\"follower_count\"].append(profile[\"followersCount\"])\n",
    "            dataset[\"follows_count\"].append(profile[\"followsCount\"])\n",
    "            \n",
    "    dataframe = pd.DataFrame(dataset, columns=[\"post_uri\", \"post_cid\", \"type\", \"date\", \"news_id\", \"like_count\", \"repost_count\", \"user_name\", \"follower_count\", \"follows_count\"])\n",
    "    print(\"Number of different news\", count_nonzeros)\n",
    "            \n",
    "    return dataframe"
   ]
  }
 ],
 "metadata": {
  "kernelspec": {
   "display_name": "fake_news",
   "language": "python",
   "name": "python3"
  },
  "language_info": {
   "codemirror_mode": {
    "name": "ipython",
    "version": 3
   },
   "file_extension": ".py",
   "mimetype": "text/x-python",
   "name": "python",
   "nbconvert_exporter": "python",
   "pygments_lexer": "ipython3",
   "version": "3.9.21"
  }
 },
 "nbformat": 4,
 "nbformat_minor": 2
}
