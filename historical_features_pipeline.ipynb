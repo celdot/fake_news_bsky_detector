{
 "cells": [
  {
   "cell_type": "code",
   "execution_count": 2,
   "metadata": {},
   "outputs": [],
   "source": [
    "import pandas as pd\n",
    "import features_processing_utils as fpu\n",
    "import hopsworks\n",
    "import numpy as np"
   ]
  },
  {
   "cell_type": "markdown",
   "metadata": {},
   "source": [
    "Log into Hopsworks"
   ]
  },
  {
   "cell_type": "code",
   "execution_count": 3,
   "metadata": {},
   "outputs": [
    {
     "name": "stdout",
     "output_type": "stream",
     "text": [
      "2025-01-07 23:40:21,645 INFO: Initializing external client\n",
      "2025-01-07 23:40:21,646 INFO: Base URL: https://c.app.hopsworks.ai:443\n",
      "2025-01-07 23:40:23,878 INFO: Python Engine initialized.\n",
      "\n",
      "Logged in to project, explore it here https://c.app.hopsworks.ai:443/p/1149079\n"
     ]
    }
   ],
   "source": [
    "project = hopsworks.login()\n",
    "# util.purge_project(proj)"
   ]
  },
  {
   "cell_type": "code",
   "execution_count": 4,
   "metadata": {},
   "outputs": [],
   "source": [
    "fs = project.get_feature_store()"
   ]
  },
  {
   "cell_type": "code",
   "execution_count": 5,
   "metadata": {},
   "outputs": [],
   "source": [
    "gossipcop_fake = pd.read_csv(\"FakeNewsNet/gossipcop_fake.csv\")"
   ]
  },
  {
   "cell_type": "markdown",
   "metadata": {},
   "source": [
    "Didn't run it for 2800 to 3000 index"
   ]
  },
  {
   "cell_type": "code",
   "execution_count": 6,
   "metadata": {},
   "outputs": [],
   "source": [
    "# gossipcop_new_features = fpu.complete_processing(gossipcop_fake, 1, \"gossipcop_news_posts.csv\", \"gossipcop_news_features.csv\", 3300, 3500)"
   ]
  },
  {
   "cell_type": "code",
   "execution_count": 7,
   "metadata": {},
   "outputs": [],
   "source": [
    "# gossipcop_new_features.info()"
   ]
  },
  {
   "cell_type": "code",
   "execution_count": 8,
   "metadata": {},
   "outputs": [],
   "source": [
    "gossipcop_real = pd.read_csv(\"FakeNewsNet/gossipcop_real.csv\")"
   ]
  },
  {
   "cell_type": "code",
   "execution_count": 9,
   "metadata": {},
   "outputs": [
    {
     "name": "stderr",
     "output_type": "stream",
     "text": [
      " 47%|████▋     | 94/200 [03:37<01:47,  1.01s/it]"
     ]
    }
   ],
   "source": [
    "gossipcop_new_features = fpu.complete_processing(gossipcop_real, 0, \"gossipcop_new_posts.csv\", \"gossipcop_new_features.csv\", 2000, 2200)"
   ]
  },
  {
   "cell_type": "code",
   "execution_count": 10,
   "metadata": {},
   "outputs": [
    {
     "name": "stdout",
     "output_type": "stream",
     "text": [
      "<class 'pandas.core.frame.DataFrame'>\n",
      "RangeIndex: 13 entries, 0 to 12\n",
      "Data columns (total 13 columns):\n",
      " #   Column                     Non-Null Count  Dtype  \n",
      "---  ------                     --------------  -----  \n",
      " 0   news_id                    13 non-null     object \n",
      " 1   average followers          13 non-null     float64\n",
      " 2   average follows            13 non-null     float64\n",
      " 3   repost total               13 non-null     int64  \n",
      " 4   post total                 13 non-null     int64  \n",
      " 5   repost percentage          13 non-null     float64\n",
      " 6   label                      13 non-null     int64  \n",
      " 7   average repost             13 non-null     float64\n",
      " 8   average favorite           13 non-null     float64\n",
      " 9   news lifetime              13 non-null     float64\n",
      " 10  nb users 10 hours          13 non-null     int64  \n",
      " 11  average time difference    13 non-null     float64\n",
      " 12  retweet percentage 1 hour  13 non-null     float64\n",
      "dtypes: float64(8), int64(4), object(1)\n",
      "memory usage: 1.4+ KB\n"
     ]
    }
   ],
   "source": [
    "gossipcop_new_features.info()"
   ]
  },
  {
   "cell_type": "code",
   "execution_count": 36,
   "metadata": {},
   "outputs": [],
   "source": [
    "#gossicop_fake_features = fpu.complete_processing(gossipcop_fake, 1, \"gossipcop_fake_posts_4.csv\", \"gossipcop_fake_features_4.csv\", 3000, 4000)\n",
    "# gossicop_fake_features.info()"
   ]
  },
  {
   "cell_type": "code",
   "execution_count": 37,
   "metadata": {},
   "outputs": [],
   "source": [
    "# fpu.complete_processing(gossipcop_fake, 1, \"gossipcop_fake_posts_5.csv\", \"gossipcop_fake_features_5.csv\", 4000, 5000)"
   ]
  },
  {
   "cell_type": "code",
   "execution_count": 38,
   "metadata": {},
   "outputs": [],
   "source": [
    "# fpu.complete_processing(gossipcop_real, 0, \"gossipcop_real_posts_3.csv\", \"gossipcop_real_features_3.csv\", 2000, 3000)"
   ]
  },
  {
   "cell_type": "code",
   "execution_count": 39,
   "metadata": {},
   "outputs": [],
   "source": [
    "# fpu.complete_processing(gossipcop_real, 0, \"gossipcop_real_posts_4.csv\", \"gossipcop_real_features_4.csv\", 3000, 4000)"
   ]
  },
  {
   "cell_type": "code",
   "execution_count": 40,
   "metadata": {},
   "outputs": [],
   "source": [
    "# gossicop_real_features = fpu.complete_processing(gossipcop_real, 0, \"gossipcop_real_posts_5.csv\", \"gossipcop_real_features_5.csv\", 4000)\n",
    "# gossicop_real_features.info()"
   ]
  },
  {
   "cell_type": "code",
   "execution_count": 41,
   "metadata": {},
   "outputs": [
    {
     "name": "stdout",
     "output_type": "stream",
     "text": [
      "<class 'pandas.core.frame.DataFrame'>\n",
      "RangeIndex: 374 entries, 0 to 373\n",
      "Data columns (total 13 columns):\n",
      " #   Column                     Non-Null Count  Dtype  \n",
      "---  ------                     --------------  -----  \n",
      " 0   news_id                    374 non-null    object \n",
      " 1   average_followers          374 non-null    float64\n",
      " 2   average_follows            374 non-null    float64\n",
      " 3   repost_total               374 non-null    int64  \n",
      " 4   post_total                 374 non-null    int64  \n",
      " 5   repost_percentage          374 non-null    float64\n",
      " 6   label                      374 non-null    int64  \n",
      " 7   average_repost             374 non-null    float64\n",
      " 8   average_favorite           374 non-null    float64\n",
      " 9   news_lifetime              374 non-null    float64\n",
      " 10  nb_users_10_hours          374 non-null    int64  \n",
      " 11  average_time_difference    374 non-null    float64\n",
      " 12  retweet_percentage_1_hour  374 non-null    float64\n",
      "dtypes: float64(8), int64(4), object(1)\n",
      "memory usage: 38.1+ KB\n"
     ]
    }
   ],
   "source": [
    "gossipcop_features = pd.read_csv(\"data/gossipcop_features.csv\")\n",
    "gossipcop_features.info()"
   ]
  },
  {
   "cell_type": "code",
   "execution_count": 42,
   "metadata": {},
   "outputs": [],
   "source": [
    "# change names of columns to add underscore\n",
    "gossipcop_features.columns = gossipcop_features.columns.str.replace(' ', '_')\n",
    "gossipcop_new_features.columns = gossipcop_new_features.columns.str.replace(' ', '_')"
   ]
  },
  {
   "cell_type": "code",
   "execution_count": 43,
   "metadata": {},
   "outputs": [],
   "source": [
    "gossipcop_features = pd.concat([gossipcop_features, gossipcop_new_features], ignore_index=True)"
   ]
  },
  {
   "cell_type": "code",
   "execution_count": 44,
   "metadata": {},
   "outputs": [
    {
     "name": "stdout",
     "output_type": "stream",
     "text": [
      "<class 'pandas.core.frame.DataFrame'>\n",
      "RangeIndex: 403 entries, 0 to 402\n",
      "Data columns (total 13 columns):\n",
      " #   Column                     Non-Null Count  Dtype  \n",
      "---  ------                     --------------  -----  \n",
      " 0   news_id                    403 non-null    object \n",
      " 1   average_followers          403 non-null    float64\n",
      " 2   average_follows            403 non-null    float64\n",
      " 3   repost_total               403 non-null    int64  \n",
      " 4   post_total                 403 non-null    int64  \n",
      " 5   repost_percentage          403 non-null    float64\n",
      " 6   label                      403 non-null    int64  \n",
      " 7   average_repost             403 non-null    float64\n",
      " 8   average_favorite           403 non-null    float64\n",
      " 9   news_lifetime              403 non-null    float64\n",
      " 10  nb_users_10_hours          403 non-null    int64  \n",
      " 11  average_time_difference    403 non-null    float64\n",
      " 12  retweet_percentage_1_hour  403 non-null    float64\n",
      "dtypes: float64(8), int64(4), object(1)\n",
      "memory usage: 41.1+ KB\n"
     ]
    }
   ],
   "source": [
    "gossipcop_features.info()"
   ]
  },
  {
   "cell_type": "code",
   "execution_count": 45,
   "metadata": {},
   "outputs": [],
   "source": [
    "gossipcop_features.to_csv(\"data/gossipcop_features.csv\", index=False)"
   ]
  },
  {
   "cell_type": "code",
   "execution_count": 46,
   "metadata": {},
   "outputs": [],
   "source": [
    "news_propagation_fg = fs.get_feature_group(\n",
    "    name=\"news_propagation\",\n",
    "    version=1,\n",
    ")"
   ]
  },
  {
   "cell_type": "code",
   "execution_count": 47,
   "metadata": {},
   "outputs": [
    {
     "name": "stdout",
     "output_type": "stream",
     "text": [
      "Finished: Reading data from Hopsworks, using Hopsworks Feature Query Service (1.05s) \n"
     ]
    }
   ],
   "source": [
    "historical_features = news_propagation_fg.select_all().read()"
   ]
  },
  {
   "cell_type": "code",
   "execution_count": 48,
   "metadata": {},
   "outputs": [],
   "source": [
    "historical_features = pd.concat([historical_features, gossipcop_new_features])"
   ]
  },
  {
   "cell_type": "code",
   "execution_count": 49,
   "metadata": {},
   "outputs": [],
   "source": [
    "historical_features[\"news_lifetime\"] = historical_features[\"news_lifetime\"].astype(np.int64)"
   ]
  },
  {
   "cell_type": "code",
   "execution_count": 50,
   "metadata": {},
   "outputs": [
    {
     "name": "stdout",
     "output_type": "stream",
     "text": [
      "<class 'pandas.core.frame.DataFrame'>\n",
      "Index: 562 entries, 0 to 28\n",
      "Data columns (total 13 columns):\n",
      " #   Column                     Non-Null Count  Dtype  \n",
      "---  ------                     --------------  -----  \n",
      " 0   news_id                    562 non-null    object \n",
      " 1   average_followers          562 non-null    float64\n",
      " 2   average_follows            562 non-null    float64\n",
      " 3   repost_total               562 non-null    int64  \n",
      " 4   post_total                 562 non-null    int64  \n",
      " 5   repost_percentage          562 non-null    float64\n",
      " 6   average_repost             562 non-null    float64\n",
      " 7   average_favorite           562 non-null    float64\n",
      " 8   label                      562 non-null    int64  \n",
      " 9   news_lifetime              562 non-null    int64  \n",
      " 10  nb_users_10_hours          562 non-null    int64  \n",
      " 11  average_time_difference    562 non-null    float64\n",
      " 12  retweet_percentage_1_hour  562 non-null    float64\n",
      "dtypes: float64(7), int64(5), object(1)\n",
      "memory usage: 61.5+ KB\n"
     ]
    }
   ],
   "source": [
    "historical_features.info()"
   ]
  },
  {
   "cell_type": "code",
   "execution_count": 51,
   "metadata": {},
   "outputs": [
    {
     "data": {
      "text/plain": [
       "label\n",
       "0    277\n",
       "1    285\n",
       "dtype: int64"
      ]
     },
     "execution_count": 51,
     "metadata": {},
     "output_type": "execute_result"
    }
   ],
   "source": [
    "historical_features.groupby(\"label\").size()"
   ]
  },
  {
   "cell_type": "code",
   "execution_count": 52,
   "metadata": {},
   "outputs": [
    {
     "data": {
      "text/plain": [
       "Index(['news_id', 'average_followers', 'average_follows', 'repost_total',\n",
       "       'post_total', 'repost_percentage', 'average_repost', 'average_favorite',\n",
       "       'label', 'news_lifetime', 'nb_users_10_hours',\n",
       "       'average_time_difference', 'retweet_percentage_1_hour'],\n",
       "      dtype='object')"
      ]
     },
     "execution_count": 52,
     "metadata": {},
     "output_type": "execute_result"
    }
   ],
   "source": [
    "historical_features.columns"
   ]
  },
  {
   "cell_type": "code",
   "execution_count": 53,
   "metadata": {},
   "outputs": [],
   "source": [
    "historical_features.to_csv(\"data/historical_features.csv\", index=False)"
   ]
  },
  {
   "cell_type": "markdown",
   "metadata": {},
   "source": [
    "Save all the data into a Feature Store via Hopsworks"
   ]
  },
  {
   "cell_type": "markdown",
   "metadata": {},
   "source": [
    "Insert dataframe into Feature Group, ```expectation_suite``` should contain data validation rules => we need to come up withd data validation rules\n",
    "\n",
    "Do we actually need an event time ?"
   ]
  },
  {
   "cell_type": "code",
   "execution_count": 54,
   "metadata": {},
   "outputs": [],
   "source": [
    "news_propagation_fg = fs.get_or_create_feature_group(\n",
    "    name='news_propagation',\n",
    "    description='Propagation characteristics of news in Bsky',\n",
    "    version=1,\n",
    "    primary_key=['news_id'],\n",
    "    online_enabled=True,\n",
    ")"
   ]
  },
  {
   "cell_type": "code",
   "execution_count": 55,
   "metadata": {},
   "outputs": [
    {
     "name": "stderr",
     "output_type": "stream",
     "text": [
      "Uploading Dataframe: 100.00% |██████████| Rows 562/562 | Elapsed Time: 00:01 | Remaining Time: 00:00\n"
     ]
    },
    {
     "name": "stdout",
     "output_type": "stream",
     "text": [
      "Launching job: news_propagation_1_offline_fg_materialization\n",
      "Job started successfully, you can follow the progress at \n",
      "https://c.app.hopsworks.ai:443/p/1149079/jobs/named/news_propagation_1_offline_fg_materialization/executions\n",
      "2025-01-07 20:55:17,092 INFO: Waiting for execution to finish. Current state: SUBMITTED. Final status: UNDEFINED\n",
      "2025-01-07 20:55:20,291 INFO: Waiting for execution to finish. Current state: RUNNING. Final status: UNDEFINED\n",
      "2025-01-07 20:56:40,583 INFO: Waiting for execution to finish. Current state: AGGREGATING_LOGS. Final status: SUCCEEDED\n",
      "2025-01-07 20:56:40,753 INFO: Waiting for log aggregation to finish.\n",
      "2025-01-07 20:56:49,388 INFO: Execution finished successfully.\n"
     ]
    },
    {
     "data": {
      "text/plain": [
       "(Job('news_propagation_1_offline_fg_materialization', 'SPARK'), None)"
      ]
     },
     "execution_count": 55,
     "metadata": {},
     "output_type": "execute_result"
    }
   ],
   "source": [
    "news_propagation_fg.insert(historical_features, write_options={\"wait_for_job\": True})"
   ]
  },
  {
   "cell_type": "markdown",
   "metadata": {},
   "source": [
    "Add a description for each feature in the feature group."
   ]
  },
  {
   "cell_type": "code",
   "execution_count": 56,
   "metadata": {},
   "outputs": [
    {
     "data": {
      "text/plain": [
       "<hsfs.feature_group.FeatureGroup at 0x1d9c852e790>"
      ]
     },
     "execution_count": 56,
     "metadata": {},
     "output_type": "execute_result"
    }
   ],
   "source": [
    "news_propagation_fg.update_feature_description(\"news_id\", \"The id of the news\")\n",
    "news_propagation_fg.update_feature_description(\"average_followers\", \"The average number of followers of the users who posted or reposted the news\")\n",
    "news_propagation_fg.update_feature_description(\"average_follows\", \"The average number of follows of the users who posted or reposted the news\")\n",
    "news_propagation_fg.update_feature_description(\"repost_total\", \"The total number of reposts of the news\")\n",
    "news_propagation_fg.update_feature_description(\"post_total\", \"The total number of posts of the news\")\n",
    "news_propagation_fg.update_feature_description(\"repost_percentage\", \"The percentage of reposts of the news out of the total number of posts and reposts\")\n",
    "news_propagation_fg.update_feature_description(\"average_repost\", \"The average number of reposts of the news\")\n",
    "news_propagation_fg.update_feature_description(\"average_favorite\", \"The average number of likes of the news\")\n",
    "news_propagation_fg.update_feature_description(\"label\", \"The label of the news : if it is fake or real\")\n",
    "news_propagation_fg.update_feature_description(\"news_lifetime\", \"The lifetime of the news, which is the time difference between the first and the last post (or repost) of the news\")\n",
    "news_propagation_fg.update_feature_description(\"nb_users_10_hours\", \"The number of users who posted (or reposted) the news in the first 10 hours\")\n",
    "news_propagation_fg.update_feature_description(\"average_time_difference\", \"The average time difference between a post and its reposts of the news\")\n",
    "news_propagation_fg.update_feature_description(\"retweet_percentage_1_hour\", \"The percentage of retweets of the news in the first hour\")\n"
   ]
  }
 ],
 "metadata": {
  "kernelspec": {
   "display_name": "fake_news",
   "language": "python",
   "name": "python3"
  },
  "language_info": {
   "codemirror_mode": {
    "name": "ipython",
    "version": 3
   },
   "file_extension": ".py",
   "mimetype": "text/x-python",
   "name": "python",
   "nbconvert_exporter": "python",
   "pygments_lexer": "ipython3",
   "version": "3.9.21"
  }
 },
 "nbformat": 4,
 "nbformat_minor": 2
}
