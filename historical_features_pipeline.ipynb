{
 "cells": [
  {
   "cell_type": "code",
   "execution_count": 1,
   "metadata": {},
   "outputs": [],
   "source": [
    "import pandas as pd\n",
    "import features_processing_utils as fpu"
   ]
  },
  {
   "cell_type": "code",
   "execution_count": 2,
   "metadata": {},
   "outputs": [
    {
     "data": {
      "text/html": [
       "<div>\n",
       "<style scoped>\n",
       "    .dataframe tbody tr th:only-of-type {\n",
       "        vertical-align: middle;\n",
       "    }\n",
       "\n",
       "    .dataframe tbody tr th {\n",
       "        vertical-align: top;\n",
       "    }\n",
       "\n",
       "    .dataframe thead th {\n",
       "        text-align: right;\n",
       "    }\n",
       "</style>\n",
       "<table border=\"1\" class=\"dataframe\">\n",
       "  <thead>\n",
       "    <tr style=\"text-align: right;\">\n",
       "      <th></th>\n",
       "      <th>id</th>\n",
       "      <th>news_url</th>\n",
       "      <th>title</th>\n",
       "      <th>tweet_ids</th>\n",
       "    </tr>\n",
       "  </thead>\n",
       "  <tbody>\n",
       "    <tr>\n",
       "      <th>0</th>\n",
       "      <td>politifact15014</td>\n",
       "      <td>speedtalk.com/forum/viewtopic.php?t=51650</td>\n",
       "      <td>BREAKING: First NFL Team Declares Bankruptcy O...</td>\n",
       "      <td>937349434668498944\\t937379378006282240\\t937380...</td>\n",
       "    </tr>\n",
       "    <tr>\n",
       "      <th>1</th>\n",
       "      <td>politifact15156</td>\n",
       "      <td>politics2020.info/index.php/2018/03/13/court-o...</td>\n",
       "      <td>Court Orders Obama To Pay $400 Million In Rest...</td>\n",
       "      <td>972666281441878016\\t972678396575559680\\t972827...</td>\n",
       "    </tr>\n",
       "    <tr>\n",
       "      <th>2</th>\n",
       "      <td>politifact14745</td>\n",
       "      <td>www.nscdscamps.org/blog/category/parenting/467...</td>\n",
       "      <td>UPDATE: Second Roy Moore Accuser Works For Mic...</td>\n",
       "      <td>929405740732870656\\t929439450400264192\\t929439...</td>\n",
       "    </tr>\n",
       "    <tr>\n",
       "      <th>3</th>\n",
       "      <td>politifact14355</td>\n",
       "      <td>https://howafrica.com/oscar-pistorius-attempts...</td>\n",
       "      <td>Oscar Pistorius Attempts To Commit Suicide</td>\n",
       "      <td>886941526458347521\\t887011300278194176\\t887023...</td>\n",
       "    </tr>\n",
       "    <tr>\n",
       "      <th>4</th>\n",
       "      <td>politifact15371</td>\n",
       "      <td>http://washingtonsources.org/trump-votes-for-d...</td>\n",
       "      <td>Trump Votes For Death Penalty For Being Gay</td>\n",
       "      <td>915205698212040704\\t915242076681506816\\t915249...</td>\n",
       "    </tr>\n",
       "  </tbody>\n",
       "</table>\n",
       "</div>"
      ],
      "text/plain": [
       "                id                                           news_url  \\\n",
       "0  politifact15014          speedtalk.com/forum/viewtopic.php?t=51650   \n",
       "1  politifact15156  politics2020.info/index.php/2018/03/13/court-o...   \n",
       "2  politifact14745  www.nscdscamps.org/blog/category/parenting/467...   \n",
       "3  politifact14355  https://howafrica.com/oscar-pistorius-attempts...   \n",
       "4  politifact15371  http://washingtonsources.org/trump-votes-for-d...   \n",
       "\n",
       "                                               title  \\\n",
       "0  BREAKING: First NFL Team Declares Bankruptcy O...   \n",
       "1  Court Orders Obama To Pay $400 Million In Rest...   \n",
       "2  UPDATE: Second Roy Moore Accuser Works For Mic...   \n",
       "3         Oscar Pistorius Attempts To Commit Suicide   \n",
       "4        Trump Votes For Death Penalty For Being Gay   \n",
       "\n",
       "                                           tweet_ids  \n",
       "0  937349434668498944\\t937379378006282240\\t937380...  \n",
       "1  972666281441878016\\t972678396575559680\\t972827...  \n",
       "2  929405740732870656\\t929439450400264192\\t929439...  \n",
       "3  886941526458347521\\t887011300278194176\\t887023...  \n",
       "4  915205698212040704\\t915242076681506816\\t915249...  "
      ]
     },
     "execution_count": 2,
     "metadata": {},
     "output_type": "execute_result"
    }
   ],
   "source": [
    "politifact_fake = pd.read_csv(\"FakeNewsNet/politifact_fake.csv\")\n",
    "politifact_fake.head()"
   ]
  },
  {
   "cell_type": "code",
   "execution_count": 3,
   "metadata": {},
   "outputs": [
    {
     "name": "stdout",
     "output_type": "stream",
     "text": [
      "<class 'pandas.core.frame.DataFrame'>\n",
      "RangeIndex: 432 entries, 0 to 431\n",
      "Data columns (total 4 columns):\n",
      " #   Column     Non-Null Count  Dtype \n",
      "---  ------     --------------  ----- \n",
      " 0   id         432 non-null    object\n",
      " 1   news_url   428 non-null    object\n",
      " 2   title      432 non-null    object\n",
      " 3   tweet_ids  392 non-null    object\n",
      "dtypes: object(4)\n",
      "memory usage: 13.6+ KB\n"
     ]
    }
   ],
   "source": [
    "politifact_fake.info()"
   ]
  },
  {
   "cell_type": "code",
   "execution_count": 4,
   "metadata": {},
   "outputs": [
    {
     "data": {
      "text/html": [
       "<div>\n",
       "<style scoped>\n",
       "    .dataframe tbody tr th:only-of-type {\n",
       "        vertical-align: middle;\n",
       "    }\n",
       "\n",
       "    .dataframe tbody tr th {\n",
       "        vertical-align: top;\n",
       "    }\n",
       "\n",
       "    .dataframe thead th {\n",
       "        text-align: right;\n",
       "    }\n",
       "</style>\n",
       "<table border=\"1\" class=\"dataframe\">\n",
       "  <thead>\n",
       "    <tr style=\"text-align: right;\">\n",
       "      <th></th>\n",
       "      <th>id</th>\n",
       "      <th>news_url</th>\n",
       "      <th>title</th>\n",
       "      <th>tweet_ids</th>\n",
       "    </tr>\n",
       "  </thead>\n",
       "  <tbody>\n",
       "    <tr>\n",
       "      <th>0</th>\n",
       "      <td>politifact14984</td>\n",
       "      <td>http://www.nfib-sbet.org/</td>\n",
       "      <td>National Federation of Independent Business</td>\n",
       "      <td>967132259869487105\\t967164368768196609\\t967215...</td>\n",
       "    </tr>\n",
       "    <tr>\n",
       "      <th>1</th>\n",
       "      <td>politifact12944</td>\n",
       "      <td>http://www.cq.com/doc/newsmakertranscripts-494...</td>\n",
       "      <td>comments in Fayetteville NC</td>\n",
       "      <td>942953459\\t8980098198\\t16253717352\\t1668513250...</td>\n",
       "    </tr>\n",
       "    <tr>\n",
       "      <th>2</th>\n",
       "      <td>politifact333</td>\n",
       "      <td>https://web.archive.org/web/20080204072132/htt...</td>\n",
       "      <td>Romney makes pitch, hoping to close deal : Ele...</td>\n",
       "      <td>NaN</td>\n",
       "    </tr>\n",
       "    <tr>\n",
       "      <th>3</th>\n",
       "      <td>politifact4358</td>\n",
       "      <td>https://web.archive.org/web/20110811143753/htt...</td>\n",
       "      <td>Democratic Leaders Say House Democrats Are Uni...</td>\n",
       "      <td>NaN</td>\n",
       "    </tr>\n",
       "    <tr>\n",
       "      <th>4</th>\n",
       "      <td>politifact779</td>\n",
       "      <td>https://web.archive.org/web/20070820164107/htt...</td>\n",
       "      <td>Budget of the United States Government, FY 2008</td>\n",
       "      <td>89804710374154240\\t91270460595109888\\t96039619...</td>\n",
       "    </tr>\n",
       "  </tbody>\n",
       "</table>\n",
       "</div>"
      ],
      "text/plain": [
       "                id                                           news_url  \\\n",
       "0  politifact14984                          http://www.nfib-sbet.org/   \n",
       "1  politifact12944  http://www.cq.com/doc/newsmakertranscripts-494...   \n",
       "2    politifact333  https://web.archive.org/web/20080204072132/htt...   \n",
       "3   politifact4358  https://web.archive.org/web/20110811143753/htt...   \n",
       "4    politifact779  https://web.archive.org/web/20070820164107/htt...   \n",
       "\n",
       "                                               title  \\\n",
       "0        National Federation of Independent Business   \n",
       "1                        comments in Fayetteville NC   \n",
       "2  Romney makes pitch, hoping to close deal : Ele...   \n",
       "3  Democratic Leaders Say House Democrats Are Uni...   \n",
       "4    Budget of the United States Government, FY 2008   \n",
       "\n",
       "                                           tweet_ids  \n",
       "0  967132259869487105\\t967164368768196609\\t967215...  \n",
       "1  942953459\\t8980098198\\t16253717352\\t1668513250...  \n",
       "2                                                NaN  \n",
       "3                                                NaN  \n",
       "4  89804710374154240\\t91270460595109888\\t96039619...  "
      ]
     },
     "execution_count": 4,
     "metadata": {},
     "output_type": "execute_result"
    }
   ],
   "source": [
    "politifact_real = pd.read_csv(\"FakeNewsNet/politifact_real.csv\")\n",
    "politifact_real.head()"
   ]
  },
  {
   "cell_type": "code",
   "execution_count": 5,
   "metadata": {},
   "outputs": [
    {
     "name": "stdout",
     "output_type": "stream",
     "text": [
      "<class 'pandas.core.frame.DataFrame'>\n",
      "RangeIndex: 624 entries, 0 to 623\n",
      "Data columns (total 4 columns):\n",
      " #   Column     Non-Null Count  Dtype \n",
      "---  ------     --------------  ----- \n",
      " 0   id         624 non-null    object\n",
      " 1   news_url   567 non-null    object\n",
      " 2   title      624 non-null    object\n",
      " 3   tweet_ids  409 non-null    object\n",
      "dtypes: object(4)\n",
      "memory usage: 19.6+ KB\n"
     ]
    }
   ],
   "source": [
    "politifact_real.info()"
   ]
  },
  {
   "cell_type": "code",
   "execution_count": 6,
   "metadata": {},
   "outputs": [],
   "source": [
    "politifact_fake_posts = pd.read_csv(\"data/politifact_fake_posts.csv\")"
   ]
  },
  {
   "cell_type": "code",
   "execution_count": 7,
   "metadata": {},
   "outputs": [],
   "source": [
    "# politifact_fake_posts = fpu.create_dataset(politifact_fake)\n",
    "# politifact_fake_posts.to_csv(\"data/politifact_fake_posts.csv\", index=False)"
   ]
  },
  {
   "cell_type": "code",
   "execution_count": 8,
   "metadata": {},
   "outputs": [],
   "source": [
    "# politifact_fake_features = fpu.get_features(politifact_fake_posts, 0)\n",
    "# politifact_fake_features.head()"
   ]
  },
  {
   "cell_type": "code",
   "execution_count": 9,
   "metadata": {},
   "outputs": [],
   "source": [
    "# politifact_fake_features.info()"
   ]
  },
  {
   "cell_type": "code",
   "execution_count": 10,
   "metadata": {},
   "outputs": [],
   "source": [
    "# politifact_real_posts = pd.read_csv(\"data/politifact_real_posts.csv\")"
   ]
  },
  {
   "cell_type": "code",
   "execution_count": 11,
   "metadata": {},
   "outputs": [],
   "source": [
    "# politifact_real_posts = fpu.create_dataset(politifact_real)\n",
    "# politifact_real_posts.to_csv(\"data/politifact_real_posts.csv\", index=False)"
   ]
  },
  {
   "cell_type": "code",
   "execution_count": 12,
   "metadata": {},
   "outputs": [],
   "source": [
    "# politifact_real_features = fpu.get_features(politifact_real_posts, 1)\n",
    "# politifact_real_features.head()"
   ]
  },
  {
   "cell_type": "code",
   "execution_count": 13,
   "metadata": {},
   "outputs": [],
   "source": [
    "# politifact_real_features.info()"
   ]
  },
  {
   "cell_type": "code",
   "execution_count": 14,
   "metadata": {},
   "outputs": [],
   "source": [
    "# politifact_features = pd.concat([politifact_fake_features, politifact_real_features])\n",
    "# politifact_features.info()"
   ]
  },
  {
   "cell_type": "code",
   "execution_count": 15,
   "metadata": {},
   "outputs": [],
   "source": [
    "# politifact_features.to_csv(\"data/politifact_features.csv\", index=False)"
   ]
  },
  {
   "cell_type": "code",
   "execution_count": 16,
   "metadata": {},
   "outputs": [],
   "source": [
    "politifact_features = pd.read_csv(\"data/politifact_features.csv\")"
   ]
  },
  {
   "cell_type": "code",
   "execution_count": 17,
   "metadata": {},
   "outputs": [],
   "source": [
    "gossipcop_fake = pd.read_csv(\"FakeNewsNet/gossipcop_fake.csv\")"
   ]
  },
  {
   "cell_type": "code",
   "execution_count": 18,
   "metadata": {},
   "outputs": [
    {
     "name": "stdout",
     "output_type": "stream",
     "text": [
      "<class 'pandas.core.frame.DataFrame'>\n",
      "RangeIndex: 5323 entries, 0 to 5322\n",
      "Data columns (total 4 columns):\n",
      " #   Column     Non-Null Count  Dtype \n",
      "---  ------     --------------  ----- \n",
      " 0   id         5323 non-null   object\n",
      " 1   news_url   5067 non-null   object\n",
      " 2   title      5323 non-null   object\n",
      " 3   tweet_ids  5135 non-null   object\n",
      "dtypes: object(4)\n",
      "memory usage: 166.5+ KB\n"
     ]
    }
   ],
   "source": [
    "gossipcop_fake.info()"
   ]
  },
  {
   "cell_type": "code",
   "execution_count": 19,
   "metadata": {},
   "outputs": [
    {
     "name": "stderr",
     "output_type": "stream",
     "text": [
      "100%|██████████| 500/500 [31:41<00:00,  3.80s/it]  \n",
      "100%|██████████| 2846/2846 [35:36<00:00,  1.33it/s]  \n"
     ]
    },
    {
     "data": {
      "text/html": [
       "<div>\n",
       "<style scoped>\n",
       "    .dataframe tbody tr th:only-of-type {\n",
       "        vertical-align: middle;\n",
       "    }\n",
       "\n",
       "    .dataframe tbody tr th {\n",
       "        vertical-align: top;\n",
       "    }\n",
       "\n",
       "    .dataframe thead th {\n",
       "        text-align: right;\n",
       "    }\n",
       "</style>\n",
       "<table border=\"1\" class=\"dataframe\">\n",
       "  <thead>\n",
       "    <tr style=\"text-align: right;\">\n",
       "      <th></th>\n",
       "      <th>news_id</th>\n",
       "      <th>average followers</th>\n",
       "      <th>average follows</th>\n",
       "      <th>repost total</th>\n",
       "      <th>post total</th>\n",
       "      <th>repost percentage</th>\n",
       "      <th>average repost</th>\n",
       "      <th>average favorite</th>\n",
       "      <th>label</th>\n",
       "      <th>news lifetime</th>\n",
       "      <th>nb users 10 hours</th>\n",
       "      <th>average time difference</th>\n",
       "      <th>retweet percentage 1 hour</th>\n",
       "    </tr>\n",
       "  </thead>\n",
       "  <tbody>\n",
       "    <tr>\n",
       "      <th>0</th>\n",
       "      <td>gossipcop-1369804075</td>\n",
       "      <td>1702.890511</td>\n",
       "      <td>607.934307</td>\n",
       "      <td>172</td>\n",
       "      <td>100</td>\n",
       "      <td>0.632353</td>\n",
       "      <td>2.661765</td>\n",
       "      <td>6.737226</td>\n",
       "      <td>0</td>\n",
       "      <td>1101</td>\n",
       "      <td>1</td>\n",
       "      <td>0.0</td>\n",
       "      <td>0.003676</td>\n",
       "    </tr>\n",
       "    <tr>\n",
       "      <th>1</th>\n",
       "      <td>gossipcop-1636531105</td>\n",
       "      <td>1444.875000</td>\n",
       "      <td>936.875000</td>\n",
       "      <td>6</td>\n",
       "      <td>37</td>\n",
       "      <td>0.139535</td>\n",
       "      <td>0.139535</td>\n",
       "      <td>0.525000</td>\n",
       "      <td>0</td>\n",
       "      <td>67830</td>\n",
       "      <td>1</td>\n",
       "      <td>0.0</td>\n",
       "      <td>0.023256</td>\n",
       "    </tr>\n",
       "    <tr>\n",
       "      <th>2</th>\n",
       "      <td>gossipcop-1852746781</td>\n",
       "      <td>412.000000</td>\n",
       "      <td>301.000000</td>\n",
       "      <td>0</td>\n",
       "      <td>1</td>\n",
       "      <td>0.000000</td>\n",
       "      <td>0.000000</td>\n",
       "      <td>1.000000</td>\n",
       "      <td>0</td>\n",
       "      <td>0</td>\n",
       "      <td>1</td>\n",
       "      <td>0.0</td>\n",
       "      <td>1.000000</td>\n",
       "    </tr>\n",
       "    <tr>\n",
       "      <th>3</th>\n",
       "      <td>gossipcop-1914781905</td>\n",
       "      <td>831.901786</td>\n",
       "      <td>562.348214</td>\n",
       "      <td>74</td>\n",
       "      <td>99</td>\n",
       "      <td>0.427746</td>\n",
       "      <td>3.028902</td>\n",
       "      <td>9.178571</td>\n",
       "      <td>0</td>\n",
       "      <td>1098</td>\n",
       "      <td>23</td>\n",
       "      <td>0.0</td>\n",
       "      <td>0.028902</td>\n",
       "    </tr>\n",
       "    <tr>\n",
       "      <th>4</th>\n",
       "      <td>gossipcop-2049352387</td>\n",
       "      <td>627.953704</td>\n",
       "      <td>480.601852</td>\n",
       "      <td>30</td>\n",
       "      <td>98</td>\n",
       "      <td>0.234375</td>\n",
       "      <td>0.515625</td>\n",
       "      <td>1.666667</td>\n",
       "      <td>0</td>\n",
       "      <td>21884</td>\n",
       "      <td>4</td>\n",
       "      <td>0.0</td>\n",
       "      <td>0.007812</td>\n",
       "    </tr>\n",
       "  </tbody>\n",
       "</table>\n",
       "</div>"
      ],
      "text/plain": [
       "                news_id  average followers  average follows  repost total  \\\n",
       "0  gossipcop-1369804075        1702.890511       607.934307           172   \n",
       "1  gossipcop-1636531105        1444.875000       936.875000             6   \n",
       "2  gossipcop-1852746781         412.000000       301.000000             0   \n",
       "3  gossipcop-1914781905         831.901786       562.348214            74   \n",
       "4  gossipcop-2049352387         627.953704       480.601852            30   \n",
       "\n",
       "   post total  repost percentage  average repost  average favorite  label  \\\n",
       "0         100           0.632353        2.661765          6.737226      0   \n",
       "1          37           0.139535        0.139535          0.525000      0   \n",
       "2           1           0.000000        0.000000          1.000000      0   \n",
       "3          99           0.427746        3.028902          9.178571      0   \n",
       "4          98           0.234375        0.515625          1.666667      0   \n",
       "\n",
       "   news lifetime  nb users 10 hours  average time difference  \\\n",
       "0           1101                  1                      0.0   \n",
       "1          67830                  1                      0.0   \n",
       "2              0                  1                      0.0   \n",
       "3           1098                 23                      0.0   \n",
       "4          21884                  4                      0.0   \n",
       "\n",
       "   retweet percentage 1 hour  \n",
       "0                   0.003676  \n",
       "1                   0.023256  \n",
       "2                   1.000000  \n",
       "3                   0.028902  \n",
       "4                   0.007812  "
      ]
     },
     "execution_count": 19,
     "metadata": {},
     "output_type": "execute_result"
    }
   ],
   "source": [
    "gossipcop_fake_posts = fpu.create_dataset(gossipcop_fake[:500])\n",
    "gossipcop_fake_posts.to_csv(\"data/gossipcop_fake_posts_1.csv\", index=False)\n",
    "gossipcop_fake_features = fpu.get_features(gossipcop_fake_posts, 0)\n",
    "gossipcop_fake_features.to_csv(\"data/gossipcop_fake_features_1.csv\", index=False)\n",
    "gossipcop_fake_features.head()"
   ]
  },
  {
   "cell_type": "code",
   "execution_count": 20,
   "metadata": {},
   "outputs": [
    {
     "name": "stderr",
     "output_type": "stream",
     "text": [
      "100%|██████████| 500/500 [33:42<00:00,  4.04s/it]  \n",
      "100%|██████████| 3244/3244 [32:34<00:00,  1.66it/s]  \n"
     ]
    },
    {
     "data": {
      "text/html": [
       "<div>\n",
       "<style scoped>\n",
       "    .dataframe tbody tr th:only-of-type {\n",
       "        vertical-align: middle;\n",
       "    }\n",
       "\n",
       "    .dataframe tbody tr th {\n",
       "        vertical-align: top;\n",
       "    }\n",
       "\n",
       "    .dataframe thead th {\n",
       "        text-align: right;\n",
       "    }\n",
       "</style>\n",
       "<table border=\"1\" class=\"dataframe\">\n",
       "  <thead>\n",
       "    <tr style=\"text-align: right;\">\n",
       "      <th></th>\n",
       "      <th>news_id</th>\n",
       "      <th>average followers</th>\n",
       "      <th>average follows</th>\n",
       "      <th>repost total</th>\n",
       "      <th>post total</th>\n",
       "      <th>repost percentage</th>\n",
       "      <th>average repost</th>\n",
       "      <th>average favorite</th>\n",
       "      <th>label</th>\n",
       "      <th>news lifetime</th>\n",
       "      <th>nb users 10 hours</th>\n",
       "      <th>average time difference</th>\n",
       "      <th>retweet percentage 1 hour</th>\n",
       "    </tr>\n",
       "  </thead>\n",
       "  <tbody>\n",
       "    <tr>\n",
       "      <th>0</th>\n",
       "      <td>gossipcop-1086231022</td>\n",
       "      <td>4158.310469</td>\n",
       "      <td>1503.989170</td>\n",
       "      <td>15054</td>\n",
       "      <td>99</td>\n",
       "      <td>0.993467</td>\n",
       "      <td>90.346598</td>\n",
       "      <td>216.202166</td>\n",
       "      <td>0</td>\n",
       "      <td>61391</td>\n",
       "      <td>6</td>\n",
       "      <td>0.0</td>\n",
       "      <td>0.000066</td>\n",
       "    </tr>\n",
       "    <tr>\n",
       "      <th>1</th>\n",
       "      <td>gossipcop-1143106542</td>\n",
       "      <td>16197.736842</td>\n",
       "      <td>515.026316</td>\n",
       "      <td>14</td>\n",
       "      <td>32</td>\n",
       "      <td>0.304348</td>\n",
       "      <td>0.434783</td>\n",
       "      <td>3.131579</td>\n",
       "      <td>0</td>\n",
       "      <td>28237</td>\n",
       "      <td>1</td>\n",
       "      <td>0.0</td>\n",
       "      <td>0.021739</td>\n",
       "    </tr>\n",
       "    <tr>\n",
       "      <th>2</th>\n",
       "      <td>gossipcop-1295868519</td>\n",
       "      <td>3049.333333</td>\n",
       "      <td>818.666667</td>\n",
       "      <td>2</td>\n",
       "      <td>5</td>\n",
       "      <td>0.285714</td>\n",
       "      <td>0.285714</td>\n",
       "      <td>1.166667</td>\n",
       "      <td>0</td>\n",
       "      <td>61133</td>\n",
       "      <td>1</td>\n",
       "      <td>0.0</td>\n",
       "      <td>0.142857</td>\n",
       "    </tr>\n",
       "    <tr>\n",
       "      <th>3</th>\n",
       "      <td>gossipcop-1360722071</td>\n",
       "      <td>1525.482759</td>\n",
       "      <td>851.503448</td>\n",
       "      <td>368</td>\n",
       "      <td>100</td>\n",
       "      <td>0.786325</td>\n",
       "      <td>8.914530</td>\n",
       "      <td>36.475862</td>\n",
       "      <td>0</td>\n",
       "      <td>17641</td>\n",
       "      <td>6</td>\n",
       "      <td>0.0</td>\n",
       "      <td>0.006410</td>\n",
       "    </tr>\n",
       "    <tr>\n",
       "      <th>4</th>\n",
       "      <td>gossipcop-1398529432</td>\n",
       "      <td>6367.320000</td>\n",
       "      <td>851.360000</td>\n",
       "      <td>2</td>\n",
       "      <td>25</td>\n",
       "      <td>0.074074</td>\n",
       "      <td>0.148148</td>\n",
       "      <td>1.640000</td>\n",
       "      <td>0</td>\n",
       "      <td>13873</td>\n",
       "      <td>23</td>\n",
       "      <td>0.0</td>\n",
       "      <td>0.148148</td>\n",
       "    </tr>\n",
       "  </tbody>\n",
       "</table>\n",
       "</div>"
      ],
      "text/plain": [
       "                news_id  average followers  average follows  repost total  \\\n",
       "0  gossipcop-1086231022        4158.310469      1503.989170         15054   \n",
       "1  gossipcop-1143106542       16197.736842       515.026316            14   \n",
       "2  gossipcop-1295868519        3049.333333       818.666667             2   \n",
       "3  gossipcop-1360722071        1525.482759       851.503448           368   \n",
       "4  gossipcop-1398529432        6367.320000       851.360000             2   \n",
       "\n",
       "   post total  repost percentage  average repost  average favorite  label  \\\n",
       "0          99           0.993467       90.346598        216.202166      0   \n",
       "1          32           0.304348        0.434783          3.131579      0   \n",
       "2           5           0.285714        0.285714          1.166667      0   \n",
       "3         100           0.786325        8.914530         36.475862      0   \n",
       "4          25           0.074074        0.148148          1.640000      0   \n",
       "\n",
       "   news lifetime  nb users 10 hours  average time difference  \\\n",
       "0          61391                  6                      0.0   \n",
       "1          28237                  1                      0.0   \n",
       "2          61133                  1                      0.0   \n",
       "3          17641                  6                      0.0   \n",
       "4          13873                 23                      0.0   \n",
       "\n",
       "   retweet percentage 1 hour  \n",
       "0                   0.000066  \n",
       "1                   0.021739  \n",
       "2                   0.142857  \n",
       "3                   0.006410  \n",
       "4                   0.148148  "
      ]
     },
     "execution_count": 20,
     "metadata": {},
     "output_type": "execute_result"
    }
   ],
   "source": [
    "gossipcop_fake_posts = fpu.create_dataset(gossipcop_fake[500:1000])\n",
    "gossipcop_fake_posts.to_csv(\"data/gossipcop_fake_posts_1_bis.csv\", index=False)\n",
    "gossipcop_fake_features = fpu.get_features(gossipcop_fake_posts, 0)\n",
    "gossipcop_fake_features.to_csv(\"data/gossipcop_fake_features_1_bis.csv\", index=False)\n",
    "gossipcop_fake_features.head()"
   ]
  },
  {
   "cell_type": "code",
   "execution_count": 22,
   "metadata": {},
   "outputs": [
    {
     "name": "stdout",
     "output_type": "stream",
     "text": [
      "<class 'pandas.core.frame.DataFrame'>\n",
      "RangeIndex: 47 entries, 0 to 46\n",
      "Data columns (total 13 columns):\n",
      " #   Column                     Non-Null Count  Dtype  \n",
      "---  ------                     --------------  -----  \n",
      " 0   news_id                    47 non-null     object \n",
      " 1   average followers          47 non-null     float64\n",
      " 2   average follows            47 non-null     float64\n",
      " 3   repost total               47 non-null     int32  \n",
      " 4   post total                 47 non-null     int32  \n",
      " 5   repost percentage          47 non-null     float64\n",
      " 6   average repost             47 non-null     float64\n",
      " 7   average favorite           47 non-null     float64\n",
      " 8   label                      47 non-null     int64  \n",
      " 9   news lifetime              47 non-null     int32  \n",
      " 10  nb users 10 hours          47 non-null     int32  \n",
      " 11  average time difference    47 non-null     float64\n",
      " 12  retweet percentage 1 hour  47 non-null     float64\n",
      "dtypes: float64(7), int32(4), int64(1), object(1)\n",
      "memory usage: 4.2+ KB\n"
     ]
    }
   ],
   "source": [
    "gossipcop_fake_features.info()"
   ]
  },
  {
   "cell_type": "code",
   "execution_count": 23,
   "metadata": {},
   "outputs": [
    {
     "name": "stderr",
     "output_type": "stream",
     "text": [
      " 15%|█▌        | 151/1000 [08:51<49:48,  3.52s/it]  \n"
     ]
    },
    {
     "ename": "KeyError",
     "evalue": "'posts'",
     "output_type": "error",
     "traceback": [
      "\u001b[1;31m---------------------------------------------------------------------------\u001b[0m",
      "\u001b[1;31mKeyError\u001b[0m                                  Traceback (most recent call last)",
      "Cell \u001b[1;32mIn[23], line 1\u001b[0m\n\u001b[1;32m----> 1\u001b[0m gossipcop_fake_posts \u001b[38;5;241m=\u001b[39m \u001b[43mfpu\u001b[49m\u001b[38;5;241;43m.\u001b[39;49m\u001b[43mcreate_dataset\u001b[49m\u001b[43m(\u001b[49m\u001b[43mgossipcop_fake\u001b[49m\u001b[43m[\u001b[49m\u001b[38;5;241;43m1000\u001b[39;49m\u001b[43m:\u001b[49m\u001b[38;5;241;43m2000\u001b[39;49m\u001b[43m]\u001b[49m\u001b[43m)\u001b[49m\n\u001b[0;32m      2\u001b[0m gossipcop_fake_posts\u001b[38;5;241m.\u001b[39mto_csv(\u001b[38;5;124m\"\u001b[39m\u001b[38;5;124mdata/gossipcop_fake_posts_2.csv\u001b[39m\u001b[38;5;124m\"\u001b[39m, index\u001b[38;5;241m=\u001b[39m\u001b[38;5;28;01mFalse\u001b[39;00m)\n\u001b[0;32m      3\u001b[0m gossipcop_fake_features \u001b[38;5;241m=\u001b[39m fpu\u001b[38;5;241m.\u001b[39mget_features(gossipcop_fake_posts, \u001b[38;5;241m0\u001b[39m)\n",
      "File \u001b[1;32mc:\\Users\\celin_e3kjw6h\\OneDrive\\Bureau\\KTH\\ID2223 Scalable Machine Learning and Deep Learning\\project\\fake_news_bsky_detector\\features_processing_utils.py:114\u001b[0m, in \u001b[0;36mcreate_dataset\u001b[1;34m(news, limit)\u001b[0m\n\u001b[0;32m    113\u001b[0m \u001b[38;5;28;01mdef\u001b[39;00m \u001b[38;5;21mcreate_dataset\u001b[39m(news, limit\u001b[38;5;241m=\u001b[39m\u001b[38;5;241m100\u001b[39m):\n\u001b[1;32m--> 114\u001b[0m     posts_dataset \u001b[38;5;241m=\u001b[39m \u001b[43madd_posts\u001b[49m\u001b[43m(\u001b[49m\u001b[43mnews\u001b[49m\u001b[43m,\u001b[49m\u001b[43m \u001b[49m\u001b[43mlimit\u001b[49m\u001b[43m)\u001b[49m\n\u001b[0;32m    115\u001b[0m     reposts_dataset \u001b[38;5;241m=\u001b[39m add_reposts(posts_dataset, limit)\n\u001b[0;32m    117\u001b[0m     \u001b[38;5;28;01mreturn\u001b[39;00m pd\u001b[38;5;241m.\u001b[39mconcat([posts_dataset, reposts_dataset])\n",
      "File \u001b[1;32mc:\\Users\\celin_e3kjw6h\\OneDrive\\Bureau\\KTH\\ID2223 Scalable Machine Learning and Deep Learning\\project\\fake_news_bsky_detector\\features_processing_utils.py:59\u001b[0m, in \u001b[0;36madd_posts\u001b[1;34m(news, limit)\u001b[0m\n\u001b[0;32m     57\u001b[0m \u001b[38;5;28;01mfor\u001b[39;00m query \u001b[38;5;129;01min\u001b[39;00m tqdm(news[\u001b[38;5;124m\"\u001b[39m\u001b[38;5;124mtitle\u001b[39m\u001b[38;5;124m\"\u001b[39m]):\n\u001b[0;32m     58\u001b[0m     posts \u001b[38;5;241m=\u001b[39m search_posts(query, limit)\n\u001b[1;32m---> 59\u001b[0m     \u001b[38;5;28;01mfor\u001b[39;00m post \u001b[38;5;129;01min\u001b[39;00m \u001b[43mposts\u001b[49m\u001b[43m[\u001b[49m\u001b[38;5;124;43m\"\u001b[39;49m\u001b[38;5;124;43mposts\u001b[39;49m\u001b[38;5;124;43m\"\u001b[39;49m\u001b[43m]\u001b[49m:\n\u001b[0;32m     60\u001b[0m         \u001b[38;5;28;01mtry\u001b[39;00m:\n\u001b[0;32m     61\u001b[0m             get_post_info(dataset, post, news, query)\n",
      "\u001b[1;31mKeyError\u001b[0m: 'posts'"
     ]
    }
   ],
   "source": [
    "gossipcop_fake_posts = fpu.create_dataset(gossipcop_fake[1000:2000])\n",
    "gossipcop_fake_posts.to_csv(\"data/gossipcop_fake_posts_2.csv\", index=False)\n",
    "gossipcop_fake_features = fpu.get_features(gossipcop_fake_posts, 0)\n",
    "gossipcop_fake_features.to_csv(\"data/gossipcop_fake_features_2.csv\", index=False)\n",
    "gossipcop_fake_features.info()"
   ]
  },
  {
   "cell_type": "code",
   "execution_count": null,
   "metadata": {},
   "outputs": [],
   "source": [
    "gossipcop_fake_posts = fpu.create_dataset(gossipcop_fake[2000:3000])\n",
    "gossipcop_fake_posts.to_csv(\"data/gossipcop_fake_posts_3.csv\", index=False)\n",
    "gossipcop_fake_features = fpu.get_features(gossipcop_fake_posts, 0)\n",
    "gossipcop_fake_features.to_csv(\"data/gossipcop_fake_features_3.csv\", index=False)\n",
    "gossipcop_fake_features.info()"
   ]
  },
  {
   "cell_type": "code",
   "execution_count": null,
   "metadata": {},
   "outputs": [],
   "source": [
    "gossipcop_fake_posts = fpu.create_dataset(gossipcop_fake[3000:4000])\n",
    "gossipcop_fake_posts.to_csv(\"data/gossipcop_fake_posts_4.csv\", index=False)\n",
    "gossipcop_fake_features = fpu.get_features(gossipcop_fake_posts, 0)\n",
    "gossipcop_fake_features.to_csv(\"data/gossipcop_fake_features_4.csv\", index=False)\n",
    "gossipcop_fake_features.info()"
   ]
  },
  {
   "cell_type": "code",
   "execution_count": null,
   "metadata": {},
   "outputs": [],
   "source": [
    "gossipcop_fake_posts = fpu.create_dataset(gossipcop_fake[4000:])\n",
    "gossipcop_fake_posts.to_csv(\"data/gossipcop_fake_posts_5.csv\", index=False)\n",
    "gossipcop_fake_features = fpu.get_features(gossipcop_fake_posts, 0)\n",
    "gossipcop_fake_features.to_csv(\"data/gossipcop_fake_features_5.csv\", index=False)\n",
    "gossipcop_fake_features.info()"
   ]
  }
 ],
 "metadata": {
  "kernelspec": {
   "display_name": "fake_news",
   "language": "python",
   "name": "python3"
  },
  "language_info": {
   "codemirror_mode": {
    "name": "ipython",
    "version": 3
   },
   "file_extension": ".py",
   "mimetype": "text/x-python",
   "name": "python",
   "nbconvert_exporter": "python",
   "pygments_lexer": "ipython3",
   "version": "3.9.21"
  }
 },
 "nbformat": 4,
 "nbformat_minor": 2
}
