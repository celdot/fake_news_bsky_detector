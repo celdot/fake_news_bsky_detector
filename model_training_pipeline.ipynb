{
 "cells": [
  {
   "cell_type": "markdown",
   "metadata": {},
   "source": [
    "Import libraries"
   ]
  },
  {
   "cell_type": "code",
   "execution_count": 74,
   "metadata": {},
   "outputs": [],
   "source": [
    "import xgboost as xgb\n",
    "import pandas as pd\n",
    "from sklearn.model_selection import train_test_split\n",
    "from sklearn.metrics import accuracy_score\n",
    "from sklearn.metrics import confusion_matrix\n",
    "# packages for hyperparameters tuning\n",
    "from sklearn.model_selection import GridSearchCV\n",
    "import scipy.stats as stats\n",
    "import matplotlib.pyplot as plt\n",
    "import seaborn as sns\n",
    "\n",
    "from sklearn.ensemble import RandomForestClassifier\n",
    "\n",
    "from hsml.schema import Schema\n",
    "from hsml.model_schema import ModelSchema\n",
    "\n",
    "import os\n",
    "import numpy as np\n",
    "\n",
    "import hopsworks\n",
    "import joblib"
   ]
  },
  {
   "cell_type": "code",
   "execution_count": 75,
   "metadata": {},
   "outputs": [
    {
     "name": "stdout",
     "output_type": "stream",
     "text": [
      "2025-01-08 00:55:15,969 INFO: Closing external client and cleaning up certificates.\n",
      "Connection closed.\n",
      "2025-01-08 00:55:15,978 INFO: Initializing external client\n",
      "2025-01-08 00:55:15,979 INFO: Base URL: https://c.app.hopsworks.ai:443\n",
      "2025-01-08 00:55:17,815 INFO: Python Engine initialized.\n",
      "\n",
      "Logged in to project, explore it here https://c.app.hopsworks.ai:443/p/1149079\n"
     ]
    }
   ],
   "source": [
    "project = hopsworks.login()\n",
    "\n",
    "fs = project.get_feature_store()"
   ]
  },
  {
   "cell_type": "code",
   "execution_count": 76,
   "metadata": {},
   "outputs": [],
   "source": [
    "news_propagation_fg = fs.get_feature_group(\n",
    "    name=\"news_propagation\",\n",
    "    version=1,\n",
    ")"
   ]
  },
  {
   "cell_type": "code",
   "execution_count": 77,
   "metadata": {},
   "outputs": [],
   "source": [
    "selected_features = news_propagation_fg.select_except([\"news_id\"])"
   ]
  },
  {
   "cell_type": "code",
   "execution_count": 78,
   "metadata": {},
   "outputs": [
    {
     "name": "stdout",
     "output_type": "stream",
     "text": [
      "Finished: Reading data from Hopsworks, using Hopsworks Feature Query Service (1.26s) \n"
     ]
    },
    {
     "data": {
      "text/html": [
       "<div>\n",
       "<style scoped>\n",
       "    .dataframe tbody tr th:only-of-type {\n",
       "        vertical-align: middle;\n",
       "    }\n",
       "\n",
       "    .dataframe tbody tr th {\n",
       "        vertical-align: top;\n",
       "    }\n",
       "\n",
       "    .dataframe thead th {\n",
       "        text-align: right;\n",
       "    }\n",
       "</style>\n",
       "<table border=\"1\" class=\"dataframe\">\n",
       "  <thead>\n",
       "    <tr style=\"text-align: right;\">\n",
       "      <th></th>\n",
       "      <th>average_followers</th>\n",
       "      <th>average_follows</th>\n",
       "      <th>repost_total</th>\n",
       "      <th>post_total</th>\n",
       "      <th>repost_percentage</th>\n",
       "      <th>average_repost</th>\n",
       "      <th>average_favorite</th>\n",
       "      <th>label</th>\n",
       "      <th>news_lifetime</th>\n",
       "      <th>nb_users_10_hours</th>\n",
       "      <th>average_time_difference</th>\n",
       "      <th>retweet_percentage_1_hour</th>\n",
       "    </tr>\n",
       "  </thead>\n",
       "  <tbody>\n",
       "    <tr>\n",
       "      <th>0</th>\n",
       "      <td>625.000000</td>\n",
       "      <td>438.000000</td>\n",
       "      <td>0</td>\n",
       "      <td>1</td>\n",
       "      <td>0.000000</td>\n",
       "      <td>0.000000</td>\n",
       "      <td>0.000000</td>\n",
       "      <td>1</td>\n",
       "      <td>0</td>\n",
       "      <td>1</td>\n",
       "      <td>0.0</td>\n",
       "      <td>1.000000</td>\n",
       "    </tr>\n",
       "    <tr>\n",
       "      <th>1</th>\n",
       "      <td>1410.833333</td>\n",
       "      <td>1103.416667</td>\n",
       "      <td>4</td>\n",
       "      <td>10</td>\n",
       "      <td>0.285714</td>\n",
       "      <td>0.285714</td>\n",
       "      <td>6.166667</td>\n",
       "      <td>0</td>\n",
       "      <td>63372</td>\n",
       "      <td>1</td>\n",
       "      <td>0.0</td>\n",
       "      <td>0.071429</td>\n",
       "    </tr>\n",
       "    <tr>\n",
       "      <th>2</th>\n",
       "      <td>536.454545</td>\n",
       "      <td>342.909091</td>\n",
       "      <td>979</td>\n",
       "      <td>1</td>\n",
       "      <td>0.998980</td>\n",
       "      <td>9.989796</td>\n",
       "      <td>499.000000</td>\n",
       "      <td>0</td>\n",
       "      <td>0</td>\n",
       "      <td>1</td>\n",
       "      <td>0.0</td>\n",
       "      <td>0.001020</td>\n",
       "    </tr>\n",
       "    <tr>\n",
       "      <th>3</th>\n",
       "      <td>223066.000000</td>\n",
       "      <td>178.000000</td>\n",
       "      <td>0</td>\n",
       "      <td>2</td>\n",
       "      <td>0.000000</td>\n",
       "      <td>0.000000</td>\n",
       "      <td>0.000000</td>\n",
       "      <td>0</td>\n",
       "      <td>39416</td>\n",
       "      <td>1</td>\n",
       "      <td>0.0</td>\n",
       "      <td>0.500000</td>\n",
       "    </tr>\n",
       "    <tr>\n",
       "      <th>4</th>\n",
       "      <td>74.500000</td>\n",
       "      <td>156.000000</td>\n",
       "      <td>0</td>\n",
       "      <td>2</td>\n",
       "      <td>0.000000</td>\n",
       "      <td>0.000000</td>\n",
       "      <td>0.000000</td>\n",
       "      <td>0</td>\n",
       "      <td>11319</td>\n",
       "      <td>1</td>\n",
       "      <td>0.0</td>\n",
       "      <td>0.500000</td>\n",
       "    </tr>\n",
       "  </tbody>\n",
       "</table>\n",
       "</div>"
      ],
      "text/plain": [
       "   average_followers  average_follows  repost_total  post_total  \\\n",
       "0         625.000000       438.000000             0           1   \n",
       "1        1410.833333      1103.416667             4          10   \n",
       "2         536.454545       342.909091           979           1   \n",
       "3      223066.000000       178.000000             0           2   \n",
       "4          74.500000       156.000000             0           2   \n",
       "\n",
       "   repost_percentage  average_repost  average_favorite  label  news_lifetime  \\\n",
       "0           0.000000        0.000000          0.000000      1              0   \n",
       "1           0.285714        0.285714          6.166667      0          63372   \n",
       "2           0.998980        9.989796        499.000000      0              0   \n",
       "3           0.000000        0.000000          0.000000      0          39416   \n",
       "4           0.000000        0.000000          0.000000      0          11319   \n",
       "\n",
       "   nb_users_10_hours  average_time_difference  retweet_percentage_1_hour  \n",
       "0                  1                      0.0                   1.000000  \n",
       "1                  1                      0.0                   0.071429  \n",
       "2                  1                      0.0                   0.001020  \n",
       "3                  1                      0.0                   0.500000  \n",
       "4                  1                      0.0                   0.500000  "
      ]
     },
     "execution_count": 78,
     "metadata": {},
     "output_type": "execute_result"
    }
   ],
   "source": [
    "selected_features.show(5)"
   ]
  },
  {
   "cell_type": "code",
   "execution_count": 79,
   "metadata": {},
   "outputs": [],
   "source": [
    "feature_view = fs.get_or_create_feature_view(\n",
    "        name = 'news_propagation_feature_views',\n",
    "        version = 1,\n",
    "        labels=[\"label\"],\n",
    "        query=selected_features,\n",
    ")"
   ]
  },
  {
   "cell_type": "code",
   "execution_count": 80,
   "metadata": {},
   "outputs": [
    {
     "name": "stdout",
     "output_type": "stream",
     "text": [
      "Finished: Reading data from Hopsworks, using Hopsworks Feature Query Service (0.86s) \n"
     ]
    },
    {
     "name": "stderr",
     "output_type": "stream",
     "text": [
      "VersionWarning: Incremented version to `20`.\n"
     ]
    }
   ],
   "source": [
    "# Split data into training, validation, and test sets\n",
    "X_train, X_val, X_test, y_train, y_val, y_test = feature_view.train_validation_test_split(\n",
    "    validation_size=0.2,\n",
    "    test_size=0.1,\n",
    ")"
   ]
  },
  {
   "cell_type": "markdown",
   "metadata": {},
   "source": [
    "Hyperpameters tuning"
   ]
  },
  {
   "cell_type": "code",
   "execution_count": 81,
   "metadata": {},
   "outputs": [],
   "source": [
    "tuning = False"
   ]
  },
  {
   "cell_type": "code",
   "execution_count": null,
   "metadata": {},
   "outputs": [],
   "source": [
    "# Define the hyperparameter grid\n",
    "if tuning:\n",
    "    param_grid = {\n",
    "        'n_estimators': [25, 50, 100, 150], \n",
    "        'max_features': ['sqrt', 'log2', None], \n",
    "        'max_depth': [3, 6, 9], \n",
    "        'max_leaf_nodes': [3, 6, 9], \n",
    "        'min_samples_leaf': [1, 2, 4],\n",
    "    }\n",
    "\n",
    "    # Create the XGBoost model object\n",
    "    # model = xgb.XGBClassifier()\n",
    "    model = RandomForestClassifier()\n",
    "\n",
    "    # Create the GridSearchCV object\n",
    "    grid_search = GridSearchCV(model, param_grid, cv=5, scoring='accuracy')\n",
    "\n",
    "    # Fit the GridSearchCV object to the training data\n",
    "    grid_search.fit(X_train, np.ravel(y_train))\n",
    "\n",
    "    # Print the best set of hyperparameters and the corresponding score\n",
    "    print(\"Best set of hyperparameters: \", grid_search.best_params_)\n",
    "    print(\"Best score: \", grid_search.best_score_)"
   ]
  },
  {
   "cell_type": "markdown",
   "metadata": {},
   "source": [
    "Train the model"
   ]
  },
  {
   "cell_type": "code",
   "execution_count": 63,
   "metadata": {},
   "outputs": [
    {
     "data": {
      "text/plain": [
       "0.7531806615776081"
      ]
     },
     "execution_count": 63,
     "metadata": {},
     "output_type": "execute_result"
    }
   ],
   "source": [
    "random_forest = RandomForestClassifier(max_depth=grid_search.best_params_[\"max_depth\"], \n",
    "                                       max_features = grid_search.best_params_[\"max_features\"], \n",
    "                                       max_leaf_nodes = grid_search.best_params_[\"max_leaf_nodes\"], \n",
    "                                       n_estimators = grid_search.best_params_[\"n_estimators\"],\n",
    "                                       min_samples_leaf=grid_search.best_params_[\"min_samples_leaf\"],\n",
    "                                       )\n",
    "random_forest.fit(X_train, np.ravel(y_train))\n",
    "y_pred_train = random_forest.predict(X_train)\n",
    "accuracy_score(y_train, y_pred_train)"
   ]
  },
  {
   "cell_type": "code",
   "execution_count": 64,
   "metadata": {},
   "outputs": [
    {
     "data": {
      "text/plain": [
       "0.8421052631578947"
      ]
     },
     "execution_count": 64,
     "metadata": {},
     "output_type": "execute_result"
    }
   ],
   "source": [
    "y_pred_test = random_forest.predict(X_test)\n",
    "accuracy_score(y_test, y_pred_test)"
   ]
  },
  {
   "cell_type": "code",
   "execution_count": 65,
   "metadata": {},
   "outputs": [
    {
     "data": {
      "text/plain": [
       "0.7410714285714286"
      ]
     },
     "execution_count": 65,
     "metadata": {},
     "output_type": "execute_result"
    }
   ],
   "source": [
    "y_pred_val = random_forest.predict(X_val)\n",
    "accuracy_score(y_val, y_pred_val)"
   ]
  },
  {
   "cell_type": "code",
   "execution_count": 66,
   "metadata": {},
   "outputs": [
    {
     "data": {
      "text/plain": [
       "{'accuracy': 0.8421052631578947}"
      ]
     },
     "execution_count": 66,
     "metadata": {},
     "output_type": "execute_result"
    }
   ],
   "source": [
    "metrics = {\n",
    "    \"accuracy\": accuracy_score(y_test, y_pred_test)\n",
    "}\n",
    "metrics"
   ]
  },
  {
   "cell_type": "code",
   "execution_count": 67,
   "metadata": {},
   "outputs": [
    {
     "data": {
      "text/plain": [
       "array([[27,  0],\n",
       "       [ 9, 21]], dtype=int64)"
      ]
     },
     "execution_count": 67,
     "metadata": {},
     "output_type": "execute_result"
    }
   ],
   "source": [
    "results = confusion_matrix(y_test, y_pred_test)\n",
    "results"
   ]
  },
  {
   "cell_type": "code",
   "execution_count": 68,
   "metadata": {},
   "outputs": [],
   "source": [
    "# Create a DataFrame from the confusion matrix results\n",
    "df_cm = pd.DataFrame(\n",
    "    results, \n",
    "    ['True Real', 'True Fake'],\n",
    "    ['Pred Real', 'Pred Fake']\n",
    ")\n",
    "\n",
    "# Create and save the confusion matrix heatmap\n",
    "plt.figure(figsize=(8, 6))\n",
    "cm = sns.heatmap(\n",
    "    df_cm, \n",
    "    annot=True,\n",
    "    fmt='d',                 # Use integer format for numbers\n",
    "    cmap='RdPu',             # Use a color palette that works well for binary classification\n",
    "    annot_kws={'size': 12},  # Increase annotation text size\n",
    "    cbar=True                # Include color bar\n",
    ")\n",
    "\n",
    "# Add title and labels\n",
    "plt.title('Confusion Matrix for Fake News Detection')\n",
    "plt.ylabel('True Label')\n",
    "plt.xlabel('Predicted Label')\n",
    "\n",
    "images_dir = \"figures\"\n",
    "\n",
    "# Adjust layout and save\n",
    "plt.tight_layout()\n",
    "plt.savefig(os.path.join(images_dir, \"confusion_matrix.png\"), dpi=300, bbox_inches='tight')\n",
    "plt.close()"
   ]
  },
  {
   "cell_type": "markdown",
   "metadata": {},
   "source": [
    "Plot feature importance"
   ]
  },
  {
   "cell_type": "code",
   "execution_count": null,
   "metadata": {},
   "outputs": [
    {
     "data": {
      "image/png": "[encoded data removed]",
      "text/plain": [
       "<Figure size 640x480 with 1 Axes>"
      ]
     },
     "metadata": {},
     "output_type": "display_data"
    }
   ],
   "source": [
    "images_dir = 'figures'\n",
    "importances = random_forest.feature_importances_\n",
    "indices = np.argsort(importances)\n",
    "\n",
    "features = X_train.columns\n",
    "plt.title('Feature Importances')\n",
    "plt.barh(range(len(indices)), importances[indices], align='center')\n",
    "plt.yticks(range(len(indices)), features[indices])\n",
    "plt.xlabel('Relative Importance')\n",
    "\n",
    "plt.tight_layout()\n",
    "plt.savefig(os.path.join(images_dir, \"feature_importance.png\"))"
   ]
  },
  {
   "cell_type": "markdown",
   "metadata": {},
   "source": [
    "Save the model into Hopsworks"
   ]
  },
  {
   "cell_type": "code",
   "execution_count": 70,
   "metadata": {},
   "outputs": [],
   "source": [
    "# Get the model registry\n",
    "mr = project.get_model_registry()"
   ]
  },
  {
   "cell_type": "code",
   "execution_count": null,
   "metadata": {},
   "outputs": [
    {
     "ename": "AttributeError",
     "evalue": "module 'xgboost' has no attribute 'save_model'",
     "output_type": "error",
     "traceback": [
      "\u001b[1;31m---------------------------------------------------------------------------\u001b[0m",
      "\u001b[1;31mAttributeError\u001b[0m                            Traceback (most recent call last)",
      "Cell \u001b[1;32mIn[73], line 22\u001b[0m\n\u001b[0;32m     19\u001b[0m     os\u001b[38;5;241m.\u001b[39mmkdir(model_dir)\n\u001b[0;32m     21\u001b[0m \u001b[38;5;66;03m# Save the trained classifier as json file\u001b[39;00m\n\u001b[1;32m---> 22\u001b[0m \u001b[43mxgb\u001b[49m\u001b[38;5;241;43m.\u001b[39;49m\u001b[43msave_model\u001b[49m(model_dir \u001b[38;5;241m+\u001b[39m \u001b[38;5;124m\"\u001b[39m\u001b[38;5;124m/model.json\u001b[39m\u001b[38;5;124m\"\u001b[39m)\n\u001b[0;32m     23\u001b[0m joblib\u001b[38;5;241m.\u001b[39mdump(random_forest, \u001b[38;5;124m\"\u001b[39m\u001b[38;5;124mmodel.joblib\u001b[39m\u001b[38;5;124m\"\u001b[39m)\n",
      "\u001b[1;31mAttributeError\u001b[0m: module 'xgboost' has no attribute 'save_model'"
     ]
    }
   ],
   "source": [
    "# Create input schema using X_train\n",
    "input_schema = Schema(X_train)\n",
    "\n",
    "# Create output schema using y_train\n",
    "output_schema = Schema(y_train)\n",
    "\n",
    "# Create a ModelSchema object specifying the input and output schemas\n",
    "model_schema = ModelSchema(\n",
    "    input_schema=input_schema, \n",
    "    output_schema=output_schema,\n",
    ")\n",
    "\n",
    "# Convert the model schema to a dictionary\n",
    "model_schema.to_dict()# Specify the directory where the model files will be saved\n",
    "model_dir = \"news_propagation_model\"\n",
    "\n",
    "# Check if the directory exists, and create it if it doesn't\n",
    "if not os.path.isdir(model_dir):\n",
    "    os.mkdir(model_dir)\n",
    "\n",
    "# Save the trained classifier as json file\n",
    "xgb.save_model(model_dir + \"/model.json\")\n",
    "joblib.dump(random_forest, \"model.joblib\")"
   ]
  },
  {
   "cell_type": "code",
   "execution_count": 52,
   "metadata": {},
   "outputs": [
    {
     "name": "stderr",
     "output_type": "stream",
     "text": [
      "Uploading: 100.000%|██████████| 195108/195108 elapsed<00:02 remaining<00:00  1.33it/s]\n",
      "Uploading: 100.000%|██████████| 58/58 elapsed<00:01 remaining<00:0003<00:07,  1.85s/it]\n",
      "Uploading: 100.000%|██████████| 1100/1100 elapsed<00:01 remaining<00:00\n",
      "Model export complete: 100%|██████████| 6/6 [00:13<00:00,  2.21s/it]                   "
     ]
    },
    {
     "name": "stdout",
     "output_type": "stream",
     "text": [
      "Model created, explore it at https://c.app.hopsworks.ai:443/p/1149079/models/news_propagation_model/14\n"
     ]
    },
    {
     "name": "stderr",
     "output_type": "stream",
     "text": [
      "\n"
     ]
    },
    {
     "data": {
      "text/plain": [
       "Model(name: 'news_propagation_model', version: 14)"
      ]
     },
     "execution_count": 52,
     "metadata": {},
     "output_type": "execute_result"
    }
   ],
   "source": [
    "# Create a model in the model registry\n",
    "model = mr.python.create_model(\n",
    "    name=\"news_propagation_model\",\n",
    "    description=\"News Propagation Model\",\n",
    "    input_example=X_train.sample(),\n",
    "    model_schema=model_schema,\n",
    "    feature_view=feature_view,\n",
    "    metrics=metrics,\n",
    ")\n",
    "\n",
    "# Save the model to the specified directory\n",
    "model.save(model_dir)"
   ]
  }
 ],
 "metadata": {
  "kernelspec": {
   "display_name": "fake_news",
   "language": "python",
   "name": "python3"
  },
  "language_info": {
   "codemirror_mode": {
    "name": "ipython",
    "version": 3
   },
   "file_extension": ".py",
   "mimetype": "text/x-python",
   "name": "python",
   "nbconvert_exporter": "python",
   "pygments_lexer": "ipython3",
   "version": "3.9.21"
  }
 },
 "nbformat": 4,
 "nbformat_minor": 2
}
